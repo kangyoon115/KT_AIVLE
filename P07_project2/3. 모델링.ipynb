{
 "cells": [
  {
   "cell_type": "markdown",
   "metadata": {
    "id": "3LKUcK33JaUj"
   },
   "source": [
    "# AIVLE스쿨 2차 미니프로젝트: 신규 아파트 주차 수요 예측"
   ]
  },
  {
   "cell_type": "markdown",
   "metadata": {
    "id": "kYP7mb9YJaUk"
   },
   "source": [
    "<img src = \"https://github.com/Jangrae/img/blob/master/parking.png?raw=true\" width=800, align=\"left\"/>"
   ]
  },
  {
   "cell_type": "markdown",
   "metadata": {
    "id": "mJlY5pHkC2AM"
   },
   "source": [
    "# 단계 3: 모델링"
   ]
  },
  {
   "cell_type": "markdown",
   "metadata": {
    "id": "-FPypzell2uc"
   },
   "source": [
    "## [미션]\n",
    "\n",
    "- 모델링을 수행합니다.\n",
    "    - 전처리를 추가로 진행합니다.\n",
    "    - 4개 이상의 알고리즘을 사용해 모델링을 수행합니다.\n",
    "    - 각 모델에 대해 성능 튜닝을 수행합니다.\n",
    "    - 성능을 비교해 최선의 모델을 선정합니다.\n",
    "- 데이터 파이프라인 함수를 만듭니다.\n",
    "- 새로운 데이터를 읽어와 예측을 수행합니다."
   ]
  },
  {
   "cell_type": "markdown",
   "metadata": {
    "id": "NCptKiLOAn7l"
   },
   "source": [
    "## 1. 환경설정"
   ]
  },
  {
   "cell_type": "markdown",
   "metadata": {
    "id": "gklxNfgNpkls"
   },
   "source": [
    "### (1) 로컬 수행(Anaconda)\n",
    "\n",
    "- project 폴더에 필요한 파일들을 넣고, 본 파일을 열었다면, 별도 경로 지정이 필요하지 않습니다."
   ]
  },
  {
   "cell_type": "code",
   "execution_count": null,
   "metadata": {
    "id": "PNI6X2yxpkls",
    "tags": []
   },
   "outputs": [],
   "source": [
    "# 기본 경로\n",
    "path = ''"
   ]
  },
  {
   "cell_type": "markdown",
   "metadata": {
    "id": "7rWT4biQpkls"
   },
   "source": [
    "### (2) 구글 콜랩 수행\n",
    "\n",
    "- 구글 콜랩을 사용중이면 구글 드라이브를 연결합니다."
   ]
  },
  {
   "cell_type": "code",
   "execution_count": 48,
   "metadata": {
    "id": "CLasRk8Spklt",
    "tags": []
   },
   "outputs": [],
   "source": [
    "# 구글 드라이브 연결, 패스 지정\n",
    "import sys\n",
    "if 'google.colab' in sys.modules:\n",
    "    from google.colab import drive\n",
    "    drive.mount('/content/drive')\n",
    "    path = '/content/drive/MyDrive/project/'"
   ]
  },
  {
   "cell_type": "markdown",
   "metadata": {
    "id": "_pZ0wODmJaUl"
   },
   "source": [
    "### (3) 한글 폰트 표시용 라이브러리 설치"
   ]
  },
  {
   "cell_type": "code",
   "execution_count": 15,
   "metadata": {
    "id": "OB5myH_xJaUl"
   },
   "outputs": [],
   "source": [
    "# 한글 표시를 위한 라이브러리 설치\n",
    "# !pip install koreanize_matplotlib -q"
   ]
  },
  {
   "cell_type": "markdown",
   "metadata": {
    "id": "nePA7QICJaUm"
   },
   "source": [
    "### (4) 라이브러리 불러오기"
   ]
  },
  {
   "cell_type": "code",
   "execution_count": 167,
   "metadata": {
    "id": "6CajyIHEJaUm",
    "tags": []
   },
   "outputs": [],
   "source": [
    "# 기본 라이브러리 불러오기\n",
    "import numpy as np\n",
    "import pandas as pd\n",
    "import matplotlib.pyplot as plt\n",
    "import koreanize_matplotlib\n",
    "import seaborn as sns\n",
    "\n",
    "# 모델링용 라이브러리 불러오기\n",
    "from sklearn.model_selection import train_test_split, GridSearchCV\n",
    "from sklearn.linear_model import LinearRegression\n",
    "from sklearn.ensemble import RandomForestRegressor\n",
    "from xgboost import XGBRegressor\n",
    "import lightgbm as lgb\n",
    "\n",
    "from sklearn.metrics import *\n",
    "\n",
    "# 기타 라이브러리 불러기기\n",
    "import joblib\n",
    "import warnings\n",
    "\n",
    "warnings.filterwarnings(action='ignore')\n",
    "%config InlineBackend.figure_format='retina'"
   ]
  },
  {
   "cell_type": "markdown",
   "metadata": {
    "id": "dPfPWkG1txqV"
   },
   "source": [
    "### (5) 데이터 불러오기\n",
    "\n",
    "- joblib.dump() 함수를 사용해 base_data2.pkl 파일을 읽어옵니다.\n",
    "- 읽어온 데이터를 data 데이터프레임으로 선언하고 기본 정보를 확인합니다."
   ]
  },
  {
   "cell_type": "code",
   "execution_count": 63,
   "metadata": {
    "id": "X2kI5qHzwEjg"
   },
   "outputs": [
    {
     "data": {
      "text/html": [
       "<div>\n",
       "<style scoped>\n",
       "    .dataframe tbody tr th:only-of-type {\n",
       "        vertical-align: middle;\n",
       "    }\n",
       "\n",
       "    .dataframe tbody tr th {\n",
       "        vertical-align: top;\n",
       "    }\n",
       "\n",
       "    .dataframe thead th {\n",
       "        text-align: right;\n",
       "    }\n",
       "</style>\n",
       "<table border=\"1\" class=\"dataframe\">\n",
       "  <thead>\n",
       "    <tr style=\"text-align: right;\">\n",
       "      <th></th>\n",
       "      <th>총세대수</th>\n",
       "      <th>준공연도</th>\n",
       "      <th>건물형태</th>\n",
       "      <th>난방방식</th>\n",
       "      <th>승강기설치여부</th>\n",
       "      <th>실차량수</th>\n",
       "      <th>총면적</th>\n",
       "      <th>10-30</th>\n",
       "      <th>30-40</th>\n",
       "      <th>40-50</th>\n",
       "      <th>50-60</th>\n",
       "      <th>60-70</th>\n",
       "      <th>70-80</th>\n",
       "      <th>80-200</th>\n",
       "      <th>임대보증금</th>\n",
       "      <th>임대료</th>\n",
       "    </tr>\n",
       "  </thead>\n",
       "  <tbody>\n",
       "    <tr>\n",
       "      <th>0</th>\n",
       "      <td>78</td>\n",
       "      <td>2013</td>\n",
       "      <td>계단식</td>\n",
       "      <td>개별</td>\n",
       "      <td>1</td>\n",
       "      <td>109</td>\n",
       "      <td>6023.7683</td>\n",
       "      <td>0</td>\n",
       "      <td>0</td>\n",
       "      <td>0</td>\n",
       "      <td>78</td>\n",
       "      <td>0</td>\n",
       "      <td>0</td>\n",
       "      <td>0</td>\n",
       "      <td>5.696200e+07</td>\n",
       "      <td>642930.000000</td>\n",
       "    </tr>\n",
       "    <tr>\n",
       "      <th>1</th>\n",
       "      <td>35</td>\n",
       "      <td>2013</td>\n",
       "      <td>복도식</td>\n",
       "      <td>개별</td>\n",
       "      <td>1</td>\n",
       "      <td>35</td>\n",
       "      <td>1569.1668</td>\n",
       "      <td>35</td>\n",
       "      <td>0</td>\n",
       "      <td>0</td>\n",
       "      <td>0</td>\n",
       "      <td>0</td>\n",
       "      <td>0</td>\n",
       "      <td>0</td>\n",
       "      <td>6.306200e+07</td>\n",
       "      <td>470100.000000</td>\n",
       "    </tr>\n",
       "    <tr>\n",
       "      <th>2</th>\n",
       "      <td>88</td>\n",
       "      <td>2013</td>\n",
       "      <td>계단식</td>\n",
       "      <td>개별</td>\n",
       "      <td>1</td>\n",
       "      <td>88</td>\n",
       "      <td>7180.1396</td>\n",
       "      <td>0</td>\n",
       "      <td>0</td>\n",
       "      <td>0</td>\n",
       "      <td>88</td>\n",
       "      <td>0</td>\n",
       "      <td>0</td>\n",
       "      <td>0</td>\n",
       "      <td>7.219000e+07</td>\n",
       "      <td>586540.000000</td>\n",
       "    </tr>\n",
       "    <tr>\n",
       "      <th>3</th>\n",
       "      <td>477</td>\n",
       "      <td>2014</td>\n",
       "      <td>복도식</td>\n",
       "      <td>지역</td>\n",
       "      <td>1</td>\n",
       "      <td>943</td>\n",
       "      <td>47058.9273</td>\n",
       "      <td>0</td>\n",
       "      <td>0</td>\n",
       "      <td>0</td>\n",
       "      <td>150</td>\n",
       "      <td>0</td>\n",
       "      <td>216</td>\n",
       "      <td>111</td>\n",
       "      <td>1.015167e+08</td>\n",
       "      <td>950305.000000</td>\n",
       "    </tr>\n",
       "    <tr>\n",
       "      <th>4</th>\n",
       "      <td>15</td>\n",
       "      <td>2013</td>\n",
       "      <td>복도식</td>\n",
       "      <td>개별</td>\n",
       "      <td>1</td>\n",
       "      <td>21</td>\n",
       "      <td>543.0268</td>\n",
       "      <td>15</td>\n",
       "      <td>0</td>\n",
       "      <td>0</td>\n",
       "      <td>0</td>\n",
       "      <td>0</td>\n",
       "      <td>0</td>\n",
       "      <td>0</td>\n",
       "      <td>5.522750e+07</td>\n",
       "      <td>340148.333333</td>\n",
       "    </tr>\n",
       "  </tbody>\n",
       "</table>\n",
       "</div>"
      ],
      "text/plain": [
       "   총세대수  준공연도 건물형태 난방방식  승강기설치여부  실차량수         총면적  10-30  30-40  40-50  \\\n",
       "0    78  2013  계단식   개별        1   109   6023.7683      0      0      0   \n",
       "1    35  2013  복도식   개별        1    35   1569.1668     35      0      0   \n",
       "2    88  2013  계단식   개별        1    88   7180.1396      0      0      0   \n",
       "3   477  2014  복도식   지역        1   943  47058.9273      0      0      0   \n",
       "4    15  2013  복도식   개별        1    21    543.0268     15      0      0   \n",
       "\n",
       "   50-60  60-70  70-80  80-200         임대보증금            임대료  \n",
       "0     78      0      0       0  5.696200e+07  642930.000000  \n",
       "1      0      0      0       0  6.306200e+07  470100.000000  \n",
       "2     88      0      0       0  7.219000e+07  586540.000000  \n",
       "3    150      0    216     111  1.015167e+08  950305.000000  \n",
       "4      0      0      0       0  5.522750e+07  340148.333333  "
      ]
     },
     "execution_count": 63,
     "metadata": {},
     "output_type": "execute_result"
    }
   ],
   "source": [
    "# 파일 읽어오기\n",
    "data = joblib.load('base_data2.pkl')\n",
    "\n",
    "# 확인\n",
    "data.head()"
   ]
  },
  {
   "cell_type": "code",
   "execution_count": 65,
   "metadata": {
    "id": "nx3ZFaN9Xmv_"
   },
   "outputs": [
    {
     "name": "stdout",
     "output_type": "stream",
     "text": [
      "<class 'pandas.core.frame.DataFrame'>\n",
      "RangeIndex: 345 entries, 0 to 344\n",
      "Data columns (total 16 columns):\n",
      " #   Column   Non-Null Count  Dtype  \n",
      "---  ------   --------------  -----  \n",
      " 0   총세대수     345 non-null    int64  \n",
      " 1   준공연도     345 non-null    int32  \n",
      " 2   건물형태     345 non-null    object \n",
      " 3   난방방식     345 non-null    object \n",
      " 4   승강기설치여부  345 non-null    int64  \n",
      " 5   실차량수     345 non-null    int64  \n",
      " 6   총면적      345 non-null    float64\n",
      " 7   10-30    345 non-null    int64  \n",
      " 8   30-40    345 non-null    int64  \n",
      " 9   40-50    345 non-null    int64  \n",
      " 10  50-60    345 non-null    int64  \n",
      " 11  60-70    345 non-null    int64  \n",
      " 12  70-80    345 non-null    int64  \n",
      " 13  80-200   345 non-null    int64  \n",
      " 14  임대보증금    345 non-null    float64\n",
      " 15  임대료      345 non-null    float64\n",
      "dtypes: float64(3), int32(1), int64(10), object(2)\n",
      "memory usage: 41.9+ KB\n"
     ]
    }
   ],
   "source": [
    "data.info()"
   ]
  },
  {
   "cell_type": "markdown",
   "metadata": {
    "id": "xkEmuB30wRaS"
   },
   "source": [
    "### (6) 함수 생성\n",
    "\n",
    "- 실젯값과 모델이 예측한 값을 시각화해 비교할 함수를 만듭니다."
   ]
  },
  {
   "cell_type": "code",
   "execution_count": 73,
   "metadata": {
    "id": "QMo-4gMpJaUm"
   },
   "outputs": [],
   "source": [
    "# 실젯값, 예측값 비교 함수 만들기\n",
    "def model_plot(y_test, y_pred):\n",
    "     plt.figure(figsize=(10, 3))\n",
    "     plt.plot(y_test.values, label='Actual', linewidth=0.7, marker='o', markersize=2)\n",
    "     plt.plot(y_pred, label='Predicted', linewidth=0.7, marker='o', markersize=2)\n",
    "     plt.legend()\n",
    "     plt.show()"
   ]
  },
  {
   "cell_type": "markdown",
   "metadata": {
    "id": "_rnxI9AX34So"
   },
   "source": [
    "## 2. 모델링\n",
    "\n",
    "- 모델링을 위한 결측치 처리, 데이터 분할, 스케일링, 가변수화 등을 수행합니다.\n",
    "- 4개 이상의 알고리즘을 사용하여 모델을 만듭니다.\n",
    "- 모델 이름은 서로 다르게 합니다. (예: model1, model2...)\n",
    "- Linear Regression 이외의 알고리즘을 사용한 모델은 GridSearchCV() 함수로 성능 최적화를 수행합니다.\n",
    "- 적절한 평가지표로 모델의 성능을 평가합니다.\n",
    "- 실젯값과 예측값을 시각화해 비교합니다.\n",
    "- 성능 비교를 통해 최선의 모델을 선정합니다."
   ]
  },
  {
   "cell_type": "markdown",
   "metadata": {
    "id": "I2dCzUzIdmGA"
   },
   "source": [
    "### (1) 데이터 전처리\n",
    "\n",
    "- 필요한 전처리를 수행합니다."
   ]
  },
  {
   "cell_type": "markdown",
   "metadata": {
    "id": "LwhUygCD-a5-"
   },
   "source": [
    "#### 1) 가변수화\n",
    "\n",
    "- '건물형태', '난방방식' 변수에 대해 가변수화를 수행합니다."
   ]
  },
  {
   "cell_type": "code",
   "execution_count": 87,
   "metadata": {
    "id": "Y8UVpKTK2XLJ"
   },
   "outputs": [
    {
     "data": {
      "text/html": [
       "<div>\n",
       "<style scoped>\n",
       "    .dataframe tbody tr th:only-of-type {\n",
       "        vertical-align: middle;\n",
       "    }\n",
       "\n",
       "    .dataframe tbody tr th {\n",
       "        vertical-align: top;\n",
       "    }\n",
       "\n",
       "    .dataframe thead th {\n",
       "        text-align: right;\n",
       "    }\n",
       "</style>\n",
       "<table border=\"1\" class=\"dataframe\">\n",
       "  <thead>\n",
       "    <tr style=\"text-align: right;\">\n",
       "      <th></th>\n",
       "      <th>총세대수</th>\n",
       "      <th>준공연도</th>\n",
       "      <th>승강기설치여부</th>\n",
       "      <th>실차량수</th>\n",
       "      <th>총면적</th>\n",
       "      <th>10-30</th>\n",
       "      <th>30-40</th>\n",
       "      <th>40-50</th>\n",
       "      <th>50-60</th>\n",
       "      <th>60-70</th>\n",
       "      <th>70-80</th>\n",
       "      <th>80-200</th>\n",
       "      <th>임대보증금</th>\n",
       "      <th>임대료</th>\n",
       "      <th>건물형태_복도식</th>\n",
       "      <th>건물형태_혼합식</th>\n",
       "      <th>난방방식_중앙</th>\n",
       "      <th>난방방식_지역</th>\n",
       "    </tr>\n",
       "  </thead>\n",
       "  <tbody>\n",
       "    <tr>\n",
       "      <th>0</th>\n",
       "      <td>78</td>\n",
       "      <td>2013</td>\n",
       "      <td>1</td>\n",
       "      <td>109</td>\n",
       "      <td>6023</td>\n",
       "      <td>0</td>\n",
       "      <td>0</td>\n",
       "      <td>0</td>\n",
       "      <td>78</td>\n",
       "      <td>0</td>\n",
       "      <td>0</td>\n",
       "      <td>0</td>\n",
       "      <td>56962000</td>\n",
       "      <td>642930</td>\n",
       "      <td>0</td>\n",
       "      <td>0</td>\n",
       "      <td>0</td>\n",
       "      <td>0</td>\n",
       "    </tr>\n",
       "    <tr>\n",
       "      <th>1</th>\n",
       "      <td>35</td>\n",
       "      <td>2013</td>\n",
       "      <td>1</td>\n",
       "      <td>35</td>\n",
       "      <td>1569</td>\n",
       "      <td>35</td>\n",
       "      <td>0</td>\n",
       "      <td>0</td>\n",
       "      <td>0</td>\n",
       "      <td>0</td>\n",
       "      <td>0</td>\n",
       "      <td>0</td>\n",
       "      <td>63062000</td>\n",
       "      <td>470100</td>\n",
       "      <td>1</td>\n",
       "      <td>0</td>\n",
       "      <td>0</td>\n",
       "      <td>0</td>\n",
       "    </tr>\n",
       "    <tr>\n",
       "      <th>2</th>\n",
       "      <td>88</td>\n",
       "      <td>2013</td>\n",
       "      <td>1</td>\n",
       "      <td>88</td>\n",
       "      <td>7180</td>\n",
       "      <td>0</td>\n",
       "      <td>0</td>\n",
       "      <td>0</td>\n",
       "      <td>88</td>\n",
       "      <td>0</td>\n",
       "      <td>0</td>\n",
       "      <td>0</td>\n",
       "      <td>72190000</td>\n",
       "      <td>586540</td>\n",
       "      <td>0</td>\n",
       "      <td>0</td>\n",
       "      <td>0</td>\n",
       "      <td>0</td>\n",
       "    </tr>\n",
       "    <tr>\n",
       "      <th>3</th>\n",
       "      <td>477</td>\n",
       "      <td>2014</td>\n",
       "      <td>1</td>\n",
       "      <td>943</td>\n",
       "      <td>47058</td>\n",
       "      <td>0</td>\n",
       "      <td>0</td>\n",
       "      <td>0</td>\n",
       "      <td>150</td>\n",
       "      <td>0</td>\n",
       "      <td>216</td>\n",
       "      <td>111</td>\n",
       "      <td>101516666</td>\n",
       "      <td>950305</td>\n",
       "      <td>1</td>\n",
       "      <td>0</td>\n",
       "      <td>0</td>\n",
       "      <td>1</td>\n",
       "    </tr>\n",
       "    <tr>\n",
       "      <th>4</th>\n",
       "      <td>15</td>\n",
       "      <td>2013</td>\n",
       "      <td>1</td>\n",
       "      <td>21</td>\n",
       "      <td>543</td>\n",
       "      <td>15</td>\n",
       "      <td>0</td>\n",
       "      <td>0</td>\n",
       "      <td>0</td>\n",
       "      <td>0</td>\n",
       "      <td>0</td>\n",
       "      <td>0</td>\n",
       "      <td>55227500</td>\n",
       "      <td>340148</td>\n",
       "      <td>1</td>\n",
       "      <td>0</td>\n",
       "      <td>0</td>\n",
       "      <td>0</td>\n",
       "    </tr>\n",
       "  </tbody>\n",
       "</table>\n",
       "</div>"
      ],
      "text/plain": [
       "   총세대수  준공연도  승강기설치여부  실차량수    총면적  10-30  30-40  40-50  50-60  60-70  70-80  \\\n",
       "0    78  2013        1   109   6023      0      0      0     78      0      0   \n",
       "1    35  2013        1    35   1569     35      0      0      0      0      0   \n",
       "2    88  2013        1    88   7180      0      0      0     88      0      0   \n",
       "3   477  2014        1   943  47058      0      0      0    150      0    216   \n",
       "4    15  2013        1    21    543     15      0      0      0      0      0   \n",
       "\n",
       "   80-200      임대보증금     임대료  건물형태_복도식  건물형태_혼합식  난방방식_중앙  난방방식_지역  \n",
       "0       0   56962000  642930         0         0        0        0  \n",
       "1       0   63062000  470100         1         0        0        0  \n",
       "2       0   72190000  586540         0         0        0        0  \n",
       "3     111  101516666  950305         1         0        0        1  \n",
       "4       0   55227500  340148         1         0        0        0  "
      ]
     },
     "execution_count": 87,
     "metadata": {},
     "output_type": "execute_result"
    }
   ],
   "source": [
    "# '건물형태', '난방방식' 변수를 가변수화 (One-Hot Encoding)\n",
    "data_dummies = pd.get_dummies(data, columns=['건물형태', '난방방식'], drop_first=True)\n",
    "# Boolean 타입을 0과 1로 변환\n",
    "data_dummies = data_dummies.astype(int)\n",
    "# 결과 확인\n",
    "data_dummies.head()"
   ]
  },
  {
   "cell_type": "markdown",
   "metadata": {
    "id": "2LoNLbrAJaUn"
   },
   "source": [
    "#### 2) x, y 분리\n",
    "\n",
    "- Target를 지정하고, x와 y로 분리합니다."
   ]
  },
  {
   "cell_type": "code",
   "execution_count": 120,
   "metadata": {
    "id": "_qS6q_m0JaUn"
   },
   "outputs": [],
   "source": [
    "target='실차량수'\n",
    "x=data_dummies.drop(columns=target)\n",
    "y=data_dummies.loc[:,target]"
   ]
  },
  {
   "cell_type": "markdown",
   "metadata": {
    "id": "dE_cOzTuBB_j"
   },
   "source": [
    "#### 3) 학습용, 평가용 분리\n",
    "\n",
    "- 학습용, 평가용 데이터를 적절한 비율로 분리합니다."
   ]
  },
  {
   "cell_type": "code",
   "execution_count": 122,
   "metadata": {
    "id": "erDo9ThJBB5n"
   },
   "outputs": [],
   "source": [
    "# 학습용, 평가용 데이터 분리\n",
    "from sklearn.model_selection import train_test_split\n",
    "\n",
    "x_train,x_test,y_train,y_test=train_test_split(x,y,test_size=0.3,random_state=1)"
   ]
  },
  {
   "cell_type": "markdown",
   "metadata": {
    "id": "eaN7IkOy_mBI"
   },
   "source": [
    "#### 4) 스케일링\n",
    "\n",
    "- 필요한 경우 스케일링을 진행합니다.\n",
    "- 예를 들어 KNN 알고리즘을 사용할 경우입니다."
   ]
  },
  {
   "cell_type": "markdown",
   "metadata": {
    "id": "etAA2LwF4SWn"
   },
   "source": [
    "### (2) 모델 1: 선형회귀"
   ]
  },
  {
   "cell_type": "code",
   "execution_count": 124,
   "metadata": {
    "id": "fhxPV3EvInno"
   },
   "outputs": [
    {
     "name": "stdout",
     "output_type": "stream",
     "text": [
      "Mean Squared Error: 45674.65\n",
      "Root Mean Squared Error: 213.72\n",
      "R-squared: 0.66\n"
     ]
    }
   ],
   "source": [
    "# 5. 선형 회귀 모델 생성 및 학습\n",
    "model = LinearRegression()\n",
    "model.fit(x_train, y_train)\n",
    "\n",
    "# 6. 예측\n",
    "y_pred = model.predict(x_test)\n",
    "\n",
    "# 7. 모델 평가\n",
    "mse = mean_squared_error(y_test, y_pred)  # MSE (평균 제곱 오차)\n",
    "rmse = np.sqrt(mse)  # RMSE (루트 평균 제곱 오차)\n",
    "r2 = r2_score(y_test, y_pred)  # R² 스코어\n",
    "\n",
    "# 8. 결과 출력\n",
    "print(f\"Mean Squared Error: {mse:.2f}\")\n",
    "print(f\"Root Mean Squared Error: {rmse:.2f}\")\n",
    "print(f\"R-squared: {r2:.2f}\")"
   ]
  },
  {
   "cell_type": "markdown",
   "metadata": {},
   "source": [
    "Mean Squared Error (MSE): 45,674.65\n",
    "\n",
    "의미: 모델이 예측한 값과 실제 값 간의 평균 오차의 제곱합입니다. 값이 클수록 모델의 예측 오차가 큽니다.\n",
    "Root Mean Squared Error (RMSE): 213.72\n",
    "\n",
    "의미: 예측 오차의 표준 편차로, 단위가 실제 데이터와 동일하여 해석이 쉽습니다. 예를 들어, 예측값이 평균적으로 실제값과 약 214대 정도 차이가 난다고 볼 수 있습니다.\n",
    "R-squared (R²): 0.66\n",
    "\n",
    "의미: 0.66은 약 66%의 설명력을 가진다는 뜻입니다. 즉, 모델이 입력 데이터에 있는 정보의 66%를 설명할 수 있고 나머지 34%는 설명하지 못하는 것입니다.\n",
    "좋은 R² 값: 일반적으로 0.7 이상이 좋은 설명력을 가지며, 0.9 이상이면 매우 높은 설명력을 의미합니다."
   ]
  },
  {
   "cell_type": "markdown",
   "metadata": {
    "id": "FydcSYl88hv7"
   },
   "source": [
    "### (3) 모델 2: 랜덤포레스트\n"
   ]
  },
  {
   "cell_type": "code",
   "execution_count": 130,
   "metadata": {
    "id": "tRykzP9C8hv8"
   },
   "outputs": [
    {
     "name": "stdout",
     "output_type": "stream",
     "text": [
      "Mean Squared Error: 41365.84\n",
      "Root Mean Squared Error: 203.39\n",
      "R-squared: 0.69\n"
     ]
    }
   ],
   "source": [
    "# 5. 랜덤 포레스트 회귀 모델 생성 및 학습\n",
    "rf_model = RandomForestRegressor(n_estimators=100, random_state=1)\n",
    "rf_model.fit(x_train, y_train)\n",
    "\n",
    "# 6. 예측\n",
    "y_pred = rf_model.predict(x_test)\n",
    "\n",
    "# 7. 모델 평가\n",
    "mse = mean_squared_error(y_test, y_pred)  # MSE (평균 제곱 오차)\n",
    "rmse = np.sqrt(mse)  # RMSE (루트 평균 제곱 오차)\n",
    "r2 = r2_score(y_test, y_pred)  # R² 스코어\n",
    "\n",
    "# 8. 결과 출력\n",
    "print(f\"Mean Squared Error: {mse:.2f}\")\n",
    "print(f\"Root Mean Squared Error: {rmse:.2f}\")\n",
    "print(f\"R-squared: {r2:.2f}\")"
   ]
  },
  {
   "cell_type": "markdown",
   "metadata": {},
   "source": [
    "Mean Squared Error (MSE): 41,365.84\n",
    "\n",
    "의미: 모델의 예측값과 실제값 간의 평균 제곱 오차로, 예측 오차의 크기를 나타냅니다. 이전의 선형 회귀 모델보다 낮은 값으로, 모델의 예측 정확도가 향상되었음을 보여줍니다.\n",
    "Root Mean Squared Error (RMSE): 203.39\n",
    "\n",
    "의미: 예측 오차의 표준 편차로, 예측값이 실제값과 평균적으로 약 203대 차이가 난다는 것을 의미합니다. RMSE 또한 이전 모델보다 개선된 수치입니다.\n",
    "R-squared (R²): 0.69\n",
    "\n",
    "의미: 모델이 입력 데이터의 변동성 중 약 69%를 설명할 수 있음을 나타냅니다. 이는 꽤 좋은 설명력이며, 모델이 상당한 비율의 변동성을 잘 잡아내고 있다는 것을 의미합니다."
   ]
  },
  {
   "cell_type": "markdown",
   "metadata": {
    "id": "XSgCYQ7fhc0O"
   },
   "source": [
    "### (4) 모델 3: GridSearchCV를 사용한 랜덤 포레스트 모델"
   ]
  },
  {
   "cell_type": "code",
   "execution_count": 139,
   "metadata": {
    "id": "sWJSVdb36ugE"
   },
   "outputs": [
    {
     "name": "stdout",
     "output_type": "stream",
     "text": [
      "Fitting 5 folds for each of 108 candidates, totalling 540 fits\n",
      "Best Parameters: {'max_depth': 10, 'min_samples_leaf': 1, 'min_samples_split': 10, 'n_estimators': 200}\n",
      "Mean Squared Error: 40753.86\n",
      "Root Mean Squared Error: 201.88\n",
      "R-squared: 0.69\n"
     ]
    }
   ],
   "source": [
    "# 5. 랜덤 포레스트 모델 생성\n",
    "rf_model = RandomForestRegressor(random_state=1)\n",
    "\n",
    "# 6. 하이퍼파라미터 그리드 설정\n",
    "param_grid = {\n",
    "    'n_estimators': [50, 100, 200],\n",
    "    'max_depth': [None, 10, 20, 30],\n",
    "    'min_samples_split': [2, 5, 10],\n",
    "    'min_samples_leaf': [1, 2, 4]\n",
    "}\n",
    "\n",
    "# 7. GridSearchCV 설정\n",
    "grid_search = GridSearchCV(estimator=rf_model, param_grid=param_grid,\n",
    "                           scoring='neg_mean_squared_error', cv=5, verbose=2, n_jobs=-1)\n",
    "\n",
    "# 8. 하이퍼파라미터 튜닝 및 모델 학습\n",
    "grid_search.fit(x_train, y_train)\n",
    "\n",
    "# 9. 최적의 파라미터와 최적의 모델\n",
    "best_params = grid_search.best_params_\n",
    "best_model = grid_search.best_estimator_\n",
    "\n",
    "# 10. 예측\n",
    "y_pred = best_model.predict(x_test)\n",
    "\n",
    "# 11. 모델 평가\n",
    "mse = mean_squared_error(y_test, y_pred)  # MSE (평균 제곱 오차)\n",
    "rmse = np.sqrt(mse)  # RMSE (루트 평균 제곱 오차)\n",
    "r2 = r2_score(y_test, y_pred)  # R² 스코어\n",
    "\n",
    "# 12. 결과 출력\n",
    "print(f\"Best Parameters: {best_params}\")\n",
    "print(f\"Mean Squared Error: {mse:.2f}\")\n",
    "print(f\"Root Mean Squared Error: {rmse:.2f}\")\n",
    "print(f\"R-squared: {r2:.2f}\")\n"
   ]
  },
  {
   "cell_type": "markdown",
   "metadata": {},
   "source": [
    "Mean Squared Error (MSE): 40,753.86\n",
    "\n",
    "의미: 모델의 예측값과 실제값 간의 평균 제곱 오차입니다. 이전 결과보다 약간 낮아져, 예측 성능이 향상되었음을 나타냅니다.\n",
    "Root Mean Squared Error (RMSE): 201.88\n",
    "\n",
    "의미: 예측값이 실제값과 평균적으로 약 202대 차이가 난다는 것을 의미합니다.\n",
    "R-squared (R²): 0.69\n",
    "\n",
    "의미: 모델이 입력 데이터의 변동성 중 약 69%를 설명할 수 있다는 것을 나타냅니다. 이전 결과와 유사한 수준으로, 안정적인 성능을 보여줍니다."
   ]
  },
  {
   "cell_type": "markdown",
   "metadata": {
    "id": "1tBDqbDGJaUp"
   },
   "source": [
    "### (5) 모델 4: XGBoost"
   ]
  },
  {
   "cell_type": "code",
   "execution_count": 149,
   "metadata": {
    "id": "vhyK2r3aJaUp"
   },
   "outputs": [
    {
     "name": "stdout",
     "output_type": "stream",
     "text": [
      "Mean Squared Error: 40742.80\n",
      "Root Mean Squared Error: 201.85\n",
      "R-squared: 0.69\n"
     ]
    }
   ],
   "source": [
    "# 5. XGBoost 모델 생성\n",
    "xgb_model = XGBRegressor(objective='reg:squarederror', n_estimators=100, random_state=1)\n",
    "\n",
    "# 6. 모델 학습\n",
    "xgb_model.fit(x_train, y_train)\n",
    "\n",
    "# 7. 예측\n",
    "y_pred = xgb_model.predict(x_test)\n",
    "\n",
    "# 8. 모델 평가\n",
    "mse = mean_squared_error(y_test, y_pred)  # MSE (평균 제곱 오차)\n",
    "rmse = np.sqrt(mse)  # RMSE (루트 평균 제곱 오차)\n",
    "r2 = r2_score(y_test, y_pred)  # R² 스코어\n",
    "\n",
    "# 9. 결과 출력\n",
    "print(f\"Mean Squared Error: {mse:.2f}\")\n",
    "print(f\"Root Mean Squared Error: {rmse:.2f}\")\n",
    "print(f\"R-squared: {r2:.2f}\")"
   ]
  },
  {
   "cell_type": "markdown",
   "metadata": {},
   "source": [
    "Mean Squared Error (MSE): 40,742.80\n",
    "\n",
    "의미: 모델의 예측값과 실제값 간의 평균 제곱 오차입니다. 이전 랜덤 포레스트 모델과 비슷한 수준입니다.\n",
    "Root Mean Squared Error (RMSE): 201.85\n",
    "\n",
    "의미: 예측값과 실제값 간의 평균적인 차이를 나타내며, 약 202대의 차이가 난다는 것을 의미합니다. RMSE 또한 이전 모델과 유사한 수준입니다.\n",
    "R-squared (R²): 0.69\n",
    "\n",
    "의미: 모델이 데이터의 변동성을 약 69% 설명할 수 있다는 것을 나타냅니다. 이는 안정적인 성능을 보여줍니다.\n",
    "모델 비교\n",
    "XGBoost와 랜덤 포레스트의 성능이 비슷하게 나타났습니다. 두 모델 모두 R² 값이 0.69로 상당히 유사하며, MSE와 RMSE도 비슷한 수준입니다. 이는 데이터의 특성과 예측하고자 하는 목표 변수의 관계에 따라 이 두 모델이 유사한 성능을 발휘하고 있음을 시사합니다."
   ]
  },
  {
   "cell_type": "markdown",
   "metadata": {
    "id": "1tBDqbDGJaUp"
   },
   "source": [
    "### (6) 모델 5: LightGBM"
   ]
  },
  {
   "cell_type": "code",
   "execution_count": 164,
   "metadata": {
    "id": "vhyK2r3aJaUp"
   },
   "outputs": [
    {
     "name": "stdout",
     "output_type": "stream",
     "text": [
      "[LightGBM] [Info] Auto-choosing row-wise multi-threading, the overhead of testing was 0.000439 seconds.\n",
      "You can set `force_row_wise=true` to remove the overhead.\n",
      "And if memory is not enough, you can set `force_col_wise=true`.\n",
      "[LightGBM] [Info] Total Bins 512\n",
      "[LightGBM] [Info] Number of data points in the train set: 241, number of used features: 14\n",
      "[LightGBM] [Info] Start training from score 565.518672\n",
      "[LightGBM] [Warning] No further splits with positive gain, best gain: -inf\n",
      "[LightGBM] [Warning] No further splits with positive gain, best gain: -inf\n",
      "[LightGBM] [Warning] No further splits with positive gain, best gain: -inf\n",
      "[LightGBM] [Warning] No further splits with positive gain, best gain: -inf\n",
      "[LightGBM] [Warning] No further splits with positive gain, best gain: -inf\n",
      "[LightGBM] [Warning] No further splits with positive gain, best gain: -inf\n",
      "[LightGBM] [Warning] No further splits with positive gain, best gain: -inf\n",
      "[LightGBM] [Warning] No further splits with positive gain, best gain: -inf\n",
      "[LightGBM] [Warning] No further splits with positive gain, best gain: -inf\n",
      "[LightGBM] [Warning] No further splits with positive gain, best gain: -inf\n",
      "[LightGBM] [Warning] No further splits with positive gain, best gain: -inf\n",
      "[LightGBM] [Warning] No further splits with positive gain, best gain: -inf\n",
      "[LightGBM] [Warning] No further splits with positive gain, best gain: -inf\n",
      "[LightGBM] [Warning] No further splits with positive gain, best gain: -inf\n",
      "[LightGBM] [Warning] No further splits with positive gain, best gain: -inf\n",
      "[LightGBM] [Warning] No further splits with positive gain, best gain: -inf\n",
      "[LightGBM] [Warning] No further splits with positive gain, best gain: -inf\n",
      "[LightGBM] [Warning] No further splits with positive gain, best gain: -inf\n",
      "[LightGBM] [Warning] No further splits with positive gain, best gain: -inf\n",
      "[LightGBM] [Warning] No further splits with positive gain, best gain: -inf\n",
      "[LightGBM] [Warning] No further splits with positive gain, best gain: -inf\n",
      "[LightGBM] [Warning] No further splits with positive gain, best gain: -inf\n",
      "[LightGBM] [Warning] No further splits with positive gain, best gain: -inf\n",
      "[LightGBM] [Warning] No further splits with positive gain, best gain: -inf\n",
      "[LightGBM] [Warning] No further splits with positive gain, best gain: -inf\n",
      "[LightGBM] [Warning] No further splits with positive gain, best gain: -inf\n",
      "[LightGBM] [Warning] No further splits with positive gain, best gain: -inf\n",
      "[LightGBM] [Warning] No further splits with positive gain, best gain: -inf\n",
      "[LightGBM] [Warning] No further splits with positive gain, best gain: -inf\n",
      "[LightGBM] [Warning] No further splits with positive gain, best gain: -inf\n",
      "[LightGBM] [Warning] No further splits with positive gain, best gain: -inf\n",
      "[LightGBM] [Warning] No further splits with positive gain, best gain: -inf\n",
      "[LightGBM] [Warning] No further splits with positive gain, best gain: -inf\n",
      "[LightGBM] [Warning] No further splits with positive gain, best gain: -inf\n",
      "[LightGBM] [Warning] No further splits with positive gain, best gain: -inf\n",
      "[LightGBM] [Warning] No further splits with positive gain, best gain: -inf\n",
      "[LightGBM] [Warning] No further splits with positive gain, best gain: -inf\n",
      "[LightGBM] [Warning] No further splits with positive gain, best gain: -inf\n",
      "[LightGBM] [Warning] No further splits with positive gain, best gain: -inf\n",
      "[LightGBM] [Warning] No further splits with positive gain, best gain: -inf\n",
      "[LightGBM] [Warning] No further splits with positive gain, best gain: -inf\n",
      "[LightGBM] [Warning] No further splits with positive gain, best gain: -inf\n",
      "[LightGBM] [Warning] No further splits with positive gain, best gain: -inf\n",
      "[LightGBM] [Warning] No further splits with positive gain, best gain: -inf\n",
      "[LightGBM] [Warning] No further splits with positive gain, best gain: -inf\n",
      "[LightGBM] [Warning] No further splits with positive gain, best gain: -inf\n",
      "[LightGBM] [Warning] No further splits with positive gain, best gain: -inf\n",
      "[LightGBM] [Warning] No further splits with positive gain, best gain: -inf\n",
      "[LightGBM] [Warning] No further splits with positive gain, best gain: -inf\n",
      "[LightGBM] [Warning] No further splits with positive gain, best gain: -inf\n",
      "[LightGBM] [Warning] No further splits with positive gain, best gain: -inf\n",
      "[LightGBM] [Warning] No further splits with positive gain, best gain: -inf\n",
      "[LightGBM] [Warning] No further splits with positive gain, best gain: -inf\n",
      "[LightGBM] [Warning] No further splits with positive gain, best gain: -inf\n",
      "[LightGBM] [Warning] No further splits with positive gain, best gain: -inf\n",
      "[LightGBM] [Warning] No further splits with positive gain, best gain: -inf\n",
      "[LightGBM] [Warning] No further splits with positive gain, best gain: -inf\n",
      "[LightGBM] [Warning] No further splits with positive gain, best gain: -inf\n",
      "[LightGBM] [Warning] No further splits with positive gain, best gain: -inf\n",
      "[LightGBM] [Warning] No further splits with positive gain, best gain: -inf\n",
      "[LightGBM] [Warning] No further splits with positive gain, best gain: -inf\n",
      "[LightGBM] [Warning] No further splits with positive gain, best gain: -inf\n",
      "[LightGBM] [Warning] No further splits with positive gain, best gain: -inf\n",
      "[LightGBM] [Warning] No further splits with positive gain, best gain: -inf\n",
      "[LightGBM] [Warning] No further splits with positive gain, best gain: -inf\n",
      "[LightGBM] [Warning] No further splits with positive gain, best gain: -inf\n",
      "[LightGBM] [Warning] No further splits with positive gain, best gain: -inf\n",
      "[LightGBM] [Warning] No further splits with positive gain, best gain: -inf\n",
      "[LightGBM] [Warning] No further splits with positive gain, best gain: -inf\n",
      "[LightGBM] [Warning] No further splits with positive gain, best gain: -inf\n",
      "[LightGBM] [Warning] No further splits with positive gain, best gain: -inf\n",
      "[LightGBM] [Warning] No further splits with positive gain, best gain: -inf\n",
      "[LightGBM] [Warning] No further splits with positive gain, best gain: -inf\n",
      "[LightGBM] [Warning] No further splits with positive gain, best gain: -inf\n",
      "[LightGBM] [Warning] No further splits with positive gain, best gain: -inf\n",
      "[LightGBM] [Warning] No further splits with positive gain, best gain: -inf\n",
      "[LightGBM] [Warning] No further splits with positive gain, best gain: -inf\n",
      "[LightGBM] [Warning] No further splits with positive gain, best gain: -inf\n",
      "[LightGBM] [Warning] No further splits with positive gain, best gain: -inf\n",
      "[LightGBM] [Warning] No further splits with positive gain, best gain: -inf\n",
      "[LightGBM] [Warning] No further splits with positive gain, best gain: -inf\n",
      "[LightGBM] [Warning] No further splits with positive gain, best gain: -inf\n",
      "[LightGBM] [Warning] No further splits with positive gain, best gain: -inf\n",
      "[LightGBM] [Warning] No further splits with positive gain, best gain: -inf\n",
      "[LightGBM] [Warning] No further splits with positive gain, best gain: -inf\n",
      "[LightGBM] [Warning] No further splits with positive gain, best gain: -inf\n",
      "[LightGBM] [Warning] No further splits with positive gain, best gain: -inf\n",
      "[LightGBM] [Warning] No further splits with positive gain, best gain: -inf\n",
      "[LightGBM] [Warning] No further splits with positive gain, best gain: -inf\n",
      "[LightGBM] [Warning] No further splits with positive gain, best gain: -inf\n",
      "[LightGBM] [Warning] No further splits with positive gain, best gain: -inf\n",
      "[LightGBM] [Warning] No further splits with positive gain, best gain: -inf\n",
      "[LightGBM] [Warning] No further splits with positive gain, best gain: -inf\n",
      "[LightGBM] [Warning] No further splits with positive gain, best gain: -inf\n",
      "[LightGBM] [Warning] No further splits with positive gain, best gain: -inf\n",
      "[LightGBM] [Warning] No further splits with positive gain, best gain: -inf\n",
      "[LightGBM] [Warning] No further splits with positive gain, best gain: -inf\n",
      "[LightGBM] [Warning] No further splits with positive gain, best gain: -inf\n",
      "[LightGBM] [Warning] No further splits with positive gain, best gain: -inf\n",
      "[LightGBM] [Warning] No further splits with positive gain, best gain: -inf\n",
      "Mean Squared Error: 47328.01\n",
      "Root Mean Squared Error: 217.55\n",
      "R-squared: 0.64\n"
     ]
    }
   ],
   "source": [
    "# 5. LightGBM 모델 생성\n",
    "lgb_model = lgb.LGBMRegressor(n_estimators=100, random_state=1)\n",
    "\n",
    "# 6. 모델 학습\n",
    "lgb_model.fit(x_train, y_train)\n",
    "\n",
    "# 7. 예측\n",
    "y_pred = lgb_model.predict(x_test)\n",
    "\n",
    "# 8. 모델 평가\n",
    "mse = mean_squared_error(y_test, y_pred)  # MSE (평균 제곱 오차)\n",
    "rmse = np.sqrt(mse)  # RMSE (루트 평균 제곱 오차)\n",
    "r2 = r2_score(y_test, y_pred)  # R² 스코어\n",
    "\n",
    "# 9. 결과 출력\n",
    "print(f\"Mean Squared Error: {mse:.2f}\")\n",
    "print(f\"Root Mean Squared Error: {rmse:.2f}\")\n",
    "print(f\"R-squared: {r2:.2f}\")\n"
   ]
  },
  {
   "cell_type": "markdown",
   "metadata": {
    "id": "4-QzT2U3ixWd"
   },
   "source": [
    "### (7) 성능 비교\n",
    "\n",
    "- 각 모델의 성능을 비교합니다."
   ]
  },
  {
   "cell_type": "code",
   "execution_count": null,
   "metadata": {
    "id": "r47gFIzcJaUp",
    "scrolled": true
   },
   "outputs": [],
   "source": [
    "\n"
   ]
  },
  {
   "cell_type": "markdown",
   "metadata": {
    "id": "L9DOFUlDkV7X"
   },
   "source": [
    "## 3. 파이프라인 구축\n",
    "\n",
    "- 새로운 데이터를 불러오고, 이 데이터를 처리할 파이프라인 함수를 만듭니다."
   ]
  },
  {
   "cell_type": "markdown",
   "metadata": {
    "id": "5WOfAg25Mfe7"
   },
   "source": [
    "### (1) New Data 불러오기\n",
    "\n",
    "- test.xlsx 파일을 읽어와 new_data 데이터프레임으로 선언합니다.\n",
    "- 해당 데이터는 '실차량수' 변수가 없는 것 외에는, 최초 데이터와 동일한 구조입니다.\n",
    "- 이 데이터를 대상으로 전처리와 예측을 수행합니다."
   ]
  },
  {
   "cell_type": "code",
   "execution_count": null,
   "metadata": {
    "id": "OIzQ0HCQdJ6c"
   },
   "outputs": [],
   "source": [
    "# 파일 읽어오기\n",
    "new_data = pd.read_excel(path+'test.xlsx')\n",
    "\n",
    "# 확인\n",
    "new_data.head()"
   ]
  },
  {
   "cell_type": "markdown",
   "metadata": {
    "id": "NKLMkjcPrAjr"
   },
   "source": [
    "### (2) 데이터 파이프라인 구축\n",
    "\n",
    "- 데이터 파이프라인 함수를 만듭니다.\n",
    "- 학습 데이터에 대해 진행했던 모든 전처리 과정을 평가 데이터에도 일괄 진행해야 합니다.\n",
    "    - 입력: new_data\n",
    "    - 출력: 전처리가 완료된 예측 직전 데이터프레임\n",
    "- 새로운 데이터에는 '실차량수' 변수가 없음을 유의합니다.\n",
    "- 참고: 다음 내용들이 처리되어야 합니다.\n",
    "    - 결측치 처리\n",
    "    - 변수 추가\n",
    "    - 불필요한 변수 제거\n",
    "    - 단지 데이터, 상세 데이터 분리\n",
    "    - 단지코드별 총면적 합 집계\n",
    "    - 전용면적 구간별 집계 (피벗 형태)\n",
    "    - 임대보증금, 임대료 평균 집계\n",
    "    - 집계 결과 병합\n",
    "    - 난방방식: 개별, 지역, 중앙 세 가지로 묶기\n",
    "    - 승강기설치여부: 0, 1 값으로 변경\n",
    "    - 단지모드, 지역 변수 제거\n",
    "    - 가변수화"
   ]
  },
  {
   "cell_type": "code",
   "execution_count": null,
   "metadata": {
    "id": "INUoRl-qi0BN"
   },
   "outputs": [],
   "source": [
    "# 파이프라인 만들기\n",
    "def data_pipeline(data):\n",
    "    apt01 = data.copy()\n",
    "\n",
    "    "
   ]
  },
  {
   "cell_type": "markdown",
   "metadata": {
    "id": "kJpmOxg2rFuZ"
   },
   "source": [
    "### (3) 예측하기\n",
    "\n",
    "- new_data를 파이프라인을 사용해 전처리한 후 가장 성능이 좋았던 모델로 예측한 결과를 확인합니다."
   ]
  },
  {
   "cell_type": "code",
   "execution_count": null,
   "metadata": {
    "id": "XUjNsITTq9wB"
   },
   "outputs": [],
   "source": [
    "# 데이터 전처리\n",
    "data = data_pipeline(new_data)\n",
    "\n",
    "# 확인\n",
    "data.head()"
   ]
  },
  {
   "cell_type": "code",
   "execution_count": null,
   "metadata": {
    "id": "OJkoQGgVJaUq"
   },
   "outputs": [],
   "source": [
    "# 예측하기\n",
    "predicted = model4.predict(data)\n",
    "\n",
    "# 확인\n",
    "print(predicted)"
   ]
  },
  {
   "cell_type": "markdown",
   "metadata": {
    "id": "N5eeJKV-JaUq"
   },
   "source": [
    "- 아파트 기본 정보에 예측한 차량수를 붙여 마무리합니다."
   ]
  },
  {
   "cell_type": "code",
   "execution_count": null,
   "metadata": {
    "id": "4k8bVSDBJaUq"
   },
   "outputs": [],
   "source": [
    "# 데이터 셋 두개로 나누기\n",
    "vars = ['단지코드', '단지명', '총세대수', '지역', ]\n",
    "result = new_data[vars].copy()\n",
    "result = result.drop_duplicates()\n",
    "result.reset_index(drop=True, inplace=True)\n",
    "\n",
    "# 예측 결과 추가\n",
    "result['예상차량수'] = predicted.round(1).astype(int)\n",
    "\n",
    "# 확인\n",
    "result"
   ]
  }
 ],
 "metadata": {
  "accelerator": "GPU",
  "colab": {
   "provenance": []
  },
  "gpuClass": "standard",
  "kernelspec": {
   "display_name": "Python 3 (ipykernel)",
   "language": "python",
   "name": "python3"
  },
  "language_info": {
   "codemirror_mode": {
    "name": "ipython",
    "version": 3
   },
   "file_extension": ".py",
   "mimetype": "text/x-python",
   "name": "python",
   "nbconvert_exporter": "python",
   "pygments_lexer": "ipython3",
   "version": "3.12.4"
  }
 },
 "nbformat": 4,
 "nbformat_minor": 4
}
