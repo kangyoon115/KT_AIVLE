{
 "cells": [
  {
   "cell_type": "markdown",
   "id": "2f46af77",
   "metadata": {},
   "source": [
    "### 네이버 함께 많이 찾는 주제어 수집\n",
    "- 정적(static) 웹페이지 데이터 수집 \n",
    "- BeautifulSoup을 이용하여 HTML 문자열 데이터 parsing"
   ]
  },
  {
   "cell_type": "markdown",
   "id": "16030538",
   "metadata": {},
   "source": [
    "#### 1. 웹페이지 분석 : URL"
   ]
  },
  {
   "cell_type": "code",
   "execution_count": 4,
   "id": "c1581d54",
   "metadata": {},
   "outputs": [],
   "source": [
    "import pandas as pd\n",
    "import requests\n",
    "from bs4 import BeautifulSoup"
   ]
  },
  {
   "cell_type": "markdown",
   "id": "56e6ea93",
   "metadata": {},
   "source": [
    "#### 2. request(URL) > response : str(html)"
   ]
  },
  {
   "cell_type": "code",
   "execution_count": 8,
   "id": "ceda1c7b",
   "metadata": {},
   "outputs": [],
   "source": [
    "url='https://search.naver.com/search.naver?query=삼성전자'"
   ]
  },
  {
   "cell_type": "markdown",
   "id": "1e2acb8e",
   "metadata": {},
   "source": [
    "#### 3. str(html) > bs object"
   ]
  },
  {
   "cell_type": "code",
   "execution_count": 11,
   "id": "8736bc68",
   "metadata": {},
   "outputs": [
    {
     "data": {
      "text/plain": [
       "<Response [200]>"
      ]
     },
     "execution_count": 11,
     "metadata": {},
     "output_type": "execute_result"
    }
   ],
   "source": [
    "#get,post인지 확인하기\n",
    "response=requests.get(url)\n",
    "response"
   ]
  },
  {
   "cell_type": "code",
   "execution_count": 15,
   "id": "f55da192-65d2-40fc-9d77-c66e47f149ef",
   "metadata": {},
   "outputs": [
    {
     "data": {
      "text/plain": [
       "'<!doctype html> <html lang=\"ko\"><head> <meta charset=\"utf-8\"> <meta name=\"referrer\" content=\"always\">  <meta name=\"format-detection\" content=\"telephone=no,address=no,email=no\"> <meta property=\"og:title\" content=\"삼성전자 : 네이버 검색\"/> <meta property=\"og:image\" content=\"https://ssl.pstatic.net/sstatic/search/common/og_v3.png\"> <meta property=\"og:description\" content=\"\\'삼성전자\\'의 네이버 검색 결과입니다.\"> <meta name=\"description\" lang=\"ko\" content=\"\\'삼성전자\\'의 네이버 검색 결과입니다.\"> <title>삼성전자 : 네이버 검색</title> <link rel=\"short'"
      ]
     },
     "execution_count": 15,
     "metadata": {},
     "output_type": "execute_result"
    }
   ],
   "source": [
    "#여기서 필요한 것만 찾고 선택해서 가져오기\n",
    "response.text[:500]"
   ]
  },
  {
   "cell_type": "markdown",
   "id": "252cf193",
   "metadata": {},
   "source": [
    "#### 4. bs object > .select(css-selector), .select_one(css-selector) > str(text)"
   ]
  },
  {
   "cell_type": "code",
   "execution_count": 17,
   "id": "525c3274",
   "metadata": {},
   "outputs": [
    {
     "data": {
      "text/plain": [
       "bs4.BeautifulSoup"
      ]
     },
     "execution_count": 17,
     "metadata": {},
     "output_type": "execute_result"
    }
   ],
   "source": [
    "dom=BeautifulSoup(response.text,'html.parser')\n",
    "type(dom)"
   ]
  },
  {
   "cell_type": "code",
   "execution_count": 21,
   "id": "ffd32e4b-5d35-465a-a513-d070081b00e8",
   "metadata": {
    "scrolled": true
   },
   "outputs": [],
   "source": [
    "##fdr-3cc830007e7f4fff826adfcbcbce616f > div > div > div.bAUlEC095ho5bG7U0km1.fds-grid-layout-keyword.fds-refine-query-grid > div:nth-child(1) > div:nth-child(1)"
   ]
  },
  {
   "cell_type": "code",
   "execution_count": 31,
   "id": "58388449-5b2f-4369-8407-5cd6a559f816",
   "metadata": {},
   "outputs": [
    {
     "data": {
      "text/plain": [
       "(6,\n",
       " [<span class=\"fds-keyword-text EC6qOsUFAOwAI0C5oRtw\">삼성전자주가</span>,\n",
       "  <span class=\"fds-keyword-text EC6qOsUFAOwAI0C5oRtw\">오늘 삼성전자 주가</span>,\n",
       "  <span class=\"fds-keyword-text EC6qOsUFAOwAI0C5oRtw\">삼성전자주식가격</span>,\n",
       "  <span class=\"fds-keyword-text EC6qOsUFAOwAI0C5oRtw\">삼성전자 주식</span>,\n",
       "  <span class=\"fds-keyword-text EC6qOsUFAOwAI0C5oRtw\">삼성전자 주가 전망</span>,\n",
       "  <span class=\"fds-keyword-text EC6qOsUFAOwAI0C5oRtw\">삼성전자주식전망</span>])"
      ]
     },
     "execution_count": 31,
     "metadata": {},
     "output_type": "execute_result"
    }
   ],
   "source": [
    "elements = dom.select('.fds-refine-query-grid span')\n",
    "len(elements), elements"
   ]
  },
  {
   "cell_type": "markdown",
   "id": "1e9ebdd4",
   "metadata": {},
   "source": [
    "#### 5. str(text) > DataFrame"
   ]
  },
  {
   "cell_type": "code",
   "execution_count": 39,
   "id": "62e1ef05",
   "metadata": {},
   "outputs": [
    {
     "data": {
      "text/plain": [
       "'삼성전자주가'"
      ]
     },
     "execution_count": 39,
     "metadata": {},
     "output_type": "execute_result"
    }
   ],
   "source": [
    "elements[0].text"
   ]
  },
  {
   "cell_type": "code",
   "execution_count": 43,
   "id": "9bc089aa-e21d-4ad4-babf-72da657d4e9a",
   "metadata": {},
   "outputs": [
    {
     "data": {
      "text/plain": [
       "['삼성전자주가', '오늘 삼성전자 주가', '삼성전자주식가격', '삼성전자 주식', '삼성전자 주가 전망', '삼성전자주식전망']"
      ]
     },
     "execution_count": 43,
     "metadata": {},
     "output_type": "execute_result"
    }
   ],
   "source": [
    "[element.text for element in elements]"
   ]
  },
  {
   "cell_type": "code",
   "execution_count": null,
   "id": "3133fe2a-4112-42d1-a3b7-484fb96bb9ab",
   "metadata": {},
   "outputs": [],
   "source": [
    "# daum exchange : headers\n",
    "# naver restapi : application 등록 > key\n",
    "# zigbang : request > response : 3번\n",
    "# static page crawling : html > BeautifulSoup > css-selector : naver relational text"
   ]
  }
 ],
 "metadata": {
  "kernelspec": {
   "display_name": "Python 3 (ipykernel)",
   "language": "python",
   "name": "python3"
  },
  "language_info": {
   "codemirror_mode": {
    "name": "ipython",
    "version": 3
   },
   "file_extension": ".py",
   "mimetype": "text/x-python",
   "name": "python",
   "nbconvert_exporter": "python",
   "pygments_lexer": "ipython3",
   "version": "3.12.4"
  },
  "toc": {
   "base_numbering": 1,
   "nav_menu": {},
   "number_sections": false,
   "sideBar": true,
   "skip_h1_title": false,
   "title_cell": "Table of Contents",
   "title_sidebar": "Contents",
   "toc_cell": false,
   "toc_position": {},
   "toc_section_display": true,
   "toc_window_display": false
  }
 },
 "nbformat": 4,
 "nbformat_minor": 5
}
