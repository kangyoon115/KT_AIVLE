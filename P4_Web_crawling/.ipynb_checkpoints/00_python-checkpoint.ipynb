{
 "cells": [
  {
   "cell_type": "markdown",
   "id": "6fd3828b-674d-409a-adf2-cea0b58cfcb2",
   "metadata": {},
   "source": [
    "# Python\n",
    "- 컴퓨터의 CPU,RAM,SSD를 활용하기 위해서 학습\n",
    "1. 변수선언 : RAM 사용 문법 : 식별자(저장공간을 구분하는 문자열) : PEP20, PEP8(autopep8,flake8)\n",
    "2. 데이터타입: RAM 효율적 사용 문법 : int,float,bool,str,list,tuple,dict,set\n",
    "3. 연산자: CPU 사용 문법: 산술, 비교, 논리, 할당, 멤버...\n",
    "4. 조건문, 반복문: if, elif, else : while, for, break, continue, range() ...\n",
    "5. 함수 : 반복 사용되는 코드를 묶어서 코드 작성 실행 : def, return, scope(global), lambda ...\n",
    "6. 클래스 : 변수, 함수를 묶어서 코드 작성 실행 : 객체지향 구현 : class, self, special method(생성자)\n",
    "7. 모듈 : 변수, 함수, 클래스를 파일로 묶어서 코드 작성 실행 : 확장자 .py\n",
    "8. 패키지 : 여러개의 모듈을 디렉토리로 묶어서 관리 : 버전 정보: import, from, as\n",
    "9. 입출력 : SSD 사용 문법 : RAM(object)> SSD(file), SSD(file) > RAM(object) : pickle"
   ]
  },
  {
   "cell_type": "code",
   "execution_count": 6,
   "id": "21a4c6c8-bfe7-43bc-b2d8-c43130af4751",
   "metadata": {},
   "outputs": [],
   "source": [
    "#import this"
   ]
  },
  {
   "cell_type": "markdown",
   "id": "927614fc-558d-4ae6-b014-92caee22c2c4",
   "metadata": {},
   "source": [
    "# Class\r\n",
    "- 변수, 함수를 묶어서 코드 작성 실행\r\n",
    "- 객체지향 구현 : 실제세계를 모델링하여 프로그램을 개발하는 개발 방법론 : 협업이 용이함\r\n",
    "- 함수사용 : 함수선언(코드작성) > 함수호출(코드실행)\r\n",
    "- 클래스사용\r\n",
    "- 클래스선언(코드작성:설계도작성) > 객체생성(메모리사용:제품생산) > 메서드실행(코드실행:제품사용)\r\n",
    "- 메서드 : 클래스안에 선언되는 함수\r\n",
    "- class 식별자 : UpperCamelCase, PascalCase(O), snake_case(X:변수,함수)"
   ]
  },
  {
   "cell_type": "code",
   "execution_count": 33,
   "id": "1ea9097d-56f4-42c3-98be-5dfa3fe49c85",
   "metadata": {},
   "outputs": [],
   "source": [
    "# 1. 클래스선언 : 코드작성\n",
    "# 예금계좌 : Account : balance 통장잔고, deposit() 입금 , withdraw() 출\n",
    "class Account:\n",
    "    balance = 0\n",
    "    def deposit(self, amount):\n",
    "        self.balance += amount\n",
    "    def withdraw(self, amount):\n",
    "        self.balance -= amount"
   ]
  },
  {
   "cell_type": "code",
   "execution_count": 35,
   "id": "b552a334-9614-45c0-a0af-d2e0a41c5718",
   "metadata": {},
   "outputs": [],
   "source": [
    "# 2. 객체 생성: 메모리 사용\n",
    "acc1=Account()\n",
    "acc2=Account()"
   ]
  },
  {
   "cell_type": "code",
   "execution_count": 37,
   "id": "aebe248a-cc46-49da-bbe7-f3d2aae6cb20",
   "metadata": {},
   "outputs": [
    {
     "data": {
      "text/plain": [
       "(['balance', 'deposit', 'withdraw'], ['balance', 'deposit', 'withdraw'])"
      ]
     },
     "execution_count": 37,
     "metadata": {},
     "output_type": "execute_result"
    }
   ],
   "source": [
    "#dir(): 객체 안에 들어있는 변수, 함수 목록 출력\n",
    "dir(acc1)[-3:], dir(acc2)[-3:]"
   ]
  },
  {
   "cell_type": "code",
   "execution_count": 39,
   "id": "b159f217-3ece-4e0c-8f9e-650434c4ee71",
   "metadata": {},
   "outputs": [],
   "source": [
    "acc1.balance=1000 #1에 1000원 입금"
   ]
  },
  {
   "cell_type": "code",
   "execution_count": 41,
   "id": "09dd2e6a-12a8-478c-be99-6ea0a9822d72",
   "metadata": {},
   "outputs": [
    {
     "data": {
      "text/plain": [
       "(1000, 0)"
      ]
     },
     "execution_count": 41,
     "metadata": {},
     "output_type": "execute_result"
    }
   ],
   "source": [
    "acc1.balance, acc2.balance # 통장 잔고 상태"
   ]
  },
  {
   "cell_type": "code",
   "execution_count": 43,
   "id": "850baf9e-78a2-46ee-bfc3-22a3a9f0117d",
   "metadata": {},
   "outputs": [],
   "source": [
    "acc1.withdraw(600) # 1에 600출금\n",
    "acc2.deposit(3000) # 2에 3000입금"
   ]
  },
  {
   "cell_type": "code",
   "execution_count": 45,
   "id": "6e6526ef-4ccc-481a-a895-c3304305dc98",
   "metadata": {},
   "outputs": [
    {
     "data": {
      "text/plain": [
       "(400, 3000)"
      ]
     },
     "execution_count": 45,
     "metadata": {},
     "output_type": "execute_result"
    }
   ],
   "source": [
    "acc1.balance, acc2.balance # 통장 잔고 상태"
   ]
  },
  {
   "cell_type": "code",
   "execution_count": 51,
   "id": "153bbc38-01f7-445d-b94b-071908fb2b8f",
   "metadata": {},
   "outputs": [],
   "source": [
    "#pandas dataFrame\n",
    "#클래스 선언(다른 사람)>객체생성(사용)>메서드 호출(사용2)"
   ]
  },
  {
   "cell_type": "code",
   "execution_count": 53,
   "id": "69ac1d4e-a799-4d24-a7de-20a40a0a3556",
   "metadata": {},
   "outputs": [],
   "source": [
    "# 1. 클래스 선언 : 다른 사람이 만든 클래스 가져옴\n",
    "import pandas as pd"
   ]
  },
  {
   "cell_type": "code",
   "execution_count": 55,
   "id": "aeac3253-2be9-494b-bfa3-7a26b111c558",
   "metadata": {},
   "outputs": [
    {
     "data": {
      "text/html": [
       "<div>\n",
       "<style scoped>\n",
       "    .dataframe tbody tr th:only-of-type {\n",
       "        vertical-align: middle;\n",
       "    }\n",
       "\n",
       "    .dataframe tbody tr th {\n",
       "        vertical-align: top;\n",
       "    }\n",
       "\n",
       "    .dataframe thead th {\n",
       "        text-align: right;\n",
       "    }\n",
       "</style>\n",
       "<table border=\"1\" class=\"dataframe\">\n",
       "  <thead>\n",
       "    <tr style=\"text-align: right;\">\n",
       "      <th></th>\n",
       "      <th>id</th>\n",
       "      <th>name</th>\n",
       "    </tr>\n",
       "  </thead>\n",
       "  <tbody>\n",
       "    <tr>\n",
       "      <th>0</th>\n",
       "      <td>1</td>\n",
       "      <td>A</td>\n",
       "    </tr>\n",
       "    <tr>\n",
       "      <th>1</th>\n",
       "      <td>2</td>\n",
       "      <td>B</td>\n",
       "    </tr>\n",
       "    <tr>\n",
       "      <th>2</th>\n",
       "      <td>3</td>\n",
       "      <td>C</td>\n",
       "    </tr>\n",
       "  </tbody>\n",
       "</table>\n",
       "</div>"
      ],
      "text/plain": [
       "  id name\n",
       "0  1    A\n",
       "1  2    B\n",
       "2  3    C"
      ]
     },
     "execution_count": 55,
     "metadata": {},
     "output_type": "execute_result"
    }
   ],
   "source": [
    "# 2. 객체 생성\n",
    "df=pd.DataFrame({'id': list('123'), 'name': list('ABC')})\n",
    "df"
   ]
  },
  {
   "cell_type": "code",
   "execution_count": 61,
   "id": "68de46ae-281f-4670-829b-d992e50dee66",
   "metadata": {},
   "outputs": [
    {
     "data": {
      "text/plain": [
       "id      123\n",
       "name    ABC\n",
       "dtype: object"
      ]
     },
     "execution_count": 61,
     "metadata": {},
     "output_type": "execute_result"
    }
   ],
   "source": [
    "# 3. 메서드 호출\n",
    "#dir(df)\n",
    "df.sum()"
   ]
  },
  {
   "cell_type": "code",
   "execution_count": 64,
   "id": "914188b7-6174-4269-93f7-bc7ee5dc969a",
   "metadata": {},
   "outputs": [],
   "source": [
    "#변수, 함수는 둘 다 객체\n",
    "# 클래스는 사용자정의 데이터타입 이다."
   ]
  },
  {
   "cell_type": "code",
   "execution_count": 66,
   "id": "9a9c1b9b-5cfe-4548-bc05-cddcb64d6164",
   "metadata": {},
   "outputs": [
    {
     "data": {
      "text/plain": [
       "__main__.Account"
      ]
     },
     "execution_count": 66,
     "metadata": {},
     "output_type": "execute_result"
    }
   ],
   "source": [
    "#acc 객체의 클래스 : Account\n",
    "#acc 객체의 데이터 타입: Account\n",
    "# 클래스는 데이터 타입 이다.\n",
    "acc = Account()\n",
    "type(acc)"
   ]
  },
  {
   "cell_type": "code",
   "execution_count": 68,
   "id": "177919cf-fee7-4f83-a22d-7b3741d1e96f",
   "metadata": {},
   "outputs": [
    {
     "data": {
      "text/plain": [
       "str"
      ]
     },
     "execution_count": 68,
     "metadata": {},
     "output_type": "execute_result"
    }
   ],
   "source": [
    "# data1 객체 데이터 타입: str\n",
    "# data1 객체 클래스 : str\n",
    "data1='python'\n",
    "type(data1)"
   ]
  },
  {
   "cell_type": "code",
   "execution_count": 70,
   "id": "c7102339-3673-4733-a3ec-e96114093e7e",
   "metadata": {},
   "outputs": [
    {
     "data": {
      "text/plain": [
       "list"
      ]
     },
     "execution_count": 70,
     "metadata": {},
     "output_type": "execute_result"
    }
   ],
   "source": [
    "# data2 객체 데이터 타입, 클래스:list\n",
    "data2=[1,2,3]\n",
    "type(data2)"
   ]
  },
  {
   "cell_type": "code",
   "execution_count": 72,
   "id": "500463da-7402-40cc-9128-3ee495ddc105",
   "metadata": {},
   "outputs": [
    {
     "name": "stdin",
     "output_type": "stream",
     "text": [
      "Once deleted, variables cannot be recovered. Proceed (y/[n])?  y\n"
     ]
    }
   ],
   "source": [
    "#현재 선언된 변수 초기화\n",
    "%reset"
   ]
  },
  {
   "cell_type": "code",
   "execution_count": 74,
   "id": "cb7d438e-c7be-4bfa-84de-701a5c3c3a83",
   "metadata": {},
   "outputs": [],
   "source": [
    "data=1"
   ]
  },
  {
   "cell_type": "code",
   "execution_count": 76,
   "id": "fb284d35-3019-4927-9678-942456852fce",
   "metadata": {},
   "outputs": [],
   "source": [
    "def plus():\n",
    "    return 1+2"
   ]
  },
  {
   "cell_type": "code",
   "execution_count": 94,
   "id": "76dbf73b-abda-41c0-a1a0-f694891030f6",
   "metadata": {},
   "outputs": [
    {
     "data": {
      "text/plain": [
       "(int, function)"
      ]
     },
     "execution_count": 94,
     "metadata": {},
     "output_type": "execute_result"
    }
   ],
   "source": [
    "type(data), type(plus)"
   ]
  },
  {
   "cell_type": "code",
   "execution_count": null,
   "id": "e82c1654-a84d-4bcd-bdd3-f495dd0b14d8",
   "metadata": {},
   "outputs": [],
   "source": [
    "#special methods\n",
    "#특별한 기능을 하는 메서드"
   ]
  },
  {
   "cell_type": "code",
   "execution_count": 92,
   "id": "0ca3a060-defe-4191-8c8c-a0f37227d52c",
   "metadata": {},
   "outputs": [],
   "source": [
    "#생성자 메서드 : __init__(self)\n",
    "#객체 생성 시 실행되는 메서드"
   ]
  },
  {
   "cell_type": "code",
   "execution_count": 102,
   "id": "0ad9cdcb-750f-484f-ae64-78272008e815",
   "metadata": {},
   "outputs": [],
   "source": [
    "#클래스 선언\n",
    "class Account:\n",
    "    #생성자 메서드: 메서드에서 사용되는 변수의 초기값 설정하는 용도 사용\n",
    "    def __init__(self,balance):\n",
    "        self.balance=balance\n",
    "    def deposit(self, amount):\n",
    "        self.balance += amount\n",
    "    def withdraw(self, amount):\n",
    "        self.balance -= amount"
   ]
  },
  {
   "cell_type": "code",
   "execution_count": 107,
   "id": "56dfc9f1-fc40-4298-a958-498bfb519d12",
   "metadata": {},
   "outputs": [],
   "source": [
    "#객체 생성 : 메모리 사용: 원자재 사용\n",
    "acc=Account(1000)"
   ]
  },
  {
   "cell_type": "code",
   "execution_count": 109,
   "id": "9751717b-b08e-4768-a262-2b7b1d168a99",
   "metadata": {},
   "outputs": [],
   "source": [
    "#메서드 호출\n",
    "acc.deposit(1000)"
   ]
  },
  {
   "cell_type": "code",
   "execution_count": 111,
   "id": "1bfe7934-68f5-48f1-9fb6-f59c61f7020e",
   "metadata": {},
   "outputs": [
    {
     "data": {
      "text/plain": [
       "2000"
      ]
     },
     "execution_count": 111,
     "metadata": {},
     "output_type": "execute_result"
    }
   ],
   "source": [
    "acc.balance"
   ]
  },
  {
   "cell_type": "code",
   "execution_count": 113,
   "id": "455869f2-2df2-4c92-bf97-09a8258f782d",
   "metadata": {},
   "outputs": [],
   "source": [
    "#mangling(private variable), getter, setter 내용"
   ]
  },
  {
   "cell_type": "code",
   "execution_count": 115,
   "id": "c9a04cf4-99db-48c4-a6d2-ceeed66d2538",
   "metadata": {},
   "outputs": [],
   "source": [
    "d1, d2=1,2\n",
    "d3,d4= '3','4'"
   ]
  },
  {
   "cell_type": "code",
   "execution_count": 117,
   "id": "acab6f45-9bd7-48e0-b494-fb27c354df39",
   "metadata": {},
   "outputs": [
    {
     "data": {
      "text/plain": [
       "(int, int, str, str)"
      ]
     },
     "execution_count": 117,
     "metadata": {},
     "output_type": "execute_result"
    }
   ],
   "source": [
    "type(d1), type(d2), type(d3), type(d4)"
   ]
  },
  {
   "cell_type": "code",
   "execution_count": 119,
   "id": "9f5daae2-fbf4-4986-94fb-d3015da083bb",
   "metadata": {},
   "outputs": [
    {
     "data": {
      "text/plain": [
       "(3, '34')"
      ]
     },
     "execution_count": 119,
     "metadata": {},
     "output_type": "execute_result"
    }
   ],
   "source": [
    "d1+d2, d3+d4"
   ]
  },
  {
   "cell_type": "code",
   "execution_count": 121,
   "id": "9f131f66-8ff8-4006-b2a8-909f8f3c6163",
   "metadata": {},
   "outputs": [
    {
     "data": {
      "text/plain": [
       "3"
      ]
     },
     "execution_count": 121,
     "metadata": {},
     "output_type": "execute_result"
    }
   ],
   "source": [
    "#__add__: +연산 수행\n",
    "d1.__add__(d2) # d1+d2"
   ]
  },
  {
   "cell_type": "code",
   "execution_count": 123,
   "id": "7a3a2f3b-183c-4182-9271-efce12521710",
   "metadata": {},
   "outputs": [
    {
     "data": {
      "text/plain": [
       "'34'"
      ]
     },
     "execution_count": 123,
     "metadata": {},
     "output_type": "execute_result"
    }
   ],
   "source": [
    "d3.__add__(d4)"
   ]
  },
  {
   "cell_type": "code",
   "execution_count": 127,
   "id": "bb0f4b33-1ea6-4d45-813b-ead2e6499c2b",
   "metadata": {},
   "outputs": [],
   "source": [
    "class Num:\n",
    "    def __init__(self,data):\n",
    "        self.data=data\n",
    "    def __add__(self,obj):\n",
    "        self.data-=obj.data\n",
    "        return self.data"
   ]
  },
  {
   "cell_type": "code",
   "execution_count": 129,
   "id": "eee911a4-464d-49f3-a004-27ac1404b3cf",
   "metadata": {},
   "outputs": [],
   "source": [
    "num1=Num(3)\n",
    "num2=Num(2)"
   ]
  },
  {
   "cell_type": "code",
   "execution_count": 131,
   "id": "5904d0c8-ef8b-42f8-adcc-bae2b395cc7f",
   "metadata": {},
   "outputs": [
    {
     "data": {
      "text/plain": [
       "1"
      ]
     },
     "execution_count": 131,
     "metadata": {},
     "output_type": "execute_result"
    }
   ],
   "source": [
    "num1+num2"
   ]
  },
  {
   "cell_type": "code",
   "execution_count": null,
   "id": "3043606b-6d49-4520-b6c9-96ce2cd367e6",
   "metadata": {},
   "outputs": [],
   "source": []
  }
 ],
 "metadata": {
  "kernelspec": {
   "display_name": "Python 3 (ipykernel)",
   "language": "python",
   "name": "python3"
  },
  "language_info": {
   "codemirror_mode": {
    "name": "ipython",
    "version": 3
   },
   "file_extension": ".py",
   "mimetype": "text/x-python",
   "name": "python",
   "nbconvert_exporter": "python",
   "pygments_lexer": "ipython3",
   "version": "3.12.4"
  }
 },
 "nbformat": 4,
 "nbformat_minor": 5
}
