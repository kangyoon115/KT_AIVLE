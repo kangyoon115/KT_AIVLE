{
 "cells": [
  {
   "cell_type": "markdown",
   "id": "8666c8e6-779b-4454-ae8e-fbca4af331aa",
   "metadata": {},
   "source": [
    "## Crawling Naver Stock Repots"
   ]
  },
  {
   "cell_type": "code",
   "execution_count": 16,
   "id": "8a63a431-e7af-4722-af5b-b13e597e44f3",
   "metadata": {},
   "outputs": [],
   "source": [
    "import requests\n",
    "import pandas as pd\n",
    "from bs4 import BeautifulSoup"
   ]
  },
  {
   "cell_type": "code",
   "execution_count": 18,
   "id": "4a61d032-82ec-4cd1-a113-00cbe781ada7",
   "metadata": {},
   "outputs": [],
   "source": [
    "#1. URL\n",
    "url='https://finance.naver.com/research/company_list.naver?page=1'"
   ]
  },
  {
   "cell_type": "code",
   "execution_count": 20,
   "id": "4a4450ac-e721-41c3-9963-352cae8eaeeb",
   "metadata": {},
   "outputs": [
    {
     "data": {
      "text/plain": [
       "<Response [200]>"
      ]
     },
     "execution_count": 20,
     "metadata": {},
     "output_type": "execute_result"
    }
   ],
   "source": [
    "#2. request(url)> response(HTML)\n",
    "response=requests.get(url)\n",
    "response"
   ]
  },
  {
   "cell_type": "code",
   "execution_count": 28,
   "id": "68aa9f2e-5a9f-47f3-a639-6c4b9aac2fdf",
   "metadata": {},
   "outputs": [
    {
     "data": {
      "text/plain": [
       "'<!--  global include -->\\n\\n\\t\\n\\t\\n\\t\\n\\t\\n\\t\\n<html lang=\\'ko\\'>\\n<head>\\n\\n\\n\\t\\n\\t\\n\\t\\t\\n\\t\\t\\t\\n\\t\\t\\t\\n\\t\\t\\t\\t<title>종목분석 리포트 : 네이버페이 증권</title>\\n\\t\\t\\t\\n\\t\\t\\n\\t\\n\\n\\n\\n\\n<meta http-equiv=\"Content-Type\" content=\"text/html; charset=utf-8\" />\\n\\n<meta http-equiv=\"Content-Script-Type\" content=\"text/javascript\">\\n<meta http-equiv=\"Content-Style-Type\" content=\"text/css\">\\n<meta name=\"apple-mobile-web-app-title\" content=\"네이버페이 증권\" />\\n\\n\\n\\n\\n\\n\\t\\n    \\n        <meta property=\"og:url\" content=\"https://finance.naver.com/research/company_list.naver\"/>\\n    '"
      ]
     },
     "execution_count": 28,
     "metadata": {},
     "output_type": "execute_result"
    }
   ],
   "source": [
    "response.text[:500]"
   ]
  },
  {
   "cell_type": "code",
   "execution_count": 26,
   "id": "b95d4aa8-074b-4733-a195-d5ee954d33ed",
   "metadata": {},
   "outputs": [
    {
     "data": {
      "text/plain": [
       "bs4.BeautifulSoup"
      ]
     },
     "execution_count": 26,
     "metadata": {},
     "output_type": "execute_result"
    }
   ],
   "source": [
    "#3. HTMl> BeautifulSoup>css-selector>DataFrame\n",
    "dom=BeautifulSoup(response.content,'html.parser')\n",
    "type(dom)#select(css-selector), select_one()"
   ]
  },
  {
   "cell_type": "code",
   "execution_count": 52,
   "id": "38112ecd-fcc5-45ea-82f3-fab82774fecd",
   "metadata": {},
   "outputs": [
    {
     "data": {
      "text/plain": [
       "49"
      ]
     },
     "execution_count": 52,
     "metadata": {},
     "output_type": "execute_result"
    }
   ],
   "source": [
    "#selector='#contentarea_left > div.box_type_m > table.type_1 > tbody > tr:nth-child(3) > td:nth-child(3)'\n",
    "#selector='#contentarea_left> div.box_type_m> table.type_1 > tr' #실제 데이터랑 우리가 불러오는 데이터에 문법에 차이가 있음. why? 개발자 실수....\n",
    "selector='table.type_1 > tr' #이렇게 줄여도 가능\n",
    "elements=dom.select(selector)\n",
    "len(elements)"
   ]
  },
  {
   "cell_type": "code",
   "execution_count": 50,
   "id": "f8ef731a-5d76-4e96-bd00-c3998e984c6f",
   "metadata": {},
   "outputs": [
    {
     "data": {
      "text/plain": [
       "<tr>\n",
       "<td style=\"padding-left:10\">\n",
       "<a class=\"stock_item\" href=\"/item/main.naver?code=066570\" title=\"LG전자\">LG전자</a>\n",
       "</td>\n",
       "<td><a href=\"company_read.naver?nid=77126&amp;page=1\">AI데이터센터 냉각 시장 공략</a><img alt=\"NEW\" class=\"ico_new\" height=\"8\" src=\"https://ssl.pstatic.net/imgstock/images5/ico_research_new.gif\" width=\"8\"/></td>\n",
       "<td>교보증권</td>\n",
       "<td class=\"file\"><a href=\"https://stock.pstatic.net/stock-research/company/34/20240923_company_481199000.pdf\" target=\"_blank\"><img align=\"absmiddle\" alt=\"pdf\" src=\"https://ssl.pstatic.net/imgstock/images5/down.gif\"/></a></td>\n",
       "<td class=\"date\" style=\"padding-left:5px\">24.09.23</td>\n",
       "<td class=\"date\">227</td>\n",
       "</tr>"
      ]
     },
     "execution_count": 50,
     "metadata": {},
     "output_type": "execute_result"
    }
   ],
   "source": [
    "elements[2] #여기서 우리는 5가지(LG전자,제목,a herf, 날짜, 조회수)를 수집할 예정"
   ]
  },
  {
   "cell_type": "code",
   "execution_count": 58,
   "id": "ca186d3e-17f7-4fb9-9273-fc29d332c1ee",
   "metadata": {},
   "outputs": [
    {
     "data": {
      "text/plain": [
       "(6,\n",
       " [<td style=\"padding-left:10\">\n",
       "  <a class=\"stock_item\" href=\"/item/main.naver?code=066570\" title=\"LG전자\">LG전자</a>\n",
       "  </td>,\n",
       "  <td><a href=\"company_read.naver?nid=77126&amp;page=1\">AI데이터센터 냉각 시장 공략</a><img alt=\"NEW\" class=\"ico_new\" height=\"8\" src=\"https://ssl.pstatic.net/imgstock/images5/ico_research_new.gif\" width=\"8\"/></td>,\n",
       "  <td>교보증권</td>,\n",
       "  <td class=\"file\"><a href=\"https://stock.pstatic.net/stock-research/company/34/20240923_company_481199000.pdf\" target=\"_blank\"><img align=\"absmiddle\" alt=\"pdf\" src=\"https://ssl.pstatic.net/imgstock/images5/down.gif\"/></a></td>,\n",
       "  <td class=\"date\" style=\"padding-left:5px\">24.09.23</td>,\n",
       "  <td class=\"date\">227</td>])"
      ]
     },
     "execution_count": 58,
     "metadata": {},
     "output_type": "execute_result"
    }
   ],
   "source": [
    "element=elements[2]\n",
    "tag=element.select('td')\n",
    "len(tag),tag"
   ]
  },
  {
   "cell_type": "code",
   "execution_count": 108,
   "id": "251e076d-f8ef-463e-a545-10b58149c92d",
   "metadata": {},
   "outputs": [
    {
     "data": {
      "text/plain": [
       "{'stock_name': 'LG전자',\n",
       " 'stock_link': '/item/main.naver?code=066570',\n",
       " 'title': 'AI데이터센터 냉각 시장 공략',\n",
       " 'title_link': 'company_read.naver?nid=77126&page=1',\n",
       " 'writer': '교보증권',\n",
       " 'pdf_link': 'https://stock.pstatic.net/stock-research/company/34/20240923_company_481199000.pdf',\n",
       " 'date': '24.09.23',\n",
       " 'pv': '227'}"
      ]
     },
     "execution_count": 108,
     "metadata": {},
     "output_type": "execute_result"
    }
   ],
   "source": [
    "data={}\n",
    "data['stock_name']=tag[0].select_one('a').text\n",
    "data['stock_link']=tag[0].select_one('a').get('href')\n",
    "data['title']=tag[1].select_one('a').text\n",
    "data['title_link']=tag[1].select_one('a').get('href')\n",
    "data['writer']=tag[2].text\n",
    "data['pdf_link']=tag[3].select_one('a').get('href')\n",
    "data['date']=tag[4].text\n",
    "data['pv']=tag[5].text\n",
    "data"
   ]
  },
  {
   "cell_type": "code",
   "execution_count": 132,
   "id": "0dc6a548-8e45-4e83-aa04-5da2cf2ed85f",
   "metadata": {
    "scrolled": true
   },
   "outputs": [],
   "source": [
    "#enumerate\n",
    "rows=[]\n",
    "for idx,element in enumerate(elements):\n",
    "    tag=element.select('td')\n",
    "    #print(idx,len(tag))\n",
    "    if len(tag)==6:\n",
    "        data={}\n",
    "        data['stock_name']=tag[0].select_one('a').text\n",
    "        data['stock_link']=tag[0].select_one('a').get('href')\n",
    "        data['title']=tag[1].select_one('a').text\n",
    "        data['title_link']=tag[1].select_one('a').get('href')\n",
    "        data['writer']=tag[2].text\n",
    "        data['pdf_link']=tag[3].select_one('a').get('href')\n",
    "        data['date']=tag[4].text\n",
    "        data['pv']=tag[5].text\n",
    "        rows.append(data)"
   ]
  },
  {
   "cell_type": "code",
   "execution_count": 136,
   "id": "d9952876-db02-407e-80fb-be6019019995",
   "metadata": {
    "scrolled": true
   },
   "outputs": [
    {
     "data": {
      "text/html": [
       "<div>\n",
       "<style scoped>\n",
       "    .dataframe tbody tr th:only-of-type {\n",
       "        vertical-align: middle;\n",
       "    }\n",
       "\n",
       "    .dataframe tbody tr th {\n",
       "        vertical-align: top;\n",
       "    }\n",
       "\n",
       "    .dataframe thead th {\n",
       "        text-align: right;\n",
       "    }\n",
       "</style>\n",
       "<table border=\"1\" class=\"dataframe\">\n",
       "  <thead>\n",
       "    <tr style=\"text-align: right;\">\n",
       "      <th></th>\n",
       "      <th>stock_name</th>\n",
       "      <th>stock_link</th>\n",
       "      <th>title</th>\n",
       "      <th>title_link</th>\n",
       "      <th>writer</th>\n",
       "      <th>pdf_link</th>\n",
       "      <th>date</th>\n",
       "      <th>pv</th>\n",
       "    </tr>\n",
       "  </thead>\n",
       "  <tbody>\n",
       "    <tr>\n",
       "      <th>28</th>\n",
       "      <td>동국S&amp;C</td>\n",
       "      <td>/item/main.naver?code=100130</td>\n",
       "      <td>금리 하락으로 미국에서 훈풍이 불어온다</td>\n",
       "      <td>company_read.naver?nid=77098&amp;page=1</td>\n",
       "      <td>iM증권</td>\n",
       "      <td>https://stock.pstatic.net/stock-research/compa...</td>\n",
       "      <td>24.09.19</td>\n",
       "      <td>1501</td>\n",
       "    </tr>\n",
       "    <tr>\n",
       "      <th>29</th>\n",
       "      <td>SOOP</td>\n",
       "      <td>/item/main.naver?code=067160</td>\n",
       "      <td>경쟁사 스트리머 이적, 트래픽 유입 기대</td>\n",
       "      <td>company_read.naver?nid=77097&amp;page=1</td>\n",
       "      <td>신한투자증권</td>\n",
       "      <td>https://stock.pstatic.net/stock-research/compa...</td>\n",
       "      <td>24.09.19</td>\n",
       "      <td>1455</td>\n",
       "    </tr>\n",
       "  </tbody>\n",
       "</table>\n",
       "</div>"
      ],
      "text/plain": [
       "   stock_name                    stock_link                   title  \\\n",
       "28      동국S&C  /item/main.naver?code=100130   금리 하락으로 미국에서 훈풍이 불어온다   \n",
       "29       SOOP  /item/main.naver?code=067160  경쟁사 스트리머 이적, 트래픽 유입 기대   \n",
       "\n",
       "                             title_link  writer  \\\n",
       "28  company_read.naver?nid=77098&page=1    iM증권   \n",
       "29  company_read.naver?nid=77097&page=1  신한투자증권   \n",
       "\n",
       "                                             pdf_link      date    pv  \n",
       "28  https://stock.pstatic.net/stock-research/compa...  24.09.19  1501  \n",
       "29  https://stock.pstatic.net/stock-research/compa...  24.09.19  1455  "
      ]
     },
     "execution_count": 136,
     "metadata": {},
     "output_type": "execute_result"
    }
   ],
   "source": [
    "df=pd.DataFrame(rows)\n",
    "df.tail(2)"
   ]
  },
  {
   "cell_type": "code",
   "execution_count": 138,
   "id": "8af5e5ea-fa7e-4071-9b00-c8fbfdac9aec",
   "metadata": {},
   "outputs": [],
   "source": [
    "#file download"
   ]
  },
  {
   "cell_type": "code",
   "execution_count": 140,
   "id": "86634332-f940-455a-95ad-bbe89d8291c6",
   "metadata": {},
   "outputs": [
    {
     "data": {
      "text/plain": [
       "['.git',\n",
       " '.ipynb_checkpoints',\n",
       " '00_python.ipynb',\n",
       " '08_naver_stock_report.ipynb',\n",
       " 'notebooks_code',\n",
       " 'notebooks_full']"
      ]
     },
     "execution_count": 140,
     "metadata": {},
     "output_type": "execute_result"
    }
   ],
   "source": [
    "#os package: 파일 시스템을 관리하는 파이썬 패키지\n",
    "import os\n",
    "os.listdir()"
   ]
  },
  {
   "cell_type": "code",
   "execution_count": 144,
   "id": "416e7764-13d1-4453-a9b9-19a06b968c8e",
   "metadata": {},
   "outputs": [
    {
     "data": {
      "text/plain": [
       "False"
      ]
     },
     "execution_count": 144,
     "metadata": {},
     "output_type": "execute_result"
    }
   ],
   "source": [
    "path='reports'\n",
    "#디렉토리, 파일 존재 여부 확인\n",
    "os.path.exists(path)"
   ]
  },
  {
   "cell_type": "code",
   "execution_count": 146,
   "id": "d708f367-4a28-4c6b-9044-c295ad84a933",
   "metadata": {},
   "outputs": [],
   "source": [
    "if not os.path.exists(path): #디렉토리 없으면 True\n",
    "    os.makedirs(path) # 디렉토리 생성"
   ]
  },
  {
   "cell_type": "code",
   "execution_count": 148,
   "id": "d9453cc8-ee4b-4c84-9b5a-f182a9d94598",
   "metadata": {},
   "outputs": [
    {
     "data": {
      "text/plain": [
       "True"
      ]
     },
     "execution_count": 148,
     "metadata": {},
     "output_type": "execute_result"
    }
   ],
   "source": [
    "os.path.exists(path)"
   ]
  },
  {
   "cell_type": "code",
   "execution_count": 150,
   "id": "4a8f853f-ea83-45f5-8079-996880984e33",
   "metadata": {},
   "outputs": [
    {
     "data": {
      "text/plain": [
       "['notebooks_full', 'reports']"
      ]
     },
     "execution_count": 150,
     "metadata": {},
     "output_type": "execute_result"
    }
   ],
   "source": [
    "os.listdir()[-2:]"
   ]
  },
  {
   "cell_type": "code",
   "execution_count": 165,
   "id": "605cdff7-c105-4d2a-bebd-8270ce154b26",
   "metadata": {},
   "outputs": [
    {
     "data": {
      "text/plain": [
       "('AI데이터센터 냉각 시장 공략',\n",
       " 'https://stock.pstatic.net/stock-research/company/34/20240923_company_481199000.pdf')"
      ]
     },
     "execution_count": 165,
     "metadata": {},
     "output_type": "execute_result"
    }
   ],
   "source": [
    "#1. url\n",
    "title=df.loc[0,'title']\n",
    "pdf_link=df.loc[0,'pdf_link']\n",
    "title,pdf_link"
   ]
  },
  {
   "cell_type": "code",
   "execution_count": 173,
   "id": "dc7052be-ff0c-48e0-9057-398448e8053b",
   "metadata": {},
   "outputs": [
    {
     "data": {
      "text/plain": [
       "<Response [200]>"
      ]
     },
     "execution_count": 173,
     "metadata": {},
     "output_type": "execute_result"
    }
   ],
   "source": [
    "#2. request(pdf_link)>response(pdf)\n",
    "response=requests.get(pdf_link)\n",
    "response"
   ]
  },
  {
   "cell_type": "code",
   "execution_count": 181,
   "id": "6f0fe812-6a3e-4381-bd56-b7cdfd4d8f78",
   "metadata": {
    "scrolled": true
   },
   "outputs": [
    {
     "name": "stdout",
     "output_type": "stream",
     "text": [
      "reports/AI데이터센터 냉각 시장 공략.pdf\n"
     ]
    }
   ],
   "source": [
    "#3. pdf>save(/reports)\n",
    "filename=f'{path}/{title}.pdf'\n",
    "print(filename)\n",
    "with open(filename,'wb') as file:\n",
    "    file.write(response.content)"
   ]
  },
  {
   "cell_type": "code",
   "execution_count": 183,
   "id": "c9e1ffd7-df30-4fe9-983a-99d3f16eed03",
   "metadata": {},
   "outputs": [
    {
     "data": {
      "text/plain": [
       "['AI데이터센터 냉각 시장 공략.pdf']"
      ]
     },
     "execution_count": 183,
     "metadata": {},
     "output_type": "execute_result"
    }
   ],
   "source": [
    "os.listdir('reports')"
   ]
  },
  {
   "cell_type": "code",
   "execution_count": 191,
   "id": "2f10ac6f-768f-4408-841e-1942913fb105",
   "metadata": {},
   "outputs": [],
   "source": [
    "import shutil\n",
    "#shutil.rmtree(path)\n",
    "os.makedirs(path)"
   ]
  },
  {
   "cell_type": "code",
   "execution_count": 193,
   "id": "d4ddda11-b98b-4cb9-a3a4-b1d4f99a5a7b",
   "metadata": {},
   "outputs": [
    {
     "data": {
      "text/plain": [
       "[]"
      ]
     },
     "execution_count": 193,
     "metadata": {},
     "output_type": "execute_result"
    }
   ],
   "source": [
    "os.listdir(path)"
   ]
  },
  {
   "cell_type": "code",
   "execution_count": 197,
   "id": "a187951e-8475-494b-9408-da69e28f3430",
   "metadata": {},
   "outputs": [
    {
     "name": "stdout",
     "output_type": "stream",
     "text": [
      "0 1 2 3 4 5 6 7 8 9 10 11 12 13 14 15 16 17 18 19 20 21 22 23 24 25 26 27 28 29 "
     ]
    }
   ],
   "source": [
    "for idx, row in df.iterrows():\n",
    "    # print(idx, row['title'], row['pdf_link'])\n",
    "    print(idx, end=' ')\n",
    "    title, pdf_link = row['title'], row['pdf_link']\n",
    "    response = requests.get(pdf_link)\n",
    "    filename = f'{path}/{title}.pdf'\n",
    "    with open(filename, 'wb') as file:\n",
    "        file.write(response.content)"
   ]
  },
  {
   "cell_type": "code",
   "execution_count": 199,
   "id": "f851b634-83c0-48dd-a9a6-1d59d89fcde7",
   "metadata": {},
   "outputs": [
    {
     "data": {
      "text/plain": [
       "['2024년 3분기 부진 터널 통과해야!.pdf',\n",
       " '3Q24 Preview',\n",
       " '3Q24 일시적인 실적 둔화,  분위기 반전이 필...pdf',\n",
       " '3분기는 비수기, 그러나   주주 가치 환원에 ...pdf',\n",
       " 'AI데이터센터 냉각 시장 공략.pdf',\n",
       " 'Metsera, 너는 계획이 다 있구나.pdf',\n",
       " 'Moment of Truth.pdf',\n",
       " 'Re-rating 구간 돌입.pdf',\n",
       " '가치가 높아지는 F박스와 K패션 해외 진출 수...pdf',\n",
       " '경쟁력 있는 CDMO, 여기에도 있다.pdf',\n",
       " '경쟁사 스트리머 이적, 트래픽 유입 기대.pdf',\n",
       " '경증 아토피 치료의 글로벌  시장 판도를 바...pdf',\n",
       " '금리 하락으로 미국에서 훈풍이 불어온다.pdf',\n",
       " '길어지고 있는 기다림.pdf',\n",
       " '높아지는 Peak sales.pdf',\n",
       " '롯데렌탈의 쏘카 지분 추가취득 당분간 중단.pdf',\n",
       " '미국 타워 판가도 인상.pdf',\n",
       " '빅파마들의 RPT 방향, 우리도 간다.pdf',\n",
       " '설계와 시공능력으로 액침냉각 사업 확대.pdf',\n",
       " '속도가 느려도, 방향성은 맞다.pdf',\n",
       " '액침냉각, 기술적 강점을 확보해 나가는 중.pdf',\n",
       " '엔지니어링 플라스틱 소재 개발 및 고도화로 ...pdf',\n",
       " '엘사.pdf',\n",
       " '의대 열풍, 나만 믿어.pdf',\n",
       " '이튼의 견고한 성장 파트너.pdf',\n",
       " '지속가능한 성장.pdf',\n",
       " '코스닥 방사성의약품 기업으로 진입 .pdf',\n",
       " '콥데이 후기',\n",
       " '확대되는 TROP2 ADC 치료제 시장.pdf',\n",
       " '환율 모멘텀 발생 예상. 자사주 추가 매입 가...pdf']"
      ]
     },
     "execution_count": 199,
     "metadata": {},
     "output_type": "execute_result"
    }
   ],
   "source": [
    "os.listdir(path)"
   ]
  },
  {
   "cell_type": "code",
   "execution_count": null,
   "id": "a8040648-38c7-440d-b7f7-ded952fd2e0c",
   "metadata": {},
   "outputs": [],
   "source": []
  }
 ],
 "metadata": {
  "kernelspec": {
   "display_name": "Python 3 (ipykernel)",
   "language": "python",
   "name": "python3"
  },
  "language_info": {
   "codemirror_mode": {
    "name": "ipython",
    "version": 3
   },
   "file_extension": ".py",
   "mimetype": "text/x-python",
   "name": "python",
   "nbconvert_exporter": "python",
   "pygments_lexer": "ipython3",
   "version": "3.12.4"
  }
 },
 "nbformat": 4,
 "nbformat_minor": 5
}
