{
 "cells": [
  {
   "cell_type": "markdown",
   "metadata": {
    "id": "cVB9pY-v8uv5"
   },
   "source": [
    "# 딥러닝 따라하기1_회귀"
   ]
  },
  {
   "cell_type": "markdown",
   "metadata": {
    "id": "qTa9LlwZD_aa"
   },
   "source": [
    "# 1.환경준비"
   ]
  },
  {
   "cell_type": "markdown",
   "metadata": {
    "id": "gIN5d51gtker"
   },
   "source": [
    "* 라이브러리 Import"
   ]
  },
  {
   "cell_type": "code",
   "execution_count": null,
   "metadata": {
    "id": "GVvCef6A8uv6"
   },
   "outputs": [],
   "source": [
    "import pandas as pd\n",
    "import numpy as np\n",
    "import matplotlib.pyplot as plt\n",
    "import seaborn as sns\n",
    "\n",
    "from sklearn.model_selection import train_test_split\n",
    "from sklearn.metrics import *\n",
    "from sklearn.preprocessing import StandardScaler, MinMaxScaler"
   ]
  },
  {
   "cell_type": "markdown",
   "metadata": {
    "id": "mnk1VvHm2Ka0"
   },
   "source": [
    "# 2.Regression : Advertising"
   ]
  },
  {
   "cell_type": "markdown",
   "metadata": {
    "id": "dFCCo7K42Ka1"
   },
   "source": [
    "## (1) 데이터 전처리"
   ]
  },
  {
   "cell_type": "markdown",
   "metadata": {
    "id": "XktvAT3E2Ka1"
   },
   "source": [
    "### 1) 데이터 준비"
   ]
  },
  {
   "cell_type": "code",
   "execution_count": null,
   "metadata": {
    "id": "v7YMm8z42Ka1"
   },
   "outputs": [],
   "source": [
    "path = 'https://raw.githubusercontent.com/DA4BAM/dataset/master/advertising.csv'\n",
    "adv = pd.read_csv(path)\n",
    "adv.head()"
   ]
  },
  {
   "cell_type": "code",
   "execution_count": null,
   "metadata": {
    "id": "OZFQ-BG_2Ka2"
   },
   "outputs": [],
   "source": [
    "target = 'Sales'\n",
    "x = adv.drop(target, axis=1)\n",
    "y = adv.loc[:, target]"
   ]
  },
  {
   "cell_type": "markdown",
   "metadata": {
    "id": "oZKMFcmc2Ka2"
   },
   "source": [
    "### 2) 가변수화"
   ]
  },
  {
   "cell_type": "code",
   "execution_count": null,
   "metadata": {
    "id": "aJuOYXuK2Ka2"
   },
   "outputs": [],
   "source": []
  },
  {
   "cell_type": "markdown",
   "metadata": {
    "id": "nR1alxrn2Ka2"
   },
   "source": [
    "### 3) 데이터분할"
   ]
  },
  {
   "cell_type": "code",
   "execution_count": null,
   "metadata": {
    "id": "zoCNEtZn2Ka2"
   },
   "outputs": [],
   "source": [
    "x_train, x_val, y_train, y_val = train_test_split(x, y, test_size=.2, random_state = 20)"
   ]
  },
  {
   "cell_type": "markdown",
   "metadata": {
    "id": "uSYRr8rB2SkM"
   },
   "source": [
    "## (2) ML 연습 : 선형회귀"
   ]
  },
  {
   "cell_type": "code",
   "execution_count": null,
   "metadata": {
    "id": "Rw4hxAFX2YmO"
   },
   "outputs": [],
   "source": [
    "# 선형회귀 알고리즘을 불러 옵시다.\n",
    "from sklearn.linear_model import LinearRegression"
   ]
  },
  {
   "cell_type": "markdown",
   "metadata": {
    "id": "No0dTyDl2YmP"
   },
   "source": [
    "### 1) 모델 선언"
   ]
  },
  {
   "cell_type": "code",
   "execution_count": null,
   "metadata": {
    "id": "tLDynQW32YmP"
   },
   "outputs": [],
   "source": [
    "model = LinearRegression()"
   ]
  },
  {
   "cell_type": "markdown",
   "metadata": {
    "id": "jWdP38uk2YmU"
   },
   "source": [
    "### 2) 학습"
   ]
  },
  {
   "cell_type": "code",
   "execution_count": null,
   "metadata": {
    "id": "I6R-ZnpM2YmV"
   },
   "outputs": [],
   "source": [
    "model.fit(x_train, y_train)"
   ]
  },
  {
   "cell_type": "markdown",
   "metadata": {
    "id": "-87Iy4mc2YmV"
   },
   "source": [
    "### 3) 예측"
   ]
  },
  {
   "cell_type": "code",
   "execution_count": null,
   "metadata": {
    "id": "5EGU_4CT2YmV"
   },
   "outputs": [],
   "source": [
    "pred = model.predict(x_val)"
   ]
  },
  {
   "cell_type": "markdown",
   "metadata": {
    "id": "n0LJaBIf2YmW"
   },
   "source": [
    "### 4) 검증\n",
    "만든 모델은 얼마나 정확한지 검증해 봅시다.\n",
    "\n"
   ]
  },
  {
   "cell_type": "code",
   "execution_count": null,
   "metadata": {
    "id": "zhG-MzFj2YmW"
   },
   "outputs": [],
   "source": [
    "print(f'RMSE  : {root_mean_squared_error(y_val, pred)}')\n",
    "print(f'MAE   : {mean_absolute_error(y_val, pred)}')\n",
    "print(f'MAPE  : {mean_absolute_percentage_error(y_val, pred)}')"
   ]
  },
  {
   "cell_type": "markdown",
   "metadata": {
    "id": "o1nKYi7l2qhN"
   },
   "source": [
    "## (3) 딥러닝 모델링\n",
    "* 필요한 함수들 불러오기\n",
    "* 모델 선언\n",
    "* 학습\n",
    "* 예측\n",
    "* 성능 검증"
   ]
  },
  {
   "cell_type": "markdown",
   "metadata": {
    "id": "fr_AhIaY2Ka2"
   },
   "source": [
    "### 1) 전처리 : Scaling"
   ]
  },
  {
   "cell_type": "code",
   "execution_count": null,
   "metadata": {
    "id": "aOp6bEHT2Ka2"
   },
   "outputs": [],
   "source": [
    "scaler = MinMaxScaler()\n",
    "x_train = scaler.fit_transform(x_train)\n",
    "x_val = scaler.transform(x_val)"
   ]
  },
  {
   "cell_type": "markdown",
   "metadata": {
    "id": "_aRVteKb2zkV"
   },
   "source": [
    "### 2) 필요한 함수들 불러오기"
   ]
  },
  {
   "cell_type": "code",
   "execution_count": null,
   "metadata": {
    "id": "StW546kn2Ka3"
   },
   "outputs": [],
   "source": [
    "from keras.models import Sequential\n",
    "from keras.layers import Dense, Input\n",
    "from keras.backend import clear_session"
   ]
  },
  {
   "cell_type": "markdown",
   "metadata": {
    "id": "H0JLu5wP2Ka3"
   },
   "source": [
    "### 3) 모델 선언"
   ]
  },
  {
   "cell_type": "code",
   "execution_count": null,
   "metadata": {
    "id": "0arJYE-H2Ka3"
   },
   "outputs": [],
   "source": [
    "nfeatures = x_train.shape[1] #num of columns\n",
    "nfeatures"
   ]
  },
  {
   "cell_type": "code",
   "execution_count": null,
   "metadata": {
    "id": "FBBm9UtK2Ka3"
   },
   "outputs": [],
   "source": [
    "# 메모리 정리\n",
    "clear_session()\n",
    "\n",
    "# Sequential 타입 모델 선언\n",
    "model = Sequential( [Input(shape =(nfeatures,)),\n",
    "                     Dense(1)]  )\n",
    "\n",
    "# 모델요약\n",
    "model.summary()"
   ]
  },
  {
   "cell_type": "code",
   "execution_count": null,
   "metadata": {
    "id": "CMumkMjs2Ka3"
   },
   "outputs": [],
   "source": [
    "# 컴파일\n",
    "model.compile(optimizer='adam', loss='mse')"
   ]
  },
  {
   "cell_type": "markdown",
   "metadata": {
    "id": "pKU0G8Rc2Ka3"
   },
   "source": [
    "### 4) 학습"
   ]
  },
  {
   "cell_type": "code",
   "execution_count": null,
   "metadata": {
    "id": "C-BCbytT2Ka4"
   },
   "outputs": [],
   "source": [
    "model.fit(x_train, y_train)"
   ]
  },
  {
   "cell_type": "markdown",
   "metadata": {
    "id": "VhlqfScB2Ka4"
   },
   "source": [
    "### 5) 예측"
   ]
  },
  {
   "cell_type": "code",
   "execution_count": null,
   "metadata": {
    "id": "SLWZ7FHz2Ka4"
   },
   "outputs": [],
   "source": [
    "pred = model.predict(x_val)"
   ]
  },
  {
   "cell_type": "markdown",
   "metadata": {
    "id": "tBsGYfKn2Ka4"
   },
   "source": [
    "### 6) 검증\n",
    "만든 모델은 얼마나 정확한지 검증해 봅시다.\n",
    "\n"
   ]
  },
  {
   "cell_type": "code",
   "execution_count": null,
   "metadata": {
    "id": "EZ3Z2FoE2Ka4"
   },
   "outputs": [],
   "source": [
    "print(f'RMSE  : {root_mean_squared_error(y_val, pred)}')\n",
    "print(f'MAE   : {mean_absolute_error(y_val, pred)}')\n",
    "print(f'MAPE  : {mean_absolute_percentage_error(y_val, pred)}')"
   ]
  },
  {
   "cell_type": "markdown",
   "metadata": {
    "id": "pcf-5u15ZYqG"
   },
   "source": [
    "# 3.Regression : Carseat"
   ]
  },
  {
   "cell_type": "markdown",
   "metadata": {
    "id": "-N_y_wtxcYvv"
   },
   "source": [
    "## (1) 데이터 전처리\n",
    "* 데이터 준비\n",
    "* 가변수화\n",
    "* 스케일링(필요하다면)\n",
    "* 데이터 분할"
   ]
  },
  {
   "cell_type": "markdown",
   "metadata": {
    "id": "dp279ZAVcYvv"
   },
   "source": [
    "### 1) 데이터 준비"
   ]
  },
  {
   "cell_type": "markdown",
   "metadata": {
    "id": "lZoMs28MEi_n"
   },
   "source": [
    "* 카시트 판매량 데이터"
   ]
  },
  {
   "cell_type": "markdown",
   "metadata": {
    "id": "zk45NDTSEoBh"
   },
   "source": [
    "|\t변수명\t|\t설명\t|\t구분\t|\n",
    "|\t----\t|\t----\t|\t----\t|\n",
    "|\t**Sales** \t|\t **각 지역 판매액(단위 : 1000개)**\t|\t**Target**\t|\n",
    "|\tCompPrice \t|\t지역별 경쟁사 판매가격(달러)\t|\tfeature\t|\n",
    "|\tIncome \t|\t가구당 평균 소득액(1000달러)\t|\tfeature\t|\n",
    "|\tAdvertising \t|\t 각 지역, 회사의 광고 예산(1000달러)\t|\tfeature\t|\n",
    "|\tPopulation \t|\t 지역 인구수(단위 : 1000명)\t|\tfeature\t|\n",
    "|\tPrice \t|\t 자사 지역별 판매가격(달러)\t|\tfeature\t|\n",
    "|\tShelveLoc \t|\t 진열상태(범주 : Bad, Medium, Good)\t|\tfeature\t|\n",
    "|\tAge \t|\t 지역 인구의 평균 연령\t|\tfeature\t|\n",
    "|\tEducation \t|\t 교육수준(범주 : 10~18)\t|\tfeature\t|\n",
    "|\tUrban \t|\t 매장이 도심에 있는지 여부(범주 : Yes, No)\t|\tfeature\t|\n",
    "|\tUS \t|\t 매장이 미국에 있는지 여부(범주 : Yes, No)\t|\tfeature\t|\n"
   ]
  },
  {
   "cell_type": "markdown",
   "metadata": {
    "id": "KF3g3YrNAQLV"
   },
   "source": [
    "* 데이터 경로 : https://raw.githubusercontent.com/DA4BAM/dataset/master/Carseats.csv"
   ]
  },
  {
   "cell_type": "code",
   "execution_count": null,
   "metadata": {
    "id": "fiiwGWqgEaa5"
   },
   "outputs": [],
   "source": [
    "path = 'https://raw.githubusercontent.com/DA4BAM/dataset/master/Carseats.csv'\n",
    "carseat = pd.read_csv(path)\n",
    "carseat.head()"
   ]
  },
  {
   "cell_type": "code",
   "execution_count": null,
   "metadata": {
    "id": "nIqNS4utcYvw"
   },
   "outputs": [],
   "source": [
    "target = 'Sales'\n",
    "x = carseat.drop(target, axis=1)\n",
    "y = carseat.loc[:, target]"
   ]
  },
  {
   "cell_type": "markdown",
   "metadata": {
    "id": "Caf9vsxemDj6"
   },
   "source": [
    "### 2) 가변수화"
   ]
  },
  {
   "cell_type": "code",
   "execution_count": null,
   "metadata": {
    "id": "8ZcBHLh7Rmcy"
   },
   "outputs": [],
   "source": [
    "cat_cols = ['ShelveLoc', 'Education', 'US', 'Urban']\n",
    "x = pd.get_dummies(x, columns = cat_cols, drop_first = True)"
   ]
  },
  {
   "cell_type": "markdown",
   "metadata": {
    "id": "k3amXi18t8bT"
   },
   "source": [
    "### 3) 데이터분할"
   ]
  },
  {
   "cell_type": "code",
   "execution_count": null,
   "metadata": {
    "id": "cpFuBf0Dt8bT"
   },
   "outputs": [],
   "source": [
    "x_train, x_val, y_train, y_val = train_test_split(x, y, test_size=.2, random_state = 20)"
   ]
  },
  {
   "cell_type": "markdown",
   "metadata": {
    "id": "aChPd8WSt8bT"
   },
   "source": [
    "### 4) Scaling"
   ]
  },
  {
   "cell_type": "code",
   "execution_count": null,
   "metadata": {
    "id": "1_QHv-Etua_Z"
   },
   "outputs": [],
   "source": [
    "scaler = MinMaxScaler()\n",
    "x_train = scaler.fit_transform(x_train)\n",
    "x_val = scaler.transform(x_val)"
   ]
  },
  {
   "cell_type": "markdown",
   "metadata": {
    "id": "iCTwulQHyHyc"
   },
   "source": [
    "## (2) 모델링\n",
    "* 필요한 함수들 불러오기\n",
    "* 모델 선언\n",
    "* 학습\n",
    "* 예측\n",
    "* 성능 검증"
   ]
  },
  {
   "cell_type": "code",
   "execution_count": null,
   "metadata": {
    "id": "wLqBiFzSnyLL"
   },
   "outputs": [],
   "source": [
    "from keras.models import Sequential\n",
    "from keras.layers import Dense, Input\n",
    "from keras.backend import clear_session"
   ]
  },
  {
   "cell_type": "markdown",
   "metadata": {
    "id": "EyUA5yIRyHyc"
   },
   "source": [
    "### 1) 모델 선언"
   ]
  },
  {
   "cell_type": "code",
   "execution_count": null,
   "metadata": {
    "id": "mkeOP4DN2Y92"
   },
   "outputs": [],
   "source": [
    "nfeatures = x_train.shape[1] #num of columns\n",
    "nfeatures"
   ]
  },
  {
   "cell_type": "code",
   "execution_count": null,
   "metadata": {
    "id": "3oxyCQiW2Y93"
   },
   "outputs": [],
   "source": [
    "# 메모리 정리(필수는 아님!)\n",
    "\n",
    "\n",
    "# Sequential 타입 모델 선언\n",
    "\n",
    "\n",
    "# 모델요약\n"
   ]
  },
  {
   "cell_type": "code",
   "execution_count": null,
   "metadata": {
    "id": "ovRo2Kassq0k"
   },
   "outputs": [],
   "source": [
    "# 컴파일\n"
   ]
  },
  {
   "cell_type": "markdown",
   "metadata": {
    "id": "pLo15bIFyHye"
   },
   "source": [
    "### 2) 학습"
   ]
  },
  {
   "cell_type": "code",
   "execution_count": null,
   "metadata": {
    "id": "YCXowiYeyHye"
   },
   "outputs": [],
   "source": []
  },
  {
   "cell_type": "markdown",
   "metadata": {
    "id": "lqOJ7pIEyHye"
   },
   "source": [
    "### 3) 예측"
   ]
  },
  {
   "cell_type": "code",
   "execution_count": null,
   "metadata": {
    "id": "z8ZYjjV9yHye"
   },
   "outputs": [],
   "source": [
    "pred ="
   ]
  },
  {
   "cell_type": "markdown",
   "metadata": {
    "id": "qgVtBrJeyHyf"
   },
   "source": [
    "### 4) 검증\n",
    "만든 모델은 얼마나 정확한지 검증해 봅시다.\n",
    "\n"
   ]
  },
  {
   "cell_type": "code",
   "execution_count": null,
   "metadata": {
    "id": "opEeUqnAyHyf"
   },
   "outputs": [],
   "source": [
    "print(f'RMSE  : {root_mean_squared_error(y_val, pred)}')\n",
    "print(f'MAE   : {mean_absolute_error(y_val, pred)}')"
   ]
  },
  {
   "cell_type": "markdown",
   "metadata": {
    "id": "4afwVOB9Ue92"
   },
   "source": [
    "# 4.Regression : 보스턴 집값"
   ]
  },
  {
   "cell_type": "markdown",
   "metadata": {
    "id": "aN8FnTDbUe98"
   },
   "source": [
    "## (1) 데이터 전처리"
   ]
  },
  {
   "cell_type": "markdown",
   "metadata": {
    "id": "Q69otsTXUe98"
   },
   "source": [
    "### 1) 데이터 준비"
   ]
  },
  {
   "cell_type": "code",
   "execution_count": null,
   "metadata": {
    "id": "1z-iQQmZUe98"
   },
   "outputs": [],
   "source": [
    "path = 'https://raw.githubusercontent.com/DA4BAM/dataset/master/boston.csv'\n",
    "boston = pd.read_csv(path)\n",
    "boston.head()"
   ]
  },
  {
   "cell_type": "code",
   "execution_count": null,
   "metadata": {
    "id": "-pTUJ6GZUe99"
   },
   "outputs": [],
   "source": [
    "target = 'medv'\n",
    "x = boston.drop(target, axis=1)\n",
    "y = boston.loc[:, target]"
   ]
  },
  {
   "cell_type": "markdown",
   "metadata": {
    "id": "G38qxq-mUe99"
   },
   "source": [
    "### 2) 가변수화"
   ]
  },
  {
   "cell_type": "markdown",
   "metadata": {
    "id": "GPHWl3GtUe99"
   },
   "source": [
    "### 3) 데이터분할"
   ]
  },
  {
   "cell_type": "code",
   "execution_count": null,
   "metadata": {
    "id": "bt059uzLUe99"
   },
   "outputs": [],
   "source": [
    "x_train, x_val, y_train, y_val = train_test_split(x, y, test_size=.2, random_state = 20)"
   ]
  },
  {
   "cell_type": "markdown",
   "metadata": {
    "id": "aTmmsfOTUe99"
   },
   "source": [
    "### 4) Scaling"
   ]
  },
  {
   "cell_type": "code",
   "execution_count": null,
   "metadata": {
    "id": "tcmgyuVxUe99"
   },
   "outputs": [],
   "source": [
    "scaler = MinMaxScaler()\n",
    "x_train = scaler.fit_transform(x_train)\n",
    "x_val = scaler.transform(x_val)"
   ]
  },
  {
   "cell_type": "markdown",
   "metadata": {
    "id": "Ag8FAldiUe99"
   },
   "source": [
    "## (2) 모델링\n",
    "* 필요한 함수들 불러오기\n",
    "* 모델 선언\n",
    "* 학습\n",
    "* 예측\n",
    "* 성능 검증"
   ]
  },
  {
   "cell_type": "code",
   "execution_count": null,
   "metadata": {
    "id": "wgPRQ1Fn8e5y"
   },
   "outputs": [],
   "source": [
    "from keras.models import Sequential\n",
    "from keras.layers import Dense, Input\n",
    "from keras.backend import clear_session"
   ]
  },
  {
   "cell_type": "markdown",
   "metadata": {
    "id": "LW4wQ7rTUe9-"
   },
   "source": [
    "### 1) 모델 선언"
   ]
  },
  {
   "cell_type": "code",
   "execution_count": null,
   "metadata": {
    "id": "1VcBWzppUe9-"
   },
   "outputs": [],
   "source": []
  },
  {
   "cell_type": "code",
   "execution_count": null,
   "metadata": {
    "id": "PnCF87CCUe9-"
   },
   "outputs": [],
   "source": []
  },
  {
   "cell_type": "code",
   "execution_count": null,
   "metadata": {
    "id": "NrOVaZnlUe9-"
   },
   "outputs": [],
   "source": []
  },
  {
   "cell_type": "markdown",
   "metadata": {
    "id": "kxh8nuEJUe9-"
   },
   "source": [
    "### 2) 학습"
   ]
  },
  {
   "cell_type": "code",
   "execution_count": null,
   "metadata": {
    "id": "-iowo8cbUe9-"
   },
   "outputs": [],
   "source": []
  },
  {
   "cell_type": "markdown",
   "metadata": {
    "id": "17Zy27CnUe9-"
   },
   "source": [
    "### 3) 예측"
   ]
  },
  {
   "cell_type": "code",
   "execution_count": null,
   "metadata": {
    "id": "Gq8XkG62Ue9-"
   },
   "outputs": [],
   "source": []
  },
  {
   "cell_type": "markdown",
   "metadata": {
    "id": "TTiqFbydUe9-"
   },
   "source": [
    "### 4) 검증\n",
    "만든 모델은 얼마나 정확한지 검증해 봅시다.\n",
    "\n"
   ]
  },
  {
   "cell_type": "code",
   "execution_count": null,
   "metadata": {
    "id": "VrJrhbreUe9-"
   },
   "outputs": [],
   "source": []
  },
  {
   "cell_type": "code",
   "execution_count": null,
   "metadata": {
    "id": "9BqEIe4hDdVa"
   },
   "outputs": [],
   "source": []
  }
 ],
 "metadata": {
  "colab": {
   "provenance": [],
   "toc_visible": true
  },
  "kernelspec": {
   "display_name": "Python 3 (ipykernel)",
   "language": "python",
   "name": "python3"
  },
  "language_info": {
   "codemirror_mode": {
    "name": "ipython",
    "version": 3
   },
   "file_extension": ".py",
   "mimetype": "text/x-python",
   "name": "python",
   "nbconvert_exporter": "python",
   "pygments_lexer": "ipython3",
   "version": "3.12.4"
  }
 },
 "nbformat": 4,
 "nbformat_minor": 4
}
