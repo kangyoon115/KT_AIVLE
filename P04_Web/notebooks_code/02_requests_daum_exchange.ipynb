{
 "cells": [
  {
   "cell_type": "markdown",
   "id": "ce44dd79",
   "metadata": {},
   "source": [
    "### Daum Exchange\n",
    "- `https://finance.daum.net`"
   ]
  },
  {
   "cell_type": "code",
   "execution_count": 39,
   "id": "bcf5c3fb",
   "metadata": {},
   "outputs": [],
   "source": [
    "import requests\n",
    "import pandas as pd"
   ]
  },
  {
   "cell_type": "code",
   "execution_count": 41,
   "id": "22be9c4c-4c7b-4d8a-b548-c5871acd83c2",
   "metadata": {},
   "outputs": [],
   "source": [
    "#1. URL\n",
    "url='https://m.finance.daum.net/api/exchanges/sum'"
   ]
  },
  {
   "cell_type": "code",
   "execution_count": 47,
   "id": "409059fd-c48b-4fd4-a998-aa0434177943",
   "metadata": {},
   "outputs": [
    {
     "data": {
      "text/plain": [
       "<Response [403]>"
      ]
     },
     "execution_count": 47,
     "metadata": {},
     "output_type": "execute_result"
    }
   ],
   "source": [
    "#2. request(url)>response(json)\n",
    "#그냥 가져오면 403 에러가 뜸 그래서 user-agent를 추가하면 되는 경우가 많음, 그러나 종종 다른거 하나더 체크함 referer 이것도 안되면 selenium사용\n",
    "headers={'user-agent':'Mozilla/5.0 (Linux; Android 6.0; Nexus 5 Build/MRA58N) AppleWebKit/537.36 (KHTML, like Gecko) Chrome/128.0.0.0 Mobile Safari/537.36',\n",
    "         'referer':'https://m.finance.daum.net/global/exchanges'}\n",
    "response=requests.get(url,headers=headers)\n",
    "response"
   ]
  },
  {
   "cell_type": "code",
   "execution_count": 37,
   "id": "75c1d5c5-2003-43be-9372-76ea4b1c2556",
   "metadata": {},
   "outputs": [
    {
     "data": {
      "text/plain": [
       "'{\\n  \"message\" : \"Forbidden\",\\n  \"code\" : 403\\n}'"
      ]
     },
     "execution_count": 37,
     "metadata": {},
     "output_type": "execute_result"
    }
   ],
   "source": [
    "response.text[:500]"
   ]
  },
  {
   "cell_type": "code",
   "execution_count": null,
   "id": "0d776282-b762-4bb7-a821-b9fd27de188d",
   "metadata": {},
   "outputs": [],
   "source": [
    "#3. json>list,dict>DF"
   ]
  }
 ],
 "metadata": {
  "kernelspec": {
   "display_name": "Python 3 (ipykernel)",
   "language": "python",
   "name": "python3"
  },
  "language_info": {
   "codemirror_mode": {
    "name": "ipython",
    "version": 3
   },
   "file_extension": ".py",
   "mimetype": "text/x-python",
   "name": "python",
   "nbconvert_exporter": "python",
   "pygments_lexer": "ipython3",
   "version": "3.12.4"
  }
 },
 "nbformat": 4,
 "nbformat_minor": 5
}
