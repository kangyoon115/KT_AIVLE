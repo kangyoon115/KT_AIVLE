{
 "cells": [
  {
   "cell_type": "markdown",
   "metadata": {
    "tags": []
   },
   "source": [
    "# REST API\n",
    "- Representational State Transfer\n",
    "- Client와 Server가 통신하기 위한 URL 구조에 대한 정의 및 디자인"
   ]
  },
  {
   "cell_type": "markdown",
   "metadata": {
    "tags": []
   },
   "source": [
    "## 1\\. Kakao API"
   ]
  },
  {
   "cell_type": "code",
   "execution_count": null,
   "metadata": {},
   "outputs": [],
   "source": []
  },
  {
   "cell_type": "markdown",
   "metadata": {},
   "source": [
    "### 1-1. request token 얻기\n",
    "- `https://developers.kakao.com/`\n",
    "- 내 애플리케이션 > 애플리케이션 추가하기"
   ]
  },
  {
   "cell_type": "code",
   "execution_count": null,
   "metadata": {},
   "outputs": [],
   "source": []
  },
  {
   "cell_type": "markdown",
   "metadata": {},
   "source": [
    "### 1-2. KoGPT\n",
    "- 문서 > KoGPT > REST API\n",
    "- tokens : 공백을 제외한 글자수"
   ]
  },
  {
   "cell_type": "code",
   "execution_count": null,
   "metadata": {},
   "outputs": [],
   "source": []
  },
  {
   "cell_type": "markdown",
   "metadata": {},
   "source": [
    "#### 1. 다음문장 만들기"
   ]
  },
  {
   "cell_type": "code",
   "execution_count": null,
   "metadata": {},
   "outputs": [],
   "source": []
  },
  {
   "cell_type": "markdown",
   "metadata": {},
   "source": [
    "#### 2. 문장 분류하기\n",
    "- 문장 마다 `=긍정`, `=부정` 문자열 작성\n",
    "- 분류할 마지막 문장 `=` 문자열 작성"
   ]
  },
  {
   "cell_type": "code",
   "execution_count": null,
   "metadata": {},
   "outputs": [],
   "source": []
  },
  {
   "cell_type": "markdown",
   "metadata": {},
   "source": [
    "#### 3. 뉴스 한 줄 요약하기\n",
    "- 마지막에 `한줄 요약:` 문자열 작성"
   ]
  },
  {
   "cell_type": "code",
   "execution_count": null,
   "metadata": {},
   "outputs": [],
   "source": []
  },
  {
   "cell_type": "markdown",
   "metadata": {
    "tags": []
   },
   "source": [
    "#### 4. 질문에 답변하기\n",
    "- 문장 마지막에 `?:` 로 끝남"
   ]
  },
  {
   "cell_type": "code",
   "execution_count": null,
   "metadata": {},
   "outputs": [],
   "source": []
  },
  {
   "cell_type": "markdown",
   "metadata": {},
   "source": [
    "#### 5. 응용하기"
   ]
  },
  {
   "cell_type": "code",
   "execution_count": null,
   "metadata": {},
   "outputs": [],
   "source": []
  },
  {
   "cell_type": "markdown",
   "metadata": {
    "id": "apodUP-CYr3_"
   },
   "source": [
    "## 2\\. Naver API\n",
    "- 통합검색어 트렌드 API\n",
    "    - https://datalab.naver.com/\n",
    "    - https://datalab.naver.com/keyword/trendSearch.naver"
   ]
  },
  {
   "cell_type": "code",
   "execution_count": 4,
   "metadata": {},
   "outputs": [],
   "source": [
    "import pandas as pd\n",
    "import requests\n",
    "import json"
   ]
  },
  {
   "cell_type": "markdown",
   "metadata": {
    "id": "ZEU1PeYTYr4C"
   },
   "source": [
    "### 2-1. Request Token 얻기\n",
    "- `https://developers.naver.com`\n",
    "- 1. Request Token 얻기 : 애플리케이션등록 -> app_key 획득\n",
    "- 2. app_key를 이용해서 데이터 가져오기"
   ]
  },
  {
   "cell_type": "code",
   "execution_count": 14,
   "metadata": {},
   "outputs": [],
   "source": [
    "CLIENT_ID,CLIENT_SECRET='ls0mqEMJzbFFPPWeHBhe','JNUXATau23'"
   ]
  },
  {
   "cell_type": "markdown",
   "metadata": {
    "id": "gEKpR7ibYr4G"
   },
   "source": [
    "### 2-2. 통합검색어 트렌드 API\n",
    "- 서비스 : `https://datalab.naver.com/keyword/trendSearch.naver`\n",
    "- 내 애플리케이션 > dss 애플리케이션 > API 설정 > 데이터랩(검색어 트렌드) 추가\n",
    "- 사용법 : `https://developers.naver.com/docs/serviceapi/datalab/search/search.md#통합-검색어-트렌드`"
   ]
  },
  {
   "cell_type": "code",
   "execution_count": 6,
   "metadata": {},
   "outputs": [],
   "source": [
    "# 1. url\n",
    "url = 'https://openapi.naver.com/v1/datalab/search'"
   ]
  },
  {
   "cell_type": "code",
   "execution_count": 24,
   "metadata": {},
   "outputs": [
    {
     "data": {
      "text/plain": [
       "<Response [200]>"
      ]
     },
     "execution_count": 24,
     "metadata": {},
     "output_type": "execute_result"
    }
   ],
   "source": [
    "# 2. request > response(json)\n",
    "params = {\n",
    "    'startDate': '2018-01-01', 'endDate': '2023-12-31', 'timeUnit': 'month',\n",
    "    'keywordGroups': [\n",
    "        {'groupName': '트위터', 'keywords': ['트위터', '트윗']},\n",
    "        {'groupName': '페이스북', 'keywords': ['페이스북', '페북']},\n",
    "        {'groupName': '인스타그램', 'keywords': ['인스타그램', '인스타']},\n",
    "    ]\n",
    "}\n",
    "headers = {\n",
    "    'Content-Type': 'application/json',\n",
    "    'X-Naver-Client-Id': CLIENT_ID,\n",
    "    'X-Naver-Client-Secret': CLIENT_SECRET,\n",
    "}\n",
    "response = requests.post(url, data=json.dumps(params),headers=headers)\n",
    "response"
   ]
  },
  {
   "cell_type": "code",
   "execution_count": 26,
   "metadata": {},
   "outputs": [
    {
     "data": {
      "text/plain": [
       "'{\"startDate\": \"2018-01-01\", \"endDate\": \"2023-12-31\", \"timeUnit\": \"month\", \"keywordGroups\": [{\"groupName\": \"\\\\ud2b8\\\\uc704\\\\ud130\", \"keywords\": [\"\\\\ud2b8\\\\uc704\\\\ud130\", \"\\\\ud2b8\\\\uc717\"]}, {\"groupName\": \"\\\\ud398\\\\uc774\\\\uc2a4\\\\ubd81\", \"keywords\": [\"\\\\ud398\\\\uc774\\\\uc2a4\\\\ubd81\", \"\\\\ud398\\\\ubd81\"]}, {\"groupName\": \"\\\\uc778\\\\uc2a4\\\\ud0c0\\\\uadf8\\\\ub7a8\", \"keywords\": [\"\\\\uc778\\\\uc2a4\\\\ud0c0\\\\uadf8\\\\ub7a8\", \"\\\\uc778\\\\uc2a4\\\\ud0c0\"]}]}'"
      ]
     },
     "execution_count": 26,
     "metadata": {},
     "output_type": "execute_result"
    }
   ],
   "source": [
    "#한글일 경우 깨질수 있어서 이렇게 써줘야 함\n",
    "json.dumps(params)"
   ]
  },
  {
   "cell_type": "code",
   "execution_count": 30,
   "metadata": {
    "scrolled": true
   },
   "outputs": [
    {
     "data": {
      "text/plain": [
       "[{'title': '트위터',\n",
       "  'keywords': ['트위터', '트윗'],\n",
       "  'data': [{'period': '2018-01-01', 'ratio': 14.59502},\n",
       "   {'period': '2018-02-01', 'ratio': 13.0238},\n",
       "   {'period': '2018-03-01', 'ratio': 12.97953},\n",
       "   {'period': '2018-04-01', 'ratio': 12.82991},\n",
       "   {'period': '2018-05-01', 'ratio': 13.05391},\n",
       "   {'period': '2018-06-01', 'ratio': 13.34512},\n",
       "   {'period': '2018-07-01', 'ratio': 13.02773},\n",
       "   {'period': '2018-08-01', 'ratio': 13.45399},\n",
       "   {'period': '2018-09-01', 'ratio': 12.83755},\n",
       "   {'period': '2018-10-01', 'ratio': 13.05677},\n",
       "   {'period': '2018-11-01', 'ratio': 12.77338},\n",
       "   {'period': '2018-12-01', 'ratio': 12.86931},\n",
       "   {'period': '2019-01-01', 'ratio': 13.31172},\n",
       "   {'period': '2019-02-01', 'ratio': 11.74776},\n",
       "   {'period': '2019-03-01', 'ratio': 11.82313},\n",
       "   {'period': '2019-04-01', 'ratio': 12.32991},\n",
       "   {'period': '2019-05-01', 'ratio': 12.43771},\n",
       "   {'period': '2019-06-01', 'ratio': 13.29913},\n",
       "   {'period': '2019-07-01', 'ratio': 14.00593},\n",
       "   {'period': '2019-08-01', 'ratio': 14.208},\n",
       "   {'period': '2019-09-01', 'ratio': 14.00856},\n",
       "   {'period': '2019-10-01', 'ratio': 14.88466},\n",
       "   {'period': '2019-11-01', 'ratio': 14.352},\n",
       "   {'period': '2019-12-01', 'ratio': 14.36689},\n",
       "   {'period': '2020-01-01', 'ratio': 16.05722},\n",
       "   {'period': '2020-02-01', 'ratio': 15.71465},\n",
       "   {'period': '2020-03-01', 'ratio': 18.5669},\n",
       "   {'period': '2020-04-01', 'ratio': 18.29928},\n",
       "   {'period': '2020-05-01', 'ratio': 21.0523},\n",
       "   {'period': '2020-06-01', 'ratio': 19.27569},\n",
       "   {'period': '2020-07-01', 'ratio': 20.59297},\n",
       "   {'period': '2020-08-01', 'ratio': 19.3598},\n",
       "   {'period': '2020-09-01', 'ratio': 19.96801},\n",
       "   {'period': '2020-10-01', 'ratio': 20.88909},\n",
       "   {'period': '2020-11-01', 'ratio': 19.58926},\n",
       "   {'period': '2020-12-01', 'ratio': 21.54861},\n",
       "   {'period': '2021-01-01', 'ratio': 21.93972},\n",
       "   {'period': '2021-02-01', 'ratio': 20.09926},\n",
       "   {'period': '2021-03-01', 'ratio': 21.47994},\n",
       "   {'period': '2021-04-01', 'ratio': 22.94525},\n",
       "   {'period': '2021-05-01', 'ratio': 23.00813},\n",
       "   {'period': '2021-06-01', 'ratio': 22.19201},\n",
       "   {'period': '2021-07-01', 'ratio': 22.44472},\n",
       "   {'period': '2021-08-01', 'ratio': 23.87169},\n",
       "   {'period': '2021-09-01', 'ratio': 21.40248},\n",
       "   {'period': '2021-10-01', 'ratio': 22.49636},\n",
       "   {'period': '2021-11-01', 'ratio': 21.3438},\n",
       "   {'period': '2021-12-01', 'ratio': 21.55931},\n",
       "   {'period': '2022-01-01', 'ratio': 21.94339},\n",
       "   {'period': '2022-02-01', 'ratio': 22.43099},\n",
       "   {'period': '2022-03-01', 'ratio': 23.78266},\n",
       "   {'period': '2022-04-01', 'ratio': 23.83847},\n",
       "   {'period': '2022-05-01', 'ratio': 22.99363},\n",
       "   {'period': '2022-06-01', 'ratio': 23.2411},\n",
       "   {'period': '2022-07-01', 'ratio': 24.06197},\n",
       "   {'period': '2022-08-01', 'ratio': 25.72802},\n",
       "   {'period': '2022-09-01', 'ratio': 24.25256},\n",
       "   {'period': '2022-10-01', 'ratio': 27.11456},\n",
       "   {'period': '2022-11-01', 'ratio': 25.4193},\n",
       "   {'period': '2022-12-01', 'ratio': 25.55513},\n",
       "   {'period': '2023-01-01', 'ratio': 26.64944},\n",
       "   {'period': '2023-02-01', 'ratio': 25.43963},\n",
       "   {'period': '2023-03-01', 'ratio': 25.15474},\n",
       "   {'period': '2023-04-01', 'ratio': 28.07174},\n",
       "   {'period': '2023-05-01', 'ratio': 23.00607},\n",
       "   {'period': '2023-06-01', 'ratio': 23.97467},\n",
       "   {'period': '2023-07-01', 'ratio': 27.22823},\n",
       "   {'period': '2023-08-01', 'ratio': 26.76331},\n",
       "   {'period': '2023-09-01', 'ratio': 23.00812},\n",
       "   {'period': '2023-10-01', 'ratio': 24.13886},\n",
       "   {'period': '2023-11-01', 'ratio': 22.86116},\n",
       "   {'period': '2023-12-01', 'ratio': 23.01963}]},\n",
       " {'title': '페이스북',\n",
       "  'keywords': ['페이스북', '페북'],\n",
       "  'data': [{'period': '2018-01-01', 'ratio': 97.80481},\n",
       "   {'period': '2018-02-01', 'ratio': 89.05814},\n",
       "   {'period': '2018-03-01', 'ratio': 98.84292},\n",
       "   {'period': '2018-04-01', 'ratio': 100},\n",
       "   {'period': '2018-05-01', 'ratio': 92.23588},\n",
       "   {'period': '2018-06-01', 'ratio': 91.70143},\n",
       "   {'period': '2018-07-01', 'ratio': 87.916},\n",
       "   {'period': '2018-08-01', 'ratio': 83.56488},\n",
       "   {'period': '2018-09-01', 'ratio': 82.66018},\n",
       "   {'period': '2018-10-01', 'ratio': 81.30381},\n",
       "   {'period': '2018-11-01', 'ratio': 76.80167},\n",
       "   {'period': '2018-12-01', 'ratio': 75.43269},\n",
       "   {'period': '2019-01-01', 'ratio': 70.21709},\n",
       "   {'period': '2019-02-01', 'ratio': 62.57096},\n",
       "   {'period': '2019-03-01', 'ratio': 70.02431},\n",
       "   {'period': '2019-04-01', 'ratio': 71.67271},\n",
       "   {'period': '2019-05-01', 'ratio': 67.79872},\n",
       "   {'period': '2019-06-01', 'ratio': 69.23259},\n",
       "   {'period': '2019-07-01', 'ratio': 64.22088},\n",
       "   {'period': '2019-08-01', 'ratio': 61.74662},\n",
       "   {'period': '2019-09-01', 'ratio': 62.30318},\n",
       "   {'period': '2019-10-01', 'ratio': 62.46025},\n",
       "   {'period': '2019-11-01', 'ratio': 59.88514},\n",
       "   {'period': '2019-12-01', 'ratio': 57.80639},\n",
       "   {'period': '2020-01-01', 'ratio': 55.94828},\n",
       "   {'period': '2020-02-01', 'ratio': 56.90092},\n",
       "   {'period': '2020-03-01', 'ratio': 63.03497},\n",
       "   {'period': '2020-04-01', 'ratio': 57.31923},\n",
       "   {'period': '2020-05-01', 'ratio': 56.65968},\n",
       "   {'period': '2020-06-01', 'ratio': 54.42362},\n",
       "   {'period': '2020-07-01', 'ratio': 56.80884},\n",
       "   {'period': '2020-08-01', 'ratio': 54.60338},\n",
       "   {'period': '2020-09-01', 'ratio': 51.64203},\n",
       "   {'period': '2020-10-01', 'ratio': 48.64782},\n",
       "   {'period': '2020-11-01', 'ratio': 46.34281},\n",
       "   {'period': '2020-12-01', 'ratio': 47.16999},\n",
       "   {'period': '2021-01-01', 'ratio': 43.23795},\n",
       "   {'period': '2021-02-01', 'ratio': 37.94335},\n",
       "   {'period': '2021-03-01', 'ratio': 42.96809},\n",
       "   {'period': '2021-04-01', 'ratio': 42.4486},\n",
       "   {'period': '2021-05-01', 'ratio': 39.64216},\n",
       "   {'period': '2021-06-01', 'ratio': 38.09701},\n",
       "   {'period': '2021-07-01', 'ratio': 36.44556},\n",
       "   {'period': '2021-08-01', 'ratio': 34.16464},\n",
       "   {'period': '2021-09-01', 'ratio': 31.2108},\n",
       "   {'period': '2021-10-01', 'ratio': 32.85607},\n",
       "   {'period': '2021-11-01', 'ratio': 28.60438},\n",
       "   {'period': '2021-12-01', 'ratio': 27.23295},\n",
       "   {'period': '2022-01-01', 'ratio': 25.93933},\n",
       "   {'period': '2022-02-01', 'ratio': 23.6213},\n",
       "   {'period': '2022-03-01', 'ratio': 24.75851},\n",
       "   {'period': '2022-04-01', 'ratio': 22.22382},\n",
       "   {'period': '2022-05-01', 'ratio': 21.65302},\n",
       "   {'period': '2022-06-01', 'ratio': 20.04381},\n",
       "   {'period': '2022-07-01', 'ratio': 19.53712},\n",
       "   {'period': '2022-08-01', 'ratio': 18.46511},\n",
       "   {'period': '2022-09-01', 'ratio': 17.02193},\n",
       "   {'period': '2022-10-01', 'ratio': 16.73444},\n",
       "   {'period': '2022-11-01', 'ratio': 15.12064},\n",
       "   {'period': '2022-12-01', 'ratio': 14.72503},\n",
       "   {'period': '2023-01-01', 'ratio': 14.87866},\n",
       "   {'period': '2023-02-01', 'ratio': 12.93779},\n",
       "   {'period': '2023-03-01', 'ratio': 13.35465},\n",
       "   {'period': '2023-04-01', 'ratio': 12.56348},\n",
       "   {'period': '2023-05-01', 'ratio': 12.66914},\n",
       "   {'period': '2023-06-01', 'ratio': 11.82617},\n",
       "   {'period': '2023-07-01', 'ratio': 11.86085},\n",
       "   {'period': '2023-08-01', 'ratio': 11.52409},\n",
       "   {'period': '2023-09-01', 'ratio': 10.46711},\n",
       "   {'period': '2023-10-01', 'ratio': 10.44804},\n",
       "   {'period': '2023-11-01', 'ratio': 9.97093},\n",
       "   {'period': '2023-12-01', 'ratio': 10.12856}]},\n",
       " {'title': '인스타그램',\n",
       "  'keywords': ['인스타그램', '인스타'],\n",
       "  'data': [{'period': '2018-01-01', 'ratio': 23.41982},\n",
       "   {'period': '2018-02-01', 'ratio': 22.53544},\n",
       "   {'period': '2018-03-01', 'ratio': 25.3988},\n",
       "   {'period': '2018-04-01', 'ratio': 26.55983},\n",
       "   {'period': '2018-05-01', 'ratio': 28.60035},\n",
       "   {'period': '2018-06-01', 'ratio': 28.40753},\n",
       "   {'period': '2018-07-01', 'ratio': 27.84405},\n",
       "   {'period': '2018-08-01', 'ratio': 29.84383},\n",
       "   {'period': '2018-09-01', 'ratio': 25.05096},\n",
       "   {'period': '2018-10-01', 'ratio': 27.2048},\n",
       "   {'period': '2018-11-01', 'ratio': 21.97864},\n",
       "   {'period': '2018-12-01', 'ratio': 20.8739},\n",
       "   {'period': '2019-01-01', 'ratio': 22.51379},\n",
       "   {'period': '2019-02-01', 'ratio': 19.33788},\n",
       "   {'period': '2019-03-01', 'ratio': 21.67678},\n",
       "   {'period': '2019-04-01', 'ratio': 21.16257},\n",
       "   {'period': '2019-05-01', 'ratio': 20.9485},\n",
       "   {'period': '2019-06-01', 'ratio': 21.76954},\n",
       "   {'period': '2019-07-01', 'ratio': 22.586},\n",
       "   {'period': '2019-08-01', 'ratio': 21.43535},\n",
       "   {'period': '2019-09-01', 'ratio': 19.83802},\n",
       "   {'period': '2019-10-01', 'ratio': 22.24957},\n",
       "   {'period': '2019-11-01', 'ratio': 21.55812},\n",
       "   {'period': '2019-12-01', 'ratio': 21.52333},\n",
       "   {'period': '2020-01-01', 'ratio': 22.0381},\n",
       "   {'period': '2020-02-01', 'ratio': 21.53446},\n",
       "   {'period': '2020-03-01', 'ratio': 25.01454},\n",
       "   {'period': '2020-04-01', 'ratio': 24.12708},\n",
       "   {'period': '2020-05-01', 'ratio': 25.68412},\n",
       "   {'period': '2020-06-01', 'ratio': 25.47291},\n",
       "   {'period': '2020-07-01', 'ratio': 27.08637},\n",
       "   {'period': '2020-08-01', 'ratio': 26.73002},\n",
       "   {'period': '2020-09-01', 'ratio': 26.0109},\n",
       "   {'period': '2020-10-01', 'ratio': 26.21388},\n",
       "   {'period': '2020-11-01', 'ratio': 25.81836},\n",
       "   {'period': '2020-12-01', 'ratio': 25.74078},\n",
       "   {'period': '2021-01-01', 'ratio': 25.5243},\n",
       "   {'period': '2021-02-01', 'ratio': 22.79679},\n",
       "   {'period': '2021-03-01', 'ratio': 28.04835},\n",
       "   {'period': '2021-04-01', 'ratio': 27.90414},\n",
       "   {'period': '2021-05-01', 'ratio': 26.56014},\n",
       "   {'period': '2021-06-01', 'ratio': 26.31208},\n",
       "   {'period': '2021-07-01', 'ratio': 25.15776},\n",
       "   {'period': '2021-08-01', 'ratio': 25.07517},\n",
       "   {'period': '2021-09-01', 'ratio': 24.95299},\n",
       "   {'period': '2021-10-01', 'ratio': 28.76584},\n",
       "   {'period': '2021-11-01', 'ratio': 23.30904},\n",
       "   {'period': '2021-12-01', 'ratio': 22.87539},\n",
       "   {'period': '2022-01-01', 'ratio': 22.0805},\n",
       "   {'period': '2022-02-01', 'ratio': 20.23895},\n",
       "   {'period': '2022-03-01', 'ratio': 22.4226},\n",
       "   {'period': '2022-04-01', 'ratio': 22.07676},\n",
       "   {'period': '2022-05-01', 'ratio': 22.23291},\n",
       "   {'period': '2022-06-01', 'ratio': 21.63141},\n",
       "   {'period': '2022-07-01', 'ratio': 21.40551},\n",
       "   {'period': '2022-08-01', 'ratio': 21.78211},\n",
       "   {'period': '2022-09-01', 'ratio': 21.07918},\n",
       "   {'period': '2022-10-01', 'ratio': 23.38901},\n",
       "   {'period': '2022-11-01', 'ratio': 21.51581},\n",
       "   {'period': '2022-12-01', 'ratio': 20.33907},\n",
       "   {'period': '2023-01-01', 'ratio': 20.30135},\n",
       "   {'period': '2023-02-01', 'ratio': 19.498},\n",
       "   {'period': '2023-03-01', 'ratio': 22.17574},\n",
       "   {'period': '2023-04-01', 'ratio': 22.74806},\n",
       "   {'period': '2023-05-01', 'ratio': 24.513},\n",
       "   {'period': '2023-06-01', 'ratio': 23.92009},\n",
       "   {'period': '2023-07-01', 'ratio': 22.59081},\n",
       "   {'period': '2023-08-01', 'ratio': 21.96847},\n",
       "   {'period': '2023-09-01', 'ratio': 21.10131},\n",
       "   {'period': '2023-10-01', 'ratio': 22.15029},\n",
       "   {'period': '2023-11-01', 'ratio': 23.18797},\n",
       "   {'period': '2023-12-01', 'ratio': 21.84237}]}]"
      ]
     },
     "execution_count": 30,
     "metadata": {},
     "output_type": "execute_result"
    }
   ],
   "source": [
    "# 3. parsing\n",
    "data=response.json()['results']\n",
    "data"
   ]
  },
  {
   "cell_type": "code",
   "execution_count": 36,
   "metadata": {},
   "outputs": [],
   "source": [
    "# 4. preprocessing\n",
    "dfs=[]\n",
    "for row in data:\n",
    "    df=pd.DataFrame(row['data'])\n",
    "    df['title']=row['title']\n",
    "    dfs.append(df)"
   ]
  },
  {
   "cell_type": "code",
   "execution_count": 46,
   "metadata": {},
   "outputs": [
    {
     "data": {
      "text/html": [
       "<div>\n",
       "<style scoped>\n",
       "    .dataframe tbody tr th:only-of-type {\n",
       "        vertical-align: middle;\n",
       "    }\n",
       "\n",
       "    .dataframe tbody tr th {\n",
       "        vertical-align: top;\n",
       "    }\n",
       "\n",
       "    .dataframe thead th {\n",
       "        text-align: right;\n",
       "    }\n",
       "</style>\n",
       "<table border=\"1\" class=\"dataframe\">\n",
       "  <thead>\n",
       "    <tr style=\"text-align: right;\">\n",
       "      <th></th>\n",
       "      <th>period</th>\n",
       "      <th>ratio</th>\n",
       "      <th>title</th>\n",
       "    </tr>\n",
       "  </thead>\n",
       "  <tbody>\n",
       "    <tr>\n",
       "      <th>214</th>\n",
       "      <td>2023-11-01</td>\n",
       "      <td>23.18797</td>\n",
       "      <td>인스타그램</td>\n",
       "    </tr>\n",
       "    <tr>\n",
       "      <th>215</th>\n",
       "      <td>2023-12-01</td>\n",
       "      <td>21.84237</td>\n",
       "      <td>인스타그램</td>\n",
       "    </tr>\n",
       "  </tbody>\n",
       "</table>\n",
       "</div>"
      ],
      "text/plain": [
       "         period     ratio  title\n",
       "214  2023-11-01  23.18797  인스타그램\n",
       "215  2023-12-01  21.84237  인스타그램"
      ]
     },
     "execution_count": 46,
     "metadata": {},
     "output_type": "execute_result"
    }
   ],
   "source": [
    "#len(dfs),dfs[2]\n",
    "result=pd.concat(dfs,ignore_index=True)\n",
    "result.tail(2)"
   ]
  },
  {
   "cell_type": "code",
   "execution_count": 60,
   "metadata": {},
   "outputs": [
    {
     "data": {
      "text/html": [
       "<div>\n",
       "<style scoped>\n",
       "    .dataframe tbody tr th:only-of-type {\n",
       "        vertical-align: middle;\n",
       "    }\n",
       "\n",
       "    .dataframe tbody tr th {\n",
       "        vertical-align: top;\n",
       "    }\n",
       "\n",
       "    .dataframe thead th {\n",
       "        text-align: right;\n",
       "    }\n",
       "</style>\n",
       "<table border=\"1\" class=\"dataframe\">\n",
       "  <thead>\n",
       "    <tr style=\"text-align: right;\">\n",
       "      <th></th>\n",
       "      <th>instagram</th>\n",
       "      <th>twitter</th>\n",
       "      <th>facebook</th>\n",
       "    </tr>\n",
       "    <tr>\n",
       "      <th>period</th>\n",
       "      <th></th>\n",
       "      <th></th>\n",
       "      <th></th>\n",
       "    </tr>\n",
       "  </thead>\n",
       "  <tbody>\n",
       "    <tr>\n",
       "      <th>2023-11-01</th>\n",
       "      <td>23.18797</td>\n",
       "      <td>22.86116</td>\n",
       "      <td>9.97093</td>\n",
       "    </tr>\n",
       "    <tr>\n",
       "      <th>2023-12-01</th>\n",
       "      <td>21.84237</td>\n",
       "      <td>23.01963</td>\n",
       "      <td>10.12856</td>\n",
       "    </tr>\n",
       "  </tbody>\n",
       "</table>\n",
       "</div>"
      ],
      "text/plain": [
       "            instagram   twitter  facebook\n",
       "period                                   \n",
       "2023-11-01   23.18797  22.86116   9.97093\n",
       "2023-12-01   21.84237  23.01963  10.12856"
      ]
     },
     "execution_count": 60,
     "metadata": {},
     "output_type": "execute_result"
    }
   ],
   "source": [
    "pivot_df=result.pivot(index='period',columns='title',values='ratio')\n",
    "pivot_df.columns=['instagram','twitter','facebook']\n",
    "pivot_df.tail(2)"
   ]
  },
  {
   "cell_type": "code",
   "execution_count": 64,
   "metadata": {},
   "outputs": [
    {
     "data": {
      "image/png": "[encoded data removed]",
      "text/plain": [
       "<Figure size 2000x300 with 1 Axes>"
      ]
     },
     "metadata": {},
     "output_type": "display_data"
    }
   ],
   "source": [
    "import matplotlib.pyplot as plt\n",
    "pivot_df.plot(figsize=(20,3))\n",
    "plt.show()"
   ]
  },
  {
   "cell_type": "code",
   "execution_count": null,
   "metadata": {},
   "outputs": [],
   "source": []
  }
 ],
 "metadata": {
  "colab": {
   "provenance": []
  },
  "kernelspec": {
   "display_name": "Python 3 (ipykernel)",
   "language": "python",
   "name": "python3"
  },
  "language_info": {
   "codemirror_mode": {
    "name": "ipython",
    "version": 3
   },
   "file_extension": ".py",
   "mimetype": "text/x-python",
   "name": "python",
   "nbconvert_exporter": "python",
   "pygments_lexer": "ipython3",
   "version": "3.12.4"
  },
  "toc": {
   "base_numbering": 1,
   "nav_menu": {},
   "number_sections": false,
   "sideBar": true,
   "skip_h1_title": false,
   "title_cell": "Table of Contents",
   "title_sidebar": "Contents",
   "toc_cell": false,
   "toc_position": {},
   "toc_section_display": true,
   "toc_window_display": false
  }
 },
 "nbformat": 4,
 "nbformat_minor": 4
}
