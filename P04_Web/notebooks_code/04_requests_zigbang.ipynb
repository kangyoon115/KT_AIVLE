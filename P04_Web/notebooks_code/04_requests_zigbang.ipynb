{
 "cells": [
  {
   "cell_type": "markdown",
   "id": "democratic-utility",
   "metadata": {},
   "source": [
    "### Zigbang 원룸 매물 데이터 수집"
   ]
  },
  {
   "cell_type": "code",
   "execution_count": 2,
   "id": "9affefe3",
   "metadata": {},
   "outputs": [],
   "source": [
    "import requests\n",
    "import pandas as pd"
   ]
  },
  {
   "cell_type": "markdown",
   "id": "whole-answer",
   "metadata": {},
   "source": [
    "#### Process\n",
    "    - 동이름으로 위도 경도 구하기\n",
    "    - 위도 경도로 geohash 알아내기\n",
    "    - geohash로 매물 아이디 가져오기\n",
    "    - 매물 아이디로 매물 정보 가져오기"
   ]
  },
  {
   "cell_type": "markdown",
   "id": "b98f0c6c",
   "metadata": {
    "jp-MarkdownHeadingCollapsed": true
   },
   "source": [
    "#### 1. 동이름으로 위도 경도 구하기"
   ]
  },
  {
   "cell_type": "code",
   "execution_count": 16,
   "id": "4e8d14a3",
   "metadata": {},
   "outputs": [
    {
     "data": {
      "text/plain": [
       "(37.556785583496094, 126.9013442993164)"
      ]
     },
     "execution_count": 16,
     "metadata": {},
     "output_type": "execute_result"
    }
   ],
   "source": [
    "addr='망원동'\n",
    "url=f'https://apis.zigbang.com/v2/search?leaseYn=N&q={addr}&serviceType=원룸'\n",
    "response = requests.get(url)\n",
    "data=response.json()['items'][0]\n",
    "lat,lng=data['lat'],data['lng']\n",
    "lat,lng"
   ]
  },
  {
   "cell_type": "markdown",
   "id": "8dfada31",
   "metadata": {
    "jp-MarkdownHeadingCollapsed": true
   },
   "source": [
    "#### 2. 위도 경도로 geohash 알아내기"
   ]
  },
  {
   "cell_type": "code",
   "execution_count": 18,
   "id": "1d270ab4",
   "metadata": {},
   "outputs": [
    {
     "name": "stdout",
     "output_type": "stream",
     "text": [
      "Collecting geohash2\n",
      "  Downloading geohash2-1.1.tar.gz (15 kB)\n",
      "  Preparing metadata (setup.py): started\n",
      "  Preparing metadata (setup.py): finished with status 'done'\n",
      "Requirement already satisfied: docutils>=0.3 in c:\\users\\user\\anaconda3\\lib\\site-packages (from geohash2) (0.18.1)\n",
      "Building wheels for collected packages: geohash2\n",
      "  Building wheel for geohash2 (setup.py): started\n",
      "  Building wheel for geohash2 (setup.py): finished with status 'done'\n",
      "  Created wheel for geohash2: filename=geohash2-1.1-py3-none-any.whl size=15556 sha256=754f480042af94e06edf2f769335cafb4fa7ca540903491d1bfd6612ec331259\n",
      "  Stored in directory: c:\\users\\user\\appdata\\local\\pip\\cache\\wheels\\00\\d5\\b6\\3fbe4088f7912982f596eaddfd593d16096468a2f13e470ae7\n",
      "Successfully built geohash2\n",
      "Installing collected packages: geohash2\n",
      "Successfully installed geohash2-1.1\n"
     ]
    }
   ],
   "source": [
    "!pip install geohash2"
   ]
  },
  {
   "cell_type": "code",
   "execution_count": 20,
   "id": "b7ba9ff6-dd00-4998-91ef-04cdd8b6f64c",
   "metadata": {},
   "outputs": [],
   "source": [
    "import geohash2"
   ]
  },
  {
   "cell_type": "code",
   "execution_count": 28,
   "id": "06c48f06-3252-4cd4-8f55-7db5d02971e5",
   "metadata": {},
   "outputs": [
    {
     "data": {
      "text/plain": [
       "'wydjx'"
      ]
     },
     "execution_count": 28,
     "metadata": {},
     "output_type": "execute_result"
    }
   ],
   "source": [
    "geohash=geohash2.encode(lat,lng,precision=5)\n",
    "geohash"
   ]
  },
  {
   "cell_type": "markdown",
   "id": "13e8b3f9",
   "metadata": {
    "jp-MarkdownHeadingCollapsed": true
   },
   "source": [
    "#### 3. geohash로 매물 아이디 가져오기"
   ]
  },
  {
   "cell_type": "code",
   "execution_count": 32,
   "id": "2ceb8ea4",
   "metadata": {},
   "outputs": [
    {
     "data": {
      "text/plain": [
       "<Response [200]>"
      ]
     },
     "execution_count": 32,
     "metadata": {},
     "output_type": "execute_result"
    }
   ],
   "source": [
    "url=f'https://apis.zigbang.com/v2/items/oneroom?geohash={geohash}&depositMin=0&rentMin=0&salesTypes[0]=전세\\\n",
    "&salesTypes[1]=월세&domain=zigbang&checkAnyItemWithoutFilter=true'\n",
    "response=requests.get(url)\n",
    "response"
   ]
  },
  {
   "cell_type": "code",
   "execution_count": 36,
   "id": "26a2b231-234a-433c-8485-99152743d6a9",
   "metadata": {},
   "outputs": [
    {
     "data": {
      "text/plain": [
       "(380, [42196796, 42078100, 42149571, 42184803, 42204685])"
      ]
     },
     "execution_count": 36,
     "metadata": {},
     "output_type": "execute_result"
    }
   ],
   "source": [
    "item_ids=[]\n",
    "for data in response.json()['items']:\n",
    "    item_ids.append(data['itemId'])\n",
    "len(item_ids), item_ids[:5]"
   ]
  },
  {
   "cell_type": "code",
   "execution_count": 38,
   "id": "3a00b901-7967-4ca5-b834-f2aec97c4836",
   "metadata": {},
   "outputs": [
    {
     "data": {
      "text/plain": [
       "(380, [42196796, 42078100, 42149571, 42184803, 42204685])"
      ]
     },
     "execution_count": 38,
     "metadata": {},
     "output_type": "execute_result"
    }
   ],
   "source": [
    "item_ids = [data['itemId'] for data in response.json()['items']]\n",
    "len(item_ids), item_ids[:5]"
   ]
  },
  {
   "cell_type": "code",
   "execution_count": 40,
   "id": "cf439065-96cd-44d3-b126-11dc809901d1",
   "metadata": {},
   "outputs": [
    {
     "data": {
      "text/plain": [
       "(381, [42196796, 42078100, 42149571, 42184803, 42204685])"
      ]
     },
     "execution_count": 40,
     "metadata": {},
     "output_type": "execute_result"
    }
   ],
   "source": [
    "#최종코드\n",
    "url = f'https://apis.zigbang.com/v2/items/oneroom?geohash={geohash}&depositMin=0&rentMin=0&salesTypes[0]=전세&salesTypes[1]=월세&domain=zigbang&checkAnyItemWithoutFilter=true'\n",
    "response = requests.get(url)\n",
    "item_ids = [data['itemId'] for data in response.json()['items']]\n",
    "len(item_ids), item_ids[:5]"
   ]
  },
  {
   "cell_type": "markdown",
   "id": "85225aae",
   "metadata": {},
   "source": [
    "#### 4. 매물 아이디로 매물 정보 가져오기"
   ]
  },
  {
   "cell_type": "code",
   "execution_count": 42,
   "id": "0212d892",
   "metadata": {},
   "outputs": [
    {
     "data": {
      "text/plain": [
       "<Response [200]>"
      ]
     },
     "execution_count": 42,
     "metadata": {},
     "output_type": "execute_result"
    }
   ],
   "source": [
    "url='https://apis.zigbang.com/v2/items/list'\n",
    "params={'domain':'zigbang','item_ids' : item_ids}\n",
    "response=requests.post(url,params)\n",
    "response"
   ]
  },
  {
   "cell_type": "code",
   "execution_count": 46,
   "id": "52cbec03-8950-429a-9299-e4b0e8125524",
   "metadata": {},
   "outputs": [],
   "source": [
    "pd.options.display.max_columns = 40"
   ]
  },
  {
   "cell_type": "code",
   "execution_count": 52,
   "id": "f32d4cce-046f-4f64-8621-a8e56dec393d",
   "metadata": {},
   "outputs": [
    {
     "data": {
      "text/html": [
       "<div>\n",
       "<style scoped>\n",
       "    .dataframe tbody tr th:only-of-type {\n",
       "        vertical-align: middle;\n",
       "    }\n",
       "\n",
       "    .dataframe tbody tr th {\n",
       "        vertical-align: top;\n",
       "    }\n",
       "\n",
       "    .dataframe thead th {\n",
       "        text-align: right;\n",
       "    }\n",
       "</style>\n",
       "<table border=\"1\" class=\"dataframe\">\n",
       "  <thead>\n",
       "    <tr style=\"text-align: right;\">\n",
       "      <th></th>\n",
       "      <th>item_id</th>\n",
       "      <th>sales_type</th>\n",
       "      <th>deposit</th>\n",
       "      <th>rent</th>\n",
       "      <th>size_m2</th>\n",
       "      <th>floor</th>\n",
       "      <th>building_floor</th>\n",
       "      <th>title</th>\n",
       "      <th>manage_cost</th>\n",
       "      <th>address1</th>\n",
       "    </tr>\n",
       "  </thead>\n",
       "  <tbody>\n",
       "    <tr>\n",
       "      <th>380</th>\n",
       "      <td>42218289</td>\n",
       "      <td>월세</td>\n",
       "      <td>1000</td>\n",
       "      <td>49</td>\n",
       "      <td>15.84</td>\n",
       "      <td>2</td>\n",
       "      <td>5</td>\n",
       "      <td>가좌역2분 깔끔 엘베있는 필로티 원룸</td>\n",
       "      <td>10</td>\n",
       "      <td>서울시 마포구 중동</td>\n",
       "    </tr>\n",
       "  </tbody>\n",
       "</table>\n",
       "</div>"
      ],
      "text/plain": [
       "      item_id sales_type  deposit  rent  size_m2 floor building_floor  \\\n",
       "380  42218289         월세     1000    49    15.84     2              5   \n",
       "\n",
       "                    title manage_cost    address1  \n",
       "380  가좌역2분 깔끔 엘베있는 필로티 원룸          10  서울시 마포구 중동  "
      ]
     },
     "execution_count": 52,
     "metadata": {},
     "output_type": "execute_result"
    }
   ],
   "source": [
    "data=response.json()['items']\n",
    "df=pd.DataFrame(data)\n",
    "df=df[['item_id','sales_type','deposit','rent','size_m2','floor','building_floor','title','manage_cost','address1']]\n",
    "df.tail(1)"
   ]
  },
  {
   "cell_type": "code",
   "execution_count": 60,
   "id": "11ef959e-8f12-4a80-8300-562175316d69",
   "metadata": {},
   "outputs": [],
   "source": [
    "# 5. 함수\n",
    "def oneroom(addr):\n",
    "    \n",
    "    url = f'https://apis.zigbang.com/v2/search?leaseYn=N&q={addr}&serviceType=원룸'\n",
    "    response = requests.get(url)\n",
    "    data = response.json()['items'][0]\n",
    "    lat, lng = data['lat'], data['lng']\n",
    "\n",
    "    geohash = geohash2.encode(lat, lng, precision=5)\n",
    "\n",
    "    url = f'https://apis.zigbang.com/v2/items/oneroom?geohash={geohash}&depositMin=0&rentMin=0&salesTypes[0]=전세&salesTypes[1]=월세&domain=zigbang&checkAnyItemWithoutFilter=true'\n",
    "    response = requests.get(url)\n",
    "    item_ids = [data['itemId'] for data in response.json()['items']]\n",
    "\n",
    "    url = 'https://apis.zigbang.com/v2/items/list'\n",
    "    params = {'domain': \"zigbang\", 'item_ids': item_ids[:900]}\n",
    "    response = requests.post(url, params)\n",
    "    data = response.json()['items']\n",
    "    df = pd.DataFrame(data)\n",
    "    df = df[df['address1'].str.contains(addr)].reset_index(drop=True)\n",
    "    return df[['item_id', 'sales_title', 'deposit', 'rent', 'size_m2', 'floor', 'building_floor', 'title',\n",
    "               'manage_cost', 'address1']]"
   ]
  },
  {
   "cell_type": "code",
   "execution_count": 64,
   "id": "154deeef-06fe-42d5-af06-4b285a88104d",
   "metadata": {},
   "outputs": [
    {
     "data": {
      "text/html": [
       "<div>\n",
       "<style scoped>\n",
       "    .dataframe tbody tr th:only-of-type {\n",
       "        vertical-align: middle;\n",
       "    }\n",
       "\n",
       "    .dataframe tbody tr th {\n",
       "        vertical-align: top;\n",
       "    }\n",
       "\n",
       "    .dataframe thead th {\n",
       "        text-align: right;\n",
       "    }\n",
       "</style>\n",
       "<table border=\"1\" class=\"dataframe\">\n",
       "  <thead>\n",
       "    <tr style=\"text-align: right;\">\n",
       "      <th></th>\n",
       "      <th>item_id</th>\n",
       "      <th>sales_title</th>\n",
       "      <th>deposit</th>\n",
       "      <th>rent</th>\n",
       "      <th>size_m2</th>\n",
       "      <th>floor</th>\n",
       "      <th>building_floor</th>\n",
       "      <th>title</th>\n",
       "      <th>manage_cost</th>\n",
       "      <th>address1</th>\n",
       "    </tr>\n",
       "  </thead>\n",
       "  <tbody>\n",
       "    <tr>\n",
       "      <th>51</th>\n",
       "      <td>41718888</td>\n",
       "      <td>전세</td>\n",
       "      <td>33000</td>\n",
       "      <td>0</td>\n",
       "      <td>37.79</td>\n",
       "      <td>3</td>\n",
       "      <td>4</td>\n",
       "      <td>깔끔하고 심플한 투룸, 주차 가능, 풀옵션 완비</td>\n",
       "      <td>20</td>\n",
       "      <td>서울시 강남구 개포동</td>\n",
       "    </tr>\n",
       "    <tr>\n",
       "      <th>52</th>\n",
       "      <td>40818078</td>\n",
       "      <td>전세</td>\n",
       "      <td>38000</td>\n",
       "      <td>0</td>\n",
       "      <td>71.64</td>\n",
       "      <td>3</td>\n",
       "      <td>3</td>\n",
       "      <td>깨끗하고 넓은 공간 쓰리룸, 즉시 입주 가능, 주차 가능</td>\n",
       "      <td>0</td>\n",
       "      <td>서울시 강남구 개포동</td>\n",
       "    </tr>\n",
       "  </tbody>\n",
       "</table>\n",
       "</div>"
      ],
      "text/plain": [
       "     item_id sales_title  deposit  rent  size_m2 floor building_floor  \\\n",
       "51  41718888          전세    33000     0    37.79     3              4   \n",
       "52  40818078          전세    38000     0    71.64     3              3   \n",
       "\n",
       "                              title manage_cost     address1  \n",
       "51       깔끔하고 심플한 투룸, 주차 가능, 풀옵션 완비          20  서울시 강남구 개포동  \n",
       "52  깨끗하고 넓은 공간 쓰리룸, 즉시 입주 가능, 주차 가능           0  서울시 강남구 개포동  "
      ]
     },
     "execution_count": 64,
     "metadata": {},
     "output_type": "execute_result"
    }
   ],
   "source": [
    "df=oneroom('개포동')\n",
    "df.tail(2)"
   ]
  },
  {
   "cell_type": "code",
   "execution_count": null,
   "id": "ffe7a256-e67f-45ce-8c65-50e45ea7976c",
   "metadata": {},
   "outputs": [],
   "source": []
  }
 ],
 "metadata": {
  "kernelspec": {
   "display_name": "Python 3 (ipykernel)",
   "language": "python",
   "name": "python3"
  },
  "language_info": {
   "codemirror_mode": {
    "name": "ipython",
    "version": 3
   },
   "file_extension": ".py",
   "mimetype": "text/x-python",
   "name": "python",
   "nbconvert_exporter": "python",
   "pygments_lexer": "ipython3",
   "version": "3.12.4"
  },
  "toc": {
   "base_numbering": 1,
   "nav_menu": {},
   "number_sections": false,
   "sideBar": true,
   "skip_h1_title": false,
   "title_cell": "Table of Contents",
   "title_sidebar": "Contents",
   "toc_cell": false,
   "toc_position": {},
   "toc_section_display": true,
   "toc_window_display": false
  }
 },
 "nbformat": 4,
 "nbformat_minor": 5
}
