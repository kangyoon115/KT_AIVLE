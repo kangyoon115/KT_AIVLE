{
 "cells": [
  {
   "cell_type": "markdown",
   "id": "03fff3b4",
   "metadata": {},
   "source": [
    "### selenium\n",
    "- `https://www.selenium.dev`\n",
    "- 자동화를 목적으로 만들어진 다양한 브라우져와 언어를 지원하는 라이브러리\n",
    "- 크롬 브라우져 설치\n",
    "    - 크롬 브라우져 드라이버 다운로드 (크롬 브라우져와 같은 버전)\n",
    "    - 다운로드한 드라이버 압축 해제\n",
    "    - chromedriver, chromedriver.exe 생성\n",
    "    - windows : 주피터 노트북 파일과 동일한 디렉토리에 chromedriver.exe 파일 업로드\n",
    "    - mac : sudo cp ~/Download/chromedirver /usr/local/bin"
   ]
  },
  {
   "cell_type": "code",
   "execution_count": 2,
   "id": "a6e6bc99",
   "metadata": {},
   "outputs": [
    {
     "name": "stdout",
     "output_type": "stream",
     "text": [
      "Collecting selenium\n",
      "  Downloading selenium-4.25.0-py3-none-any.whl.metadata (7.1 kB)\n",
      "Requirement already satisfied: urllib3<3,>=1.26 in c:\\users\\user\\anaconda3\\lib\\site-packages (from urllib3[socks]<3,>=1.26->selenium) (2.2.2)\n",
      "Collecting trio~=0.17 (from selenium)\n",
      "  Downloading trio-0.26.2-py3-none-any.whl.metadata (8.6 kB)\n",
      "Collecting trio-websocket~=0.9 (from selenium)\n",
      "  Downloading trio_websocket-0.11.1-py3-none-any.whl.metadata (4.7 kB)\n",
      "Requirement already satisfied: certifi>=2021.10.8 in c:\\users\\user\\anaconda3\\lib\\site-packages (from selenium) (2024.7.4)\n",
      "Requirement already satisfied: typing_extensions~=4.9 in c:\\users\\user\\anaconda3\\lib\\site-packages (from selenium) (4.11.0)\n",
      "Requirement already satisfied: websocket-client~=1.8 in c:\\users\\user\\anaconda3\\lib\\site-packages (from selenium) (1.8.0)\n",
      "Collecting attrs>=23.2.0 (from trio~=0.17->selenium)\n",
      "  Downloading attrs-24.2.0-py3-none-any.whl.metadata (11 kB)\n",
      "Requirement already satisfied: sortedcontainers in c:\\users\\user\\anaconda3\\lib\\site-packages (from trio~=0.17->selenium) (2.4.0)\n",
      "Requirement already satisfied: idna in c:\\users\\user\\anaconda3\\lib\\site-packages (from trio~=0.17->selenium) (3.7)\n",
      "Collecting outcome (from trio~=0.17->selenium)\n",
      "  Downloading outcome-1.3.0.post0-py2.py3-none-any.whl.metadata (2.6 kB)\n",
      "Requirement already satisfied: sniffio>=1.3.0 in c:\\users\\user\\anaconda3\\lib\\site-packages (from trio~=0.17->selenium) (1.3.0)\n",
      "Requirement already satisfied: cffi>=1.14 in c:\\users\\user\\anaconda3\\lib\\site-packages (from trio~=0.17->selenium) (1.16.0)\n",
      "Collecting wsproto>=0.14 (from trio-websocket~=0.9->selenium)\n",
      "  Downloading wsproto-1.2.0-py3-none-any.whl.metadata (5.6 kB)\n",
      "Requirement already satisfied: pysocks!=1.5.7,<2.0,>=1.5.6 in c:\\users\\user\\anaconda3\\lib\\site-packages (from urllib3[socks]<3,>=1.26->selenium) (1.7.1)\n",
      "Requirement already satisfied: pycparser in c:\\users\\user\\anaconda3\\lib\\site-packages (from cffi>=1.14->trio~=0.17->selenium) (2.21)\n",
      "Requirement already satisfied: h11<1,>=0.9.0 in c:\\users\\user\\anaconda3\\lib\\site-packages (from wsproto>=0.14->trio-websocket~=0.9->selenium) (0.14.0)\n",
      "Downloading selenium-4.25.0-py3-none-any.whl (9.7 MB)\n",
      "   ---------------------------------------- 0.0/9.7 MB ? eta -:--:--\n",
      "   ---------------------------------------- 0.1/9.7 MB 2.2 MB/s eta 0:00:05\n",
      "   - -------------------------------------- 0.2/9.7 MB 2.5 MB/s eta 0:00:04\n",
      "   - -------------------------------------- 0.3/9.7 MB 2.9 MB/s eta 0:00:04\n",
      "   - -------------------------------------- 0.5/9.7 MB 2.5 MB/s eta 0:00:04\n",
      "   -- ------------------------------------- 0.7/9.7 MB 3.0 MB/s eta 0:00:04\n",
      "   --- ------------------------------------ 0.9/9.7 MB 3.1 MB/s eta 0:00:03\n",
      "   ---- ----------------------------------- 1.1/9.7 MB 3.3 MB/s eta 0:00:03\n",
      "   ----- ---------------------------------- 1.3/9.7 MB 3.6 MB/s eta 0:00:03\n",
      "   ----- ---------------------------------- 1.4/9.7 MB 3.3 MB/s eta 0:00:03\n",
      "   ------ --------------------------------- 1.5/9.7 MB 3.2 MB/s eta 0:00:03\n",
      "   ------- -------------------------------- 1.7/9.7 MB 3.4 MB/s eta 0:00:03\n",
      "   -------- ------------------------------- 2.0/9.7 MB 3.4 MB/s eta 0:00:03\n",
      "   -------- ------------------------------- 2.2/9.7 MB 3.5 MB/s eta 0:00:03\n",
      "   --------- ------------------------------ 2.4/9.7 MB 3.5 MB/s eta 0:00:03\n",
      "   ---------- ----------------------------- 2.4/9.7 MB 3.4 MB/s eta 0:00:03\n",
      "   ----------- ---------------------------- 2.7/9.7 MB 3.5 MB/s eta 0:00:02\n",
      "   ----------- ---------------------------- 2.8/9.7 MB 3.5 MB/s eta 0:00:02\n",
      "   ------------ --------------------------- 3.1/9.7 MB 3.6 MB/s eta 0:00:02\n",
      "   ------------ --------------------------- 3.1/9.7 MB 3.6 MB/s eta 0:00:02\n",
      "   ------------- -------------------------- 3.2/9.7 MB 3.4 MB/s eta 0:00:02\n",
      "   -------------- ------------------------- 3.4/9.7 MB 3.4 MB/s eta 0:00:02\n",
      "   -------------- ------------------------- 3.5/9.7 MB 3.5 MB/s eta 0:00:02\n",
      "   --------------- ------------------------ 3.7/9.7 MB 3.4 MB/s eta 0:00:02\n",
      "   ---------------- ----------------------- 4.0/9.7 MB 3.5 MB/s eta 0:00:02\n",
      "   ----------------- ---------------------- 4.2/9.7 MB 3.6 MB/s eta 0:00:02\n",
      "   ------------------ --------------------- 4.4/9.7 MB 3.6 MB/s eta 0:00:02\n",
      "   ------------------ --------------------- 4.5/9.7 MB 3.5 MB/s eta 0:00:02\n",
      "   ------------------- -------------------- 4.7/9.7 MB 3.6 MB/s eta 0:00:02\n",
      "   -------------------- ------------------- 4.9/9.7 MB 3.6 MB/s eta 0:00:02\n",
      "   -------------------- ------------------- 5.0/9.7 MB 3.6 MB/s eta 0:00:02\n",
      "   --------------------- ------------------ 5.2/9.7 MB 3.6 MB/s eta 0:00:02\n",
      "   ---------------------- ----------------- 5.4/9.7 MB 3.6 MB/s eta 0:00:02\n",
      "   ---------------------- ----------------- 5.5/9.7 MB 3.5 MB/s eta 0:00:02\n",
      "   ----------------------- ---------------- 5.7/9.7 MB 3.6 MB/s eta 0:00:02\n",
      "   ------------------------ --------------- 5.9/9.7 MB 3.6 MB/s eta 0:00:02\n",
      "   ------------------------- -------------- 6.1/9.7 MB 3.6 MB/s eta 0:00:01\n",
      "   -------------------------- ------------- 6.4/9.7 MB 3.7 MB/s eta 0:00:01\n",
      "   --------------------------- ------------ 6.6/9.7 MB 3.7 MB/s eta 0:00:01\n",
      "   ---------------------------- ----------- 6.9/9.7 MB 3.8 MB/s eta 0:00:01\n",
      "   ----------------------------- ---------- 7.0/9.7 MB 3.7 MB/s eta 0:00:01\n",
      "   ----------------------------- ---------- 7.2/9.7 MB 3.8 MB/s eta 0:00:01\n",
      "   ------------------------------ --------- 7.4/9.7 MB 3.8 MB/s eta 0:00:01\n",
      "   ------------------------------- -------- 7.7/9.7 MB 3.8 MB/s eta 0:00:01\n",
      "   -------------------------------- ------- 7.9/9.7 MB 3.8 MB/s eta 0:00:01\n",
      "   --------------------------------- ------ 8.0/9.7 MB 3.8 MB/s eta 0:00:01\n",
      "   --------------------------------- ------ 8.2/9.7 MB 3.8 MB/s eta 0:00:01\n",
      "   ---------------------------------- ----- 8.4/9.7 MB 3.8 MB/s eta 0:00:01\n",
      "   ---------------------------------- ----- 8.4/9.7 MB 3.8 MB/s eta 0:00:01\n",
      "   ----------------------------------- ---- 8.7/9.7 MB 3.8 MB/s eta 0:00:01\n",
      "   ------------------------------------ --- 8.8/9.7 MB 3.7 MB/s eta 0:00:01\n",
      "   ------------------------------------- -- 9.0/9.7 MB 3.7 MB/s eta 0:00:01\n",
      "   ------------------------------------- -- 9.1/9.7 MB 3.8 MB/s eta 0:00:01\n",
      "   ------------------------------------- -- 9.1/9.7 MB 3.7 MB/s eta 0:00:01\n",
      "   -------------------------------------- - 9.3/9.7 MB 3.7 MB/s eta 0:00:01\n",
      "   ---------------------------------------  9.5/9.7 MB 3.7 MB/s eta 0:00:01\n",
      "   ---------------------------------------  9.5/9.7 MB 3.6 MB/s eta 0:00:01\n",
      "   ---------------------------------------  9.7/9.7 MB 3.6 MB/s eta 0:00:01\n",
      "   ---------------------------------------- 9.7/9.7 MB 3.6 MB/s eta 0:00:00\n",
      "Downloading trio-0.26.2-py3-none-any.whl (475 kB)\n",
      "   ---------------------------------------- 0.0/476.0 kB ? eta -:--:--\n",
      "   --------- ------------------------------ 112.6/476.0 kB 3.3 MB/s eta 0:00:01\n",
      "   ----------------------- ---------------- 276.5/476.0 kB 3.4 MB/s eta 0:00:01\n",
      "   ---------------------------------------  471.0/476.0 kB 3.7 MB/s eta 0:00:01\n",
      "   ---------------------------------------- 476.0/476.0 kB 3.3 MB/s eta 0:00:00\n",
      "Downloading trio_websocket-0.11.1-py3-none-any.whl (17 kB)\n",
      "Downloading attrs-24.2.0-py3-none-any.whl (63 kB)\n",
      "   ---------------------------------------- 0.0/63.0 kB ? eta -:--:--\n",
      "   ---------------------------------------- 63.0/63.0 kB ? eta 0:00:00\n",
      "Downloading wsproto-1.2.0-py3-none-any.whl (24 kB)\n",
      "Downloading outcome-1.3.0.post0-py2.py3-none-any.whl (10 kB)\n",
      "Installing collected packages: wsproto, attrs, outcome, trio, trio-websocket, selenium\n",
      "  Attempting uninstall: attrs\n",
      "    Found existing installation: attrs 23.1.0\n",
      "    Uninstalling attrs-23.1.0:\n",
      "      Successfully uninstalled attrs-23.1.0\n",
      "Successfully installed attrs-24.2.0 outcome-1.3.0.post0 selenium-4.25.0 trio-0.26.2 trio-websocket-0.11.1 wsproto-1.2.0\n"
     ]
    }
   ],
   "source": [
    "!pip install selenium"
   ]
  },
  {
   "cell_type": "code",
   "execution_count": 4,
   "id": "4ffbd8ff-3dca-405a-883c-ed12af200284",
   "metadata": {},
   "outputs": [],
   "source": [
    "import pandas as pd\n",
    "from selenium import webdriver\n",
    "from selenium.webdriver.common.by import By"
   ]
  },
  {
   "cell_type": "code",
   "execution_count": 6,
   "id": "0a3f75e0-8bd4-420b-a9a1-ed95670d45ce",
   "metadata": {},
   "outputs": [],
   "source": [
    "driver=webdriver.Chrome()"
   ]
  },
  {
   "cell_type": "code",
   "execution_count": 8,
   "id": "9f9f7339-05dc-41df-9b88-400746e53bf4",
   "metadata": {},
   "outputs": [],
   "source": [
    "#페이지이동\n",
    "driver.get('https://daum.net')"
   ]
  },
  {
   "cell_type": "code",
   "execution_count": null,
   "id": "ac750355-0748-4c40-934d-b5b4a9d22db2",
   "metadata": {},
   "outputs": [],
   "source": [
    "#브라우저 사이즈 조절\n",
    "driver.set_window_size(200,600)"
   ]
  },
  {
   "cell_type": "code",
   "execution_count": 10,
   "id": "c73e5ca6-e1b9-4ee7-8fb9-34ffa880ed8c",
   "metadata": {},
   "outputs": [],
   "source": [
    "#자바스크립트 코드 실행\n",
    "driver.execute_script('alert(\"hello selenuim!\");')"
   ]
  },
  {
   "cell_type": "code",
   "execution_count": 12,
   "id": "8dbd9c1c-85ae-47c4-a4c6-4cf23c83a933",
   "metadata": {},
   "outputs": [],
   "source": [
    "#alert종료=확인버튼 누르기\n",
    "alert=driver.switch_to.alert\n",
    "alert.accept()"
   ]
  },
  {
   "cell_type": "code",
   "execution_count": 18,
   "id": "9146b236-4162-4f47-b25a-7c29d06a40fb",
   "metadata": {},
   "outputs": [],
   "source": [
    "#검색어 입력 후 검색버튼 클릭\n",
    "driver.find_element(By.CSS_SELECTOR,'#q').send_keys('selenium')"
   ]
  },
  {
   "cell_type": "code",
   "execution_count": 20,
   "id": "aec3b701-5878-410f-925d-afc2c7886af1",
   "metadata": {},
   "outputs": [],
   "source": [
    "#검색버튼 클릭\n",
    "driver.find_element(By.CSS_SELECTOR,'.btn_ksearch').click()"
   ]
  },
  {
   "cell_type": "code",
   "execution_count": 22,
   "id": "0163484f-1ddd-4250-bcb0-778e05f7b818",
   "metadata": {},
   "outputs": [],
   "source": [
    "#브라우저 종료: 자원(RAM)반환\n",
    "driver.quit()"
   ]
  },
  {
   "cell_type": "markdown",
   "id": "c4c13a78",
   "metadata": {},
   "source": [
    "#### 텍스트 데이터 가져오기\n",
    "- TED 사이트 : `https://www.ted.com`"
   ]
  },
  {
   "cell_type": "code",
   "execution_count": 40,
   "id": "39e30c91",
   "metadata": {},
   "outputs": [],
   "source": [
    "driver=webdriver.Chrome()\n",
    "import time"
   ]
  },
  {
   "cell_type": "code",
   "execution_count": 41,
   "id": "f277bf8c-e73a-4604-b4ae-12e2f7eba07e",
   "metadata": {},
   "outputs": [],
   "source": [
    "#브라우저 열기\n",
    "driver.get('https://www.ted.com/talks')"
   ]
  },
  {
   "cell_type": "code",
   "execution_count": 42,
   "id": "4d2241a1-f278-45c5-a3b4-253c3d29273e",
   "metadata": {},
   "outputs": [],
   "source": [
    "time.sleep(2)\n",
    "#팝업 X버튼 클릭\n",
    "driver.find_element(By.CSS_SELECTOR,'#close-pc-btn-handler').click()"
   ]
  },
  {
   "cell_type": "code",
   "execution_count": 44,
   "id": "a4b05442-426d-4951-83f1-71d8194c4894",
   "metadata": {},
   "outputs": [
    {
     "data": {
      "text/plain": [
       "'TED Talks: Discover ideas worth spreading'"
      ]
     },
     "execution_count": 44,
     "metadata": {},
     "output_type": "execute_result"
    }
   ],
   "source": [
    "driver.find_element(By.CSS_SELECTOR,'h2.text-textPrimary-onLight').text"
   ]
  },
  {
   "cell_type": "markdown",
   "id": "152eda00",
   "metadata": {},
   "source": [
    "#### Headless\n",
    "- 브라우져를 화면에 띄우지 않고 메모리상에서만 올려서 크롤링하는 방법 \n",
    "- window가 지원되지 않는 환경에서 사용이 가능\n",
    "- chrome version 60.0.0.0 이상부터 지원 합니다."
   ]
  },
  {
   "cell_type": "code",
   "execution_count": 50,
   "id": "ec5daf36",
   "metadata": {},
   "outputs": [
    {
     "name": "stdout",
     "output_type": "stream",
     "text": [
      "TED Talks: Discover ideas worth spreading\n"
     ]
    }
   ],
   "source": [
    "options=webdriver.ChromeOptions()\n",
    "options.add_argument('headless')\n",
    "driver=webdriver.Chrome(options=options)\n",
    "driver.get('https://www.ted.com/talks')\n",
    "time.sleep(2)\n",
    "driver.find_element(By.CSS_SELECTOR,'#close-pc-btn-handler').click()\n",
    "text=driver.find_element(By.CSS_SELECTOR,'h2.text-textPrimary-onLight').text\n",
    "print(text)\n",
    "driver.quit()"
   ]
  },
  {
   "cell_type": "code",
   "execution_count": null,
   "id": "308106f5-32ff-43c1-9122-a5314a7e8bd1",
   "metadata": {},
   "outputs": [],
   "source": []
  }
 ],
 "metadata": {
  "kernelspec": {
   "display_name": "Python 3 (ipykernel)",
   "language": "python",
   "name": "python3"
  },
  "language_info": {
   "codemirror_mode": {
    "name": "ipython",
    "version": 3
   },
   "file_extension": ".py",
   "mimetype": "text/x-python",
   "name": "python",
   "nbconvert_exporter": "python",
   "pygments_lexer": "ipython3",
   "version": "3.12.4"
  },
  "toc": {
   "base_numbering": 1,
   "nav_menu": {},
   "number_sections": false,
   "sideBar": true,
   "skip_h1_title": false,
   "title_cell": "Table of Contents",
   "title_sidebar": "Contents",
   "toc_cell": false,
   "toc_position": {},
   "toc_section_display": true,
   "toc_window_display": false
  }
 },
 "nbformat": 4,
 "nbformat_minor": 5
}
