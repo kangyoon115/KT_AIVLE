{
 "cells": [
  {
   "cell_type": "markdown",
   "id": "a2843caf",
   "metadata": {
    "id": "a2843caf"
   },
   "source": [
    "## Web Crawling\n",
    "- 웹 페이지에서 데이터를 수집하는 방법에 대해서 학습"
   ]
  },
  {
   "cell_type": "markdown",
   "id": "193e82cc",
   "metadata": {
    "id": "193e82cc"
   },
   "source": [
    "### 웹크롤링 방법\n",
    "\n",
    "#### 웹페이지의 종류\n",
    "- 정적인 페이지 : 웹 브라우져에 화면이 한번 뜨면 이벤트에 의한 화면의 변경이 없는 페이지 \n",
    "- 동적인 페이지 : 웹 브라우져에 화면이 뜨고 이벤트가 발생하면 서버에서 데이터를 가져와 화면을 변경하는 페이지\n",
    "\n",
    "#### requests 이용\n",
    "- 받아오는 문자열에 따라 두가지 방법으로 구분\n",
    "    - json 문자열로 받아서 파싱하는 방법 : 주로 동적 페이지 크롤링할때 사용 \n",
    "    - html 문자열로 받아서 파싱하는 방법 : 주로 정적 페이지 크롤링할때 사용\n",
    "        \n",
    "#### selenium 이용\n",
    "- 브라우져를 직접 열어서 데이터를 받는 방법\n",
    "\n",
    "#### 크롤링 방법에 따른 속도\n",
    "- requests json > requests html > selenium"
   ]
  },
  {
   "cell_type": "markdown",
   "id": "c9c2b3eb",
   "metadata": {
    "id": "c9c2b3eb"
   },
   "source": [
    "### Crawling Naver Stock Datas\n",
    "- 네이버 증권 사이트에서 주가 데이터 수집\n",
    "- 수집할 데이터 : 일별 kospi, kosdaq 주가, 일별 환율(exchange rate) 데이터\n",
    "- 데이터 수집 절차\n",
    "    - 웹서비스 분석 : url\n",
    "    - 서버에 데이터 요청 : request(url) > response : json(str)\n",
    "    - 서버에서 받은 데이터 파싱(데이터 형태를 변경) : json(str) > list, dict > DataFrame"
   ]
  },
  {
   "cell_type": "code",
   "execution_count": 1,
   "id": "77151645",
   "metadata": {},
   "outputs": [],
   "source": [
    "import requests\n",
    "import pandas as pd"
   ]
  },
  {
   "cell_type": "markdown",
   "id": "e9946ce1",
   "metadata": {
    "id": "e9946ce1",
    "jp-MarkdownHeadingCollapsed": true
   },
   "source": [
    "#### 1. 웹서비스 분석 : url\n",
    "- pc 웹페이지가 복잡하면 mobile 웹페이지에서 수집"
   ]
  },
  {
   "cell_type": "code",
   "execution_count": 75,
   "id": "05f8fcb2",
   "metadata": {},
   "outputs": [
    {
     "data": {
      "text/plain": [
       "'https://m.stock.naver.com/api/index/KOSPI/price?pageSize=60&page=1'"
      ]
     },
     "execution_count": 75,
     "metadata": {},
     "output_type": "execute_result"
    }
   ],
   "source": [
    "page_size,page=60,1\n",
    "url=f'https://m.stock.naver.com/api/index/KOSPI/price?pageSize={page_size}&page={page}'\n",
    "url"
   ]
  },
  {
   "cell_type": "markdown",
   "id": "45b9c484",
   "metadata": {
    "id": "45b9c484",
    "jp-MarkdownHeadingCollapsed": true
   },
   "source": [
    "#### 2. 서버에 데이터 요청 : request(url) > response : json(str)\n",
    "- response의 status code가 200이 나오는지 확인\n",
    "- 403이나 500이 나오면 request가 잘못되거나 web server에서 수집이 안되도록 설정이 된것임\n",
    "    - header 설정 또는 selenium 사용\n",
    "- 200이 나오더라도 response 안에 있는 내용을 확인 > 확인하는 방법 : response.text"
   ]
  },
  {
   "cell_type": "code",
   "execution_count": 78,
   "id": "ba8417ac",
   "metadata": {},
   "outputs": [
    {
     "data": {
      "text/plain": [
       "<Response [200]>"
      ]
     },
     "execution_count": 78,
     "metadata": {},
     "output_type": "execute_result"
    }
   ],
   "source": [
    "response=requests.get(url)\n",
    "response"
   ]
  },
  {
   "cell_type": "code",
   "execution_count": 79,
   "id": "6e0851a3",
   "metadata": {},
   "outputs": [
    {
     "data": {
      "text/plain": [
       "requests.models.Response"
      ]
     },
     "execution_count": 79,
     "metadata": {},
     "output_type": "execute_result"
    }
   ],
   "source": [
    "type(response)"
   ]
  },
  {
   "cell_type": "code",
   "execution_count": 82,
   "id": "a105a1e9-1d1b-496b-906f-ab3cdd3e80a6",
   "metadata": {},
   "outputs": [
    {
     "data": {
      "text/plain": [
       "(str,\n",
       " '[{\"localTradedAt\":\"2024-09-19\",\"closePrice\":\"2,580.80\",\"compareToPreviousClosePrice\":\"5.39\",\"compare')"
      ]
     },
     "execution_count": 82,
     "metadata": {},
     "output_type": "execute_result"
    }
   ],
   "source": [
    "type(response.text), response.text[:100]"
   ]
  },
  {
   "cell_type": "code",
   "execution_count": 84,
   "id": "1d3e2059-4b9e-4c0f-b3cd-8d83279d93d9",
   "metadata": {},
   "outputs": [],
   "source": [
    "#dir(response)"
   ]
  },
  {
   "cell_type": "markdown",
   "id": "2ab0fb67",
   "metadata": {
    "id": "2ab0fb67",
    "jp-MarkdownHeadingCollapsed": true
   },
   "source": [
    "#### 3. 서버에서 받은 데이터 파싱(데이터 형태를 변경) : json(str) > list, dict > DataFrame"
   ]
  },
  {
   "cell_type": "code",
   "execution_count": 182,
   "id": "44c67262-228f-4f39-846e-2c6382825906",
   "metadata": {},
   "outputs": [],
   "source": [
    "data=response.json()\n",
    "#type(data),data[:2]"
   ]
  },
  {
   "cell_type": "code",
   "execution_count": 93,
   "id": "be9cee49-37a6-4af1-832a-9591f88f0c1e",
   "metadata": {},
   "outputs": [
    {
     "data": {
      "text/html": [
       "<div>\n",
       "<style scoped>\n",
       "    .dataframe tbody tr th:only-of-type {\n",
       "        vertical-align: middle;\n",
       "    }\n",
       "\n",
       "    .dataframe tbody tr th {\n",
       "        vertical-align: top;\n",
       "    }\n",
       "\n",
       "    .dataframe thead th {\n",
       "        text-align: right;\n",
       "    }\n",
       "</style>\n",
       "<table border=\"1\" class=\"dataframe\">\n",
       "  <thead>\n",
       "    <tr style=\"text-align: right;\">\n",
       "      <th></th>\n",
       "      <th>localTradedAt</th>\n",
       "      <th>closePrice</th>\n",
       "    </tr>\n",
       "  </thead>\n",
       "  <tbody>\n",
       "    <tr>\n",
       "      <th>58</th>\n",
       "      <td>2024-06-25</td>\n",
       "      <td>2,774.39</td>\n",
       "    </tr>\n",
       "    <tr>\n",
       "      <th>59</th>\n",
       "      <td>2024-06-24</td>\n",
       "      <td>2,764.73</td>\n",
       "    </tr>\n",
       "  </tbody>\n",
       "</table>\n",
       "</div>"
      ],
      "text/plain": [
       "   localTradedAt closePrice\n",
       "58    2024-06-25   2,774.39\n",
       "59    2024-06-24   2,764.73"
      ]
     },
     "execution_count": 93,
     "metadata": {},
     "output_type": "execute_result"
    }
   ],
   "source": [
    "df=pd.DataFrame(data)\n",
    "df=df[['localTradedAt','closePrice']]\n",
    "df.tail(2)"
   ]
  },
  {
   "cell_type": "markdown",
   "id": "a5806ae9",
   "metadata": {
    "id": "a5806ae9"
   },
   "source": [
    "#### 4. 함수로 만들기"
   ]
  },
  {
   "cell_type": "code",
   "execution_count": 3,
   "id": "fcc4a262",
   "metadata": {},
   "outputs": [],
   "source": [
    "def stock_price(code='KOSPI', page=1, page_size=60):\n",
    "    url = f'https://m.stock.naver.com/api/index/{code}/price?pageSize={page_size}&page={page}'\n",
    "    response = requests.get(url)\n",
    "    data = response.json()\n",
    "    return pd.DataFrame(data)[['localTradedAt', 'closePrice']]"
   ]
  },
  {
   "cell_type": "code",
   "execution_count": 5,
   "id": "736b9e39-917a-45be-a8c8-cce6c2c1c44e",
   "metadata": {},
   "outputs": [
    {
     "data": {
      "text/html": [
       "<div>\n",
       "<style scoped>\n",
       "    .dataframe tbody tr th:only-of-type {\n",
       "        vertical-align: middle;\n",
       "    }\n",
       "\n",
       "    .dataframe tbody tr th {\n",
       "        vertical-align: top;\n",
       "    }\n",
       "\n",
       "    .dataframe thead th {\n",
       "        text-align: right;\n",
       "    }\n",
       "</style>\n",
       "<table border=\"1\" class=\"dataframe\">\n",
       "  <thead>\n",
       "    <tr style=\"text-align: right;\">\n",
       "      <th></th>\n",
       "      <th>localTradedAt</th>\n",
       "      <th>closePrice</th>\n",
       "    </tr>\n",
       "  </thead>\n",
       "  <tbody>\n",
       "    <tr>\n",
       "      <th>0</th>\n",
       "      <td>2024-09-03</td>\n",
       "      <td>2,664.63</td>\n",
       "    </tr>\n",
       "    <tr>\n",
       "      <th>1</th>\n",
       "      <td>2024-09-02</td>\n",
       "      <td>2,681.00</td>\n",
       "    </tr>\n",
       "    <tr>\n",
       "      <th>2</th>\n",
       "      <td>2024-08-30</td>\n",
       "      <td>2,674.31</td>\n",
       "    </tr>\n",
       "    <tr>\n",
       "      <th>3</th>\n",
       "      <td>2024-08-29</td>\n",
       "      <td>2,662.28</td>\n",
       "    </tr>\n",
       "    <tr>\n",
       "      <th>4</th>\n",
       "      <td>2024-08-28</td>\n",
       "      <td>2,689.83</td>\n",
       "    </tr>\n",
       "  </tbody>\n",
       "</table>\n",
       "</div>"
      ],
      "text/plain": [
       "  localTradedAt closePrice\n",
       "0    2024-09-03   2,664.63\n",
       "1    2024-09-02   2,681.00\n",
       "2    2024-08-30   2,674.31\n",
       "3    2024-08-29   2,662.28\n",
       "4    2024-08-28   2,689.83"
      ]
     },
     "execution_count": 5,
     "metadata": {},
     "output_type": "execute_result"
    }
   ],
   "source": [
    "stock_price(page=3,page_size=5)"
   ]
  },
  {
   "cell_type": "markdown",
   "id": "30b5340b",
   "metadata": {
    "id": "30b5340b",
    "jp-MarkdownHeadingCollapsed": true
   },
   "source": [
    "#### 5. 원달러 환율 데이터 수집 : 실습"
   ]
  },
  {
   "cell_type": "code",
   "execution_count": 29,
   "id": "46ee645e",
   "metadata": {},
   "outputs": [],
   "source": [
    "page_size,page=60,1\n",
    "#코스닥 데이터 수집\n",
    "url2=f'https://m.stock.naver.com/api/index/KOSDAQ/price?pageSize={page_size}&page={page}'"
   ]
  },
  {
   "cell_type": "code",
   "execution_count": 139,
   "id": "2b3ada50-4ea8-46cf-9ebf-fb14ada761da",
   "metadata": {},
   "outputs": [],
   "source": [
    "def stock_price(code='KOSPI', page=1, page_size=60):\n",
    "    url = f'https://m.stock.naver.com/api/index/{code}/price?pageSize={page_size}&page={page}'\n",
    "    response = requests.get(url)\n",
    "    data = response.json()\n",
    "    return pd.DataFrame(data)[['localTradedAt', 'closePrice']]"
   ]
  },
  {
   "cell_type": "code",
   "execution_count": 86,
   "id": "f366e90b-6ce5-49b8-aaba-01bff036a763",
   "metadata": {},
   "outputs": [
    {
     "data": {
      "text/html": [
       "<div>\n",
       "<style scoped>\n",
       "    .dataframe tbody tr th:only-of-type {\n",
       "        vertical-align: middle;\n",
       "    }\n",
       "\n",
       "    .dataframe tbody tr th {\n",
       "        vertical-align: top;\n",
       "    }\n",
       "\n",
       "    .dataframe thead th {\n",
       "        text-align: right;\n",
       "    }\n",
       "</style>\n",
       "<table border=\"1\" class=\"dataframe\">\n",
       "  <thead>\n",
       "    <tr style=\"text-align: right;\">\n",
       "      <th></th>\n",
       "      <th>localTradedAt</th>\n",
       "      <th>closePrice</th>\n",
       "    </tr>\n",
       "  </thead>\n",
       "  <tbody>\n",
       "    <tr>\n",
       "      <th>0</th>\n",
       "      <td>2024-09-20</td>\n",
       "      <td>748.25</td>\n",
       "    </tr>\n",
       "    <tr>\n",
       "      <th>1</th>\n",
       "      <td>2024-09-19</td>\n",
       "      <td>739.51</td>\n",
       "    </tr>\n",
       "    <tr>\n",
       "      <th>2</th>\n",
       "      <td>2024-09-13</td>\n",
       "      <td>733.20</td>\n",
       "    </tr>\n",
       "    <tr>\n",
       "      <th>3</th>\n",
       "      <td>2024-09-12</td>\n",
       "      <td>731.03</td>\n",
       "    </tr>\n",
       "    <tr>\n",
       "      <th>4</th>\n",
       "      <td>2024-09-11</td>\n",
       "      <td>709.42</td>\n",
       "    </tr>\n",
       "  </tbody>\n",
       "</table>\n",
       "</div>"
      ],
      "text/plain": [
       "  localTradedAt closePrice\n",
       "0    2024-09-20     748.25\n",
       "1    2024-09-19     739.51\n",
       "2    2024-09-13     733.20\n",
       "3    2024-09-12     731.03\n",
       "4    2024-09-11     709.42"
      ]
     },
     "execution_count": 86,
     "metadata": {},
     "output_type": "execute_result"
    }
   ],
   "source": [
    "cos('KOSDAQ',1,5)"
   ]
  },
  {
   "cell_type": "code",
   "execution_count": 35,
   "id": "b79669c9-4362-4921-a0e4-8f61d954eec8",
   "metadata": {},
   "outputs": [],
   "source": [
    "#원달러 환율 데이터 수집\n",
    "url3='https://m.stock.naver.com/front-api/marketIndex/prices?category=exchange&reutersCode=FX_USDKRW&page=2'"
   ]
  },
  {
   "cell_type": "code",
   "execution_count": 215,
   "id": "5bfb2dc7-aa24-4d7b-9d78-533499c9b4e7",
   "metadata": {},
   "outputs": [
    {
     "data": {
      "text/plain": [
       "(str,\n",
       " '{\"isSuccess\":true,\"detailCode\":\"\",\"message\":\"\",\"result\":[{\"localTradedAt\":\"2024-09-02\",\"closePrice\":')"
      ]
     },
     "execution_count": 215,
     "metadata": {},
     "output_type": "execute_result"
    }
   ],
   "source": [
    "type(response.text), response.text[:100]"
   ]
  },
  {
   "cell_type": "code",
   "execution_count": 217,
   "id": "b5a21992-98f6-4def-9821-5b3054815816",
   "metadata": {},
   "outputs": [],
   "source": [
    "def dollar(page=1):\n",
    "    url3='https://m.stock.naver.com/front-api/marketIndex/prices?category=exchange&reutersCode=FX_USDKRW&page=2'\n",
    "    response=requests.get(url3)\n",
    "    data=response.json()\n",
    "    return pd.DataFrame(data)[['result']]"
   ]
  },
  {
   "cell_type": "code",
   "execution_count": 219,
   "id": "f983e89e-0e0b-4f06-bb3b-f000fba807f8",
   "metadata": {
    "collapsed": true,
    "jupyter": {
     "outputs_hidden": true
    },
    "scrolled": true
   },
   "outputs": [
    {
     "data": {
      "text/html": [
       "<div>\n",
       "<style scoped>\n",
       "    .dataframe tbody tr th:only-of-type {\n",
       "        vertical-align: middle;\n",
       "    }\n",
       "\n",
       "    .dataframe tbody tr th {\n",
       "        vertical-align: top;\n",
       "    }\n",
       "\n",
       "    .dataframe thead th {\n",
       "        text-align: right;\n",
       "    }\n",
       "</style>\n",
       "<table border=\"1\" class=\"dataframe\">\n",
       "  <thead>\n",
       "    <tr style=\"text-align: right;\">\n",
       "      <th></th>\n",
       "      <th>result</th>\n",
       "    </tr>\n",
       "  </thead>\n",
       "  <tbody>\n",
       "    <tr>\n",
       "      <th>0</th>\n",
       "      <td>{'localTradedAt': '2024-09-02', 'closePrice': ...</td>\n",
       "    </tr>\n",
       "    <tr>\n",
       "      <th>1</th>\n",
       "      <td>{'localTradedAt': '2024-08-30', 'closePrice': ...</td>\n",
       "    </tr>\n",
       "    <tr>\n",
       "      <th>2</th>\n",
       "      <td>{'localTradedAt': '2024-08-29', 'closePrice': ...</td>\n",
       "    </tr>\n",
       "    <tr>\n",
       "      <th>3</th>\n",
       "      <td>{'localTradedAt': '2024-08-28', 'closePrice': ...</td>\n",
       "    </tr>\n",
       "    <tr>\n",
       "      <th>4</th>\n",
       "      <td>{'localTradedAt': '2024-08-27', 'closePrice': ...</td>\n",
       "    </tr>\n",
       "    <tr>\n",
       "      <th>5</th>\n",
       "      <td>{'localTradedAt': '2024-08-26', 'closePrice': ...</td>\n",
       "    </tr>\n",
       "    <tr>\n",
       "      <th>6</th>\n",
       "      <td>{'localTradedAt': '2024-08-23', 'closePrice': ...</td>\n",
       "    </tr>\n",
       "    <tr>\n",
       "      <th>7</th>\n",
       "      <td>{'localTradedAt': '2024-08-22', 'closePrice': ...</td>\n",
       "    </tr>\n",
       "    <tr>\n",
       "      <th>8</th>\n",
       "      <td>{'localTradedAt': '2024-08-21', 'closePrice': ...</td>\n",
       "    </tr>\n",
       "    <tr>\n",
       "      <th>9</th>\n",
       "      <td>{'localTradedAt': '2024-08-20', 'closePrice': ...</td>\n",
       "    </tr>\n",
       "  </tbody>\n",
       "</table>\n",
       "</div>"
      ],
      "text/plain": [
       "                                              result\n",
       "0  {'localTradedAt': '2024-09-02', 'closePrice': ...\n",
       "1  {'localTradedAt': '2024-08-30', 'closePrice': ...\n",
       "2  {'localTradedAt': '2024-08-29', 'closePrice': ...\n",
       "3  {'localTradedAt': '2024-08-28', 'closePrice': ...\n",
       "4  {'localTradedAt': '2024-08-27', 'closePrice': ...\n",
       "5  {'localTradedAt': '2024-08-26', 'closePrice': ...\n",
       "6  {'localTradedAt': '2024-08-23', 'closePrice': ...\n",
       "7  {'localTradedAt': '2024-08-22', 'closePrice': ...\n",
       "8  {'localTradedAt': '2024-08-21', 'closePrice': ...\n",
       "9  {'localTradedAt': '2024-08-20', 'closePrice': ..."
      ]
     },
     "execution_count": 219,
     "metadata": {},
     "output_type": "execute_result"
    }
   ],
   "source": [
    "dollar(page=1)"
   ]
  },
  {
   "cell_type": "markdown",
   "id": "2bf1a4eb-9498-4ea8-83ef-85becb5f46f8",
   "metadata": {},
   "source": [
    "#### 선생님 코드"
   ]
  },
  {
   "cell_type": "code",
   "execution_count": 9,
   "id": "a778f1bd-1887-4e6f-8eb2-9943e31fdeb5",
   "metadata": {},
   "outputs": [],
   "source": [
    "#위랑 형식이 비슷하겠거니 하고 page_size 넣어보기! \n",
    "page,page_size=1,60\n",
    "url3=f'https://m.stock.naver.com/front-api/marketIndex/\\\n",
    "prices?category=exchange&reutersCode=FX_USDKRW&page={page}&pageSize={page_size}'\n",
    "#url길이가 너무 길면 역슬레시(\\)를 끊어주는 부분에 넣어주면 됨. 대신 스페이스나 뭐가 더 들어가면 오류"
   ]
  },
  {
   "cell_type": "code",
   "execution_count": 11,
   "id": "e4fb6a5d-a6eb-4e2a-9134-1d74b93b254a",
   "metadata": {
    "scrolled": true
   },
   "outputs": [
    {
     "data": {
      "text/html": [
       "<div>\n",
       "<style scoped>\n",
       "    .dataframe tbody tr th:only-of-type {\n",
       "        vertical-align: middle;\n",
       "    }\n",
       "\n",
       "    .dataframe tbody tr th {\n",
       "        vertical-align: top;\n",
       "    }\n",
       "\n",
       "    .dataframe thead th {\n",
       "        text-align: right;\n",
       "    }\n",
       "</style>\n",
       "<table border=\"1\" class=\"dataframe\">\n",
       "  <thead>\n",
       "    <tr style=\"text-align: right;\">\n",
       "      <th></th>\n",
       "      <th>localTradedAt</th>\n",
       "      <th>closePrice</th>\n",
       "    </tr>\n",
       "  </thead>\n",
       "  <tbody>\n",
       "    <tr>\n",
       "      <th>58</th>\n",
       "      <td>2024-06-26</td>\n",
       "      <td>1,394.50</td>\n",
       "    </tr>\n",
       "    <tr>\n",
       "      <th>59</th>\n",
       "      <td>2024-06-25</td>\n",
       "      <td>1,392.00</td>\n",
       "    </tr>\n",
       "  </tbody>\n",
       "</table>\n",
       "</div>"
      ],
      "text/plain": [
       "   localTradedAt closePrice\n",
       "58    2024-06-26   1,394.50\n",
       "59    2024-06-25   1,392.00"
      ]
     },
     "execution_count": 11,
     "metadata": {},
     "output_type": "execute_result"
    }
   ],
   "source": [
    "#request(url)>response(JSON)\n",
    "response=requests.get(url3)\n",
    "#JSON>list,dict>DF\n",
    "data=response.json()['result']\n",
    "df=pd.DataFrame(data)[['localTradedAt','closePrice']]\n",
    "df.tail(2)"
   ]
  },
  {
   "cell_type": "code",
   "execution_count": 13,
   "id": "ea44085b-9b3a-4d5d-b2a5-04c60facd07c",
   "metadata": {},
   "outputs": [],
   "source": [
    "def exchange_rate(code='FX_USDKRW', page=1, page_size=60):\n",
    "    url = f'https://m.stock.naver.com/front-api/marketIndex/prices?\\\n",
    "category=exchange&reutersCode={code}&page={page}&pageSize={page_size}'\n",
    "    response = requests.get(url)\n",
    "    data = response.json()['result']\n",
    "    return pd.DataFrame(data)[['localTradedAt', 'closePrice']]"
   ]
  },
  {
   "cell_type": "code",
   "execution_count": 134,
   "id": "9565b2ed-f9dc-4e60-b77d-594a02aea91c",
   "metadata": {},
   "outputs": [
    {
     "data": {
      "text/html": [
       "<div>\n",
       "<style scoped>\n",
       "    .dataframe tbody tr th:only-of-type {\n",
       "        vertical-align: middle;\n",
       "    }\n",
       "\n",
       "    .dataframe tbody tr th {\n",
       "        vertical-align: top;\n",
       "    }\n",
       "\n",
       "    .dataframe thead th {\n",
       "        text-align: right;\n",
       "    }\n",
       "</style>\n",
       "<table border=\"1\" class=\"dataframe\">\n",
       "  <thead>\n",
       "    <tr style=\"text-align: right;\">\n",
       "      <th></th>\n",
       "      <th>localTradedAt</th>\n",
       "      <th>closePrice</th>\n",
       "    </tr>\n",
       "  </thead>\n",
       "  <tbody>\n",
       "    <tr>\n",
       "      <th>8</th>\n",
       "      <td>2024-09-05</td>\n",
       "      <td>1,335.00</td>\n",
       "    </tr>\n",
       "    <tr>\n",
       "      <th>9</th>\n",
       "      <td>2024-09-04</td>\n",
       "      <td>1,336.50</td>\n",
       "    </tr>\n",
       "  </tbody>\n",
       "</table>\n",
       "</div>"
      ],
      "text/plain": [
       "  localTradedAt closePrice\n",
       "8    2024-09-05   1,335.00\n",
       "9    2024-09-04   1,336.50"
      ]
     },
     "execution_count": 134,
     "metadata": {},
     "output_type": "execute_result"
    }
   ],
   "source": [
    "exchange_rate(page_size=10).tail(2)"
   ]
  },
  {
   "cell_type": "markdown",
   "id": "13e21944",
   "metadata": {
    "id": "13e21944"
   },
   "source": [
    "#### 6. 시각화"
   ]
  },
  {
   "cell_type": "code",
   "execution_count": 15,
   "id": "3dd29f18",
   "metadata": {},
   "outputs": [
    {
     "ename": "AttributeError",
     "evalue": "'float' object has no attribute 'replace'",
     "output_type": "error",
     "traceback": [
      "\u001b[1;31m---------------------------------------------------------------------------\u001b[0m",
      "\u001b[1;31mAttributeError\u001b[0m                            Traceback (most recent call last)",
      "Cell \u001b[1;32mIn[15], line 10\u001b[0m\n\u001b[0;32m      7\u001b[0m \u001b[38;5;66;03m#데이터 전처리\u001b[39;00m\n\u001b[0;32m      8\u001b[0m \u001b[38;5;66;03m#여기서 원래라면 object문자열 타입인데 데이터처리할땐 숫자형이 편하므로 float적용해주기\u001b[39;00m\n\u001b[0;32m      9\u001b[0m kp_df[\u001b[38;5;124m'\u001b[39m\u001b[38;5;124mclosePrice\u001b[39m\u001b[38;5;124m'\u001b[39m]\u001b[38;5;241m=\u001b[39mkp_df[\u001b[38;5;124m'\u001b[39m\u001b[38;5;124mclosePrice\u001b[39m\u001b[38;5;124m'\u001b[39m]\u001b[38;5;241m.\u001b[39mapply(\u001b[38;5;28;01mlambda\u001b[39;00m data: \u001b[38;5;28mfloat\u001b[39m(data\u001b[38;5;241m.\u001b[39mreplace(\u001b[38;5;124m'\u001b[39m\u001b[38;5;124m,\u001b[39m\u001b[38;5;124m'\u001b[39m,\u001b[38;5;124m'\u001b[39m\u001b[38;5;124m'\u001b[39m)))\n\u001b[1;32m---> 10\u001b[0m kd_df[\u001b[38;5;124m'\u001b[39m\u001b[38;5;124mclosePrice\u001b[39m\u001b[38;5;124m'\u001b[39m]\u001b[38;5;241m=\u001b[39mkp_df[\u001b[38;5;124m'\u001b[39m\u001b[38;5;124mclosePrice\u001b[39m\u001b[38;5;124m'\u001b[39m]\u001b[38;5;241m.\u001b[39mapply(\u001b[38;5;28;01mlambda\u001b[39;00m data: \u001b[38;5;28mfloat\u001b[39m(data\u001b[38;5;241m.\u001b[39mreplace(\u001b[38;5;124m'\u001b[39m\u001b[38;5;124m,\u001b[39m\u001b[38;5;124m'\u001b[39m,\u001b[38;5;124m'\u001b[39m\u001b[38;5;124m'\u001b[39m)))\n\u001b[0;32m     11\u001b[0m usd_df[\u001b[38;5;124m'\u001b[39m\u001b[38;5;124mclosePrice\u001b[39m\u001b[38;5;124m'\u001b[39m]\u001b[38;5;241m=\u001b[39mkp_df[\u001b[38;5;124m'\u001b[39m\u001b[38;5;124mclosePrice\u001b[39m\u001b[38;5;124m'\u001b[39m]\u001b[38;5;241m.\u001b[39mapply(\u001b[38;5;28;01mlambda\u001b[39;00m data: \u001b[38;5;28mfloat\u001b[39m(data\u001b[38;5;241m.\u001b[39mreplace(\u001b[38;5;124m'\u001b[39m\u001b[38;5;124m,\u001b[39m\u001b[38;5;124m'\u001b[39m,\u001b[38;5;124m'\u001b[39m\u001b[38;5;124m'\u001b[39m)))\n",
      "File \u001b[1;32m~\\anaconda3\\Lib\\site-packages\\pandas\\core\\series.py:4924\u001b[0m, in \u001b[0;36mSeries.apply\u001b[1;34m(self, func, convert_dtype, args, by_row, **kwargs)\u001b[0m\n\u001b[0;32m   4789\u001b[0m \u001b[38;5;28;01mdef\u001b[39;00m \u001b[38;5;21mapply\u001b[39m(\n\u001b[0;32m   4790\u001b[0m     \u001b[38;5;28mself\u001b[39m,\n\u001b[0;32m   4791\u001b[0m     func: AggFuncType,\n\u001b[1;32m   (...)\u001b[0m\n\u001b[0;32m   4796\u001b[0m     \u001b[38;5;241m*\u001b[39m\u001b[38;5;241m*\u001b[39mkwargs,\n\u001b[0;32m   4797\u001b[0m ) \u001b[38;5;241m-\u001b[39m\u001b[38;5;241m>\u001b[39m DataFrame \u001b[38;5;241m|\u001b[39m Series:\n\u001b[0;32m   4798\u001b[0m \u001b[38;5;250m    \u001b[39m\u001b[38;5;124;03m\"\"\"\u001b[39;00m\n\u001b[0;32m   4799\u001b[0m \u001b[38;5;124;03m    Invoke function on values of Series.\u001b[39;00m\n\u001b[0;32m   4800\u001b[0m \n\u001b[1;32m   (...)\u001b[0m\n\u001b[0;32m   4915\u001b[0m \u001b[38;5;124;03m    dtype: float64\u001b[39;00m\n\u001b[0;32m   4916\u001b[0m \u001b[38;5;124;03m    \"\"\"\u001b[39;00m\n\u001b[0;32m   4917\u001b[0m     \u001b[38;5;28;01mreturn\u001b[39;00m SeriesApply(\n\u001b[0;32m   4918\u001b[0m         \u001b[38;5;28mself\u001b[39m,\n\u001b[0;32m   4919\u001b[0m         func,\n\u001b[0;32m   4920\u001b[0m         convert_dtype\u001b[38;5;241m=\u001b[39mconvert_dtype,\n\u001b[0;32m   4921\u001b[0m         by_row\u001b[38;5;241m=\u001b[39mby_row,\n\u001b[0;32m   4922\u001b[0m         args\u001b[38;5;241m=\u001b[39margs,\n\u001b[0;32m   4923\u001b[0m         kwargs\u001b[38;5;241m=\u001b[39mkwargs,\n\u001b[1;32m-> 4924\u001b[0m     )\u001b[38;5;241m.\u001b[39mapply()\n",
      "File \u001b[1;32m~\\anaconda3\\Lib\\site-packages\\pandas\\core\\apply.py:1427\u001b[0m, in \u001b[0;36mSeriesApply.apply\u001b[1;34m(self)\u001b[0m\n\u001b[0;32m   1424\u001b[0m     \u001b[38;5;28;01mreturn\u001b[39;00m \u001b[38;5;28mself\u001b[39m\u001b[38;5;241m.\u001b[39mapply_compat()\n\u001b[0;32m   1426\u001b[0m \u001b[38;5;66;03m# self.func is Callable\u001b[39;00m\n\u001b[1;32m-> 1427\u001b[0m \u001b[38;5;28;01mreturn\u001b[39;00m \u001b[38;5;28mself\u001b[39m\u001b[38;5;241m.\u001b[39mapply_standard()\n",
      "File \u001b[1;32m~\\anaconda3\\Lib\\site-packages\\pandas\\core\\apply.py:1507\u001b[0m, in \u001b[0;36mSeriesApply.apply_standard\u001b[1;34m(self)\u001b[0m\n\u001b[0;32m   1501\u001b[0m \u001b[38;5;66;03m# row-wise access\u001b[39;00m\n\u001b[0;32m   1502\u001b[0m \u001b[38;5;66;03m# apply doesn't have a `na_action` keyword and for backward compat reasons\u001b[39;00m\n\u001b[0;32m   1503\u001b[0m \u001b[38;5;66;03m# we need to give `na_action=\"ignore\"` for categorical data.\u001b[39;00m\n\u001b[0;32m   1504\u001b[0m \u001b[38;5;66;03m# TODO: remove the `na_action=\"ignore\"` when that default has been changed in\u001b[39;00m\n\u001b[0;32m   1505\u001b[0m \u001b[38;5;66;03m#  Categorical (GH51645).\u001b[39;00m\n\u001b[0;32m   1506\u001b[0m action \u001b[38;5;241m=\u001b[39m \u001b[38;5;124m\"\u001b[39m\u001b[38;5;124mignore\u001b[39m\u001b[38;5;124m\"\u001b[39m \u001b[38;5;28;01mif\u001b[39;00m \u001b[38;5;28misinstance\u001b[39m(obj\u001b[38;5;241m.\u001b[39mdtype, CategoricalDtype) \u001b[38;5;28;01melse\u001b[39;00m \u001b[38;5;28;01mNone\u001b[39;00m\n\u001b[1;32m-> 1507\u001b[0m mapped \u001b[38;5;241m=\u001b[39m obj\u001b[38;5;241m.\u001b[39m_map_values(\n\u001b[0;32m   1508\u001b[0m     mapper\u001b[38;5;241m=\u001b[39mcurried, na_action\u001b[38;5;241m=\u001b[39maction, convert\u001b[38;5;241m=\u001b[39m\u001b[38;5;28mself\u001b[39m\u001b[38;5;241m.\u001b[39mconvert_dtype\n\u001b[0;32m   1509\u001b[0m )\n\u001b[0;32m   1511\u001b[0m \u001b[38;5;28;01mif\u001b[39;00m \u001b[38;5;28mlen\u001b[39m(mapped) \u001b[38;5;129;01mand\u001b[39;00m \u001b[38;5;28misinstance\u001b[39m(mapped[\u001b[38;5;241m0\u001b[39m], ABCSeries):\n\u001b[0;32m   1512\u001b[0m     \u001b[38;5;66;03m# GH#43986 Need to do list(mapped) in order to get treated as nested\u001b[39;00m\n\u001b[0;32m   1513\u001b[0m     \u001b[38;5;66;03m#  See also GH#25959 regarding EA support\u001b[39;00m\n\u001b[0;32m   1514\u001b[0m     \u001b[38;5;28;01mreturn\u001b[39;00m obj\u001b[38;5;241m.\u001b[39m_constructor_expanddim(\u001b[38;5;28mlist\u001b[39m(mapped), index\u001b[38;5;241m=\u001b[39mobj\u001b[38;5;241m.\u001b[39mindex)\n",
      "File \u001b[1;32m~\\anaconda3\\Lib\\site-packages\\pandas\\core\\base.py:921\u001b[0m, in \u001b[0;36mIndexOpsMixin._map_values\u001b[1;34m(self, mapper, na_action, convert)\u001b[0m\n\u001b[0;32m    918\u001b[0m \u001b[38;5;28;01mif\u001b[39;00m \u001b[38;5;28misinstance\u001b[39m(arr, ExtensionArray):\n\u001b[0;32m    919\u001b[0m     \u001b[38;5;28;01mreturn\u001b[39;00m arr\u001b[38;5;241m.\u001b[39mmap(mapper, na_action\u001b[38;5;241m=\u001b[39mna_action)\n\u001b[1;32m--> 921\u001b[0m \u001b[38;5;28;01mreturn\u001b[39;00m algorithms\u001b[38;5;241m.\u001b[39mmap_array(arr, mapper, na_action\u001b[38;5;241m=\u001b[39mna_action, convert\u001b[38;5;241m=\u001b[39mconvert)\n",
      "File \u001b[1;32m~\\anaconda3\\Lib\\site-packages\\pandas\\core\\algorithms.py:1743\u001b[0m, in \u001b[0;36mmap_array\u001b[1;34m(arr, mapper, na_action, convert)\u001b[0m\n\u001b[0;32m   1741\u001b[0m values \u001b[38;5;241m=\u001b[39m arr\u001b[38;5;241m.\u001b[39mastype(\u001b[38;5;28mobject\u001b[39m, copy\u001b[38;5;241m=\u001b[39m\u001b[38;5;28;01mFalse\u001b[39;00m)\n\u001b[0;32m   1742\u001b[0m \u001b[38;5;28;01mif\u001b[39;00m na_action \u001b[38;5;129;01mis\u001b[39;00m \u001b[38;5;28;01mNone\u001b[39;00m:\n\u001b[1;32m-> 1743\u001b[0m     \u001b[38;5;28;01mreturn\u001b[39;00m lib\u001b[38;5;241m.\u001b[39mmap_infer(values, mapper, convert\u001b[38;5;241m=\u001b[39mconvert)\n\u001b[0;32m   1744\u001b[0m \u001b[38;5;28;01melse\u001b[39;00m:\n\u001b[0;32m   1745\u001b[0m     \u001b[38;5;28;01mreturn\u001b[39;00m lib\u001b[38;5;241m.\u001b[39mmap_infer_mask(\n\u001b[0;32m   1746\u001b[0m         values, mapper, mask\u001b[38;5;241m=\u001b[39misna(values)\u001b[38;5;241m.\u001b[39mview(np\u001b[38;5;241m.\u001b[39muint8), convert\u001b[38;5;241m=\u001b[39mconvert\n\u001b[0;32m   1747\u001b[0m     )\n",
      "File \u001b[1;32mlib.pyx:2972\u001b[0m, in \u001b[0;36mpandas._libs.lib.map_infer\u001b[1;34m()\u001b[0m\n",
      "Cell \u001b[1;32mIn[15], line 10\u001b[0m, in \u001b[0;36m<lambda>\u001b[1;34m(data)\u001b[0m\n\u001b[0;32m      7\u001b[0m \u001b[38;5;66;03m#데이터 전처리\u001b[39;00m\n\u001b[0;32m      8\u001b[0m \u001b[38;5;66;03m#여기서 원래라면 object문자열 타입인데 데이터처리할땐 숫자형이 편하므로 float적용해주기\u001b[39;00m\n\u001b[0;32m      9\u001b[0m kp_df[\u001b[38;5;124m'\u001b[39m\u001b[38;5;124mclosePrice\u001b[39m\u001b[38;5;124m'\u001b[39m]\u001b[38;5;241m=\u001b[39mkp_df[\u001b[38;5;124m'\u001b[39m\u001b[38;5;124mclosePrice\u001b[39m\u001b[38;5;124m'\u001b[39m]\u001b[38;5;241m.\u001b[39mapply(\u001b[38;5;28;01mlambda\u001b[39;00m data: \u001b[38;5;28mfloat\u001b[39m(data\u001b[38;5;241m.\u001b[39mreplace(\u001b[38;5;124m'\u001b[39m\u001b[38;5;124m,\u001b[39m\u001b[38;5;124m'\u001b[39m,\u001b[38;5;124m'\u001b[39m\u001b[38;5;124m'\u001b[39m)))\n\u001b[1;32m---> 10\u001b[0m kd_df[\u001b[38;5;124m'\u001b[39m\u001b[38;5;124mclosePrice\u001b[39m\u001b[38;5;124m'\u001b[39m]\u001b[38;5;241m=\u001b[39mkp_df[\u001b[38;5;124m'\u001b[39m\u001b[38;5;124mclosePrice\u001b[39m\u001b[38;5;124m'\u001b[39m]\u001b[38;5;241m.\u001b[39mapply(\u001b[38;5;28;01mlambda\u001b[39;00m data: \u001b[38;5;28mfloat\u001b[39m(data\u001b[38;5;241m.\u001b[39mreplace(\u001b[38;5;124m'\u001b[39m\u001b[38;5;124m,\u001b[39m\u001b[38;5;124m'\u001b[39m,\u001b[38;5;124m'\u001b[39m\u001b[38;5;124m'\u001b[39m)))\n\u001b[0;32m     11\u001b[0m usd_df[\u001b[38;5;124m'\u001b[39m\u001b[38;5;124mclosePrice\u001b[39m\u001b[38;5;124m'\u001b[39m]\u001b[38;5;241m=\u001b[39mkp_df[\u001b[38;5;124m'\u001b[39m\u001b[38;5;124mclosePrice\u001b[39m\u001b[38;5;124m'\u001b[39m]\u001b[38;5;241m.\u001b[39mapply(\u001b[38;5;28;01mlambda\u001b[39;00m data: \u001b[38;5;28mfloat\u001b[39m(data\u001b[38;5;241m.\u001b[39mreplace(\u001b[38;5;124m'\u001b[39m\u001b[38;5;124m,\u001b[39m\u001b[38;5;124m'\u001b[39m,\u001b[38;5;124m'\u001b[39m\u001b[38;5;124m'\u001b[39m)))\n",
      "\u001b[1;31mAttributeError\u001b[0m: 'float' object has no attribute 'replace'"
     ]
    }
   ],
   "source": [
    "# 데이터 수집\n",
    "page_size = 30\n",
    "kp_df = stock_price('KOSPI', page_size=page_size)\n",
    "kd_df = stock_price('KOSDAQ', page_size=page_size)\n",
    "usd_df = exchange_rate(page_size=page_size)\n",
    "\n",
    "#데이터 전처리\n",
    "#여기서 원래라면 object문자열 타입인데 데이터처리할땐 숫자형이 편하므로 float적용해주기\n",
    "kp_df['closePrice']=kp_df['closePrice'].apply(lambda data: float(data.replace(',','')))\n",
    "kd_df['closePrice']=kp_df['closePrice'].apply(lambda data: float(data.replace(',','')))\n",
    "usd_df['closePrice']=kp_df['closePrice'].apply(lambda data: float(data.replace(',','')))"
   ]
  },
  {
   "cell_type": "code",
   "execution_count": 17,
   "id": "4495caa5-b216-4270-9256-fed5f3268176",
   "metadata": {},
   "outputs": [
    {
     "data": {
      "text/plain": [
       "0     2024-09-20\n",
       "5     2024-09-10\n",
       "10    2024-09-03\n",
       "15    2024-08-27\n",
       "20    2024-08-20\n",
       "25    2024-08-12\n",
       "Name: localTradedAt, dtype: object"
      ]
     },
     "execution_count": 17,
     "metadata": {},
     "output_type": "execute_result"
    }
   ],
   "source": [
    "kp_df['localTradedAt'][::5]"
   ]
  },
  {
   "cell_type": "code",
   "execution_count": 19,
   "id": "12b3cb1d-7aa2-4fa7-be8a-72bc401cfd28",
   "metadata": {},
   "outputs": [
    {
     "data": {
      "image/png": "[encoded data removed]",
      "text/plain": [
       "<Figure size 2000x300 with 1 Axes>"
      ]
     },
     "metadata": {},
     "output_type": "display_data"
    }
   ],
   "source": [
    "import matplotlib.pyplot as plt\n",
    "\n",
    "plt.figure(figsize=(20,3))\n",
    "plt.plot(kp_df['localTradedAt'],kp_df['closePrice'],label='kospi')\n",
    "plt.plot(kd_df['localTradedAt'], kd_df['closePrice'], label='kosdaq')\n",
    "plt.plot(usd_df['localTradedAt'], usd_df['closePrice'], label='usd')\n",
    "plt.xticks(kp_df['localTradedAt'][::5])\n",
    "plt.legend()\n",
    "plt.show()"
   ]
  },
  {
   "cell_type": "markdown",
   "id": "c1c52868",
   "metadata": {
    "id": "c1c52868"
   },
   "source": [
    "#### 7. 데이터 스케일링\n",
    "- min max scaling\n",
    "\n",
    "\n",
    "- $z = \\frac{x_i - min(x)}{max(x) - min(x)} (0 \\leqq z \\leqq 1)$\n",
    "\n",
    "\n",
    "- latex syntax : `https://jjycjnmath.tistory.com/117`"
   ]
  },
  {
   "cell_type": "code",
   "execution_count": 21,
   "id": "f7ba6e27",
   "metadata": {},
   "outputs": [],
   "source": [
    "from sklearn.preprocessing import minmax_scale"
   ]
  },
  {
   "cell_type": "code",
   "execution_count": 23,
   "id": "bcc5b99d-92cc-4506-a81e-e085da0ae5a9",
   "metadata": {},
   "outputs": [
    {
     "data": {
      "text/plain": [
       "array([0.48028821, 0.34704066, 0.31930005, 0.30221307, 0.        ,\n",
       "       0.0517756 , 0.11610911, 0.15908389, 0.31976325, 0.34704066,\n",
       "       0.77848688, 0.86273803, 0.82830674, 0.76639218, 0.90818322,\n",
       "       0.90519815, 0.95028307, 0.96922285, 1.        , 0.96634071,\n",
       "       0.94318065, 0.82856408, 0.94626866, 0.6748842 , 0.55651055,\n",
       "       0.54004117, 0.38630983, 0.22316006, 0.28327329, 0.04518785])"
      ]
     },
     "execution_count": 23,
     "metadata": {},
     "output_type": "execute_result"
    }
   ],
   "source": [
    "minmax_scale(kp_df['closePrice'])"
   ]
  },
  {
   "cell_type": "code",
   "execution_count": 25,
   "id": "f10ac969-0a83-4f6e-a925-01f41001e0e2",
   "metadata": {},
   "outputs": [
    {
     "ename": "ValueError",
     "evalue": "could not convert string to float: '1,329.70'",
     "output_type": "error",
     "traceback": [
      "\u001b[1;31m---------------------------------------------------------------------------\u001b[0m",
      "\u001b[1;31mValueError\u001b[0m                                Traceback (most recent call last)",
      "Cell \u001b[1;32mIn[25], line 4\u001b[0m\n\u001b[0;32m      2\u001b[0m plt\u001b[38;5;241m.\u001b[39mplot(kp_df[\u001b[38;5;124m'\u001b[39m\u001b[38;5;124mlocalTradedAt\u001b[39m\u001b[38;5;124m'\u001b[39m], minmax_scale(kp_df[\u001b[38;5;124m'\u001b[39m\u001b[38;5;124mclosePrice\u001b[39m\u001b[38;5;124m'\u001b[39m]), label\u001b[38;5;241m=\u001b[39m\u001b[38;5;124m'\u001b[39m\u001b[38;5;124mkospi\u001b[39m\u001b[38;5;124m'\u001b[39m)\n\u001b[0;32m      3\u001b[0m plt\u001b[38;5;241m.\u001b[39mplot(kd_df[\u001b[38;5;124m'\u001b[39m\u001b[38;5;124mlocalTradedAt\u001b[39m\u001b[38;5;124m'\u001b[39m], minmax_scale(kd_df[\u001b[38;5;124m'\u001b[39m\u001b[38;5;124mclosePrice\u001b[39m\u001b[38;5;124m'\u001b[39m]), label\u001b[38;5;241m=\u001b[39m\u001b[38;5;124m'\u001b[39m\u001b[38;5;124mkosdaq\u001b[39m\u001b[38;5;124m'\u001b[39m)\n\u001b[1;32m----> 4\u001b[0m plt\u001b[38;5;241m.\u001b[39mplot(usd_df[\u001b[38;5;124m'\u001b[39m\u001b[38;5;124mlocalTradedAt\u001b[39m\u001b[38;5;124m'\u001b[39m], minmax_scale(usd_df[\u001b[38;5;124m'\u001b[39m\u001b[38;5;124mclosePrice\u001b[39m\u001b[38;5;124m'\u001b[39m]), label\u001b[38;5;241m=\u001b[39m\u001b[38;5;124m'\u001b[39m\u001b[38;5;124musd\u001b[39m\u001b[38;5;124m'\u001b[39m)\n\u001b[0;32m      5\u001b[0m plt\u001b[38;5;241m.\u001b[39mxticks(kp_df[\u001b[38;5;124m'\u001b[39m\u001b[38;5;124mlocalTradedAt\u001b[39m\u001b[38;5;124m'\u001b[39m][::\u001b[38;5;241m5\u001b[39m])\n\u001b[0;32m      6\u001b[0m plt\u001b[38;5;241m.\u001b[39mlegend()\n",
      "File \u001b[1;32m~\\anaconda3\\Lib\\site-packages\\sklearn\\utils\\_param_validation.py:213\u001b[0m, in \u001b[0;36mvalidate_params.<locals>.decorator.<locals>.wrapper\u001b[1;34m(*args, **kwargs)\u001b[0m\n\u001b[0;32m    207\u001b[0m \u001b[38;5;28;01mtry\u001b[39;00m:\n\u001b[0;32m    208\u001b[0m     \u001b[38;5;28;01mwith\u001b[39;00m config_context(\n\u001b[0;32m    209\u001b[0m         skip_parameter_validation\u001b[38;5;241m=\u001b[39m(\n\u001b[0;32m    210\u001b[0m             prefer_skip_nested_validation \u001b[38;5;129;01mor\u001b[39;00m global_skip_validation\n\u001b[0;32m    211\u001b[0m         )\n\u001b[0;32m    212\u001b[0m     ):\n\u001b[1;32m--> 213\u001b[0m         \u001b[38;5;28;01mreturn\u001b[39;00m func(\u001b[38;5;241m*\u001b[39margs, \u001b[38;5;241m*\u001b[39m\u001b[38;5;241m*\u001b[39mkwargs)\n\u001b[0;32m    214\u001b[0m \u001b[38;5;28;01mexcept\u001b[39;00m InvalidParameterError \u001b[38;5;28;01mas\u001b[39;00m e:\n\u001b[0;32m    215\u001b[0m     \u001b[38;5;66;03m# When the function is just a wrapper around an estimator, we allow\u001b[39;00m\n\u001b[0;32m    216\u001b[0m     \u001b[38;5;66;03m# the function to delegate validation to the estimator, but we replace\u001b[39;00m\n\u001b[0;32m    217\u001b[0m     \u001b[38;5;66;03m# the name of the estimator by the name of the function in the error\u001b[39;00m\n\u001b[0;32m    218\u001b[0m     \u001b[38;5;66;03m# message to avoid confusion.\u001b[39;00m\n\u001b[0;32m    219\u001b[0m     msg \u001b[38;5;241m=\u001b[39m re\u001b[38;5;241m.\u001b[39msub(\n\u001b[0;32m    220\u001b[0m         \u001b[38;5;124mr\u001b[39m\u001b[38;5;124m\"\u001b[39m\u001b[38;5;124mparameter of \u001b[39m\u001b[38;5;124m\\\u001b[39m\u001b[38;5;124mw+ must be\u001b[39m\u001b[38;5;124m\"\u001b[39m,\n\u001b[0;32m    221\u001b[0m         \u001b[38;5;124mf\u001b[39m\u001b[38;5;124m\"\u001b[39m\u001b[38;5;124mparameter of \u001b[39m\u001b[38;5;132;01m{\u001b[39;00mfunc\u001b[38;5;241m.\u001b[39m\u001b[38;5;18m__qualname__\u001b[39m\u001b[38;5;132;01m}\u001b[39;00m\u001b[38;5;124m must be\u001b[39m\u001b[38;5;124m\"\u001b[39m,\n\u001b[0;32m    222\u001b[0m         \u001b[38;5;28mstr\u001b[39m(e),\n\u001b[0;32m    223\u001b[0m     )\n",
      "File \u001b[1;32m~\\anaconda3\\Lib\\site-packages\\sklearn\\preprocessing\\_data.py:674\u001b[0m, in \u001b[0;36mminmax_scale\u001b[1;34m(X, feature_range, axis, copy)\u001b[0m\n\u001b[0;32m    588\u001b[0m \u001b[38;5;250m\u001b[39m\u001b[38;5;124;03m\"\"\"Transform features by scaling each feature to a given range.\u001b[39;00m\n\u001b[0;32m    589\u001b[0m \n\u001b[0;32m    590\u001b[0m \u001b[38;5;124;03mThis estimator scales and translates each feature individually such\u001b[39;00m\n\u001b[1;32m   (...)\u001b[0m\n\u001b[0;32m    670\u001b[0m \u001b[38;5;124;03m       [0.  , 0.5 , 1.  ]])\u001b[39;00m\n\u001b[0;32m    671\u001b[0m \u001b[38;5;124;03m\"\"\"\u001b[39;00m\n\u001b[0;32m    672\u001b[0m \u001b[38;5;66;03m# Unlike the scaler object, this function allows 1d input.\u001b[39;00m\n\u001b[0;32m    673\u001b[0m \u001b[38;5;66;03m# If copy is required, it will be done inside the scaler object.\u001b[39;00m\n\u001b[1;32m--> 674\u001b[0m X \u001b[38;5;241m=\u001b[39m check_array(\n\u001b[0;32m    675\u001b[0m     X, copy\u001b[38;5;241m=\u001b[39m\u001b[38;5;28;01mFalse\u001b[39;00m, ensure_2d\u001b[38;5;241m=\u001b[39m\u001b[38;5;28;01mFalse\u001b[39;00m, dtype\u001b[38;5;241m=\u001b[39mFLOAT_DTYPES, force_all_finite\u001b[38;5;241m=\u001b[39m\u001b[38;5;124m\"\u001b[39m\u001b[38;5;124mallow-nan\u001b[39m\u001b[38;5;124m\"\u001b[39m\n\u001b[0;32m    676\u001b[0m )\n\u001b[0;32m    677\u001b[0m original_ndim \u001b[38;5;241m=\u001b[39m X\u001b[38;5;241m.\u001b[39mndim\n\u001b[0;32m    679\u001b[0m \u001b[38;5;28;01mif\u001b[39;00m original_ndim \u001b[38;5;241m==\u001b[39m \u001b[38;5;241m1\u001b[39m:\n",
      "File \u001b[1;32m~\\anaconda3\\Lib\\site-packages\\sklearn\\utils\\validation.py:997\u001b[0m, in \u001b[0;36mcheck_array\u001b[1;34m(array, accept_sparse, accept_large_sparse, dtype, order, copy, force_all_finite, ensure_2d, allow_nd, ensure_min_samples, ensure_min_features, estimator, input_name)\u001b[0m\n\u001b[0;32m    995\u001b[0m         array \u001b[38;5;241m=\u001b[39m xp\u001b[38;5;241m.\u001b[39mastype(array, dtype, copy\u001b[38;5;241m=\u001b[39m\u001b[38;5;28;01mFalse\u001b[39;00m)\n\u001b[0;32m    996\u001b[0m     \u001b[38;5;28;01melse\u001b[39;00m:\n\u001b[1;32m--> 997\u001b[0m         array \u001b[38;5;241m=\u001b[39m _asarray_with_order(array, order\u001b[38;5;241m=\u001b[39morder, dtype\u001b[38;5;241m=\u001b[39mdtype, xp\u001b[38;5;241m=\u001b[39mxp)\n\u001b[0;32m    998\u001b[0m \u001b[38;5;28;01mexcept\u001b[39;00m ComplexWarning \u001b[38;5;28;01mas\u001b[39;00m complex_warning:\n\u001b[0;32m    999\u001b[0m     \u001b[38;5;28;01mraise\u001b[39;00m \u001b[38;5;167;01mValueError\u001b[39;00m(\n\u001b[0;32m   1000\u001b[0m         \u001b[38;5;124m\"\u001b[39m\u001b[38;5;124mComplex data not supported\u001b[39m\u001b[38;5;130;01m\\n\u001b[39;00m\u001b[38;5;132;01m{}\u001b[39;00m\u001b[38;5;130;01m\\n\u001b[39;00m\u001b[38;5;124m\"\u001b[39m\u001b[38;5;241m.\u001b[39mformat(array)\n\u001b[0;32m   1001\u001b[0m     ) \u001b[38;5;28;01mfrom\u001b[39;00m \u001b[38;5;21;01mcomplex_warning\u001b[39;00m\n",
      "File \u001b[1;32m~\\anaconda3\\Lib\\site-packages\\sklearn\\utils\\_array_api.py:521\u001b[0m, in \u001b[0;36m_asarray_with_order\u001b[1;34m(array, dtype, order, copy, xp)\u001b[0m\n\u001b[0;32m    519\u001b[0m     array \u001b[38;5;241m=\u001b[39m numpy\u001b[38;5;241m.\u001b[39marray(array, order\u001b[38;5;241m=\u001b[39morder, dtype\u001b[38;5;241m=\u001b[39mdtype)\n\u001b[0;32m    520\u001b[0m \u001b[38;5;28;01melse\u001b[39;00m:\n\u001b[1;32m--> 521\u001b[0m     array \u001b[38;5;241m=\u001b[39m numpy\u001b[38;5;241m.\u001b[39masarray(array, order\u001b[38;5;241m=\u001b[39morder, dtype\u001b[38;5;241m=\u001b[39mdtype)\n\u001b[0;32m    523\u001b[0m \u001b[38;5;66;03m# At this point array is a NumPy ndarray. We convert it to an array\u001b[39;00m\n\u001b[0;32m    524\u001b[0m \u001b[38;5;66;03m# container that is consistent with the input's namespace.\u001b[39;00m\n\u001b[0;32m    525\u001b[0m \u001b[38;5;28;01mreturn\u001b[39;00m xp\u001b[38;5;241m.\u001b[39masarray(array)\n",
      "File \u001b[1;32m~\\anaconda3\\Lib\\site-packages\\pandas\\core\\series.py:1031\u001b[0m, in \u001b[0;36mSeries.__array__\u001b[1;34m(self, dtype, copy)\u001b[0m\n\u001b[0;32m    981\u001b[0m \u001b[38;5;250m\u001b[39m\u001b[38;5;124;03m\"\"\"\u001b[39;00m\n\u001b[0;32m    982\u001b[0m \u001b[38;5;124;03mReturn the values as a NumPy array.\u001b[39;00m\n\u001b[0;32m    983\u001b[0m \n\u001b[1;32m   (...)\u001b[0m\n\u001b[0;32m   1028\u001b[0m \u001b[38;5;124;03m      dtype='datetime64[ns]')\u001b[39;00m\n\u001b[0;32m   1029\u001b[0m \u001b[38;5;124;03m\"\"\"\u001b[39;00m\n\u001b[0;32m   1030\u001b[0m values \u001b[38;5;241m=\u001b[39m \u001b[38;5;28mself\u001b[39m\u001b[38;5;241m.\u001b[39m_values\n\u001b[1;32m-> 1031\u001b[0m arr \u001b[38;5;241m=\u001b[39m np\u001b[38;5;241m.\u001b[39masarray(values, dtype\u001b[38;5;241m=\u001b[39mdtype)\n\u001b[0;32m   1032\u001b[0m \u001b[38;5;28;01mif\u001b[39;00m using_copy_on_write() \u001b[38;5;129;01mand\u001b[39;00m astype_is_view(values\u001b[38;5;241m.\u001b[39mdtype, arr\u001b[38;5;241m.\u001b[39mdtype):\n\u001b[0;32m   1033\u001b[0m     arr \u001b[38;5;241m=\u001b[39m arr\u001b[38;5;241m.\u001b[39mview()\n",
      "\u001b[1;31mValueError\u001b[0m: could not convert string to float: '1,329.70'"
     ]
    },
    {
     "data": {
      "image/png": "[encoded data removed]",
      "text/plain": [
       "<Figure size 2000x300 with 1 Axes>"
      ]
     },
     "metadata": {},
     "output_type": "display_data"
    }
   ],
   "source": [
    "plt.figure(figsize=(20, 3))\n",
    "plt.plot(kp_df['localTradedAt'], minmax_scale(kp_df['closePrice']), label='kospi')\n",
    "plt.plot(kd_df['localTradedAt'], minmax_scale(kd_df['closePrice']), label='kosdaq')\n",
    "plt.plot(usd_df['localTradedAt'], minmax_scale(usd_df['closePrice']), label='usd')\n",
    "plt.xticks(kp_df['localTradedAt'][::5])\n",
    "plt.legend()\n",
    "plt.show()"
   ]
  },
  {
   "cell_type": "code",
   "execution_count": null,
   "id": "43e6dadd-7f2c-4890-8180-e2b9ce5bbafd",
   "metadata": {},
   "outputs": [],
   "source": []
  },
  {
   "cell_type": "markdown",
   "id": "3d862521",
   "metadata": {
    "id": "3d862521"
   },
   "source": [
    "#### 8. 상관관계 분석\n",
    "- 피어슨 상관계수(Pearson Correlation Coefficient)\n",
    "- 두 데이터 집합의 상관도를 분석할때 사용되는 지표\n",
    "- 상관계수의 해석\n",
    "    - -1에 가까울수록 서로 반대방향으로 움직임\n",
    "    - 1에 가까울수록 서로 같은방향으로 움직임\n",
    "    - 0에 가까울수록 두 데이터는 관계가 없음"
   ]
  },
  {
   "cell_type": "code",
   "execution_count": null,
   "id": "4e51967a",
   "metadata": {},
   "outputs": [],
   "source": []
  }
 ],
 "metadata": {
  "colab": {
   "name": "01_requests_naver_stock.ipynb",
   "provenance": []
  },
  "kernelspec": {
   "display_name": "Python 3 (ipykernel)",
   "language": "python",
   "name": "python3"
  },
  "language_info": {
   "codemirror_mode": {
    "name": "ipython",
    "version": 3
   },
   "file_extension": ".py",
   "mimetype": "text/x-python",
   "name": "python",
   "nbconvert_exporter": "python",
   "pygments_lexer": "ipython3",
   "version": "3.12.4"
  },
  "toc": {
   "base_numbering": 1,
   "nav_menu": {},
   "number_sections": false,
   "sideBar": true,
   "skip_h1_title": false,
   "title_cell": "Table of Contents",
   "title_sidebar": "Contents",
   "toc_cell": false,
   "toc_position": {},
   "toc_section_display": true,
   "toc_window_display": false
  }
 },
 "nbformat": 4,
 "nbformat_minor": 5
}
