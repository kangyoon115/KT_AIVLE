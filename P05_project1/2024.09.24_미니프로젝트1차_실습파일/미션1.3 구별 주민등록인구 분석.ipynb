{
 "cells": [
  {
   "cell_type": "markdown",
   "id": "4a810497-272c-4311-80b8-70722a19893e",
   "metadata": {},
   "source": [
    "# AIVLE스쿨 1차 미니프로젝트: 서울시 생활정보 기반 대중교통 수요 분석"
   ]
  },
  {
   "cell_type": "markdown",
   "id": "8b5639fa-945d-47aa-b1d0-ddd1971a9c9b",
   "metadata": {},
   "source": [
    "<img src = \"https://github.com/Jangrae/img/blob/master/park.png?raw=true\" width=800, align=\"left\"/>"
   ]
  },
  {
   "cell_type": "markdown",
   "id": "b06fdabb-04ac-44a0-9cf6-3d070a3efd77",
   "metadata": {},
   "source": [
    "- 본 과정에서는 실제 사례와 데이터를 기반으로 문제를 해결하는 전체 과정을 자기 주도형 실습으로 진행해볼 예정입니다.\n",
    "- 앞선 교육과정을 정리하는 마음과 지금까지 배운 내용을 바탕으로 문제 해결을 해볼게요!\n",
    "- 미니 프로젝트를 통한 문제 해결 과정 'A에서 Z까지', 지금부터 시작합니다!"
   ]
  },
  {
   "cell_type": "markdown",
   "id": "f1585f32-58d9-472d-bdaa-80995f8b6e5d",
   "metadata": {},
   "source": [
    "# [미션 3] 구별 주민등록인구 데이터 분석"
   ]
  },
  {
   "cell_type": "markdown",
   "id": "b46be86d-349e-4323-888b-0ffe1769b2c9",
   "metadata": {
    "id": "gklxNfgNpkls"
   },
   "source": [
    "### 로컬 수행(Anaconda)\n",
    "- project 폴더에 필요한 파일들을 넣고, 본 파일을 열었다면, 별도 경로 지정이 필요하지 않습니다."
   ]
  },
  {
   "cell_type": "code",
   "execution_count": null,
   "id": "c5a0c109-2cb1-4ac4-b859-6a700be1a556",
   "metadata": {
    "id": "PNI6X2yxpkls",
    "tags": []
   },
   "outputs": [],
   "source": [
    "# 기본 경로\n",
    "path = ''"
   ]
  },
  {
   "cell_type": "markdown",
   "id": "dc2e297b-aa56-4d61-908b-3766e3ca070d",
   "metadata": {
    "id": "7rWT4biQpkls"
   },
   "source": [
    "### 구글 콜랩 수행\n",
    "\n",
    "- 구글 콜랩을 사용중이면 구글 드라이브를 연결합니다."
   ]
  },
  {
   "cell_type": "code",
   "execution_count": 8,
   "id": "1b5b180e-c4e3-490a-89f5-1b44aaaff132",
   "metadata": {
    "id": "CLasRk8Spklt",
    "tags": []
   },
   "outputs": [],
   "source": [
    "# 구글 드라이브 연결, 패스 지정\n",
    "import sys\n",
    "if 'google.colab' in sys.modules:\n",
    "    from google.colab import drive\n",
    "    drive.mount('/content/drive')\n",
    "    path = '/content/drive/MyDrive/project/'"
   ]
  },
  {
   "cell_type": "markdown",
   "id": "3775dd8d-eaba-4e1f-ad62-cf14240499a2",
   "metadata": {},
   "source": [
    "### 한글 폰트 표시를 위해 설치합니다."
   ]
  },
  {
   "cell_type": "code",
   "execution_count": 10,
   "id": "63133cd6-56ec-4f6c-934a-8b52b974e0af",
   "metadata": {},
   "outputs": [],
   "source": [
    "# 한글 표시를 위한 라이브러리 설치\n",
    "!pip install koreanize_matplotlib -q"
   ]
  },
  {
   "cell_type": "markdown",
   "id": "62c7fbc0-c65b-46b1-bb14-fc6fe0545098",
   "metadata": {},
   "source": [
    "### 필요한 라이브러리를 불러옵니다."
   ]
  },
  {
   "cell_type": "code",
   "execution_count": 11,
   "id": "0e47ca64-2be7-4743-940c-2faa5e939790",
   "metadata": {
    "tags": []
   },
   "outputs": [],
   "source": [
    "# 라이브러리 불러오기\n",
    "import numpy as np\n",
    "import pandas as pd\n",
    "import matplotlib.pyplot as plt\n",
    "import koreanize_matplotlib\n",
    "import warnings\n",
    "\n",
    "warnings.filterwarnings(action='ignore')\n",
    "%config InlineBackend.figure_format='retina'"
   ]
  },
  {
   "cell_type": "markdown",
   "id": "79188c18-2e8e-4f3f-a867-0bc18fda0ee4",
   "metadata": {},
   "source": [
    "### 기본 데이터: 1.3 seoul_people_202407.csv\n",
    "- 서울시 주민 등록 데이터\n",
    "- 세대수, 한국인, 외국인, 고령인구수 등에 대한 정보"
   ]
  },
  {
   "cell_type": "markdown",
   "id": "f8eba99a-ee2c-4f5d-ae4c-f8f54d284ab7",
   "metadata": {},
   "source": [
    "# 1. 데이터 불러오기\n",
    "\n",
    "- 분석 대상 데이터를 불러와 데이터프레임으로 선언합니다."
   ]
  },
  {
   "cell_type": "markdown",
   "id": "cecac9ef-189b-4798-a837-e8affb84381f",
   "metadata": {
    "jp-MarkdownHeadingCollapsed": true
   },
   "source": [
    "### [참고] 데이터 프레임을 불러오고 변수로 저장(CSV 기준으로 진행)\n",
    "\n",
    "- csv: pd.read_csv('파일이름.csv')\n",
    "- txt: pd.read_csv('파일이름.csv', sep='구분자')\n",
    "- xlsx: pd.read_excel('파일이름.xlsx')\n",
    "- pickle: pd.read_pickle('파일이름.pkl')"
   ]
  },
  {
   "cell_type": "markdown",
   "id": "4414c421-c217-4b2a-984e-df4fa7d2573a",
   "metadata": {},
   "source": [
    "## [실습1] 데이터 불러오기\n",
    "\n",
    "- 대상 파일: 1.3 seoul_people_202407.csv\n",
    "- 불러온 데이터는 seoul_people 데이터프레임으로 선언하세요.\n",
    "- 데이터 불러올 때 참고할 사항 \n",
    "    - 구분자(sep)는 '\\t' 입니다\n",
    "    - CP949 인코더를 사용해 주세요"
   ]
  },
  {
   "cell_type": "code",
   "execution_count": 12,
   "id": "saving-slope",
   "metadata": {
    "tags": []
   },
   "outputs": [
    {
     "data": {
      "text/html": [
       "<div>\n",
       "<style scoped>\n",
       "    .dataframe tbody tr th:only-of-type {\n",
       "        vertical-align: middle;\n",
       "    }\n",
       "\n",
       "    .dataframe tbody tr th {\n",
       "        vertical-align: top;\n",
       "    }\n",
       "\n",
       "    .dataframe thead th {\n",
       "        text-align: right;\n",
       "    }\n",
       "</style>\n",
       "<table border=\"1\" class=\"dataframe\">\n",
       "  <thead>\n",
       "    <tr style=\"text-align: right;\">\n",
       "      <th></th>\n",
       "      <th>동별(1)</th>\n",
       "      <th>동별(2)</th>\n",
       "      <th>2024. 07</th>\n",
       "      <th>2024. 07.1</th>\n",
       "      <th>2024. 07.2</th>\n",
       "      <th>2024. 07.3</th>\n",
       "      <th>2024. 07.4</th>\n",
       "      <th>2024. 07.5</th>\n",
       "      <th>2024. 07.6</th>\n",
       "      <th>2024. 07.7</th>\n",
       "      <th>2024. 07.8</th>\n",
       "      <th>2024. 07.9</th>\n",
       "    </tr>\n",
       "  </thead>\n",
       "  <tbody>\n",
       "    <tr>\n",
       "      <th>0</th>\n",
       "      <td>동별(1)</td>\n",
       "      <td>동별(2)</td>\n",
       "      <td>세대 (세대)</td>\n",
       "      <td>합계 (명)</td>\n",
       "      <td>합계 (명)</td>\n",
       "      <td>합계 (명)</td>\n",
       "      <td>한국인 (명)</td>\n",
       "      <td>한국인 (명)</td>\n",
       "      <td>한국인 (명)</td>\n",
       "      <td>외국인 (명)</td>\n",
       "      <td>외국인 (명)</td>\n",
       "      <td>외국인 (명)</td>\n",
       "    </tr>\n",
       "    <tr>\n",
       "      <th>1</th>\n",
       "      <td>동별(1)</td>\n",
       "      <td>동별(2)</td>\n",
       "      <td>소계</td>\n",
       "      <td>소계</td>\n",
       "      <td>남자</td>\n",
       "      <td>여자</td>\n",
       "      <td>소계</td>\n",
       "      <td>남자</td>\n",
       "      <td>여자</td>\n",
       "      <td>소계</td>\n",
       "      <td>남자</td>\n",
       "      <td>여자</td>\n",
       "    </tr>\n",
       "    <tr>\n",
       "      <th>2</th>\n",
       "      <td>합계</td>\n",
       "      <td>소계</td>\n",
       "      <td>4486857</td>\n",
       "      <td>9613267</td>\n",
       "      <td>4631025</td>\n",
       "      <td>4982242</td>\n",
       "      <td>9360400</td>\n",
       "      <td>4521316</td>\n",
       "      <td>4839084</td>\n",
       "      <td>252867</td>\n",
       "      <td>109709</td>\n",
       "      <td>143158</td>\n",
       "    </tr>\n",
       "    <tr>\n",
       "      <th>3</th>\n",
       "      <td>합계</td>\n",
       "      <td>종로구</td>\n",
       "      <td>72429</td>\n",
       "      <td>150044</td>\n",
       "      <td>71654</td>\n",
       "      <td>78390</td>\n",
       "      <td>139093</td>\n",
       "      <td>66956</td>\n",
       "      <td>72137</td>\n",
       "      <td>10951</td>\n",
       "      <td>4698</td>\n",
       "      <td>6253</td>\n",
       "    </tr>\n",
       "    <tr>\n",
       "      <th>4</th>\n",
       "      <td>합계</td>\n",
       "      <td>중구</td>\n",
       "      <td>65338</td>\n",
       "      <td>131757</td>\n",
       "      <td>63365</td>\n",
       "      <td>68392</td>\n",
       "      <td>121407</td>\n",
       "      <td>58546</td>\n",
       "      <td>62861</td>\n",
       "      <td>10350</td>\n",
       "      <td>4819</td>\n",
       "      <td>5531</td>\n",
       "    </tr>\n",
       "  </tbody>\n",
       "</table>\n",
       "</div>"
      ],
      "text/plain": [
       "   동별(1)  동별(2) 2024. 07 2024. 07.1 2024. 07.2 2024. 07.3 2024. 07.4  \\\n",
       "0  동별(1)  동별(2)  세대 (세대)     합계 (명)     합계 (명)     합계 (명)    한국인 (명)   \n",
       "1  동별(1)  동별(2)       소계         소계         남자         여자         소계   \n",
       "2     합계     소계  4486857    9613267    4631025    4982242    9360400   \n",
       "3     합계    종로구    72429     150044      71654      78390     139093   \n",
       "4     합계     중구    65338     131757      63365      68392     121407   \n",
       "\n",
       "  2024. 07.5 2024. 07.6 2024. 07.7 2024. 07.8 2024. 07.9  \n",
       "0    한국인 (명)    한국인 (명)    외국인 (명)    외국인 (명)    외국인 (명)  \n",
       "1         남자         여자         소계         남자         여자  \n",
       "2    4521316    4839084     252867     109709     143158  \n",
       "3      66956      72137      10951       4698       6253  \n",
       "4      58546      62861      10350       4819       5531  "
      ]
     },
     "execution_count": 12,
     "metadata": {},
     "output_type": "execute_result"
    }
   ],
   "source": [
    "# 데이터 불러오기\n",
    "seoul_people = pd.read_csv('1.3 seoul_people_202407.csv', sep='\\t', encoding='CP949')\n",
    "\n",
    "# 확인\n",
    "seoul_people.head()"
   ]
  },
  {
   "cell_type": "code",
   "execution_count": 21,
   "id": "4abec24a-92f4-4c4e-919b-1af67590fda8",
   "metadata": {},
   "outputs": [
    {
     "data": {
      "text/html": [
       "<div>\n",
       "<style scoped>\n",
       "    .dataframe tbody tr th:only-of-type {\n",
       "        vertical-align: middle;\n",
       "    }\n",
       "\n",
       "    .dataframe tbody tr th {\n",
       "        vertical-align: top;\n",
       "    }\n",
       "\n",
       "    .dataframe thead th {\n",
       "        text-align: right;\n",
       "    }\n",
       "</style>\n",
       "<table border=\"1\" class=\"dataframe\">\n",
       "  <thead>\n",
       "    <tr style=\"text-align: right;\">\n",
       "      <th></th>\n",
       "      <th>동별(1)</th>\n",
       "      <th>동별(2)</th>\n",
       "      <th>2024. 07</th>\n",
       "      <th>2024. 07.1</th>\n",
       "      <th>2024. 07.2</th>\n",
       "      <th>2024. 07.3</th>\n",
       "      <th>2024. 07.4</th>\n",
       "      <th>2024. 07.5</th>\n",
       "      <th>2024. 07.6</th>\n",
       "      <th>2024. 07.7</th>\n",
       "      <th>2024. 07.8</th>\n",
       "      <th>2024. 07.9</th>\n",
       "    </tr>\n",
       "  </thead>\n",
       "  <tbody>\n",
       "    <tr>\n",
       "      <th>23</th>\n",
       "      <td>합계</td>\n",
       "      <td>관악구</td>\n",
       "      <td>286403</td>\n",
       "      <td>497137</td>\n",
       "      <td>248571</td>\n",
       "      <td>248566</td>\n",
       "      <td>480627</td>\n",
       "      <td>242010</td>\n",
       "      <td>238617</td>\n",
       "      <td>16510</td>\n",
       "      <td>6561</td>\n",
       "      <td>9949</td>\n",
       "    </tr>\n",
       "    <tr>\n",
       "      <th>24</th>\n",
       "      <td>합계</td>\n",
       "      <td>서초구</td>\n",
       "      <td>170606</td>\n",
       "      <td>412147</td>\n",
       "      <td>196114</td>\n",
       "      <td>216033</td>\n",
       "      <td>407616</td>\n",
       "      <td>193937</td>\n",
       "      <td>213679</td>\n",
       "      <td>4531</td>\n",
       "      <td>2177</td>\n",
       "      <td>2354</td>\n",
       "    </tr>\n",
       "    <tr>\n",
       "      <th>25</th>\n",
       "      <td>합계</td>\n",
       "      <td>강남구</td>\n",
       "      <td>245344</td>\n",
       "      <td>562755</td>\n",
       "      <td>268993</td>\n",
       "      <td>293762</td>\n",
       "      <td>557151</td>\n",
       "      <td>266448</td>\n",
       "      <td>290703</td>\n",
       "      <td>5604</td>\n",
       "      <td>2545</td>\n",
       "      <td>3059</td>\n",
       "    </tr>\n",
       "    <tr>\n",
       "      <th>26</th>\n",
       "      <td>합계</td>\n",
       "      <td>송파구</td>\n",
       "      <td>287418</td>\n",
       "      <td>658360</td>\n",
       "      <td>315700</td>\n",
       "      <td>342660</td>\n",
       "      <td>652292</td>\n",
       "      <td>312916</td>\n",
       "      <td>339376</td>\n",
       "      <td>6068</td>\n",
       "      <td>2784</td>\n",
       "      <td>3284</td>\n",
       "    </tr>\n",
       "    <tr>\n",
       "      <th>27</th>\n",
       "      <td>합계</td>\n",
       "      <td>강동구</td>\n",
       "      <td>206631</td>\n",
       "      <td>467902</td>\n",
       "      <td>228197</td>\n",
       "      <td>239705</td>\n",
       "      <td>463550</td>\n",
       "      <td>226299</td>\n",
       "      <td>237251</td>\n",
       "      <td>4352</td>\n",
       "      <td>1898</td>\n",
       "      <td>2454</td>\n",
       "    </tr>\n",
       "  </tbody>\n",
       "</table>\n",
       "</div>"
      ],
      "text/plain": [
       "   동별(1) 동별(2) 2024. 07 2024. 07.1 2024. 07.2 2024. 07.3 2024. 07.4  \\\n",
       "23    합계   관악구   286403     497137     248571     248566     480627   \n",
       "24    합계   서초구   170606     412147     196114     216033     407616   \n",
       "25    합계   강남구   245344     562755     268993     293762     557151   \n",
       "26    합계   송파구   287418     658360     315700     342660     652292   \n",
       "27    합계   강동구   206631     467902     228197     239705     463550   \n",
       "\n",
       "   2024. 07.5 2024. 07.6 2024. 07.7 2024. 07.8 2024. 07.9  \n",
       "23     242010     238617      16510       6561       9949  \n",
       "24     193937     213679       4531       2177       2354  \n",
       "25     266448     290703       5604       2545       3059  \n",
       "26     312916     339376       6068       2784       3284  \n",
       "27     226299     237251       4352       1898       2454  "
      ]
     },
     "execution_count": 21,
     "metadata": {},
     "output_type": "execute_result"
    }
   ],
   "source": [
    "# tail() 메서드로 하위 데이터 확인\n",
    "seoul_people.tail()"
   ]
  },
  {
   "cell_type": "markdown",
   "id": "d09d26fd-e7a9-4523-a4f9-b92120bcc5ce",
   "metadata": {},
   "source": [
    "## [실습2] 제대로 불러오기\n",
    "\n",
    "- head(), tail() 메서드로 조회 결과를 볼 때, 세 번째 행부터 읽어와야 합니다.\n",
    "- header=2를 지정하여 다시 불러와 seoul_people 데이터프레임으로 선언하세요."
   ]
  },
  {
   "cell_type": "code",
   "execution_count": 27,
   "id": "a804362b-e942-4875-9b15-ed140ab261cd",
   "metadata": {},
   "outputs": [
    {
     "data": {
      "text/html": [
       "<div>\n",
       "<style scoped>\n",
       "    .dataframe tbody tr th:only-of-type {\n",
       "        vertical-align: middle;\n",
       "    }\n",
       "\n",
       "    .dataframe tbody tr th {\n",
       "        vertical-align: top;\n",
       "    }\n",
       "\n",
       "    .dataframe thead th {\n",
       "        text-align: right;\n",
       "    }\n",
       "</style>\n",
       "<table border=\"1\" class=\"dataframe\">\n",
       "  <thead>\n",
       "    <tr style=\"text-align: right;\">\n",
       "      <th></th>\n",
       "      <th>동별(1)</th>\n",
       "      <th>동별(2)</th>\n",
       "      <th>소계</th>\n",
       "      <th>소계.1</th>\n",
       "      <th>남자</th>\n",
       "      <th>여자</th>\n",
       "      <th>소계.2</th>\n",
       "      <th>남자.1</th>\n",
       "      <th>여자.1</th>\n",
       "      <th>소계.3</th>\n",
       "      <th>남자.2</th>\n",
       "      <th>여자.2</th>\n",
       "    </tr>\n",
       "  </thead>\n",
       "  <tbody>\n",
       "    <tr>\n",
       "      <th>0</th>\n",
       "      <td>합계</td>\n",
       "      <td>소계</td>\n",
       "      <td>4486857</td>\n",
       "      <td>9613267</td>\n",
       "      <td>4631025</td>\n",
       "      <td>4982242</td>\n",
       "      <td>9360400</td>\n",
       "      <td>4521316</td>\n",
       "      <td>4839084</td>\n",
       "      <td>252867</td>\n",
       "      <td>109709</td>\n",
       "      <td>143158</td>\n",
       "    </tr>\n",
       "    <tr>\n",
       "      <th>1</th>\n",
       "      <td>합계</td>\n",
       "      <td>종로구</td>\n",
       "      <td>72429</td>\n",
       "      <td>150044</td>\n",
       "      <td>71654</td>\n",
       "      <td>78390</td>\n",
       "      <td>139093</td>\n",
       "      <td>66956</td>\n",
       "      <td>72137</td>\n",
       "      <td>10951</td>\n",
       "      <td>4698</td>\n",
       "      <td>6253</td>\n",
       "    </tr>\n",
       "    <tr>\n",
       "      <th>2</th>\n",
       "      <td>합계</td>\n",
       "      <td>중구</td>\n",
       "      <td>65338</td>\n",
       "      <td>131757</td>\n",
       "      <td>63365</td>\n",
       "      <td>68392</td>\n",
       "      <td>121407</td>\n",
       "      <td>58546</td>\n",
       "      <td>62861</td>\n",
       "      <td>10350</td>\n",
       "      <td>4819</td>\n",
       "      <td>5531</td>\n",
       "    </tr>\n",
       "    <tr>\n",
       "      <th>3</th>\n",
       "      <td>합계</td>\n",
       "      <td>용산구</td>\n",
       "      <td>104057</td>\n",
       "      <td>218823</td>\n",
       "      <td>105480</td>\n",
       "      <td>113343</td>\n",
       "      <td>205603</td>\n",
       "      <td>98357</td>\n",
       "      <td>107246</td>\n",
       "      <td>13220</td>\n",
       "      <td>7123</td>\n",
       "      <td>6097</td>\n",
       "    </tr>\n",
       "    <tr>\n",
       "      <th>4</th>\n",
       "      <td>합계</td>\n",
       "      <td>성동구</td>\n",
       "      <td>133102</td>\n",
       "      <td>283334</td>\n",
       "      <td>136779</td>\n",
       "      <td>146555</td>\n",
       "      <td>276194</td>\n",
       "      <td>133758</td>\n",
       "      <td>142436</td>\n",
       "      <td>7140</td>\n",
       "      <td>3021</td>\n",
       "      <td>4119</td>\n",
       "    </tr>\n",
       "  </tbody>\n",
       "</table>\n",
       "</div>"
      ],
      "text/plain": [
       "  동별(1) 동별(2)       소계     소계.1       남자       여자     소계.2     남자.1     여자.1  \\\n",
       "0    합계    소계  4486857  9613267  4631025  4982242  9360400  4521316  4839084   \n",
       "1    합계   종로구    72429   150044    71654    78390   139093    66956    72137   \n",
       "2    합계    중구    65338   131757    63365    68392   121407    58546    62861   \n",
       "3    합계   용산구   104057   218823   105480   113343   205603    98357   107246   \n",
       "4    합계   성동구   133102   283334   136779   146555   276194   133758   142436   \n",
       "\n",
       "     소계.3    남자.2    여자.2  \n",
       "0  252867  109709  143158  \n",
       "1   10951    4698    6253  \n",
       "2   10350    4819    5531  \n",
       "3   13220    7123    6097  \n",
       "4    7140    3021    4119  "
      ]
     },
     "execution_count": 27,
     "metadata": {},
     "output_type": "execute_result"
    }
   ],
   "source": [
    "# 데이터 불러오기(세 번째 행부터)\n",
    "seoul_people =pd.read_csv('1.3 seoul_people_202407.csv', sep='\\t', encoding='CP949',header=2)\n",
    "\n",
    "# 확인\n",
    "seoul_people.head()"
   ]
  },
  {
   "cell_type": "markdown",
   "id": "90482d3a-cd54-401d-adde-7dc902d105aa",
   "metadata": {},
   "source": [
    "- seoul_people 데이터프레임이 '동별(2)', '남자', '여자', '소계.1' 열만 갖게 하세요."
   ]
  },
  {
   "cell_type": "code",
   "execution_count": 29,
   "id": "4ffa2d9d-a342-4a98-98c5-4dc099ec6777",
   "metadata": {},
   "outputs": [
    {
     "data": {
      "text/html": [
       "<div>\n",
       "<style scoped>\n",
       "    .dataframe tbody tr th:only-of-type {\n",
       "        vertical-align: middle;\n",
       "    }\n",
       "\n",
       "    .dataframe tbody tr th {\n",
       "        vertical-align: top;\n",
       "    }\n",
       "\n",
       "    .dataframe thead th {\n",
       "        text-align: right;\n",
       "    }\n",
       "</style>\n",
       "<table border=\"1\" class=\"dataframe\">\n",
       "  <thead>\n",
       "    <tr style=\"text-align: right;\">\n",
       "      <th></th>\n",
       "      <th>동별(2)</th>\n",
       "      <th>남자</th>\n",
       "      <th>여자</th>\n",
       "      <th>소계.1</th>\n",
       "    </tr>\n",
       "  </thead>\n",
       "  <tbody>\n",
       "    <tr>\n",
       "      <th>0</th>\n",
       "      <td>소계</td>\n",
       "      <td>4631025</td>\n",
       "      <td>4982242</td>\n",
       "      <td>9613267</td>\n",
       "    </tr>\n",
       "    <tr>\n",
       "      <th>1</th>\n",
       "      <td>종로구</td>\n",
       "      <td>71654</td>\n",
       "      <td>78390</td>\n",
       "      <td>150044</td>\n",
       "    </tr>\n",
       "  </tbody>\n",
       "</table>\n",
       "</div>"
      ],
      "text/plain": [
       "  동별(2)       남자       여자     소계.1\n",
       "0    소계  4631025  4982242  9613267\n",
       "1   종로구    71654    78390   150044"
      ]
     },
     "execution_count": 29,
     "metadata": {},
     "output_type": "execute_result"
    }
   ],
   "source": [
    "# '동별(2)','남자','여자','소계.1' 행만 갖게\n",
    "# df = df[['열1', '열2', '열3']] 형태의 구문 사용\n",
    "\n",
    "seoul_people=seoul_people[['동별(2)','남자','여자','소계.1']]\n",
    "# 확인\n",
    "seoul_people.head(2)"
   ]
  },
  {
   "cell_type": "markdown",
   "id": "d9ed0929-8f97-4cf2-8496-a85462ac80e6",
   "metadata": {},
   "source": [
    "- 소계인 첫 번째 행은 의미가 없으니 제거하고, 인덱스를 초기화하세요."
   ]
  },
  {
   "cell_type": "code",
   "execution_count": 31,
   "id": "f31ca5e8-df57-4d61-aabc-e198c2d4d06f",
   "metadata": {},
   "outputs": [
    {
     "data": {
      "text/html": [
       "<div>\n",
       "<style scoped>\n",
       "    .dataframe tbody tr th:only-of-type {\n",
       "        vertical-align: middle;\n",
       "    }\n",
       "\n",
       "    .dataframe tbody tr th {\n",
       "        vertical-align: top;\n",
       "    }\n",
       "\n",
       "    .dataframe thead th {\n",
       "        text-align: right;\n",
       "    }\n",
       "</style>\n",
       "<table border=\"1\" class=\"dataframe\">\n",
       "  <thead>\n",
       "    <tr style=\"text-align: right;\">\n",
       "      <th></th>\n",
       "      <th>동별(2)</th>\n",
       "      <th>남자</th>\n",
       "      <th>여자</th>\n",
       "      <th>소계.1</th>\n",
       "    </tr>\n",
       "  </thead>\n",
       "  <tbody>\n",
       "    <tr>\n",
       "      <th>0</th>\n",
       "      <td>종로구</td>\n",
       "      <td>71654</td>\n",
       "      <td>78390</td>\n",
       "      <td>150044</td>\n",
       "    </tr>\n",
       "    <tr>\n",
       "      <th>1</th>\n",
       "      <td>중구</td>\n",
       "      <td>63365</td>\n",
       "      <td>68392</td>\n",
       "      <td>131757</td>\n",
       "    </tr>\n",
       "    <tr>\n",
       "      <th>2</th>\n",
       "      <td>용산구</td>\n",
       "      <td>105480</td>\n",
       "      <td>113343</td>\n",
       "      <td>218823</td>\n",
       "    </tr>\n",
       "    <tr>\n",
       "      <th>3</th>\n",
       "      <td>성동구</td>\n",
       "      <td>136779</td>\n",
       "      <td>146555</td>\n",
       "      <td>283334</td>\n",
       "    </tr>\n",
       "    <tr>\n",
       "      <th>4</th>\n",
       "      <td>광진구</td>\n",
       "      <td>166541</td>\n",
       "      <td>183141</td>\n",
       "      <td>349682</td>\n",
       "    </tr>\n",
       "  </tbody>\n",
       "</table>\n",
       "</div>"
      ],
      "text/plain": [
       "  동별(2)      남자      여자    소계.1\n",
       "0   종로구   71654   78390  150044\n",
       "1    중구   63365   68392  131757\n",
       "2   용산구  105480  113343  218823\n",
       "3   성동구  136779  146555  283334\n",
       "4   광진구  166541  183141  349682"
      ]
     },
     "execution_count": 31,
     "metadata": {},
     "output_type": "execute_result"
    }
   ],
   "source": [
    "# 첫 번째 행 제거 + 인덱스 초기화\n",
    "# 참고: df.drop(인덱스) 형태 구문 사용 \n",
    "seoul_people=seoul_people.drop(0, axis=0).reset_index(drop=True)\n",
    "# 확인\n",
    "seoul_people.head()"
   ]
  },
  {
   "cell_type": "markdown",
   "id": "4dbaabb5-ebb6-4402-95e5-83ab916dbbd7",
   "metadata": {},
   "source": [
    "- 다음과 같이 seoul_people 데이터프레임의 열 이름을 변경하세요.\n",
    "    - '동별(2)' --> '자치구', '소계.1' --> '합계'"
   ]
  },
  {
   "cell_type": "code",
   "execution_count": 35,
   "id": "565a03ca-c398-4987-b1dc-9e3594d4808b",
   "metadata": {},
   "outputs": [
    {
     "data": {
      "text/html": [
       "<div>\n",
       "<style scoped>\n",
       "    .dataframe tbody tr th:only-of-type {\n",
       "        vertical-align: middle;\n",
       "    }\n",
       "\n",
       "    .dataframe tbody tr th {\n",
       "        vertical-align: top;\n",
       "    }\n",
       "\n",
       "    .dataframe thead th {\n",
       "        text-align: right;\n",
       "    }\n",
       "</style>\n",
       "<table border=\"1\" class=\"dataframe\">\n",
       "  <thead>\n",
       "    <tr style=\"text-align: right;\">\n",
       "      <th></th>\n",
       "      <th>자치구</th>\n",
       "      <th>남자</th>\n",
       "      <th>여자</th>\n",
       "      <th>합계</th>\n",
       "    </tr>\n",
       "  </thead>\n",
       "  <tbody>\n",
       "    <tr>\n",
       "      <th>0</th>\n",
       "      <td>종로구</td>\n",
       "      <td>71654</td>\n",
       "      <td>78390</td>\n",
       "      <td>150044</td>\n",
       "    </tr>\n",
       "    <tr>\n",
       "      <th>1</th>\n",
       "      <td>중구</td>\n",
       "      <td>63365</td>\n",
       "      <td>68392</td>\n",
       "      <td>131757</td>\n",
       "    </tr>\n",
       "    <tr>\n",
       "      <th>2</th>\n",
       "      <td>용산구</td>\n",
       "      <td>105480</td>\n",
       "      <td>113343</td>\n",
       "      <td>218823</td>\n",
       "    </tr>\n",
       "    <tr>\n",
       "      <th>3</th>\n",
       "      <td>성동구</td>\n",
       "      <td>136779</td>\n",
       "      <td>146555</td>\n",
       "      <td>283334</td>\n",
       "    </tr>\n",
       "    <tr>\n",
       "      <th>4</th>\n",
       "      <td>광진구</td>\n",
       "      <td>166541</td>\n",
       "      <td>183141</td>\n",
       "      <td>349682</td>\n",
       "    </tr>\n",
       "    <tr>\n",
       "      <th>5</th>\n",
       "      <td>동대문구</td>\n",
       "      <td>173830</td>\n",
       "      <td>185713</td>\n",
       "      <td>359543</td>\n",
       "    </tr>\n",
       "    <tr>\n",
       "      <th>6</th>\n",
       "      <td>중랑구</td>\n",
       "      <td>188685</td>\n",
       "      <td>197925</td>\n",
       "      <td>386610</td>\n",
       "    </tr>\n",
       "    <tr>\n",
       "      <th>7</th>\n",
       "      <td>성북구</td>\n",
       "      <td>207616</td>\n",
       "      <td>228447</td>\n",
       "      <td>436063</td>\n",
       "    </tr>\n",
       "    <tr>\n",
       "      <th>8</th>\n",
       "      <td>강북구</td>\n",
       "      <td>139260</td>\n",
       "      <td>150567</td>\n",
       "      <td>289827</td>\n",
       "    </tr>\n",
       "    <tr>\n",
       "      <th>9</th>\n",
       "      <td>도봉구</td>\n",
       "      <td>148622</td>\n",
       "      <td>159162</td>\n",
       "      <td>307784</td>\n",
       "    </tr>\n",
       "    <tr>\n",
       "      <th>10</th>\n",
       "      <td>노원구</td>\n",
       "      <td>239118</td>\n",
       "      <td>260343</td>\n",
       "      <td>499461</td>\n",
       "    </tr>\n",
       "    <tr>\n",
       "      <th>11</th>\n",
       "      <td>은평구</td>\n",
       "      <td>221603</td>\n",
       "      <td>246686</td>\n",
       "      <td>468289</td>\n",
       "    </tr>\n",
       "    <tr>\n",
       "      <th>12</th>\n",
       "      <td>서대문구</td>\n",
       "      <td>148914</td>\n",
       "      <td>170489</td>\n",
       "      <td>319403</td>\n",
       "    </tr>\n",
       "    <tr>\n",
       "      <th>13</th>\n",
       "      <td>마포구</td>\n",
       "      <td>173001</td>\n",
       "      <td>200763</td>\n",
       "      <td>373764</td>\n",
       "    </tr>\n",
       "    <tr>\n",
       "      <th>14</th>\n",
       "      <td>양천구</td>\n",
       "      <td>212458</td>\n",
       "      <td>223849</td>\n",
       "      <td>436307</td>\n",
       "    </tr>\n",
       "    <tr>\n",
       "      <th>15</th>\n",
       "      <td>강서구</td>\n",
       "      <td>270025</td>\n",
       "      <td>294460</td>\n",
       "      <td>564485</td>\n",
       "    </tr>\n",
       "    <tr>\n",
       "      <th>16</th>\n",
       "      <td>구로구</td>\n",
       "      <td>203142</td>\n",
       "      <td>209735</td>\n",
       "      <td>412877</td>\n",
       "    </tr>\n",
       "    <tr>\n",
       "      <th>17</th>\n",
       "      <td>금천구</td>\n",
       "      <td>121008</td>\n",
       "      <td>119081</td>\n",
       "      <td>240089</td>\n",
       "    </tr>\n",
       "    <tr>\n",
       "      <th>18</th>\n",
       "      <td>영등포구</td>\n",
       "      <td>195211</td>\n",
       "      <td>202610</td>\n",
       "      <td>397821</td>\n",
       "    </tr>\n",
       "    <tr>\n",
       "      <th>19</th>\n",
       "      <td>동작구</td>\n",
       "      <td>187138</td>\n",
       "      <td>201865</td>\n",
       "      <td>389003</td>\n",
       "    </tr>\n",
       "    <tr>\n",
       "      <th>20</th>\n",
       "      <td>관악구</td>\n",
       "      <td>248571</td>\n",
       "      <td>248566</td>\n",
       "      <td>497137</td>\n",
       "    </tr>\n",
       "    <tr>\n",
       "      <th>21</th>\n",
       "      <td>서초구</td>\n",
       "      <td>196114</td>\n",
       "      <td>216033</td>\n",
       "      <td>412147</td>\n",
       "    </tr>\n",
       "    <tr>\n",
       "      <th>22</th>\n",
       "      <td>강남구</td>\n",
       "      <td>268993</td>\n",
       "      <td>293762</td>\n",
       "      <td>562755</td>\n",
       "    </tr>\n",
       "    <tr>\n",
       "      <th>23</th>\n",
       "      <td>송파구</td>\n",
       "      <td>315700</td>\n",
       "      <td>342660</td>\n",
       "      <td>658360</td>\n",
       "    </tr>\n",
       "    <tr>\n",
       "      <th>24</th>\n",
       "      <td>강동구</td>\n",
       "      <td>228197</td>\n",
       "      <td>239705</td>\n",
       "      <td>467902</td>\n",
       "    </tr>\n",
       "  </tbody>\n",
       "</table>\n",
       "</div>"
      ],
      "text/plain": [
       "     자치구      남자      여자      합계\n",
       "0    종로구   71654   78390  150044\n",
       "1     중구   63365   68392  131757\n",
       "2    용산구  105480  113343  218823\n",
       "3    성동구  136779  146555  283334\n",
       "4    광진구  166541  183141  349682\n",
       "5   동대문구  173830  185713  359543\n",
       "6    중랑구  188685  197925  386610\n",
       "7    성북구  207616  228447  436063\n",
       "8    강북구  139260  150567  289827\n",
       "9    도봉구  148622  159162  307784\n",
       "10   노원구  239118  260343  499461\n",
       "11   은평구  221603  246686  468289\n",
       "12  서대문구  148914  170489  319403\n",
       "13   마포구  173001  200763  373764\n",
       "14   양천구  212458  223849  436307\n",
       "15   강서구  270025  294460  564485\n",
       "16   구로구  203142  209735  412877\n",
       "17   금천구  121008  119081  240089\n",
       "18  영등포구  195211  202610  397821\n",
       "19   동작구  187138  201865  389003\n",
       "20   관악구  248571  248566  497137\n",
       "21   서초구  196114  216033  412147\n",
       "22   강남구  268993  293762  562755\n",
       "23   송파구  315700  342660  658360\n",
       "24   강동구  228197  239705  467902"
      ]
     },
     "execution_count": 35,
     "metadata": {},
     "output_type": "execute_result"
    }
   ],
   "source": [
    "# 열 이름 변경: '동별(2)' --> '자치구', '소계.1' --> '합계'\n",
    "# 참고: rename() 메서드 사용seoul_people=\n",
    "seoul_people.rename(columns={'동별(2)':'자치구','소계.1':'합계'},inplace=True)\n",
    "# 확인\n",
    "seoul_people"
   ]
  },
  {
   "cell_type": "markdown",
   "id": "annoying-trout",
   "metadata": {},
   "source": [
    "# 2. 기본 정보 확인 및 전처리\n",
    "\n",
    "- 분석 대상 테이터를 탐색하고 적절한 전처리를 수행합니다."
   ]
  },
  {
   "cell_type": "markdown",
   "id": "romantic-johnson",
   "metadata": {},
   "source": [
    "## [실습3] 기본 정보 확인\n",
    "\n",
    "- seoul_people 데이터프레임 정보를 확인하세요.\n",
    "- head(), tail(), info(), describe() 메서드 등을 활용해 보세요."
   ]
  },
  {
   "cell_type": "code",
   "execution_count": 37,
   "id": "f4910dcf-c4a1-4192-b4d2-b73c6ada0f09",
   "metadata": {},
   "outputs": [
    {
     "data": {
      "text/html": [
       "<div>\n",
       "<style scoped>\n",
       "    .dataframe tbody tr th:only-of-type {\n",
       "        vertical-align: middle;\n",
       "    }\n",
       "\n",
       "    .dataframe tbody tr th {\n",
       "        vertical-align: top;\n",
       "    }\n",
       "\n",
       "    .dataframe thead th {\n",
       "        text-align: right;\n",
       "    }\n",
       "</style>\n",
       "<table border=\"1\" class=\"dataframe\">\n",
       "  <thead>\n",
       "    <tr style=\"text-align: right;\">\n",
       "      <th></th>\n",
       "      <th>자치구</th>\n",
       "      <th>남자</th>\n",
       "      <th>여자</th>\n",
       "      <th>합계</th>\n",
       "    </tr>\n",
       "  </thead>\n",
       "  <tbody>\n",
       "    <tr>\n",
       "      <th>23</th>\n",
       "      <td>송파구</td>\n",
       "      <td>315700</td>\n",
       "      <td>342660</td>\n",
       "      <td>658360</td>\n",
       "    </tr>\n",
       "    <tr>\n",
       "      <th>24</th>\n",
       "      <td>강동구</td>\n",
       "      <td>228197</td>\n",
       "      <td>239705</td>\n",
       "      <td>467902</td>\n",
       "    </tr>\n",
       "  </tbody>\n",
       "</table>\n",
       "</div>"
      ],
      "text/plain": [
       "    자치구      남자      여자      합계\n",
       "23  송파구  315700  342660  658360\n",
       "24  강동구  228197  239705  467902"
      ]
     },
     "execution_count": 37,
     "metadata": {},
     "output_type": "execute_result"
    }
   ],
   "source": [
    "# tail() 메서드로 하위 데이터 확인\n",
    "seoul_people.tail(2)"
   ]
  },
  {
   "cell_type": "code",
   "execution_count": 39,
   "id": "demographic-battery",
   "metadata": {},
   "outputs": [
    {
     "name": "stdout",
     "output_type": "stream",
     "text": [
      "<class 'pandas.core.frame.DataFrame'>\n",
      "RangeIndex: 25 entries, 0 to 24\n",
      "Data columns (total 4 columns):\n",
      " #   Column  Non-Null Count  Dtype \n",
      "---  ------  --------------  ----- \n",
      " 0   자치구     25 non-null     object\n",
      " 1   남자      25 non-null     int64 \n",
      " 2   여자      25 non-null     int64 \n",
      " 3   합계      25 non-null     int64 \n",
      "dtypes: int64(3), object(1)\n",
      "memory usage: 932.0+ bytes\n"
     ]
    }
   ],
   "source": [
    "# info() 메서드로 열 이름, 데이터 개수, 데이터 형식 등 확인\n",
    "seoul_people.info()"
   ]
  },
  {
   "cell_type": "code",
   "execution_count": 41,
   "id": "940a114a",
   "metadata": {},
   "outputs": [
    {
     "data": {
      "text/html": [
       "<div>\n",
       "<style scoped>\n",
       "    .dataframe tbody tr th:only-of-type {\n",
       "        vertical-align: middle;\n",
       "    }\n",
       "\n",
       "    .dataframe tbody tr th {\n",
       "        vertical-align: top;\n",
       "    }\n",
       "\n",
       "    .dataframe thead th {\n",
       "        text-align: right;\n",
       "    }\n",
       "</style>\n",
       "<table border=\"1\" class=\"dataframe\">\n",
       "  <thead>\n",
       "    <tr style=\"text-align: right;\">\n",
       "      <th></th>\n",
       "      <th>남자</th>\n",
       "      <th>여자</th>\n",
       "      <th>합계</th>\n",
       "    </tr>\n",
       "  </thead>\n",
       "  <tbody>\n",
       "    <tr>\n",
       "      <th>count</th>\n",
       "      <td>25.000000</td>\n",
       "      <td>25.000000</td>\n",
       "      <td>25.000000</td>\n",
       "    </tr>\n",
       "    <tr>\n",
       "      <th>mean</th>\n",
       "      <td>185241.000000</td>\n",
       "      <td>199289.680000</td>\n",
       "      <td>384530.680000</td>\n",
       "    </tr>\n",
       "    <tr>\n",
       "      <th>std</th>\n",
       "      <td>60928.455965</td>\n",
       "      <td>65843.322476</td>\n",
       "      <td>126587.549792</td>\n",
       "    </tr>\n",
       "    <tr>\n",
       "      <th>min</th>\n",
       "      <td>63365.000000</td>\n",
       "      <td>68392.000000</td>\n",
       "      <td>131757.000000</td>\n",
       "    </tr>\n",
       "    <tr>\n",
       "      <th>25%</th>\n",
       "      <td>148622.000000</td>\n",
       "      <td>159162.000000</td>\n",
       "      <td>307784.000000</td>\n",
       "    </tr>\n",
       "    <tr>\n",
       "      <th>50%</th>\n",
       "      <td>188685.000000</td>\n",
       "      <td>201865.000000</td>\n",
       "      <td>389003.000000</td>\n",
       "    </tr>\n",
       "    <tr>\n",
       "      <th>75%</th>\n",
       "      <td>221603.000000</td>\n",
       "      <td>239705.000000</td>\n",
       "      <td>467902.000000</td>\n",
       "    </tr>\n",
       "    <tr>\n",
       "      <th>max</th>\n",
       "      <td>315700.000000</td>\n",
       "      <td>342660.000000</td>\n",
       "      <td>658360.000000</td>\n",
       "    </tr>\n",
       "  </tbody>\n",
       "</table>\n",
       "</div>"
      ],
      "text/plain": [
       "                  남자             여자             합계\n",
       "count      25.000000      25.000000      25.000000\n",
       "mean   185241.000000  199289.680000  384530.680000\n",
       "std     60928.455965   65843.322476  126587.549792\n",
       "min     63365.000000   68392.000000  131757.000000\n",
       "25%    148622.000000  159162.000000  307784.000000\n",
       "50%    188685.000000  201865.000000  389003.000000\n",
       "75%    221603.000000  239705.000000  467902.000000\n",
       "max    315700.000000  342660.000000  658360.000000"
      ]
     },
     "execution_count": 41,
     "metadata": {},
     "output_type": "execute_result"
    }
   ],
   "source": [
    "# describe() 메서드로 기술통계정보 확인\n",
    "seoul_people.describe()"
   ]
  },
  {
   "cell_type": "markdown",
   "id": "22f0c7b2-93f4-47cc-b076-46923e16fff6",
   "metadata": {},
   "source": [
    "std는 표준편차로 데이터의 값들이 평균을 기준으로 얼마나 흩어져 있는지를 나타내는 지표\n",
    "\n",
    "표준편차가 작다: 데이터 값들이 평균에 몰려있음.즉, 값들의 변화가 크지 않다\n",
    "\n",
    "표준편차가 크다: 데이터 값들이 평균에서 멀리 흩어져 있다."
   ]
  },
  {
   "cell_type": "markdown",
   "id": "d66fd038-c020-4bf1-ad07-1b7aae9d7468",
   "metadata": {},
   "source": [
    "- seoul_people 데이터프레임을 df_seoul_people.csv 파일로 저장하세요."
   ]
  },
  {
   "cell_type": "code",
   "execution_count": 45,
   "id": "be9c1d4a",
   "metadata": {
    "tags": []
   },
   "outputs": [],
   "source": [
    "# csv 파일로 저장 (파일명: df_seoul_people.csv)\n",
    "# 참고: to_csv() 메서드를 사용, index=False 지정 \n",
    "seoul_people.to_csv( 'df_seoul_people.csv', index=False)"
   ]
  },
  {
   "cell_type": "markdown",
   "id": "southeast-integration",
   "metadata": {},
   "source": [
    "# 3. 데이터 분석\n",
    "\n",
    "- 다양한 분석 과정을 통해 인사이트를 도출하세요."
   ]
  },
  {
   "cell_type": "markdown",
   "id": "ea7b33f3-6ae9-4708-b7ae-eb875d5c6cfa",
   "metadata": {},
   "source": [
    "## [실습4] 시각화 분석\n",
    "\n",
    "- 다양한 열를 기준으로 그래프를 그려보고 인사이트를 도출해보세요."
   ]
  },
  {
   "cell_type": "code",
   "execution_count": 55,
   "id": "acffc469",
   "metadata": {
    "tags": []
   },
   "outputs": [],
   "source": [
    "# 주석\n",
    "import seaborn as sns\n",
    "import matplotlib.pyplot as plt\n",
    "\n"
   ]
  },
  {
   "cell_type": "code",
   "execution_count": 63,
   "id": "05a2ad5c-9ee7-463c-8f05-4df86437ce2c",
   "metadata": {
    "tags": []
   },
   "outputs": [
    {
     "data": {
      "image/png": "[encoded data removed]",
      "text/plain": [
       "<Figure size 1200x600 with 1 Axes>"
      ]
     },
     "metadata": {
      "image/png": {
       "height": 590,
       "width": 1190
      }
     },
     "output_type": "display_data"
    }
   ],
   "source": [
    "# 주석\n",
    "\n",
    "plt.figure(figsize=(12, 6))\n",
    "\n",
    "plt.bar(seoul_people['자치구'], seoul_people['합계'])\n",
    "plt.xticks(rotation=90)\n",
    "plt.grid()\n",
    "plt.tight_layout()\n",
    "plt.show()\n"
   ]
  },
  {
   "cell_type": "code",
   "execution_count": null,
   "id": "b0f95b98-8d8e-455c-902a-e2f8f71d8ce5",
   "metadata": {
    "tags": []
   },
   "outputs": [],
   "source": [
    "# 주석\n",
    "\n",
    "\n"
   ]
  },
  {
   "cell_type": "code",
   "execution_count": null,
   "id": "86892a60",
   "metadata": {},
   "outputs": [],
   "source": [
    "# 위 차트를 통해 알게된 사실을 정리해 보세요.\n",
    "\n",
    "\n"
   ]
  }
 ],
 "metadata": {
  "kernelspec": {
   "display_name": "Python 3 (ipykernel)",
   "language": "python",
   "name": "python3"
  },
  "language_info": {
   "codemirror_mode": {
    "name": "ipython",
    "version": 3
   },
   "file_extension": ".py",
   "mimetype": "text/x-python",
   "name": "python",
   "nbconvert_exporter": "python",
   "pygments_lexer": "ipython3",
   "version": "3.12.4"
  },
  "vscode": {
   "interpreter": {
    "hash": "f08154012ddadd8e950e6e9e035c7a7b32c136e7647e9b7c77e02eb723a8bedb"
   }
  }
 },
 "nbformat": 4,
 "nbformat_minor": 5
}
