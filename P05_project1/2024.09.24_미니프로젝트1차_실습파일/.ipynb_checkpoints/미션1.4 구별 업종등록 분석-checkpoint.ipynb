{
 "cells": [
  {
   "cell_type": "markdown",
   "id": "b72f45ea-9bee-4292-975b-8dd3f89af7fb",
   "metadata": {},
   "source": [
    "# AIVLE스쿨 1차 미니프로젝트: 서울시 생활정보 기반 대중교통 수요 분석"
   ]
  },
  {
   "cell_type": "markdown",
   "id": "1d661414-a305-495f-b8fd-1dcf08278caf",
   "metadata": {},
   "source": [
    "<img src = \"https://github.com/Jangrae/img/blob/master/cafe.png?raw=true\" width=800, align=\"left\"/>"
   ]
  },
  {
   "cell_type": "markdown",
   "id": "72e67b1a-b273-4b28-adf4-cb00124e7719",
   "metadata": {},
   "source": [
    "- 본 과정에서는 실제 사례와 데이터를 기반으로 문제를 해결하는 전체 과정을 자기 주도형 실습으로 진행해볼 예정입니다.\n",
    "- 앞선 교육과정을 정리하는 마음과 지금까지 배운 내용을 바탕으로 문제 해결을 해볼게요!\n",
    "- 미니 프로젝트를 통한 문제 해결 과정 'A에서 Z까지', 지금부터 시작합니다!"
   ]
  },
  {
   "cell_type": "markdown",
   "id": "81533645-6b9f-41a9-845a-1ea00f8b8053",
   "metadata": {},
   "source": [
    "# [미션 4] 구별 업종등록 데이터 분석"
   ]
  },
  {
   "cell_type": "markdown",
   "id": "714c4ffa-56e5-4d7b-a70a-c4b0b2997332",
   "metadata": {
    "id": "gklxNfgNpkls"
   },
   "source": [
    "### 로컬 수행(Anaconda)\n",
    "- project 폴더에 필요한 파일들을 넣고, 본 파일을 열었다면, 별도 경로 지정이 필요하지 않습니다."
   ]
  },
  {
   "cell_type": "code",
   "execution_count": null,
   "id": "abfb6aa9-dc07-4838-9abe-c3794d6bb1fc",
   "metadata": {
    "id": "PNI6X2yxpkls",
    "tags": []
   },
   "outputs": [],
   "source": [
    "# 기본 경로\n",
    "path = ''"
   ]
  },
  {
   "cell_type": "markdown",
   "id": "124aae58-fc1b-4239-97ff-2d588c2deb80",
   "metadata": {
    "id": "7rWT4biQpkls"
   },
   "source": [
    "### 구글 콜랩 수행\n",
    "\n",
    "- 구글 콜랩을 사용중이면 구글 드라이브를 연결합니다."
   ]
  },
  {
   "cell_type": "code",
   "execution_count": 2,
   "id": "933e484f-7d76-42aa-a14d-2d64fee4aeb6",
   "metadata": {
    "id": "CLasRk8Spklt",
    "tags": []
   },
   "outputs": [],
   "source": [
    "# 구글 드라이브 연결, 패스 지정\n",
    "import sys\n",
    "if 'google.colab' in sys.modules:\n",
    "    from google.colab import drive\n",
    "    drive.mount('/content/drive')\n",
    "    path = '/content/drive/MyDrive/project/'"
   ]
  },
  {
   "cell_type": "markdown",
   "id": "745ce215-c557-49d3-adc7-cfd77e85be15",
   "metadata": {},
   "source": [
    "### 한글 폰트 표시를 위해 설치합니다."
   ]
  },
  {
   "cell_type": "code",
   "execution_count": 5,
   "id": "cc379640-83c2-43bd-84a0-764a09aead5f",
   "metadata": {},
   "outputs": [],
   "source": [
    "# 한글 표시를 위한 라이브러리 설치\n",
    "!pip install koreanize_matplotlib -q"
   ]
  },
  {
   "cell_type": "markdown",
   "id": "24cf2aeb-c80b-43df-9ee9-787e000e17a2",
   "metadata": {},
   "source": [
    "### 필요한 라이브러리를 불러옵니다."
   ]
  },
  {
   "cell_type": "code",
   "execution_count": 7,
   "id": "83064ffe-9dab-493b-a07b-ff279bf2b28c",
   "metadata": {
    "tags": []
   },
   "outputs": [],
   "source": [
    "# 라이브러리 불러오기\n",
    "import numpy as np\n",
    "import pandas as pd\n",
    "import matplotlib.pyplot as plt\n",
    "import koreanize_matplotlib\n",
    "import warnings\n",
    "\n",
    "warnings.filterwarnings(action='ignore')\n",
    "%config InlineBackend.figure_format='retina'"
   ]
  },
  {
   "cell_type": "markdown",
   "id": "f528b029-b60b-4c01-9e04-803a5212da41",
   "metadata": {},
   "source": [
    "### 기본 데이터: 1.4 seoul_business_type.csv\n",
    "\n",
    "- 서울 시 구별 등록 업종 상위 10개 데이터(제공 가능한 최신 버전)\n",
    "    - 택시 운송업 (개인택시 등록자 주거지)\n",
    "    - 한식일반음식점업\n",
    "    - 용달 화물자동차 운송업(개인용달 등록자 주거지)\n",
    "    - 부동산 중개 및 대리업\n",
    "    - 두발미용업\n",
    "    - 커피전문점\n",
    "    - 남녀용 겉옷 및 셔츠 도매업\n",
    "    - 기타주점업\n",
    "    - 일반 교과 학원\n",
    "    - 한식 육류요리 전문점"
   ]
  },
  {
   "cell_type": "markdown",
   "id": "matched-broad",
   "metadata": {},
   "source": [
    "---"
   ]
  },
  {
   "cell_type": "markdown",
   "id": "warming-gentleman",
   "metadata": {},
   "source": [
    "# 1. 데이터 불러오기\n",
    "\n",
    "- 분석 대상 데이터를 불러와 데이터프레임으로 선언합니다."
   ]
  },
  {
   "cell_type": "markdown",
   "id": "fb77c679-080b-4ac6-90c7-d2d96c1d9c66",
   "metadata": {
    "jp-MarkdownHeadingCollapsed": true
   },
   "source": [
    "### [참고] 데이터 프레임을 불러오고 변수로 저장(CSV 기준으로 진행)\n",
    "\n",
    "- csv: pd.read_csv('파일이름.csv')\n",
    "- txt: pd.read_csv('파일이름.csv', sep='구분자')\n",
    "- xlsx: pd.read_excel('파일이름.xlsx')\n",
    "- pickle: pd.read_pickle('파일이름.pkl')"
   ]
  },
  {
   "cell_type": "markdown",
   "id": "84065679-73f1-49c8-9ff7-a8dbe9719153",
   "metadata": {},
   "source": [
    "## [실습1] 데이터 불러오기\n",
    "\n",
    "- 대상 파일: 1.4 seoul_business_type.csv\n",
    "- 불러온 데이터는 seoul_business 데이터프레임으로 선언하세요.\n",
    "- 데이터 불러올 때 참고할 사항 \n",
    "    - 구분자(sep)는 ',' 입니다\n",
    "    - UTF-8 인코더를 사용해 주세요"
   ]
  },
  {
   "cell_type": "code",
   "execution_count": 8,
   "id": "737f248c-cd36-44cc-a2dd-d6dc193d1970",
   "metadata": {
    "tags": []
   },
   "outputs": [
    {
     "data": {
      "text/html": [
       "<div>\n",
       "<style scoped>\n",
       "    .dataframe tbody tr th:only-of-type {\n",
       "        vertical-align: middle;\n",
       "    }\n",
       "\n",
       "    .dataframe tbody tr th {\n",
       "        vertical-align: top;\n",
       "    }\n",
       "\n",
       "    .dataframe thead th {\n",
       "        text-align: right;\n",
       "    }\n",
       "</style>\n",
       "<table border=\"1\" class=\"dataframe\">\n",
       "  <thead>\n",
       "    <tr style=\"text-align: right;\">\n",
       "      <th></th>\n",
       "      <th>자치구</th>\n",
       "      <th>택시운송업</th>\n",
       "      <th>한식 일반 음식점업</th>\n",
       "      <th>용달 화물자동차 운송업</th>\n",
       "      <th>부동산 중개 및 대리업</th>\n",
       "      <th>두발미용업</th>\n",
       "      <th>커피전문점</th>\n",
       "      <th>남녀용 겉옷 및 셔츠 도매업</th>\n",
       "      <th>기타주점업</th>\n",
       "      <th>일반 교과 학원</th>\n",
       "      <th>한식 육류요리 전문점</th>\n",
       "    </tr>\n",
       "  </thead>\n",
       "  <tbody>\n",
       "    <tr>\n",
       "      <th>0</th>\n",
       "      <td>종로구</td>\n",
       "      <td>215</td>\n",
       "      <td>5912</td>\n",
       "      <td>646</td>\n",
       "      <td>889</td>\n",
       "      <td>480</td>\n",
       "      <td>3613</td>\n",
       "      <td>962</td>\n",
       "      <td>1413</td>\n",
       "      <td>382</td>\n",
       "      <td>1982</td>\n",
       "    </tr>\n",
       "    <tr>\n",
       "      <th>1</th>\n",
       "      <td>중구</td>\n",
       "      <td>235</td>\n",
       "      <td>6414</td>\n",
       "      <td>333</td>\n",
       "      <td>1152</td>\n",
       "      <td>816</td>\n",
       "      <td>3542</td>\n",
       "      <td>24248</td>\n",
       "      <td>982</td>\n",
       "      <td>175</td>\n",
       "      <td>2121</td>\n",
       "    </tr>\n",
       "    <tr>\n",
       "      <th>2</th>\n",
       "      <td>용산구</td>\n",
       "      <td>523</td>\n",
       "      <td>2987</td>\n",
       "      <td>466</td>\n",
       "      <td>1214</td>\n",
       "      <td>777</td>\n",
       "      <td>2076</td>\n",
       "      <td>317</td>\n",
       "      <td>1332</td>\n",
       "      <td>573</td>\n",
       "      <td>1184</td>\n",
       "    </tr>\n",
       "    <tr>\n",
       "      <th>3</th>\n",
       "      <td>성동구</td>\n",
       "      <td>2527</td>\n",
       "      <td>2785</td>\n",
       "      <td>1161</td>\n",
       "      <td>1453</td>\n",
       "      <td>851</td>\n",
       "      <td>1859</td>\n",
       "      <td>1572</td>\n",
       "      <td>621</td>\n",
       "      <td>1494</td>\n",
       "      <td>1545</td>\n",
       "    </tr>\n",
       "    <tr>\n",
       "      <th>4</th>\n",
       "      <td>광진구</td>\n",
       "      <td>1744</td>\n",
       "      <td>2861</td>\n",
       "      <td>985</td>\n",
       "      <td>1313</td>\n",
       "      <td>1337</td>\n",
       "      <td>1887</td>\n",
       "      <td>687</td>\n",
       "      <td>1577</td>\n",
       "      <td>1646</td>\n",
       "      <td>1678</td>\n",
       "    </tr>\n",
       "  </tbody>\n",
       "</table>\n",
       "</div>"
      ],
      "text/plain": [
       "   자치구  택시운송업  한식 일반 음식점업  용달 화물자동차 운송업  부동산 중개 및 대리업  두발미용업  커피전문점  \\\n",
       "0  종로구    215        5912           646           889    480   3613   \n",
       "1   중구    235        6414           333          1152    816   3542   \n",
       "2  용산구    523        2987           466          1214    777   2076   \n",
       "3  성동구   2527        2785          1161          1453    851   1859   \n",
       "4  광진구   1744        2861           985          1313   1337   1887   \n",
       "\n",
       "   남녀용 겉옷 및 셔츠 도매업  기타주점업  일반 교과 학원  한식 육류요리 전문점  \n",
       "0              962   1413       382         1982  \n",
       "1            24248    982       175         2121  \n",
       "2              317   1332       573         1184  \n",
       "3             1572    621      1494         1545  \n",
       "4              687   1577      1646         1678  "
      ]
     },
     "execution_count": 8,
     "metadata": {},
     "output_type": "execute_result"
    }
   ],
   "source": [
    "# 데이터 불러오기\n",
    "seoul_business = pd.read_csv('1.4 seoul_business_type.csv', sep=',', encoding='UTF-8')\n",
    "\n",
    "# 확인\n",
    "seoul_business.head()"
   ]
  },
  {
   "cell_type": "markdown",
   "id": "73396b42",
   "metadata": {},
   "source": [
    "---"
   ]
  },
  {
   "cell_type": "markdown",
   "id": "annoying-trout",
   "metadata": {},
   "source": [
    "# 2. 기본 정보 확인 및 전처리\n",
    "\n",
    "- 분석 대상 테이터를 탐색하고 적절한 전처리를 수행합니다."
   ]
  },
  {
   "cell_type": "markdown",
   "id": "c8b5e166-905b-4218-b7f8-212eebd1ae9c",
   "metadata": {},
   "source": [
    "## [실습2] 기본 정보 확인\n",
    "\n",
    "- seoul_business 데이터프레임 정보를 확인하세요.\n",
    "- head(), tail(), info(), describe() 메서드 등을 활용해 보세요."
   ]
  },
  {
   "cell_type": "code",
   "execution_count": 12,
   "id": "5529bf6a-b30c-47f8-b155-4a1afb82c224",
   "metadata": {},
   "outputs": [
    {
     "data": {
      "text/html": [
       "<div>\n",
       "<style scoped>\n",
       "    .dataframe tbody tr th:only-of-type {\n",
       "        vertical-align: middle;\n",
       "    }\n",
       "\n",
       "    .dataframe tbody tr th {\n",
       "        vertical-align: top;\n",
       "    }\n",
       "\n",
       "    .dataframe thead th {\n",
       "        text-align: right;\n",
       "    }\n",
       "</style>\n",
       "<table border=\"1\" class=\"dataframe\">\n",
       "  <thead>\n",
       "    <tr style=\"text-align: right;\">\n",
       "      <th></th>\n",
       "      <th>자치구</th>\n",
       "      <th>택시운송업</th>\n",
       "      <th>한식 일반 음식점업</th>\n",
       "      <th>용달 화물자동차 운송업</th>\n",
       "      <th>부동산 중개 및 대리업</th>\n",
       "      <th>두발미용업</th>\n",
       "      <th>커피전문점</th>\n",
       "      <th>남녀용 겉옷 및 셔츠 도매업</th>\n",
       "      <th>기타주점업</th>\n",
       "      <th>일반 교과 학원</th>\n",
       "      <th>한식 육류요리 전문점</th>\n",
       "    </tr>\n",
       "  </thead>\n",
       "  <tbody>\n",
       "    <tr>\n",
       "      <th>20</th>\n",
       "      <td>관악구</td>\n",
       "      <td>2027</td>\n",
       "      <td>3689</td>\n",
       "      <td>1600</td>\n",
       "      <td>2136</td>\n",
       "      <td>1604</td>\n",
       "      <td>2049</td>\n",
       "      <td>190</td>\n",
       "      <td>1672</td>\n",
       "      <td>1230</td>\n",
       "      <td>1628</td>\n",
       "    </tr>\n",
       "    <tr>\n",
       "      <th>21</th>\n",
       "      <td>서초구</td>\n",
       "      <td>903</td>\n",
       "      <td>6712</td>\n",
       "      <td>411</td>\n",
       "      <td>2758</td>\n",
       "      <td>1832</td>\n",
       "      <td>3897</td>\n",
       "      <td>1563</td>\n",
       "      <td>1255</td>\n",
       "      <td>3812</td>\n",
       "      <td>2338</td>\n",
       "    </tr>\n",
       "    <tr>\n",
       "      <th>22</th>\n",
       "      <td>강남구</td>\n",
       "      <td>2517</td>\n",
       "      <td>11486</td>\n",
       "      <td>487</td>\n",
       "      <td>6508</td>\n",
       "      <td>6255</td>\n",
       "      <td>7273</td>\n",
       "      <td>8320</td>\n",
       "      <td>2528</td>\n",
       "      <td>9020</td>\n",
       "      <td>5008</td>\n",
       "    </tr>\n",
       "    <tr>\n",
       "      <th>23</th>\n",
       "      <td>송파구</td>\n",
       "      <td>4850</td>\n",
       "      <td>5760</td>\n",
       "      <td>1931</td>\n",
       "      <td>3190</td>\n",
       "      <td>2328</td>\n",
       "      <td>3372</td>\n",
       "      <td>2830</td>\n",
       "      <td>1469</td>\n",
       "      <td>4160</td>\n",
       "      <td>2781</td>\n",
       "    </tr>\n",
       "    <tr>\n",
       "      <th>24</th>\n",
       "      <td>강동구</td>\n",
       "      <td>4980</td>\n",
       "      <td>3388</td>\n",
       "      <td>1566</td>\n",
       "      <td>1990</td>\n",
       "      <td>1429</td>\n",
       "      <td>1660</td>\n",
       "      <td>1433</td>\n",
       "      <td>1349</td>\n",
       "      <td>2104</td>\n",
       "      <td>1459</td>\n",
       "    </tr>\n",
       "  </tbody>\n",
       "</table>\n",
       "</div>"
      ],
      "text/plain": [
       "    자치구  택시운송업  한식 일반 음식점업  용달 화물자동차 운송업  부동산 중개 및 대리업  두발미용업  커피전문점  \\\n",
       "20  관악구   2027        3689          1600          2136   1604   2049   \n",
       "21  서초구    903        6712           411          2758   1832   3897   \n",
       "22  강남구   2517       11486           487          6508   6255   7273   \n",
       "23  송파구   4850        5760          1931          3190   2328   3372   \n",
       "24  강동구   4980        3388          1566          1990   1429   1660   \n",
       "\n",
       "    남녀용 겉옷 및 셔츠 도매업  기타주점업  일반 교과 학원  한식 육류요리 전문점  \n",
       "20              190   1672      1230         1628  \n",
       "21             1563   1255      3812         2338  \n",
       "22             8320   2528      9020         5008  \n",
       "23             2830   1469      4160         2781  \n",
       "24             1433   1349      2104         1459  "
      ]
     },
     "execution_count": 12,
     "metadata": {},
     "output_type": "execute_result"
    }
   ],
   "source": [
    "# tail() 메서드로 하위 데이터 확인\n",
    "seoul_business.tail()"
   ]
  },
  {
   "cell_type": "code",
   "execution_count": 14,
   "id": "f36a3d0e-07bc-4236-b705-f5b5a45ea8e0",
   "metadata": {
    "tags": []
   },
   "outputs": [
    {
     "name": "stdout",
     "output_type": "stream",
     "text": [
      "<class 'pandas.core.frame.DataFrame'>\n",
      "RangeIndex: 25 entries, 0 to 24\n",
      "Data columns (total 11 columns):\n",
      " #   Column           Non-Null Count  Dtype \n",
      "---  ------           --------------  ----- \n",
      " 0   자치구              25 non-null     object\n",
      " 1   택시운송업            25 non-null     int64 \n",
      " 2   한식 일반 음식점업       25 non-null     int64 \n",
      " 3   용달 화물자동차 운송업     25 non-null     int64 \n",
      " 4   부동산 중개 및 대리업     25 non-null     int64 \n",
      " 5   두발미용업            25 non-null     int64 \n",
      " 6   커피전문점            25 non-null     int64 \n",
      " 7   남녀용 겉옷 및 셔츠 도매업  25 non-null     int64 \n",
      " 8   기타주점업            25 non-null     int64 \n",
      " 9   일반 교과 학원         25 non-null     int64 \n",
      " 10  한식 육류요리 전문점      25 non-null     int64 \n",
      "dtypes: int64(10), object(1)\n",
      "memory usage: 2.3+ KB\n"
     ]
    }
   ],
   "source": [
    "# info() 메서드로 열 이름, 데이터 개수, 데이터 형식 등 확인\n",
    "seoul_business.info()"
   ]
  },
  {
   "cell_type": "code",
   "execution_count": 21,
   "id": "9f0a5f18-76b0-49a5-b9f1-62558407879b",
   "metadata": {
    "tags": []
   },
   "outputs": [
    {
     "name": "stdout",
     "output_type": "stream",
     "text": [
      "False\n"
     ]
    }
   ],
   "source": [
    "#결측치가 있는지 확인-> 결과 없음\n",
    "print(seoul_business.isnull().values.any())"
   ]
  },
  {
   "cell_type": "code",
   "execution_count": 33,
   "id": "babd76fd-1044-4c71-9952-2012e19b3373",
   "metadata": {},
   "outputs": [
    {
     "name": "stdout",
     "output_type": "stream",
     "text": [
      "자치구                종로구중구용산구성동구광진구동대문구중랑구성북구강북구도봉구노원구은평구서대문구마포구양천구...\n",
      "택시운송업                                                          76701\n",
      "한식 일반 음식점업                                                    100183\n",
      "용달 화물자동차 운송업                                                   29356\n",
      "부동산 중개 및 대리업                                                   42636\n",
      "두발미용업                                                          36214\n",
      "커피전문점                                                          57322\n",
      "남녀용 겉옷 및 셔츠 도매업                                                51116\n",
      "기타주점업                                                          31371\n",
      "일반 교과 학원                                                       50773\n",
      "한식 육류요리 전문점                                                    44653\n",
      "dtype: object\n"
     ]
    }
   ],
   "source": [
    "#모든 구를 더해서 각 업계별로 총 종사자 수\n",
    "total_seoul_business=seoul_business.sum()\n",
    "print(total_seoul_business)"
   ]
  },
  {
   "cell_type": "code",
   "execution_count": 19,
   "id": "f76594e8-ec9b-45a8-b812-059cf891eb5e",
   "metadata": {},
   "outputs": [
    {
     "data": {
      "text/plain": [
       "array([['종로구', 215, 5912, 646, 889, 480, 3613, 962, 1413, 382, 1982]],\n",
       "      dtype=object)"
      ]
     },
     "execution_count": 19,
     "metadata": {},
     "output_type": "execute_result"
    }
   ],
   "source": [
    "# 1행에 있는 값으로 column명 지정하기 위해 값 추출\n",
    "seoul_business[0:1].values"
   ]
  },
  {
   "cell_type": "markdown",
   "id": "ceb6dd86-095f-4ae3-a12a-d9eede2231ce",
   "metadata": {},
   "source": [
    "## [실습3] 주요 업종 선택\n",
    "\n",
    "- 대중교통 이동수요가 높을 것으로 예상되는 업종, 종사자수가 많은 업종만을 선택합니다.\n",
    "- 단, '자치구' 열은 꼭 포함해야 합니다.\n",
    "    - 예: '자치구', '한식 일반 음식점업', '커피전문점', '기타주점업' \n",
    "- seoul_business 데이터프레임이 위에서 선택한 열만 갖도록 변경하세요."
   ]
  },
  {
   "cell_type": "markdown",
   "id": "d962dc77-a337-45af-a91b-a19d36f275b7",
   "metadata": {},
   "source": [
    "#### [내가 택한 업종 및 이유]\n",
    "\n",
    "한식 일반 음식점업   :  종업원이 많고, 상대적으로 교대근무나 야간 근무가 잦다. 특히 버스는 이러한 근무 환경에서 유연하게 이동할 수 있는 수단\n",
    "\n",
    "커피 전문점: 다양한 시간대에 근무하는 직원이 많고, 특히 아르바이트생이나 젊은 층이 많이 종사하는 업종\n",
    "\n",
    "기타주점업   : 밤늦게까지 일하는 경우가 많음, 종사자들이 퇴근 후 귀가할때 대중교통, 특히 야간 버스를 이용할 가능성이 있다.  "
   ]
  },
  {
   "cell_type": "markdown",
   "id": "7bf98ccc-826d-4632-8594-7c9d28b1093a",
   "metadata": {},
   "source": [
    "#### [주요 업종이 아닌 이유]\n",
    "\n",
    "택시운송업   : 본인 택시로 이동할 것 같음\n",
    "\n",
    "용달 화물자동차 운송업   : 택시와 마찬가지로 본인 화물차로 이동할 것 같음\n",
    "\n",
    "부동산 중개 및 대리업  : 이사를 많이 다녀본 결과, 중개업자들과 이동시 손님(?)의 자가용 차로 이동하는 경우가 잦음. 특히 여러 곳의 집을 많이 다녀야하기 때문에 자가용이 더 편함\n",
    "\n",
    "두발미용업   :  근무시간이 고정된 경우가 많아 대중교통 대신 자가용 이용할 가능\n",
    "\n",
    "커피전문점  : 보통 사장님 혼자서 하시는 경우도 종종보임.많이 이용하실 것 같음\n",
    "\n",
    "남녀용 겉옷 및 셔츠 도매업  : 도매업도 새벽에 일하는 경우가 많아서 시간 맞추기 어려움\n",
    "\n",
    "일반 교과 학원  : 근무 시간이 고정된 경우가 많아 대중교통 대신 자가용 이용가능\n",
    "\n",
    "한식 육류요리 전문점  : 상대적으로 규모가 큰 경우가 많아 위치에 따라 자가용 이용이 더 편리"
   ]
  },
  {
   "cell_type": "code",
   "execution_count": 56,
   "id": "c68969ff-9ec0-4eb5-90f0-cb38090fc5d1",
   "metadata": {
    "tags": []
   },
   "outputs": [
    {
     "data": {
      "text/html": [
       "<div>\n",
       "<style scoped>\n",
       "    .dataframe tbody tr th:only-of-type {\n",
       "        vertical-align: middle;\n",
       "    }\n",
       "\n",
       "    .dataframe tbody tr th {\n",
       "        vertical-align: top;\n",
       "    }\n",
       "\n",
       "    .dataframe thead th {\n",
       "        text-align: right;\n",
       "    }\n",
       "</style>\n",
       "<table border=\"1\" class=\"dataframe\">\n",
       "  <thead>\n",
       "    <tr style=\"text-align: right;\">\n",
       "      <th></th>\n",
       "      <th>자치구</th>\n",
       "      <th>한식 일반 음식점업</th>\n",
       "      <th>커피전문점</th>\n",
       "      <th>기타주점업</th>\n",
       "    </tr>\n",
       "  </thead>\n",
       "  <tbody>\n",
       "    <tr>\n",
       "      <th>0</th>\n",
       "      <td>종로구</td>\n",
       "      <td>5912</td>\n",
       "      <td>3613</td>\n",
       "      <td>1413</td>\n",
       "    </tr>\n",
       "    <tr>\n",
       "      <th>1</th>\n",
       "      <td>중구</td>\n",
       "      <td>6414</td>\n",
       "      <td>3542</td>\n",
       "      <td>982</td>\n",
       "    </tr>\n",
       "    <tr>\n",
       "      <th>2</th>\n",
       "      <td>용산구</td>\n",
       "      <td>2987</td>\n",
       "      <td>2076</td>\n",
       "      <td>1332</td>\n",
       "    </tr>\n",
       "    <tr>\n",
       "      <th>3</th>\n",
       "      <td>성동구</td>\n",
       "      <td>2785</td>\n",
       "      <td>1859</td>\n",
       "      <td>621</td>\n",
       "    </tr>\n",
       "    <tr>\n",
       "      <th>4</th>\n",
       "      <td>광진구</td>\n",
       "      <td>2861</td>\n",
       "      <td>1887</td>\n",
       "      <td>1577</td>\n",
       "    </tr>\n",
       "    <tr>\n",
       "      <th>5</th>\n",
       "      <td>동대문구</td>\n",
       "      <td>3566</td>\n",
       "      <td>1472</td>\n",
       "      <td>1082</td>\n",
       "    </tr>\n",
       "    <tr>\n",
       "      <th>6</th>\n",
       "      <td>중랑구</td>\n",
       "      <td>2479</td>\n",
       "      <td>1037</td>\n",
       "      <td>1000</td>\n",
       "    </tr>\n",
       "    <tr>\n",
       "      <th>7</th>\n",
       "      <td>성북구</td>\n",
       "      <td>2822</td>\n",
       "      <td>1384</td>\n",
       "      <td>1030</td>\n",
       "    </tr>\n",
       "    <tr>\n",
       "      <th>8</th>\n",
       "      <td>강북구</td>\n",
       "      <td>2663</td>\n",
       "      <td>1095</td>\n",
       "      <td>1275</td>\n",
       "    </tr>\n",
       "    <tr>\n",
       "      <th>9</th>\n",
       "      <td>도봉구</td>\n",
       "      <td>2009</td>\n",
       "      <td>837</td>\n",
       "      <td>477</td>\n",
       "    </tr>\n",
       "    <tr>\n",
       "      <th>10</th>\n",
       "      <td>노원구</td>\n",
       "      <td>2650</td>\n",
       "      <td>1748</td>\n",
       "      <td>844</td>\n",
       "    </tr>\n",
       "    <tr>\n",
       "      <th>11</th>\n",
       "      <td>은평구</td>\n",
       "      <td>2585</td>\n",
       "      <td>1296</td>\n",
       "      <td>925</td>\n",
       "    </tr>\n",
       "    <tr>\n",
       "      <th>12</th>\n",
       "      <td>서대문구</td>\n",
       "      <td>2694</td>\n",
       "      <td>1323</td>\n",
       "      <td>1127</td>\n",
       "    </tr>\n",
       "    <tr>\n",
       "      <th>13</th>\n",
       "      <td>마포구</td>\n",
       "      <td>4705</td>\n",
       "      <td>4475</td>\n",
       "      <td>2559</td>\n",
       "    </tr>\n",
       "    <tr>\n",
       "      <th>14</th>\n",
       "      <td>양천구</td>\n",
       "      <td>2800</td>\n",
       "      <td>1375</td>\n",
       "      <td>851</td>\n",
       "    </tr>\n",
       "    <tr>\n",
       "      <th>15</th>\n",
       "      <td>강서구</td>\n",
       "      <td>4584</td>\n",
       "      <td>2530</td>\n",
       "      <td>1709</td>\n",
       "    </tr>\n",
       "    <tr>\n",
       "      <th>16</th>\n",
       "      <td>구로구</td>\n",
       "      <td>3215</td>\n",
       "      <td>1384</td>\n",
       "      <td>1165</td>\n",
       "    </tr>\n",
       "    <tr>\n",
       "      <th>17</th>\n",
       "      <td>금천구</td>\n",
       "      <td>2619</td>\n",
       "      <td>1215</td>\n",
       "      <td>685</td>\n",
       "    </tr>\n",
       "    <tr>\n",
       "      <th>18</th>\n",
       "      <td>영등포구</td>\n",
       "      <td>6476</td>\n",
       "      <td>3295</td>\n",
       "      <td>1489</td>\n",
       "    </tr>\n",
       "    <tr>\n",
       "      <th>19</th>\n",
       "      <td>동작구</td>\n",
       "      <td>2322</td>\n",
       "      <td>1628</td>\n",
       "      <td>955</td>\n",
       "    </tr>\n",
       "    <tr>\n",
       "      <th>20</th>\n",
       "      <td>관악구</td>\n",
       "      <td>3689</td>\n",
       "      <td>2049</td>\n",
       "      <td>1672</td>\n",
       "    </tr>\n",
       "    <tr>\n",
       "      <th>21</th>\n",
       "      <td>서초구</td>\n",
       "      <td>6712</td>\n",
       "      <td>3897</td>\n",
       "      <td>1255</td>\n",
       "    </tr>\n",
       "    <tr>\n",
       "      <th>22</th>\n",
       "      <td>강남구</td>\n",
       "      <td>11486</td>\n",
       "      <td>7273</td>\n",
       "      <td>2528</td>\n",
       "    </tr>\n",
       "    <tr>\n",
       "      <th>23</th>\n",
       "      <td>송파구</td>\n",
       "      <td>5760</td>\n",
       "      <td>3372</td>\n",
       "      <td>1469</td>\n",
       "    </tr>\n",
       "    <tr>\n",
       "      <th>24</th>\n",
       "      <td>강동구</td>\n",
       "      <td>3388</td>\n",
       "      <td>1660</td>\n",
       "      <td>1349</td>\n",
       "    </tr>\n",
       "  </tbody>\n",
       "</table>\n",
       "</div>"
      ],
      "text/plain": [
       "     자치구  한식 일반 음식점업  커피전문점  기타주점업\n",
       "0    종로구        5912   3613   1413\n",
       "1     중구        6414   3542    982\n",
       "2    용산구        2987   2076   1332\n",
       "3    성동구        2785   1859    621\n",
       "4    광진구        2861   1887   1577\n",
       "5   동대문구        3566   1472   1082\n",
       "6    중랑구        2479   1037   1000\n",
       "7    성북구        2822   1384   1030\n",
       "8    강북구        2663   1095   1275\n",
       "9    도봉구        2009    837    477\n",
       "10   노원구        2650   1748    844\n",
       "11   은평구        2585   1296    925\n",
       "12  서대문구        2694   1323   1127\n",
       "13   마포구        4705   4475   2559\n",
       "14   양천구        2800   1375    851\n",
       "15   강서구        4584   2530   1709\n",
       "16   구로구        3215   1384   1165\n",
       "17   금천구        2619   1215    685\n",
       "18  영등포구        6476   3295   1489\n",
       "19   동작구        2322   1628    955\n",
       "20   관악구        3689   2049   1672\n",
       "21   서초구        6712   3897   1255\n",
       "22   강남구       11486   7273   2528\n",
       "23   송파구        5760   3372   1469\n",
       "24   강동구        3388   1660   1349"
      ]
     },
     "execution_count": 56,
     "metadata": {},
     "output_type": "execute_result"
    }
   ],
   "source": [
    "# 대중교통 이동수요가 높을 것으로 예상되는 업종, 종사자수가 많은 업종\n",
    "# df = df[['열1', '열2', '열3']] 형태의 구문 사용\n",
    "seoul_business=seoul_business[['자치구','한식 일반 음식점업','커피전문점','기타주점업']]\n",
    "# 확인\n",
    "seoul_business"
   ]
  },
  {
   "cell_type": "markdown",
   "id": "2a694f43-8a8a-4ebb-b08c-c041b9d10820",
   "metadata": {},
   "source": [
    "- seoul_business 데이터프레임을 df_seoul_business.csv 파일로 저장하세요."
   ]
  },
  {
   "cell_type": "code",
   "execution_count": 60,
   "id": "f2d4100e-e165-45cc-a633-fd1b33711f83",
   "metadata": {
    "tags": []
   },
   "outputs": [],
   "source": [
    "# csv 파일로 저장 (파일명: df_seoul_business.csv)\n",
    "# 참고: to_csv() 메서드를 사용, index=False 지정 \n",
    "seoul_business.to_csv('df_seoul_business.csv', index=False)"
   ]
  },
  {
   "cell_type": "markdown",
   "id": "602b8bae",
   "metadata": {},
   "source": [
    "---"
   ]
  },
  {
   "cell_type": "markdown",
   "id": "39efb26a-361a-4ab7-979b-349a8b0b7a5a",
   "metadata": {},
   "source": [
    "# 3. 데이터 분석\n",
    "\n",
    "- 다양한 분석 과정을 통해 인사이트를 도출하세요."
   ]
  },
  {
   "cell_type": "markdown",
   "id": "a3c977e5-b693-4d54-a4cf-0a0781be20dc",
   "metadata": {},
   "source": [
    "## [실습4] 시각화 분석\n",
    "\n",
    "- 다양한 열를 기준으로 그래프를 그려보고 인사이트를 도출해보세요."
   ]
  },
  {
   "cell_type": "code",
   "execution_count": 62,
   "id": "2a610ade",
   "metadata": {},
   "outputs": [
    {
     "data": {
      "image/png": "[encoded data removed]",
      "text/plain": [
       "<Figure size 1500x600 with 3 Axes>"
      ]
     },
     "metadata": {
      "image/png": {
       "height": 589,
       "width": 1490
      }
     },
     "output_type": "display_data"
    }
   ],
   "source": [
    "# 주석\n",
    "plt.figure(figsize=(15, 6))\n",
    "for i in range(1, len(list(seoul_business))):\n",
    "    plt.subplot(1, 3, i)\n",
    "    plt.title(list(seoul_business)[i])\n",
    "    plt.bar(seoul_business['자치구'], seoul_business[list(seoul_business)[i]])\n",
    "    plt.xticks(rotation=90)\n",
    "    \n",
    "plt.tight_layout()\n",
    "plt.show()\n"
   ]
  },
  {
   "cell_type": "code",
   "execution_count": 64,
   "id": "e494f168-f7f1-4603-805c-e509aa280004",
   "metadata": {},
   "outputs": [
    {
     "data": {
      "text/html": [
       "<div>\n",
       "<style scoped>\n",
       "    .dataframe tbody tr th:only-of-type {\n",
       "        vertical-align: middle;\n",
       "    }\n",
       "\n",
       "    .dataframe tbody tr th {\n",
       "        vertical-align: top;\n",
       "    }\n",
       "\n",
       "    .dataframe thead th {\n",
       "        text-align: right;\n",
       "    }\n",
       "</style>\n",
       "<table border=\"1\" class=\"dataframe\">\n",
       "  <thead>\n",
       "    <tr style=\"text-align: right;\">\n",
       "      <th></th>\n",
       "      <th>한식 일반 음식점업</th>\n",
       "      <th>커피전문점</th>\n",
       "      <th>기타주점업</th>\n",
       "    </tr>\n",
       "  </thead>\n",
       "  <tbody>\n",
       "    <tr>\n",
       "      <th>count</th>\n",
       "      <td>25.00000</td>\n",
       "      <td>25.000000</td>\n",
       "      <td>25.000000</td>\n",
       "    </tr>\n",
       "    <tr>\n",
       "      <th>mean</th>\n",
       "      <td>4007.32000</td>\n",
       "      <td>2292.880000</td>\n",
       "      <td>1254.840000</td>\n",
       "    </tr>\n",
       "    <tr>\n",
       "      <th>std</th>\n",
       "      <td>2132.72849</td>\n",
       "      <td>1452.869383</td>\n",
       "      <td>502.206936</td>\n",
       "    </tr>\n",
       "    <tr>\n",
       "      <th>min</th>\n",
       "      <td>2009.00000</td>\n",
       "      <td>837.000000</td>\n",
       "      <td>477.000000</td>\n",
       "    </tr>\n",
       "    <tr>\n",
       "      <th>25%</th>\n",
       "      <td>2663.00000</td>\n",
       "      <td>1375.000000</td>\n",
       "      <td>955.000000</td>\n",
       "    </tr>\n",
       "    <tr>\n",
       "      <th>50%</th>\n",
       "      <td>2987.00000</td>\n",
       "      <td>1748.000000</td>\n",
       "      <td>1165.000000</td>\n",
       "    </tr>\n",
       "    <tr>\n",
       "      <th>75%</th>\n",
       "      <td>4705.00000</td>\n",
       "      <td>3295.000000</td>\n",
       "      <td>1469.000000</td>\n",
       "    </tr>\n",
       "    <tr>\n",
       "      <th>max</th>\n",
       "      <td>11486.00000</td>\n",
       "      <td>7273.000000</td>\n",
       "      <td>2559.000000</td>\n",
       "    </tr>\n",
       "  </tbody>\n",
       "</table>\n",
       "</div>"
      ],
      "text/plain": [
       "        한식 일반 음식점업        커피전문점        기타주점업\n",
       "count     25.00000    25.000000    25.000000\n",
       "mean    4007.32000  2292.880000  1254.840000\n",
       "std     2132.72849  1452.869383   502.206936\n",
       "min     2009.00000   837.000000   477.000000\n",
       "25%     2663.00000  1375.000000   955.000000\n",
       "50%     2987.00000  1748.000000  1165.000000\n",
       "75%     4705.00000  3295.000000  1469.000000\n",
       "max    11486.00000  7273.000000  2559.000000"
      ]
     },
     "execution_count": 64,
     "metadata": {},
     "output_type": "execute_result"
    }
   ],
   "source": [
    "# 주석\n",
    "seoul_business.describe()"
   ]
  },
  {
   "cell_type": "markdown",
   "id": "a68372de-d201-4b63-b5a1-e94a944215e1",
   "metadata": {},
   "source": [
    "std는 표준편차로 데이터의 값들이 평균을 기준으로 얼마나 흩어져 있는지를 나타내는 지표\n",
    "\n",
    "표준편차가 작다: 데이터 값들이 평균에 몰려있음.즉, 값들의 변화가 크지 않다\n",
    "\n",
    "표준편차가 크다: 데이터 값들이 평균에서 멀리 흩어져 있다."
   ]
  },
  {
   "cell_type": "markdown",
   "id": "c7c06ad8-b23e-44a9-8d24-b3bfb5589e94",
   "metadata": {
    "tags": []
   },
   "source": [
    "# 위 차트를 통해 알게된 사실을 정리해 보세요.\n",
    "\n",
    "강남구가 앞도적으로 높음\n",
    "단, 기타주점업에서는 마포구가 높음\n",
    "마포구는 커피전문점업에서도 높은데 한식 일반 음식점업에는 낮음"
   ]
  },
  {
   "cell_type": "markdown",
   "id": "2f19e28b-3e94-4c35-ba68-b4071679791e",
   "metadata": {},
   "source": [
    "std(표준편차)를 보면 한식 일반 음식점과 커피전문점은 값이 큰 반면 기타주점업은 상대적으로 많이 낮다. 즉, 표준편차가 작으면 데이터 값들이 평균에 몰려있다는 뜻으로 값들의 변화가 크지 않다는 뜻이다. 이것은 무엇을 뜻할까 한식 일반 음식점과 커피전문점은 막대그래프를 볼 때 구별로 유사한 분포를 가지고 있다. 허나 기타주점업 같은 경우 유독 마포구가 높게 측정됨을 알수있다. 즉, 마포구에 기타주점업이 많이 분포되어있음을 알 수 있다."
   ]
  },
  {
   "cell_type": "code",
   "execution_count": null,
   "id": "611740ca-d266-432a-853a-7614962cb61a",
   "metadata": {},
   "outputs": [],
   "source": []
  }
 ],
 "metadata": {
  "kernelspec": {
   "display_name": "Python 3 (ipykernel)",
   "language": "python",
   "name": "python3"
  },
  "language_info": {
   "codemirror_mode": {
    "name": "ipython",
    "version": 3
   },
   "file_extension": ".py",
   "mimetype": "text/x-python",
   "name": "python",
   "nbconvert_exporter": "python",
   "pygments_lexer": "ipython3",
   "version": "3.12.4"
  },
  "vscode": {
   "interpreter": {
    "hash": "f08154012ddadd8e950e6e9e035c7a7b32c136e7647e9b7c77e02eb723a8bedb"
   }
  }
 },
 "nbformat": 4,
 "nbformat_minor": 5
}
