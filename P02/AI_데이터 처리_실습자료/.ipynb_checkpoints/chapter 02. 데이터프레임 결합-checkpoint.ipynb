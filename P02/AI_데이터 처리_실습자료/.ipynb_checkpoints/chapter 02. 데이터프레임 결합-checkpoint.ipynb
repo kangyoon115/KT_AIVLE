{
 "cells": [
  {
   "cell_type": "markdown",
   "metadata": {
    "id": "w8C_iSSpYnVO"
   },
   "source": [
    "# **데이터프레임 결합**\n"
   ]
  },
  {
   "cell_type": "markdown",
   "metadata": {
    "id": "PgakzyhIgKhS"
   },
   "source": [
    "## **1.환경준비**"
   ]
  },
  {
   "cell_type": "markdown",
   "metadata": {
    "id": "fajHvynEg-Ap"
   },
   "source": [
    "* 라이브러리 불러오기"
   ]
  },
  {
   "cell_type": "code",
   "execution_count": 6,
   "metadata": {
    "executionInfo": {
     "elapsed": 948,
     "status": "ok",
     "timestamp": 1675812177269,
     "user": {
      "displayName": "한기영",
      "userId": "13049187003176135487"
     },
     "user_tz": -540
    },
    "id": "Wj4uhna8sPHm"
   },
   "outputs": [],
   "source": [
    "import pandas as pd\n",
    "import numpy as np\n",
    "import matplotlib.pyplot as plt\n",
    "import seaborn as sns"
   ]
  },
  {
   "cell_type": "markdown",
   "metadata": {
    "id": "oeEZKCu-2lWM"
   },
   "source": [
    "* 데이터 가져오기"
   ]
  },
  {
   "cell_type": "code",
   "execution_count": 8,
   "metadata": {
    "id": "qE9uXpyO6XGq"
   },
   "outputs": [],
   "source": [
    "sales = pd.read_csv(\"https://raw.githubusercontent.com/DA4BAM/dataset/master/ts_sales_simple.csv\")\n",
    "\n",
    "sales1 = sales.loc[sales['Store_ID']==1]\n",
    "sales2 = sales.loc[sales['Store_ID']==2]\n",
    "sales5 = sales.loc[sales['Store_ID']==5]\n",
    "sales11 = sales.loc[sales['Store_ID']==11]\n",
    "\n",
    "products = pd.read_csv(\"https://raw.githubusercontent.com/DA4BAM/dataset/master/ts_product_master.csv\")\n",
    "stores = pd.read_csv(\"https://raw.githubusercontent.com/DA4BAM/dataset/master/ts_store_master.csv\")"
   ]
  },
  {
   "cell_type": "code",
   "execution_count": 9,
   "metadata": {
    "colab": {
     "base_uri": "https://localhost:8080/",
     "height": 206
    },
    "executionInfo": {
     "elapsed": 28,
     "status": "ok",
     "timestamp": 1673585654351,
     "user": {
      "displayName": "한기영",
      "userId": "13049187003176135487"
     },
     "user_tz": -540
    },
    "id": "P3AfPidZTfPc",
    "outputId": "a485f86c-7e0f-414d-f98d-3efd155aa3a1"
   },
   "outputs": [
    {
     "data": {
      "text/html": [
       "<div>\n",
       "<style scoped>\n",
       "    .dataframe tbody tr th:only-of-type {\n",
       "        vertical-align: middle;\n",
       "    }\n",
       "\n",
       "    .dataframe tbody tr th {\n",
       "        vertical-align: top;\n",
       "    }\n",
       "\n",
       "    .dataframe thead th {\n",
       "        text-align: right;\n",
       "    }\n",
       "</style>\n",
       "<table border=\"1\" class=\"dataframe\">\n",
       "  <thead>\n",
       "    <tr style=\"text-align: right;\">\n",
       "      <th></th>\n",
       "      <th>Order_ID</th>\n",
       "      <th>Date</th>\n",
       "      <th>Store_ID</th>\n",
       "      <th>Qty</th>\n",
       "      <th>Product_ID</th>\n",
       "    </tr>\n",
       "  </thead>\n",
       "  <tbody>\n",
       "    <tr>\n",
       "      <th>0</th>\n",
       "      <td>3</td>\n",
       "      <td>2013-01-01</td>\n",
       "      <td>1</td>\n",
       "      <td>0.0</td>\n",
       "      <td>3</td>\n",
       "    </tr>\n",
       "    <tr>\n",
       "      <th>1</th>\n",
       "      <td>5</td>\n",
       "      <td>2013-01-01</td>\n",
       "      <td>1</td>\n",
       "      <td>0.0</td>\n",
       "      <td>5</td>\n",
       "    </tr>\n",
       "    <tr>\n",
       "      <th>2</th>\n",
       "      <td>7</td>\n",
       "      <td>2013-01-01</td>\n",
       "      <td>1</td>\n",
       "      <td>0.0</td>\n",
       "      <td>7</td>\n",
       "    </tr>\n",
       "    <tr>\n",
       "      <th>3</th>\n",
       "      <td>8</td>\n",
       "      <td>2013-01-01</td>\n",
       "      <td>1</td>\n",
       "      <td>0.0</td>\n",
       "      <td>8</td>\n",
       "    </tr>\n",
       "    <tr>\n",
       "      <th>4</th>\n",
       "      <td>10</td>\n",
       "      <td>2013-01-01</td>\n",
       "      <td>1</td>\n",
       "      <td>0.0</td>\n",
       "      <td>10</td>\n",
       "    </tr>\n",
       "  </tbody>\n",
       "</table>\n",
       "</div>"
      ],
      "text/plain": [
       "   Order_ID        Date  Store_ID  Qty  Product_ID\n",
       "0         3  2013-01-01         1  0.0           3\n",
       "1         5  2013-01-01         1  0.0           5\n",
       "2         7  2013-01-01         1  0.0           7\n",
       "3         8  2013-01-01         1  0.0           8\n",
       "4        10  2013-01-01         1  0.0          10"
      ]
     },
     "execution_count": 9,
     "metadata": {},
     "output_type": "execute_result"
    }
   ],
   "source": [
    "sales1.head()"
   ]
  },
  {
   "cell_type": "code",
   "execution_count": 12,
   "metadata": {
    "colab": {
     "base_uri": "https://localhost:8080/",
     "height": 206
    },
    "executionInfo": {
     "elapsed": 26,
     "status": "ok",
     "timestamp": 1673585654352,
     "user": {
      "displayName": "한기영",
      "userId": "13049187003176135487"
     },
     "user_tz": -540
    },
    "id": "SHuEayckThCw",
    "outputId": "4a9a5201-d311-4432-fc18-c88da75c7b08"
   },
   "outputs": [
    {
     "data": {
      "text/html": [
       "<div>\n",
       "<style scoped>\n",
       "    .dataframe tbody tr th:only-of-type {\n",
       "        vertical-align: middle;\n",
       "    }\n",
       "\n",
       "    .dataframe tbody tr th {\n",
       "        vertical-align: top;\n",
       "    }\n",
       "\n",
       "    .dataframe thead th {\n",
       "        text-align: right;\n",
       "    }\n",
       "</style>\n",
       "<table border=\"1\" class=\"dataframe\">\n",
       "  <thead>\n",
       "    <tr style=\"text-align: right;\">\n",
       "      <th></th>\n",
       "      <th>Product_ID</th>\n",
       "      <th>Product_Code</th>\n",
       "      <th>SubCategory</th>\n",
       "      <th>Category</th>\n",
       "      <th>LeadTime</th>\n",
       "      <th>Price</th>\n",
       "    </tr>\n",
       "  </thead>\n",
       "  <tbody>\n",
       "    <tr>\n",
       "      <th>0</th>\n",
       "      <td>20</td>\n",
       "      <td>HG001</td>\n",
       "      <td>Gardening Tools</td>\n",
       "      <td>Household Goods</td>\n",
       "      <td>2</td>\n",
       "      <td>50</td>\n",
       "    </tr>\n",
       "    <tr>\n",
       "      <th>1</th>\n",
       "      <td>27</td>\n",
       "      <td>HH001</td>\n",
       "      <td>Home Appliances</td>\n",
       "      <td>Household Goods</td>\n",
       "      <td>2</td>\n",
       "      <td>150</td>\n",
       "    </tr>\n",
       "    <tr>\n",
       "      <th>2</th>\n",
       "      <td>16</td>\n",
       "      <td>HK001</td>\n",
       "      <td>Kitchen</td>\n",
       "      <td>Household Goods</td>\n",
       "      <td>2</td>\n",
       "      <td>23</td>\n",
       "    </tr>\n",
       "    <tr>\n",
       "      <th>3</th>\n",
       "      <td>15</td>\n",
       "      <td>HK002</td>\n",
       "      <td>Kitchen</td>\n",
       "      <td>Household Goods</td>\n",
       "      <td>2</td>\n",
       "      <td>41</td>\n",
       "    </tr>\n",
       "    <tr>\n",
       "      <th>4</th>\n",
       "      <td>32</td>\n",
       "      <td>GS001</td>\n",
       "      <td>Seafood</td>\n",
       "      <td>Grocery</td>\n",
       "      <td>3</td>\n",
       "      <td>34</td>\n",
       "    </tr>\n",
       "  </tbody>\n",
       "</table>\n",
       "</div>"
      ],
      "text/plain": [
       "   Product_ID Product_Code      SubCategory         Category  LeadTime  Price\n",
       "0          20        HG001  Gardening Tools  Household Goods         2     50\n",
       "1          27        HH001  Home Appliances  Household Goods         2    150\n",
       "2          16        HK001          Kitchen  Household Goods         2     23\n",
       "3          15        HK002          Kitchen  Household Goods         2     41\n",
       "4          32        GS001          Seafood          Grocery         3     34"
      ]
     },
     "execution_count": 12,
     "metadata": {},
     "output_type": "execute_result"
    }
   ],
   "source": [
    "products.head()                                                                                              "
   ]
  },
  {
   "cell_type": "code",
   "execution_count": 14,
   "metadata": {
    "colab": {
     "base_uri": "https://localhost:8080/",
     "height": 206
    },
    "executionInfo": {
     "elapsed": 24,
     "status": "ok",
     "timestamp": 1673585654352,
     "user": {
      "displayName": "한기영",
      "userId": "13049187003176135487"
     },
     "user_tz": -540
    },
    "id": "yJ9WaUXwTjQG",
    "outputId": "8bf6aea9-7a15-4a6b-e5b4-9dc0e18a43dd"
   },
   "outputs": [
    {
     "data": {
      "text/html": [
       "<div>\n",
       "<style scoped>\n",
       "    .dataframe tbody tr th:only-of-type {\n",
       "        vertical-align: middle;\n",
       "    }\n",
       "\n",
       "    .dataframe tbody tr th {\n",
       "        vertical-align: top;\n",
       "    }\n",
       "\n",
       "    .dataframe thead th {\n",
       "        text-align: right;\n",
       "    }\n",
       "</style>\n",
       "<table border=\"1\" class=\"dataframe\">\n",
       "  <thead>\n",
       "    <tr style=\"text-align: right;\">\n",
       "      <th></th>\n",
       "      <th>Store_ID</th>\n",
       "      <th>City</th>\n",
       "      <th>State</th>\n",
       "      <th>Store_Type</th>\n",
       "    </tr>\n",
       "  </thead>\n",
       "  <tbody>\n",
       "    <tr>\n",
       "      <th>0</th>\n",
       "      <td>1</td>\n",
       "      <td>Saint Paul</td>\n",
       "      <td>Minnesota</td>\n",
       "      <td>4</td>\n",
       "    </tr>\n",
       "    <tr>\n",
       "      <th>1</th>\n",
       "      <td>2</td>\n",
       "      <td>Saint Paul</td>\n",
       "      <td>Minnesota</td>\n",
       "      <td>4</td>\n",
       "    </tr>\n",
       "    <tr>\n",
       "      <th>2</th>\n",
       "      <td>3</td>\n",
       "      <td>Saint Paul</td>\n",
       "      <td>Minnesota</td>\n",
       "      <td>4</td>\n",
       "    </tr>\n",
       "    <tr>\n",
       "      <th>3</th>\n",
       "      <td>4</td>\n",
       "      <td>Saint Paul</td>\n",
       "      <td>Minnesota</td>\n",
       "      <td>4</td>\n",
       "    </tr>\n",
       "    <tr>\n",
       "      <th>4</th>\n",
       "      <td>5</td>\n",
       "      <td>Oklahoma City</td>\n",
       "      <td>Oklahoma</td>\n",
       "      <td>4</td>\n",
       "    </tr>\n",
       "  </tbody>\n",
       "</table>\n",
       "</div>"
      ],
      "text/plain": [
       "   Store_ID           City      State  Store_Type\n",
       "0         1     Saint Paul  Minnesota           4\n",
       "1         2     Saint Paul  Minnesota           4\n",
       "2         3     Saint Paul  Minnesota           4\n",
       "3         4     Saint Paul  Minnesota           4\n",
       "4         5  Oklahoma City   Oklahoma           4"
      ]
     },
     "execution_count": 14,
     "metadata": {},
     "output_type": "execute_result"
    }
   ],
   "source": [
    "stores.head()"
   ]
  },
  {
   "cell_type": "markdown",
   "metadata": {
    "id": "_QkN9xQsUJ2P"
   },
   "source": [
    "## **2.결합1 : 붙이기 concat()**"
   ]
  },
  {
   "cell_type": "markdown",
   "metadata": {
    "id": "MarKYX5hU8hf"
   },
   "source": [
    "* 데이터를 생성해 봅시다."
   ]
  },
  {
   "cell_type": "code",
   "execution_count": 16,
   "metadata": {
    "colab": {
     "base_uri": "https://localhost:8080/",
     "height": 207
    },
    "executionInfo": {
     "elapsed": 18,
     "status": "ok",
     "timestamp": 1673585654352,
     "user": {
      "displayName": "한기영",
      "userId": "13049187003176135487"
     },
     "user_tz": -540
    },
    "id": "wZ_EzvagUX4Z",
    "outputId": "68b7fa7e-0e7c-40f2-9483-df07f681a78d"
   },
   "outputs": [
    {
     "data": {
      "text/html": [
       "<div>\n",
       "<style scoped>\n",
       "    .dataframe tbody tr th:only-of-type {\n",
       "        vertical-align: middle;\n",
       "    }\n",
       "\n",
       "    .dataframe tbody tr th {\n",
       "        vertical-align: top;\n",
       "    }\n",
       "\n",
       "    .dataframe thead th {\n",
       "        text-align: right;\n",
       "    }\n",
       "</style>\n",
       "<table border=\"1\" class=\"dataframe\">\n",
       "  <thead>\n",
       "    <tr style=\"text-align: right;\">\n",
       "      <th></th>\n",
       "      <th>A</th>\n",
       "      <th>B</th>\n",
       "    </tr>\n",
       "  </thead>\n",
       "  <tbody>\n",
       "    <tr>\n",
       "      <th>0</th>\n",
       "      <td>10</td>\n",
       "      <td>15</td>\n",
       "    </tr>\n",
       "    <tr>\n",
       "      <th>1</th>\n",
       "      <td>25</td>\n",
       "      <td>30</td>\n",
       "    </tr>\n",
       "  </tbody>\n",
       "</table>\n",
       "</div>"
      ],
      "text/plain": [
       "    A   B\n",
       "0  10  15\n",
       "1  25  30"
      ]
     },
     "metadata": {},
     "output_type": "display_data"
    },
    {
     "data": {
      "text/html": [
       "<div>\n",
       "<style scoped>\n",
       "    .dataframe tbody tr th:only-of-type {\n",
       "        vertical-align: middle;\n",
       "    }\n",
       "\n",
       "    .dataframe tbody tr th {\n",
       "        vertical-align: top;\n",
       "    }\n",
       "\n",
       "    .dataframe thead th {\n",
       "        text-align: right;\n",
       "    }\n",
       "</style>\n",
       "<table border=\"1\" class=\"dataframe\">\n",
       "  <thead>\n",
       "    <tr style=\"text-align: right;\">\n",
       "      <th></th>\n",
       "      <th>A</th>\n",
       "      <th>C</th>\n",
       "    </tr>\n",
       "  </thead>\n",
       "  <tbody>\n",
       "    <tr>\n",
       "      <th>0</th>\n",
       "      <td>20</td>\n",
       "      <td>35</td>\n",
       "    </tr>\n",
       "    <tr>\n",
       "      <th>2</th>\n",
       "      <td>50</td>\n",
       "      <td>40</td>\n",
       "    </tr>\n",
       "  </tbody>\n",
       "</table>\n",
       "</div>"
      ],
      "text/plain": [
       "    A   C\n",
       "0  20  35\n",
       "2  50  40"
      ]
     },
     "metadata": {},
     "output_type": "display_data"
    }
   ],
   "source": [
    "df1 = pd.DataFrame({'A':[10,25], 'B':[15,30]})\n",
    "df2 = pd.DataFrame({'A':[20,30, 50], 'C':[35,30, 40]})\n",
    "df2.drop([1], inplace = True)\n",
    "\n",
    "display(df1)\n",
    "display(df2)"
   ]
  },
  {
   "cell_type": "markdown",
   "metadata": {
    "id": "clAUrp5XVCA9"
   },
   "source": [
    "### **(1) 세로로 합치기 : axis = 0**"
   ]
  },
  {
   "cell_type": "markdown",
   "metadata": {
    "id": "STeaVJv0VJb4"
   },
   "source": [
    "* join = 'inner'"
   ]
  },
  {
   "cell_type": "code",
   "execution_count": 18,
   "metadata": {
    "colab": {
     "base_uri": "https://localhost:8080/",
     "height": 175
    },
    "executionInfo": {
     "elapsed": 704,
     "status": "ok",
     "timestamp": 1673585655040,
     "user": {
      "displayName": "한기영",
      "userId": "13049187003176135487"
     },
     "user_tz": -540
    },
    "id": "7VKskmgyU7_D",
    "outputId": "64d15156-ea07-4446-a5b5-f22b13db78a6"
   },
   "outputs": [
    {
     "data": {
      "text/html": [
       "<div>\n",
       "<style scoped>\n",
       "    .dataframe tbody tr th:only-of-type {\n",
       "        vertical-align: middle;\n",
       "    }\n",
       "\n",
       "    .dataframe tbody tr th {\n",
       "        vertical-align: top;\n",
       "    }\n",
       "\n",
       "    .dataframe thead th {\n",
       "        text-align: right;\n",
       "    }\n",
       "</style>\n",
       "<table border=\"1\" class=\"dataframe\">\n",
       "  <thead>\n",
       "    <tr style=\"text-align: right;\">\n",
       "      <th></th>\n",
       "      <th>A</th>\n",
       "    </tr>\n",
       "  </thead>\n",
       "  <tbody>\n",
       "    <tr>\n",
       "      <th>0</th>\n",
       "      <td>10</td>\n",
       "    </tr>\n",
       "    <tr>\n",
       "      <th>1</th>\n",
       "      <td>25</td>\n",
       "    </tr>\n",
       "    <tr>\n",
       "      <th>0</th>\n",
       "      <td>20</td>\n",
       "    </tr>\n",
       "    <tr>\n",
       "      <th>2</th>\n",
       "      <td>50</td>\n",
       "    </tr>\n",
       "  </tbody>\n",
       "</table>\n",
       "</div>"
      ],
      "text/plain": [
       "    A\n",
       "0  10\n",
       "1  25\n",
       "0  20\n",
       "2  50"
      ]
     },
     "execution_count": 18,
     "metadata": {},
     "output_type": "execute_result"
    }
   ],
   "source": [
    "pd.concat([df1, df2], axis = 0, join = 'inner')                                                                                                                                        "
   ]
  },
  {
   "cell_type": "markdown",
   "metadata": {
    "id": "Pa4EFD-uVSj_"
   },
   "source": [
    "* join = 'outer'"
   ]
  },
  {
   "cell_type": "code",
   "execution_count": 20,
   "metadata": {
    "colab": {
     "base_uri": "https://localhost:8080/",
     "height": 175
    },
    "executionInfo": {
     "elapsed": 90,
     "status": "ok",
     "timestamp": 1673585655041,
     "user": {
      "displayName": "한기영",
      "userId": "13049187003176135487"
     },
     "user_tz": -540
    },
    "id": "S_sMDGzsVSkA",
    "outputId": "8478b156-eb33-450b-f837-988b5d9c1405"
   },
   "outputs": [
    {
     "data": {
      "text/html": [
       "<div>\n",
       "<style scoped>\n",
       "    .dataframe tbody tr th:only-of-type {\n",
       "        vertical-align: middle;\n",
       "    }\n",
       "\n",
       "    .dataframe tbody tr th {\n",
       "        vertical-align: top;\n",
       "    }\n",
       "\n",
       "    .dataframe thead th {\n",
       "        text-align: right;\n",
       "    }\n",
       "</style>\n",
       "<table border=\"1\" class=\"dataframe\">\n",
       "  <thead>\n",
       "    <tr style=\"text-align: right;\">\n",
       "      <th></th>\n",
       "      <th>A</th>\n",
       "      <th>B</th>\n",
       "      <th>C</th>\n",
       "    </tr>\n",
       "  </thead>\n",
       "  <tbody>\n",
       "    <tr>\n",
       "      <th>0</th>\n",
       "      <td>10</td>\n",
       "      <td>15.0</td>\n",
       "      <td>NaN</td>\n",
       "    </tr>\n",
       "    <tr>\n",
       "      <th>1</th>\n",
       "      <td>25</td>\n",
       "      <td>30.0</td>\n",
       "      <td>NaN</td>\n",
       "    </tr>\n",
       "    <tr>\n",
       "      <th>0</th>\n",
       "      <td>20</td>\n",
       "      <td>NaN</td>\n",
       "      <td>35.0</td>\n",
       "    </tr>\n",
       "    <tr>\n",
       "      <th>2</th>\n",
       "      <td>50</td>\n",
       "      <td>NaN</td>\n",
       "      <td>40.0</td>\n",
       "    </tr>\n",
       "  </tbody>\n",
       "</table>\n",
       "</div>"
      ],
      "text/plain": [
       "    A     B     C\n",
       "0  10  15.0   NaN\n",
       "1  25  30.0   NaN\n",
       "0  20   NaN  35.0\n",
       "2  50   NaN  40.0"
      ]
     },
     "execution_count": 20,
     "metadata": {},
     "output_type": "execute_result"
    }
   ],
   "source": [
    "pd.concat([df1, df2], axis = 0, join = 'outer')"
   ]
  },
  {
   "cell_type": "markdown",
   "metadata": {
    "id": "z-IlfZMAVXdZ"
   },
   "source": [
    "### **(2) 가로로 합치기 : axis = 1**"
   ]
  },
  {
   "cell_type": "markdown",
   "metadata": {
    "id": "Ur9ZFS9rVXda"
   },
   "source": [
    "* join = 'inner'"
   ]
  },
  {
   "cell_type": "code",
   "execution_count": 22,
   "metadata": {
    "colab": {
     "base_uri": "https://localhost:8080/",
     "height": 81
    },
    "executionInfo": {
     "elapsed": 89,
     "status": "ok",
     "timestamp": 1673585655043,
     "user": {
      "displayName": "한기영",
      "userId": "13049187003176135487"
     },
     "user_tz": -540
    },
    "id": "Vhoat2HVVXda",
    "outputId": "491a5bc6-9d71-4675-a702-615f738363da"
   },
   "outputs": [
    {
     "data": {
      "text/html": [
       "<div>\n",
       "<style scoped>\n",
       "    .dataframe tbody tr th:only-of-type {\n",
       "        vertical-align: middle;\n",
       "    }\n",
       "\n",
       "    .dataframe tbody tr th {\n",
       "        vertical-align: top;\n",
       "    }\n",
       "\n",
       "    .dataframe thead th {\n",
       "        text-align: right;\n",
       "    }\n",
       "</style>\n",
       "<table border=\"1\" class=\"dataframe\">\n",
       "  <thead>\n",
       "    <tr style=\"text-align: right;\">\n",
       "      <th></th>\n",
       "      <th>A</th>\n",
       "      <th>B</th>\n",
       "      <th>A</th>\n",
       "      <th>C</th>\n",
       "    </tr>\n",
       "  </thead>\n",
       "  <tbody>\n",
       "    <tr>\n",
       "      <th>0</th>\n",
       "      <td>10</td>\n",
       "      <td>15</td>\n",
       "      <td>20</td>\n",
       "      <td>35</td>\n",
       "    </tr>\n",
       "  </tbody>\n",
       "</table>\n",
       "</div>"
      ],
      "text/plain": [
       "    A   B   A   C\n",
       "0  10  15  20  35"
      ]
     },
     "execution_count": 22,
     "metadata": {},
     "output_type": "execute_result"
    }
   ],
   "source": [
    "pd.concat([df1, df2], axis = 1, join = 'inner')"
   ]
  },
  {
   "cell_type": "markdown",
   "metadata": {
    "id": "wduBNunVVXda"
   },
   "source": [
    "* join = 'outer'"
   ]
  },
  {
   "cell_type": "code",
   "execution_count": 24,
   "metadata": {
    "colab": {
     "base_uri": "https://localhost:8080/",
     "height": 143
    },
    "executionInfo": {
     "elapsed": 89,
     "status": "ok",
     "timestamp": 1673585655044,
     "user": {
      "displayName": "한기영",
      "userId": "13049187003176135487"
     },
     "user_tz": -540
    },
    "id": "qkscVsGgVXda",
    "outputId": "1cafbbe9-6fce-4b0e-bfc3-28eb775858bb"
   },
   "outputs": [
    {
     "data": {
      "text/html": [
       "<div>\n",
       "<style scoped>\n",
       "    .dataframe tbody tr th:only-of-type {\n",
       "        vertical-align: middle;\n",
       "    }\n",
       "\n",
       "    .dataframe tbody tr th {\n",
       "        vertical-align: top;\n",
       "    }\n",
       "\n",
       "    .dataframe thead th {\n",
       "        text-align: right;\n",
       "    }\n",
       "</style>\n",
       "<table border=\"1\" class=\"dataframe\">\n",
       "  <thead>\n",
       "    <tr style=\"text-align: right;\">\n",
       "      <th></th>\n",
       "      <th>A</th>\n",
       "      <th>B</th>\n",
       "      <th>A</th>\n",
       "      <th>C</th>\n",
       "    </tr>\n",
       "  </thead>\n",
       "  <tbody>\n",
       "    <tr>\n",
       "      <th>0</th>\n",
       "      <td>10.0</td>\n",
       "      <td>15.0</td>\n",
       "      <td>20.0</td>\n",
       "      <td>35.0</td>\n",
       "    </tr>\n",
       "    <tr>\n",
       "      <th>1</th>\n",
       "      <td>25.0</td>\n",
       "      <td>30.0</td>\n",
       "      <td>NaN</td>\n",
       "      <td>NaN</td>\n",
       "    </tr>\n",
       "    <tr>\n",
       "      <th>2</th>\n",
       "      <td>NaN</td>\n",
       "      <td>NaN</td>\n",
       "      <td>50.0</td>\n",
       "      <td>40.0</td>\n",
       "    </tr>\n",
       "  </tbody>\n",
       "</table>\n",
       "</div>"
      ],
      "text/plain": [
       "      A     B     A     C\n",
       "0  10.0  15.0  20.0  35.0\n",
       "1  25.0  30.0   NaN   NaN\n",
       "2   NaN   NaN  50.0  40.0"
      ]
     },
     "execution_count": 24,
     "metadata": {},
     "output_type": "execute_result"
    }
   ],
   "source": [
    "pd.concat([df1, df2], axis = 1, join = 'outer')"
   ]
  },
  {
   "cell_type": "markdown",
   "metadata": {
    "id": "FCNi3cMP-1T6"
   },
   "source": [
    "<img src='https://raw.githubusercontent.com/jangrae/img/master/practice_01.png' width=120 align=\"left\"/>"
   ]
  },
  {
   "cell_type": "markdown",
   "metadata": {
    "id": "BB42jPlS-1UL"
   },
   "source": [
    "[문1] sales1,2,5,11 데이터프레임을 하나로 합칩시다. 어떻게 합치는게 좋을까요?"
   ]
  },
  {
   "cell_type": "code",
   "execution_count": 82,
   "metadata": {
    "id": "Ogxjfp_s_NKU"
   },
   "outputs": [
    {
     "data": {
      "text/html": [
       "<div>\n",
       "<style scoped>\n",
       "    .dataframe tbody tr th:only-of-type {\n",
       "        vertical-align: middle;\n",
       "    }\n",
       "\n",
       "    .dataframe tbody tr th {\n",
       "        vertical-align: top;\n",
       "    }\n",
       "\n",
       "    .dataframe thead th {\n",
       "        text-align: right;\n",
       "    }\n",
       "</style>\n",
       "<table border=\"1\" class=\"dataframe\">\n",
       "  <thead>\n",
       "    <tr style=\"text-align: right;\">\n",
       "      <th></th>\n",
       "      <th>Order_ID</th>\n",
       "      <th>Date</th>\n",
       "      <th>Store_ID</th>\n",
       "      <th>Qty</th>\n",
       "      <th>Product_ID</th>\n",
       "    </tr>\n",
       "  </thead>\n",
       "  <tbody>\n",
       "    <tr>\n",
       "      <th>0</th>\n",
       "      <td>3</td>\n",
       "      <td>2013-01-01</td>\n",
       "      <td>1</td>\n",
       "      <td>0.000</td>\n",
       "      <td>3</td>\n",
       "    </tr>\n",
       "    <tr>\n",
       "      <th>1</th>\n",
       "      <td>5</td>\n",
       "      <td>2013-01-01</td>\n",
       "      <td>1</td>\n",
       "      <td>0.000</td>\n",
       "      <td>5</td>\n",
       "    </tr>\n",
       "    <tr>\n",
       "      <th>2</th>\n",
       "      <td>7</td>\n",
       "      <td>2013-01-01</td>\n",
       "      <td>1</td>\n",
       "      <td>0.000</td>\n",
       "      <td>7</td>\n",
       "    </tr>\n",
       "    <tr>\n",
       "      <th>3</th>\n",
       "      <td>8</td>\n",
       "      <td>2013-01-01</td>\n",
       "      <td>1</td>\n",
       "      <td>0.000</td>\n",
       "      <td>8</td>\n",
       "    </tr>\n",
       "    <tr>\n",
       "      <th>4</th>\n",
       "      <td>10</td>\n",
       "      <td>2013-01-01</td>\n",
       "      <td>1</td>\n",
       "      <td>0.000</td>\n",
       "      <td>10</td>\n",
       "    </tr>\n",
       "    <tr>\n",
       "      <th>...</th>\n",
       "      <td>...</td>\n",
       "      <td>...</td>\n",
       "      <td>...</td>\n",
       "      <td>...</td>\n",
       "      <td>...</td>\n",
       "    </tr>\n",
       "    <tr>\n",
       "      <th>24340</th>\n",
       "      <td>53548</td>\n",
       "      <td>2013-01-31</td>\n",
       "      <td>11</td>\n",
       "      <td>10.000</td>\n",
       "      <td>22</td>\n",
       "    </tr>\n",
       "    <tr>\n",
       "      <th>24341</th>\n",
       "      <td>53550</td>\n",
       "      <td>2013-01-31</td>\n",
       "      <td>11</td>\n",
       "      <td>641.507</td>\n",
       "      <td>24</td>\n",
       "    </tr>\n",
       "    <tr>\n",
       "      <th>24342</th>\n",
       "      <td>53553</td>\n",
       "      <td>2013-01-31</td>\n",
       "      <td>11</td>\n",
       "      <td>0.000</td>\n",
       "      <td>27</td>\n",
       "    </tr>\n",
       "    <tr>\n",
       "      <th>24343</th>\n",
       "      <td>53555</td>\n",
       "      <td>2013-01-31</td>\n",
       "      <td>11</td>\n",
       "      <td>27.000</td>\n",
       "      <td>29</td>\n",
       "    </tr>\n",
       "    <tr>\n",
       "      <th>24344</th>\n",
       "      <td>53558</td>\n",
       "      <td>2013-01-31</td>\n",
       "      <td>11</td>\n",
       "      <td>13.000</td>\n",
       "      <td>32</td>\n",
       "    </tr>\n",
       "  </tbody>\n",
       "</table>\n",
       "<p>1860 rows × 5 columns</p>\n",
       "</div>"
      ],
      "text/plain": [
       "       Order_ID        Date  Store_ID      Qty  Product_ID\n",
       "0             3  2013-01-01         1    0.000           3\n",
       "1             5  2013-01-01         1    0.000           5\n",
       "2             7  2013-01-01         1    0.000           7\n",
       "3             8  2013-01-01         1    0.000           8\n",
       "4            10  2013-01-01         1    0.000          10\n",
       "...         ...         ...       ...      ...         ...\n",
       "24340     53548  2013-01-31        11   10.000          22\n",
       "24341     53550  2013-01-31        11  641.507          24\n",
       "24342     53553  2013-01-31        11    0.000          27\n",
       "24343     53555  2013-01-31        11   27.000          29\n",
       "24344     53558  2013-01-31        11   13.000          32\n",
       "\n",
       "[1860 rows x 5 columns]"
      ]
     },
     "execution_count": 82,
     "metadata": {},
     "output_type": "execute_result"
    }
   ],
   "source": [
    "temp=pd.concat([sales1,sales2,sales5,sales11],axis=0)\n",
    "temp"
   ]
  },
  {
   "cell_type": "markdown",
   "metadata": {
    "id": "LmDxMpPyWU0u"
   },
   "source": [
    "[문2] (조금 어려운 문제!)  \n",
    "일별, 매장별 판매량 합계를 구해 봅시다.  \n",
    "groupby, pd.concat 을 이용하여 다음과 같은 결과를 얻도록 코드를 작성해봅시다.\n",
    "\n",
    "* 힌트\n",
    "    * 1) sales1, 2, 5,11 로 부터 각각 일별 판매량 합계 집계하기\n",
    "        * 집계시 .agg() 를 이용하여 열이름 변경하거나, 집계후 열이름 변경하기\n",
    "    * 2) pd.concat 으로 가로로 합치기\n",
    "\n"
   ]
  },
  {
   "cell_type": "code",
   "execution_count": 39,
   "metadata": {},
   "outputs": [
    {
     "data": {
      "text/plain": [
       "['Order_ID', 'Date', 'Store_ID', 'Qty', 'Product_ID']"
      ]
     },
     "execution_count": 39,
     "metadata": {},
     "output_type": "execute_result"
    }
   ],
   "source": [
    "list(sales1)"
   ]
  },
  {
   "cell_type": "code",
   "execution_count": null,
   "metadata": {},
   "outputs": [],
   "source": [
    "#내 방법"
   ]
  },
  {
   "cell_type": "code",
   "execution_count": 53,
   "metadata": {
    "id": "b6PCePHYWU0v"
   },
   "outputs": [],
   "source": [
    "sales1_sum=sales1.groupby('Date','Stored_ID',as_index=False)[['Qty']].sum()"
   ]
  },
  {
   "cell_type": "code",
   "execution_count": 55,
   "metadata": {},
   "outputs": [],
   "source": [
    "sales2_sum=sales2.groupby('Date','Stored_ID',as_index=False)[['Qty']].sum()"
   ]
  },
  {
   "cell_type": "code",
   "execution_count": 57,
   "metadata": {},
   "outputs": [],
   "source": [
    "sales5_sum=sales5.groupby('Date','Stored_ID',as_index=False)[['Qty']].sum()"
   ]
  },
  {
   "cell_type": "code",
   "execution_count": 59,
   "metadata": {
    "colab": {
     "base_uri": "https://localhost:8080/",
     "height": 1000
    },
    "executionInfo": {
     "elapsed": 84,
     "status": "ok",
     "timestamp": 1673585655047,
     "user": {
      "displayName": "한기영",
      "userId": "13049187003176135487"
     },
     "user_tz": -540
    },
    "id": "7ztfAQDYX8jh",
    "outputId": "cd695958-4c5b-4816-c85f-c028f4564e5c"
   },
   "outputs": [],
   "source": [
    "sales11_sum=sales11.groupby('Date','Stored_ID',as_index=False)[['Qty']].sum()"
   ]
  },
  {
   "cell_type": "code",
   "execution_count": 70,
   "metadata": {},
   "outputs": [
    {
     "data": {
      "text/html": [
       "<div>\n",
       "<style scoped>\n",
       "    .dataframe tbody tr th:only-of-type {\n",
       "        vertical-align: middle;\n",
       "    }\n",
       "\n",
       "    .dataframe tbody tr th {\n",
       "        vertical-align: top;\n",
       "    }\n",
       "\n",
       "    .dataframe thead th {\n",
       "        text-align: right;\n",
       "    }\n",
       "</style>\n",
       "<table border=\"1\" class=\"dataframe\">\n",
       "  <thead>\n",
       "    <tr style=\"text-align: right;\">\n",
       "      <th></th>\n",
       "      <th>Date</th>\n",
       "      <th>Qty</th>\n",
       "      <th>Date</th>\n",
       "      <th>Qty</th>\n",
       "      <th>Date</th>\n",
       "      <th>Qty</th>\n",
       "      <th>Date</th>\n",
       "      <th>Qty</th>\n",
       "    </tr>\n",
       "  </thead>\n",
       "  <tbody>\n",
       "    <tr>\n",
       "      <th>0</th>\n",
       "      <td>2013-01-01</td>\n",
       "      <td>0.000000</td>\n",
       "      <td>2013-01-01</td>\n",
       "      <td>0.000000</td>\n",
       "      <td>2013-01-01</td>\n",
       "      <td>0.000000</td>\n",
       "      <td>2013-01-01</td>\n",
       "      <td>0.000000</td>\n",
       "    </tr>\n",
       "    <tr>\n",
       "      <th>1</th>\n",
       "      <td>2013-01-02</td>\n",
       "      <td>6760.782000</td>\n",
       "      <td>2013-01-02</td>\n",
       "      <td>9221.338001</td>\n",
       "      <td>2013-01-02</td>\n",
       "      <td>9404.229020</td>\n",
       "      <td>2013-01-02</td>\n",
       "      <td>16593.312000</td>\n",
       "    </tr>\n",
       "    <tr>\n",
       "      <th>2</th>\n",
       "      <td>2013-01-03</td>\n",
       "      <td>5348.384001</td>\n",
       "      <td>2013-01-03</td>\n",
       "      <td>6830.089000</td>\n",
       "      <td>2013-01-03</td>\n",
       "      <td>6932.685000</td>\n",
       "      <td>2013-01-03</td>\n",
       "      <td>11032.676040</td>\n",
       "    </tr>\n",
       "    <tr>\n",
       "      <th>3</th>\n",
       "      <td>2013-01-04</td>\n",
       "      <td>5390.445001</td>\n",
       "      <td>2013-01-04</td>\n",
       "      <td>6742.984000</td>\n",
       "      <td>2013-01-04</td>\n",
       "      <td>6567.938000</td>\n",
       "      <td>2013-01-04</td>\n",
       "      <td>10962.687002</td>\n",
       "    </tr>\n",
       "    <tr>\n",
       "      <th>4</th>\n",
       "      <td>2013-01-05</td>\n",
       "      <td>5787.839000</td>\n",
       "      <td>2013-01-05</td>\n",
       "      <td>8583.055000</td>\n",
       "      <td>2013-01-05</td>\n",
       "      <td>7276.800000</td>\n",
       "      <td>2013-01-05</td>\n",
       "      <td>13315.896000</td>\n",
       "    </tr>\n",
       "    <tr>\n",
       "      <th>5</th>\n",
       "      <td>2013-01-06</td>\n",
       "      <td>2007.194000</td>\n",
       "      <td>2013-01-06</td>\n",
       "      <td>9317.139000</td>\n",
       "      <td>2013-01-06</td>\n",
       "      <td>9578.077030</td>\n",
       "      <td>2013-01-06</td>\n",
       "      <td>14165.615050</td>\n",
       "    </tr>\n",
       "    <tr>\n",
       "      <th>6</th>\n",
       "      <td>2013-01-07</td>\n",
       "      <td>5639.396000</td>\n",
       "      <td>2013-01-07</td>\n",
       "      <td>6047.629000</td>\n",
       "      <td>2013-01-07</td>\n",
       "      <td>5729.203000</td>\n",
       "      <td>2013-01-07</td>\n",
       "      <td>9946.420000</td>\n",
       "    </tr>\n",
       "    <tr>\n",
       "      <th>7</th>\n",
       "      <td>2013-01-08</td>\n",
       "      <td>5131.128000</td>\n",
       "      <td>2013-01-08</td>\n",
       "      <td>5545.928020</td>\n",
       "      <td>2013-01-08</td>\n",
       "      <td>5716.248000</td>\n",
       "      <td>2013-01-08</td>\n",
       "      <td>9258.956000</td>\n",
       "    </tr>\n",
       "    <tr>\n",
       "      <th>8</th>\n",
       "      <td>2013-01-09</td>\n",
       "      <td>6198.154980</td>\n",
       "      <td>2013-01-09</td>\n",
       "      <td>6061.471020</td>\n",
       "      <td>2013-01-09</td>\n",
       "      <td>5352.507000</td>\n",
       "      <td>2013-01-09</td>\n",
       "      <td>8644.922000</td>\n",
       "    </tr>\n",
       "    <tr>\n",
       "      <th>9</th>\n",
       "      <td>2013-01-10</td>\n",
       "      <td>4309.750000</td>\n",
       "      <td>2013-01-10</td>\n",
       "      <td>5070.431000</td>\n",
       "      <td>2013-01-10</td>\n",
       "      <td>5319.121020</td>\n",
       "      <td>2013-01-10</td>\n",
       "      <td>8470.169000</td>\n",
       "    </tr>\n",
       "    <tr>\n",
       "      <th>10</th>\n",
       "      <td>2013-01-11</td>\n",
       "      <td>5053.745980</td>\n",
       "      <td>2013-01-11</td>\n",
       "      <td>5822.891982</td>\n",
       "      <td>2013-01-11</td>\n",
       "      <td>5786.585000</td>\n",
       "      <td>2013-01-11</td>\n",
       "      <td>7316.129000</td>\n",
       "    </tr>\n",
       "    <tr>\n",
       "      <th>11</th>\n",
       "      <td>2013-01-12</td>\n",
       "      <td>5073.569980</td>\n",
       "      <td>2013-01-12</td>\n",
       "      <td>7479.722000</td>\n",
       "      <td>2013-01-12</td>\n",
       "      <td>6246.480000</td>\n",
       "      <td>2013-01-12</td>\n",
       "      <td>10959.593000</td>\n",
       "    </tr>\n",
       "    <tr>\n",
       "      <th>12</th>\n",
       "      <td>2013-01-13</td>\n",
       "      <td>2482.635000</td>\n",
       "      <td>2013-01-13</td>\n",
       "      <td>9059.072000</td>\n",
       "      <td>2013-01-13</td>\n",
       "      <td>8299.981000</td>\n",
       "      <td>2013-01-13</td>\n",
       "      <td>10857.623960</td>\n",
       "    </tr>\n",
       "    <tr>\n",
       "      <th>13</th>\n",
       "      <td>2013-01-14</td>\n",
       "      <td>5192.406000</td>\n",
       "      <td>2013-01-14</td>\n",
       "      <td>5404.198000</td>\n",
       "      <td>2013-01-14</td>\n",
       "      <td>5398.938000</td>\n",
       "      <td>2013-01-14</td>\n",
       "      <td>7789.259030</td>\n",
       "    </tr>\n",
       "    <tr>\n",
       "      <th>14</th>\n",
       "      <td>2013-01-15</td>\n",
       "      <td>4774.043000</td>\n",
       "      <td>2013-01-15</td>\n",
       "      <td>5255.754000</td>\n",
       "      <td>2013-01-15</td>\n",
       "      <td>5528.819000</td>\n",
       "      <td>2013-01-15</td>\n",
       "      <td>8215.977970</td>\n",
       "    </tr>\n",
       "    <tr>\n",
       "      <th>15</th>\n",
       "      <td>2013-01-16</td>\n",
       "      <td>6210.563002</td>\n",
       "      <td>2013-01-16</td>\n",
       "      <td>6543.510000</td>\n",
       "      <td>2013-01-16</td>\n",
       "      <td>6147.083980</td>\n",
       "      <td>2013-01-16</td>\n",
       "      <td>7540.355000</td>\n",
       "    </tr>\n",
       "    <tr>\n",
       "      <th>16</th>\n",
       "      <td>2013-01-17</td>\n",
       "      <td>4544.486000</td>\n",
       "      <td>2013-01-17</td>\n",
       "      <td>5214.799020</td>\n",
       "      <td>2013-01-17</td>\n",
       "      <td>5109.820000</td>\n",
       "      <td>2013-01-17</td>\n",
       "      <td>7395.201000</td>\n",
       "    </tr>\n",
       "    <tr>\n",
       "      <th>17</th>\n",
       "      <td>2013-01-18</td>\n",
       "      <td>5419.165001</td>\n",
       "      <td>2013-01-18</td>\n",
       "      <td>6668.457000</td>\n",
       "      <td>2013-01-18</td>\n",
       "      <td>5043.555000</td>\n",
       "      <td>2013-01-18</td>\n",
       "      <td>7918.020000</td>\n",
       "    </tr>\n",
       "    <tr>\n",
       "      <th>18</th>\n",
       "      <td>2013-01-19</td>\n",
       "      <td>5447.259000</td>\n",
       "      <td>2013-01-19</td>\n",
       "      <td>8016.393000</td>\n",
       "      <td>2013-01-19</td>\n",
       "      <td>6228.933000</td>\n",
       "      <td>2013-01-19</td>\n",
       "      <td>11044.523000</td>\n",
       "    </tr>\n",
       "    <tr>\n",
       "      <th>19</th>\n",
       "      <td>2013-01-20</td>\n",
       "      <td>2153.939995</td>\n",
       "      <td>2013-01-20</td>\n",
       "      <td>8932.121020</td>\n",
       "      <td>2013-01-20</td>\n",
       "      <td>8204.085000</td>\n",
       "      <td>2013-01-20</td>\n",
       "      <td>11211.312000</td>\n",
       "    </tr>\n",
       "    <tr>\n",
       "      <th>20</th>\n",
       "      <td>2013-01-21</td>\n",
       "      <td>4784.614020</td>\n",
       "      <td>2013-01-21</td>\n",
       "      <td>6380.861000</td>\n",
       "      <td>2013-01-21</td>\n",
       "      <td>5511.559999</td>\n",
       "      <td>2013-01-21</td>\n",
       "      <td>9088.764040</td>\n",
       "    </tr>\n",
       "    <tr>\n",
       "      <th>21</th>\n",
       "      <td>2013-01-22</td>\n",
       "      <td>4922.417000</td>\n",
       "      <td>2013-01-22</td>\n",
       "      <td>5658.953001</td>\n",
       "      <td>2013-01-22</td>\n",
       "      <td>5426.481000</td>\n",
       "      <td>2013-01-22</td>\n",
       "      <td>7967.939000</td>\n",
       "    </tr>\n",
       "    <tr>\n",
       "      <th>22</th>\n",
       "      <td>2013-01-23</td>\n",
       "      <td>5770.343000</td>\n",
       "      <td>2013-01-23</td>\n",
       "      <td>6056.067000</td>\n",
       "      <td>2013-01-23</td>\n",
       "      <td>5624.662000</td>\n",
       "      <td>2013-01-23</td>\n",
       "      <td>7246.130000</td>\n",
       "    </tr>\n",
       "    <tr>\n",
       "      <th>23</th>\n",
       "      <td>2013-01-24</td>\n",
       "      <td>4559.193000</td>\n",
       "      <td>2013-01-24</td>\n",
       "      <td>4608.736000</td>\n",
       "      <td>2013-01-24</td>\n",
       "      <td>5053.194000</td>\n",
       "      <td>2013-01-24</td>\n",
       "      <td>7802.938000</td>\n",
       "    </tr>\n",
       "    <tr>\n",
       "      <th>24</th>\n",
       "      <td>2013-01-25</td>\n",
       "      <td>5144.064000</td>\n",
       "      <td>2013-01-25</td>\n",
       "      <td>6096.080000</td>\n",
       "      <td>2013-01-25</td>\n",
       "      <td>5591.837000</td>\n",
       "      <td>2013-01-25</td>\n",
       "      <td>7977.591980</td>\n",
       "    </tr>\n",
       "    <tr>\n",
       "      <th>25</th>\n",
       "      <td>2013-01-26</td>\n",
       "      <td>4820.926000</td>\n",
       "      <td>2013-01-26</td>\n",
       "      <td>7550.064982</td>\n",
       "      <td>2013-01-26</td>\n",
       "      <td>6232.117000</td>\n",
       "      <td>2013-01-26</td>\n",
       "      <td>10446.452000</td>\n",
       "    </tr>\n",
       "    <tr>\n",
       "      <th>26</th>\n",
       "      <td>2013-01-27</td>\n",
       "      <td>2242.990000</td>\n",
       "      <td>2013-01-27</td>\n",
       "      <td>8169.363000</td>\n",
       "      <td>2013-01-27</td>\n",
       "      <td>6562.350000</td>\n",
       "      <td>2013-01-27</td>\n",
       "      <td>10590.136000</td>\n",
       "    </tr>\n",
       "    <tr>\n",
       "      <th>27</th>\n",
       "      <td>2013-01-28</td>\n",
       "      <td>4484.428000</td>\n",
       "      <td>2013-01-28</td>\n",
       "      <td>5111.355000</td>\n",
       "      <td>2013-01-28</td>\n",
       "      <td>5595.128020</td>\n",
       "      <td>2013-01-28</td>\n",
       "      <td>8419.120000</td>\n",
       "    </tr>\n",
       "    <tr>\n",
       "      <th>28</th>\n",
       "      <td>2013-01-29</td>\n",
       "      <td>4285.201001</td>\n",
       "      <td>2013-01-29</td>\n",
       "      <td>5210.258000</td>\n",
       "      <td>2013-01-29</td>\n",
       "      <td>4720.338000</td>\n",
       "      <td>2013-01-29</td>\n",
       "      <td>6970.078000</td>\n",
       "    </tr>\n",
       "    <tr>\n",
       "      <th>29</th>\n",
       "      <td>2013-01-30</td>\n",
       "      <td>5634.577000</td>\n",
       "      <td>2013-01-30</td>\n",
       "      <td>5956.379000</td>\n",
       "      <td>2013-01-30</td>\n",
       "      <td>5071.153000</td>\n",
       "      <td>2013-01-30</td>\n",
       "      <td>7744.136020</td>\n",
       "    </tr>\n",
       "    <tr>\n",
       "      <th>30</th>\n",
       "      <td>2013-01-31</td>\n",
       "      <td>4341.563000</td>\n",
       "      <td>2013-01-31</td>\n",
       "      <td>4862.804996</td>\n",
       "      <td>2013-01-31</td>\n",
       "      <td>5230.479000</td>\n",
       "      <td>2013-01-31</td>\n",
       "      <td>8367.902000</td>\n",
       "    </tr>\n",
       "  </tbody>\n",
       "</table>\n",
       "</div>"
      ],
      "text/plain": [
       "          Date          Qty        Date          Qty        Date          Qty  \\\n",
       "0   2013-01-01     0.000000  2013-01-01     0.000000  2013-01-01     0.000000   \n",
       "1   2013-01-02  6760.782000  2013-01-02  9221.338001  2013-01-02  9404.229020   \n",
       "2   2013-01-03  5348.384001  2013-01-03  6830.089000  2013-01-03  6932.685000   \n",
       "3   2013-01-04  5390.445001  2013-01-04  6742.984000  2013-01-04  6567.938000   \n",
       "4   2013-01-05  5787.839000  2013-01-05  8583.055000  2013-01-05  7276.800000   \n",
       "5   2013-01-06  2007.194000  2013-01-06  9317.139000  2013-01-06  9578.077030   \n",
       "6   2013-01-07  5639.396000  2013-01-07  6047.629000  2013-01-07  5729.203000   \n",
       "7   2013-01-08  5131.128000  2013-01-08  5545.928020  2013-01-08  5716.248000   \n",
       "8   2013-01-09  6198.154980  2013-01-09  6061.471020  2013-01-09  5352.507000   \n",
       "9   2013-01-10  4309.750000  2013-01-10  5070.431000  2013-01-10  5319.121020   \n",
       "10  2013-01-11  5053.745980  2013-01-11  5822.891982  2013-01-11  5786.585000   \n",
       "11  2013-01-12  5073.569980  2013-01-12  7479.722000  2013-01-12  6246.480000   \n",
       "12  2013-01-13  2482.635000  2013-01-13  9059.072000  2013-01-13  8299.981000   \n",
       "13  2013-01-14  5192.406000  2013-01-14  5404.198000  2013-01-14  5398.938000   \n",
       "14  2013-01-15  4774.043000  2013-01-15  5255.754000  2013-01-15  5528.819000   \n",
       "15  2013-01-16  6210.563002  2013-01-16  6543.510000  2013-01-16  6147.083980   \n",
       "16  2013-01-17  4544.486000  2013-01-17  5214.799020  2013-01-17  5109.820000   \n",
       "17  2013-01-18  5419.165001  2013-01-18  6668.457000  2013-01-18  5043.555000   \n",
       "18  2013-01-19  5447.259000  2013-01-19  8016.393000  2013-01-19  6228.933000   \n",
       "19  2013-01-20  2153.939995  2013-01-20  8932.121020  2013-01-20  8204.085000   \n",
       "20  2013-01-21  4784.614020  2013-01-21  6380.861000  2013-01-21  5511.559999   \n",
       "21  2013-01-22  4922.417000  2013-01-22  5658.953001  2013-01-22  5426.481000   \n",
       "22  2013-01-23  5770.343000  2013-01-23  6056.067000  2013-01-23  5624.662000   \n",
       "23  2013-01-24  4559.193000  2013-01-24  4608.736000  2013-01-24  5053.194000   \n",
       "24  2013-01-25  5144.064000  2013-01-25  6096.080000  2013-01-25  5591.837000   \n",
       "25  2013-01-26  4820.926000  2013-01-26  7550.064982  2013-01-26  6232.117000   \n",
       "26  2013-01-27  2242.990000  2013-01-27  8169.363000  2013-01-27  6562.350000   \n",
       "27  2013-01-28  4484.428000  2013-01-28  5111.355000  2013-01-28  5595.128020   \n",
       "28  2013-01-29  4285.201001  2013-01-29  5210.258000  2013-01-29  4720.338000   \n",
       "29  2013-01-30  5634.577000  2013-01-30  5956.379000  2013-01-30  5071.153000   \n",
       "30  2013-01-31  4341.563000  2013-01-31  4862.804996  2013-01-31  5230.479000   \n",
       "\n",
       "          Date           Qty  \n",
       "0   2013-01-01      0.000000  \n",
       "1   2013-01-02  16593.312000  \n",
       "2   2013-01-03  11032.676040  \n",
       "3   2013-01-04  10962.687002  \n",
       "4   2013-01-05  13315.896000  \n",
       "5   2013-01-06  14165.615050  \n",
       "6   2013-01-07   9946.420000  \n",
       "7   2013-01-08   9258.956000  \n",
       "8   2013-01-09   8644.922000  \n",
       "9   2013-01-10   8470.169000  \n",
       "10  2013-01-11   7316.129000  \n",
       "11  2013-01-12  10959.593000  \n",
       "12  2013-01-13  10857.623960  \n",
       "13  2013-01-14   7789.259030  \n",
       "14  2013-01-15   8215.977970  \n",
       "15  2013-01-16   7540.355000  \n",
       "16  2013-01-17   7395.201000  \n",
       "17  2013-01-18   7918.020000  \n",
       "18  2013-01-19  11044.523000  \n",
       "19  2013-01-20  11211.312000  \n",
       "20  2013-01-21   9088.764040  \n",
       "21  2013-01-22   7967.939000  \n",
       "22  2013-01-23   7246.130000  \n",
       "23  2013-01-24   7802.938000  \n",
       "24  2013-01-25   7977.591980  \n",
       "25  2013-01-26  10446.452000  \n",
       "26  2013-01-27  10590.136000  \n",
       "27  2013-01-28   8419.120000  \n",
       "28  2013-01-29   6970.078000  \n",
       "29  2013-01-30   7744.136020  \n",
       "30  2013-01-31   8367.902000  "
      ]
     },
     "execution_count": 70,
     "metadata": {},
     "output_type": "execute_result"
    }
   ],
   "source": [
    "pd.concat([sales1_sum,sales2_sum,sales5_sum,sales11_sum],axis=1,join='outer')"
   ]
  },
  {
   "cell_type": "markdown",
   "metadata": {
    "id": "CJSLj5laWOaP"
   },
   "source": [
    "## **3.결합 ① : 조인 join(merge)**"
   ]
  },
  {
   "cell_type": "markdown",
   "metadata": {
    "id": "PzK83V1nWOaQ"
   },
   "source": [
    "* 판다스에서 join은 굉장히 간단합니다.\n",
    "* 자동으로 key를 잡아줍니다\n",
    "* default로 inner join을 합니다."
   ]
  },
  {
   "cell_type": "code",
   "execution_count": 88,
   "metadata": {
    "colab": {
     "base_uri": "https://localhost:8080/",
     "height": 207
    },
    "executionInfo": {
     "elapsed": 83,
     "status": "ok",
     "timestamp": 1673585655048,
     "user": {
      "displayName": "한기영",
      "userId": "13049187003176135487"
     },
     "user_tz": -540
    },
    "id": "nYGB163qWOaR",
    "outputId": "daeed5b7-6b2b-480f-aba5-1bd702a43dad"
   },
   "outputs": [
    {
     "data": {
      "text/html": [
       "<div>\n",
       "<style scoped>\n",
       "    .dataframe tbody tr th:only-of-type {\n",
       "        vertical-align: middle;\n",
       "    }\n",
       "\n",
       "    .dataframe tbody tr th {\n",
       "        vertical-align: top;\n",
       "    }\n",
       "\n",
       "    .dataframe thead th {\n",
       "        text-align: right;\n",
       "    }\n",
       "</style>\n",
       "<table border=\"1\" class=\"dataframe\">\n",
       "  <thead>\n",
       "    <tr style=\"text-align: right;\">\n",
       "      <th></th>\n",
       "      <th>A</th>\n",
       "      <th>B</th>\n",
       "      <th>C</th>\n",
       "    </tr>\n",
       "  </thead>\n",
       "  <tbody>\n",
       "    <tr>\n",
       "      <th>0</th>\n",
       "      <td>1</td>\n",
       "      <td>15</td>\n",
       "      <td>20</td>\n",
       "    </tr>\n",
       "    <tr>\n",
       "      <th>1</th>\n",
       "      <td>2</td>\n",
       "      <td>30</td>\n",
       "      <td>25</td>\n",
       "    </tr>\n",
       "  </tbody>\n",
       "</table>\n",
       "</div>"
      ],
      "text/plain": [
       "   A   B   C\n",
       "0  1  15  20\n",
       "1  2  30  25"
      ]
     },
     "metadata": {},
     "output_type": "display_data"
    },
    {
     "data": {
      "text/html": [
       "<div>\n",
       "<style scoped>\n",
       "    .dataframe tbody tr th:only-of-type {\n",
       "        vertical-align: middle;\n",
       "    }\n",
       "\n",
       "    .dataframe tbody tr th {\n",
       "        vertical-align: top;\n",
       "    }\n",
       "\n",
       "    .dataframe thead th {\n",
       "        text-align: right;\n",
       "    }\n",
       "</style>\n",
       "<table border=\"1\" class=\"dataframe\">\n",
       "  <thead>\n",
       "    <tr style=\"text-align: right;\">\n",
       "      <th></th>\n",
       "      <th>A</th>\n",
       "      <th>D</th>\n",
       "    </tr>\n",
       "  </thead>\n",
       "  <tbody>\n",
       "    <tr>\n",
       "      <th>0</th>\n",
       "      <td>2</td>\n",
       "      <td>20</td>\n",
       "    </tr>\n",
       "    <tr>\n",
       "      <th>1</th>\n",
       "      <td>3</td>\n",
       "      <td>35</td>\n",
       "    </tr>\n",
       "  </tbody>\n",
       "</table>\n",
       "</div>"
      ],
      "text/plain": [
       "   A   D\n",
       "0  2  20\n",
       "1  3  35"
      ]
     },
     "metadata": {},
     "output_type": "display_data"
    }
   ],
   "source": [
    "df1 = pd.DataFrame({'A':[1,2], 'B':[15,30], 'C':[20, 25]})\n",
    "df2 = pd.DataFrame({'A':[2,3], 'D':[20, 35]})\n",
    "\n",
    "display(df1)\n",
    "display(df2)"
   ]
  },
  {
   "cell_type": "markdown",
   "metadata": {
    "id": "r2y6GrZBbAk4"
   },
   "source": [
    "### **(1) inner merge**"
   ]
  },
  {
   "cell_type": "code",
   "execution_count": 90,
   "metadata": {
    "colab": {
     "base_uri": "https://localhost:8080/",
     "height": 81
    },
    "executionInfo": {
     "elapsed": 82,
     "status": "ok",
     "timestamp": 1673585655049,
     "user": {
      "displayName": "한기영",
      "userId": "13049187003176135487"
     },
     "user_tz": -540
    },
    "id": "Nr4WbyzAa8iX",
    "outputId": "119f756e-88cf-4937-abef-ebacbf149a5d"
   },
   "outputs": [
    {
     "data": {
      "text/html": [
       "<div>\n",
       "<style scoped>\n",
       "    .dataframe tbody tr th:only-of-type {\n",
       "        vertical-align: middle;\n",
       "    }\n",
       "\n",
       "    .dataframe tbody tr th {\n",
       "        vertical-align: top;\n",
       "    }\n",
       "\n",
       "    .dataframe thead th {\n",
       "        text-align: right;\n",
       "    }\n",
       "</style>\n",
       "<table border=\"1\" class=\"dataframe\">\n",
       "  <thead>\n",
       "    <tr style=\"text-align: right;\">\n",
       "      <th></th>\n",
       "      <th>A</th>\n",
       "      <th>B</th>\n",
       "      <th>C</th>\n",
       "      <th>D</th>\n",
       "    </tr>\n",
       "  </thead>\n",
       "  <tbody>\n",
       "    <tr>\n",
       "      <th>0</th>\n",
       "      <td>2</td>\n",
       "      <td>30</td>\n",
       "      <td>25</td>\n",
       "      <td>20</td>\n",
       "    </tr>\n",
       "  </tbody>\n",
       "</table>\n",
       "</div>"
      ],
      "text/plain": [
       "   A   B   C   D\n",
       "0  2  30  25  20"
      ]
     },
     "execution_count": 90,
     "metadata": {},
     "output_type": "execute_result"
    }
   ],
   "source": [
    "pd.merge(df1, df2, how = 'inner', on = 'A')"
   ]
  },
  {
   "cell_type": "code",
   "execution_count": 92,
   "metadata": {
    "colab": {
     "base_uri": "https://localhost:8080/",
     "height": 81
    },
    "executionInfo": {
     "elapsed": 81,
     "status": "ok",
     "timestamp": 1673585655050,
     "user": {
      "displayName": "한기영",
      "userId": "13049187003176135487"
     },
     "user_tz": -540
    },
    "id": "YLh3kqTscb5P",
    "outputId": "6e4e147d-85db-4271-91b9-41192e0a7d67"
   },
   "outputs": [
    {
     "data": {
      "text/html": [
       "<div>\n",
       "<style scoped>\n",
       "    .dataframe tbody tr th:only-of-type {\n",
       "        vertical-align: middle;\n",
       "    }\n",
       "\n",
       "    .dataframe tbody tr th {\n",
       "        vertical-align: top;\n",
       "    }\n",
       "\n",
       "    .dataframe thead th {\n",
       "        text-align: right;\n",
       "    }\n",
       "</style>\n",
       "<table border=\"1\" class=\"dataframe\">\n",
       "  <thead>\n",
       "    <tr style=\"text-align: right;\">\n",
       "      <th></th>\n",
       "      <th>A</th>\n",
       "      <th>B</th>\n",
       "      <th>C</th>\n",
       "      <th>D</th>\n",
       "    </tr>\n",
       "  </thead>\n",
       "  <tbody>\n",
       "    <tr>\n",
       "      <th>0</th>\n",
       "      <td>2</td>\n",
       "      <td>30</td>\n",
       "      <td>25</td>\n",
       "      <td>20</td>\n",
       "    </tr>\n",
       "  </tbody>\n",
       "</table>\n",
       "</div>"
      ],
      "text/plain": [
       "   A   B   C   D\n",
       "0  2  30  25  20"
      ]
     },
     "execution_count": 92,
     "metadata": {},
     "output_type": "execute_result"
    }
   ],
   "source": [
    "pd.merge(df1, df2, how = 'inner')"
   ]
  },
  {
   "cell_type": "code",
   "execution_count": 94,
   "metadata": {},
   "outputs": [
    {
     "data": {
      "text/html": [
       "<div>\n",
       "<style scoped>\n",
       "    .dataframe tbody tr th:only-of-type {\n",
       "        vertical-align: middle;\n",
       "    }\n",
       "\n",
       "    .dataframe tbody tr th {\n",
       "        vertical-align: top;\n",
       "    }\n",
       "\n",
       "    .dataframe thead th {\n",
       "        text-align: right;\n",
       "    }\n",
       "</style>\n",
       "<table border=\"1\" class=\"dataframe\">\n",
       "  <thead>\n",
       "    <tr style=\"text-align: right;\">\n",
       "      <th></th>\n",
       "      <th>A</th>\n",
       "      <th>B</th>\n",
       "      <th>C</th>\n",
       "      <th>D</th>\n",
       "    </tr>\n",
       "  </thead>\n",
       "  <tbody>\n",
       "    <tr>\n",
       "      <th>0</th>\n",
       "      <td>2</td>\n",
       "      <td>30</td>\n",
       "      <td>25</td>\n",
       "      <td>20</td>\n",
       "    </tr>\n",
       "  </tbody>\n",
       "</table>\n",
       "</div>"
      ],
      "text/plain": [
       "   A   B   C   D\n",
       "0  2  30  25  20"
      ]
     },
     "execution_count": 94,
     "metadata": {},
     "output_type": "execute_result"
    }
   ],
   "source": [
    "pd.merge(df1,df2)"
   ]
  },
  {
   "cell_type": "markdown",
   "metadata": {
    "id": "N0280Qt5cZNX"
   },
   "source": [
    "### **(2) left merge**"
   ]
  },
  {
   "cell_type": "code",
   "execution_count": 96,
   "metadata": {
    "colab": {
     "base_uri": "https://localhost:8080/",
     "height": 112
    },
    "executionInfo": {
     "elapsed": 80,
     "status": "ok",
     "timestamp": 1673585655051,
     "user": {
      "displayName": "한기영",
      "userId": "13049187003176135487"
     },
     "user_tz": -540
    },
    "id": "SITN2TeKWOaR",
    "outputId": "1260569a-7ad1-487a-edad-3986f932f9d5"
   },
   "outputs": [
    {
     "data": {
      "text/html": [
       "<div>\n",
       "<style scoped>\n",
       "    .dataframe tbody tr th:only-of-type {\n",
       "        vertical-align: middle;\n",
       "    }\n",
       "\n",
       "    .dataframe tbody tr th {\n",
       "        vertical-align: top;\n",
       "    }\n",
       "\n",
       "    .dataframe thead th {\n",
       "        text-align: right;\n",
       "    }\n",
       "</style>\n",
       "<table border=\"1\" class=\"dataframe\">\n",
       "  <thead>\n",
       "    <tr style=\"text-align: right;\">\n",
       "      <th></th>\n",
       "      <th>A</th>\n",
       "      <th>B</th>\n",
       "      <th>C</th>\n",
       "      <th>D</th>\n",
       "    </tr>\n",
       "  </thead>\n",
       "  <tbody>\n",
       "    <tr>\n",
       "      <th>0</th>\n",
       "      <td>1</td>\n",
       "      <td>15</td>\n",
       "      <td>20</td>\n",
       "      <td>NaN</td>\n",
       "    </tr>\n",
       "    <tr>\n",
       "      <th>1</th>\n",
       "      <td>2</td>\n",
       "      <td>30</td>\n",
       "      <td>25</td>\n",
       "      <td>20.0</td>\n",
       "    </tr>\n",
       "  </tbody>\n",
       "</table>\n",
       "</div>"
      ],
      "text/plain": [
       "   A   B   C     D\n",
       "0  1  15  20   NaN\n",
       "1  2  30  25  20.0"
      ]
     },
     "execution_count": 96,
     "metadata": {},
     "output_type": "execute_result"
    }
   ],
   "source": [
    "pd.merge(df1, df2, how = 'left')"
   ]
  },
  {
   "cell_type": "markdown",
   "metadata": {
    "id": "5zfg_W7WckSZ"
   },
   "source": [
    "### **(3) right merge**"
   ]
  },
  {
   "cell_type": "code",
   "execution_count": 98,
   "metadata": {
    "colab": {
     "base_uri": "https://localhost:8080/",
     "height": 112
    },
    "executionInfo": {
     "elapsed": 79,
     "status": "ok",
     "timestamp": 1673585655052,
     "user": {
      "displayName": "한기영",
      "userId": "13049187003176135487"
     },
     "user_tz": -540
    },
    "id": "vBFJvYfzckSZ",
    "outputId": "3e99dc20-13bd-448c-8cfb-6a5c5bfc8900"
   },
   "outputs": [
    {
     "data": {
      "text/html": [
       "<div>\n",
       "<style scoped>\n",
       "    .dataframe tbody tr th:only-of-type {\n",
       "        vertical-align: middle;\n",
       "    }\n",
       "\n",
       "    .dataframe tbody tr th {\n",
       "        vertical-align: top;\n",
       "    }\n",
       "\n",
       "    .dataframe thead th {\n",
       "        text-align: right;\n",
       "    }\n",
       "</style>\n",
       "<table border=\"1\" class=\"dataframe\">\n",
       "  <thead>\n",
       "    <tr style=\"text-align: right;\">\n",
       "      <th></th>\n",
       "      <th>A</th>\n",
       "      <th>B</th>\n",
       "      <th>C</th>\n",
       "      <th>D</th>\n",
       "    </tr>\n",
       "  </thead>\n",
       "  <tbody>\n",
       "    <tr>\n",
       "      <th>0</th>\n",
       "      <td>2</td>\n",
       "      <td>30.0</td>\n",
       "      <td>25.0</td>\n",
       "      <td>20</td>\n",
       "    </tr>\n",
       "    <tr>\n",
       "      <th>1</th>\n",
       "      <td>3</td>\n",
       "      <td>NaN</td>\n",
       "      <td>NaN</td>\n",
       "      <td>35</td>\n",
       "    </tr>\n",
       "  </tbody>\n",
       "</table>\n",
       "</div>"
      ],
      "text/plain": [
       "   A     B     C   D\n",
       "0  2  30.0  25.0  20\n",
       "1  3   NaN   NaN  35"
      ]
     },
     "execution_count": 98,
     "metadata": {},
     "output_type": "execute_result"
    }
   ],
   "source": [
    "pd.merge(df1, df2, how = 'right')"
   ]
  },
  {
   "cell_type": "markdown",
   "metadata": {
    "id": "IPN07KKOcsnI"
   },
   "source": [
    "<img src='https://raw.githubusercontent.com/jangrae/img/master/practice_01.png' width=120 align=\"left\"/>"
   ]
  },
  {
   "cell_type": "markdown",
   "metadata": {
    "id": "trjHhUlLcsnJ"
   },
   "source": [
    "[문1] 일별, 매장별 판매량 합계를 구해 봅시다.  \n",
    "groupby, pd.merge 을 이용하여 다음과 같은 결과를 얻도록 코드를 작성해봅시다.\n",
    "\n",
    "* 힌트\n",
    "    * 1) sales1, 2, 5,11 로 부터 각각 일별 판매량 합계 집계하기\n",
    "        * 집계시 .agg() 를 이용하여 열이름 변경하거나, 집계후 열이름 변경하기\n",
    "    * 2) pd.merge 으로 결합하기\n",
    "\n",
    "문제 너무 꼬였음 패스!\n"
   ]
  },
  {
   "cell_type": "code",
   "execution_count": 100,
   "metadata": {},
   "outputs": [
    {
     "data": {
      "text/html": [
       "<div>\n",
       "<style scoped>\n",
       "    .dataframe tbody tr th:only-of-type {\n",
       "        vertical-align: middle;\n",
       "    }\n",
       "\n",
       "    .dataframe tbody tr th {\n",
       "        vertical-align: top;\n",
       "    }\n",
       "\n",
       "    .dataframe thead th {\n",
       "        text-align: right;\n",
       "    }\n",
       "</style>\n",
       "<table border=\"1\" class=\"dataframe\">\n",
       "  <thead>\n",
       "    <tr style=\"text-align: right;\">\n",
       "      <th></th>\n",
       "      <th>Order_ID</th>\n",
       "      <th>Date</th>\n",
       "      <th>Store_ID</th>\n",
       "      <th>Qty</th>\n",
       "      <th>Product_ID</th>\n",
       "    </tr>\n",
       "  </thead>\n",
       "  <tbody>\n",
       "    <tr>\n",
       "      <th>0</th>\n",
       "      <td>3</td>\n",
       "      <td>2013-01-01</td>\n",
       "      <td>1</td>\n",
       "      <td>0.000</td>\n",
       "      <td>3</td>\n",
       "    </tr>\n",
       "    <tr>\n",
       "      <th>1</th>\n",
       "      <td>5</td>\n",
       "      <td>2013-01-01</td>\n",
       "      <td>1</td>\n",
       "      <td>0.000</td>\n",
       "      <td>5</td>\n",
       "    </tr>\n",
       "    <tr>\n",
       "      <th>2</th>\n",
       "      <td>7</td>\n",
       "      <td>2013-01-01</td>\n",
       "      <td>1</td>\n",
       "      <td>0.000</td>\n",
       "      <td>7</td>\n",
       "    </tr>\n",
       "    <tr>\n",
       "      <th>3</th>\n",
       "      <td>8</td>\n",
       "      <td>2013-01-01</td>\n",
       "      <td>1</td>\n",
       "      <td>0.000</td>\n",
       "      <td>8</td>\n",
       "    </tr>\n",
       "    <tr>\n",
       "      <th>4</th>\n",
       "      <td>10</td>\n",
       "      <td>2013-01-01</td>\n",
       "      <td>1</td>\n",
       "      <td>0.000</td>\n",
       "      <td>10</td>\n",
       "    </tr>\n",
       "    <tr>\n",
       "      <th>...</th>\n",
       "      <td>...</td>\n",
       "      <td>...</td>\n",
       "      <td>...</td>\n",
       "      <td>...</td>\n",
       "      <td>...</td>\n",
       "    </tr>\n",
       "    <tr>\n",
       "      <th>24340</th>\n",
       "      <td>53548</td>\n",
       "      <td>2013-01-31</td>\n",
       "      <td>11</td>\n",
       "      <td>10.000</td>\n",
       "      <td>22</td>\n",
       "    </tr>\n",
       "    <tr>\n",
       "      <th>24341</th>\n",
       "      <td>53550</td>\n",
       "      <td>2013-01-31</td>\n",
       "      <td>11</td>\n",
       "      <td>641.507</td>\n",
       "      <td>24</td>\n",
       "    </tr>\n",
       "    <tr>\n",
       "      <th>24342</th>\n",
       "      <td>53553</td>\n",
       "      <td>2013-01-31</td>\n",
       "      <td>11</td>\n",
       "      <td>0.000</td>\n",
       "      <td>27</td>\n",
       "    </tr>\n",
       "    <tr>\n",
       "      <th>24343</th>\n",
       "      <td>53555</td>\n",
       "      <td>2013-01-31</td>\n",
       "      <td>11</td>\n",
       "      <td>27.000</td>\n",
       "      <td>29</td>\n",
       "    </tr>\n",
       "    <tr>\n",
       "      <th>24344</th>\n",
       "      <td>53558</td>\n",
       "      <td>2013-01-31</td>\n",
       "      <td>11</td>\n",
       "      <td>13.000</td>\n",
       "      <td>32</td>\n",
       "    </tr>\n",
       "  </tbody>\n",
       "</table>\n",
       "<p>1860 rows × 5 columns</p>\n",
       "</div>"
      ],
      "text/plain": [
       "       Order_ID        Date  Store_ID      Qty  Product_ID\n",
       "0             3  2013-01-01         1    0.000           3\n",
       "1             5  2013-01-01         1    0.000           5\n",
       "2             7  2013-01-01         1    0.000           7\n",
       "3             8  2013-01-01         1    0.000           8\n",
       "4            10  2013-01-01         1    0.000          10\n",
       "...         ...         ...       ...      ...         ...\n",
       "24340     53548  2013-01-31        11   10.000          22\n",
       "24341     53550  2013-01-31        11  641.507          24\n",
       "24342     53553  2013-01-31        11    0.000          27\n",
       "24343     53555  2013-01-31        11   27.000          29\n",
       "24344     53558  2013-01-31        11   13.000          32\n",
       "\n",
       "[1860 rows x 5 columns]"
      ]
     },
     "execution_count": 100,
     "metadata": {},
     "output_type": "execute_result"
    }
   ],
   "source": [
    "temp = pd.concat([sales1, sales2, sales5, sales11], axis = 0)\n",
    "temp"
   ]
  },
  {
   "cell_type": "markdown",
   "metadata": {
    "id": "9gjOPMzbdU9r"
   },
   "source": [
    "[문2] 매장1에 대해서, 일별, 카테고리별 판매량 합계를 구해 봅시다. \n",
    "\n"
   ]
  },
  {
   "cell_type": "code",
   "execution_count": 107,
   "metadata": {
    "colab": {
     "base_uri": "https://localhost:8080/",
     "height": 206
    },
    "executionInfo": {
     "elapsed": 78,
     "status": "ok",
     "timestamp": 1673585655054,
     "user": {
      "displayName": "한기영",
      "userId": "13049187003176135487"
     },
     "user_tz": -540
    },
    "id": "O4QtpbNxeB7i",
    "outputId": "d4e9a183-dc82-4e83-e666-0df0cae68f67"
   },
   "outputs": [
    {
     "data": {
      "text/plain": [
       "['Order_ID', 'Date', 'Store_ID', 'Qty', 'Product_ID']"
      ]
     },
     "execution_count": 107,
     "metadata": {},
     "output_type": "execute_result"
    }
   ],
   "source": [
    "list(sales1)"
   ]
  },
  {
   "cell_type": "code",
   "execution_count": 111,
   "metadata": {},
   "outputs": [
    {
     "data": {
      "text/html": [
       "<div>\n",
       "<style scoped>\n",
       "    .dataframe tbody tr th:only-of-type {\n",
       "        vertical-align: middle;\n",
       "    }\n",
       "\n",
       "    .dataframe tbody tr th {\n",
       "        vertical-align: top;\n",
       "    }\n",
       "\n",
       "    .dataframe thead th {\n",
       "        text-align: right;\n",
       "    }\n",
       "</style>\n",
       "<table border=\"1\" class=\"dataframe\">\n",
       "  <thead>\n",
       "    <tr style=\"text-align: right;\">\n",
       "      <th></th>\n",
       "      <th>Order_ID</th>\n",
       "      <th>Date</th>\n",
       "      <th>Store_ID</th>\n",
       "      <th>Qty</th>\n",
       "      <th>Product_ID</th>\n",
       "    </tr>\n",
       "  </thead>\n",
       "  <tbody>\n",
       "    <tr>\n",
       "      <th>0</th>\n",
       "      <td>3</td>\n",
       "      <td>2013-01-01</td>\n",
       "      <td>1</td>\n",
       "      <td>0.0</td>\n",
       "      <td>3</td>\n",
       "    </tr>\n",
       "    <tr>\n",
       "      <th>1</th>\n",
       "      <td>5</td>\n",
       "      <td>2013-01-01</td>\n",
       "      <td>1</td>\n",
       "      <td>0.0</td>\n",
       "      <td>5</td>\n",
       "    </tr>\n",
       "    <tr>\n",
       "      <th>2</th>\n",
       "      <td>7</td>\n",
       "      <td>2013-01-01</td>\n",
       "      <td>1</td>\n",
       "      <td>0.0</td>\n",
       "      <td>7</td>\n",
       "    </tr>\n",
       "    <tr>\n",
       "      <th>3</th>\n",
       "      <td>8</td>\n",
       "      <td>2013-01-01</td>\n",
       "      <td>1</td>\n",
       "      <td>0.0</td>\n",
       "      <td>8</td>\n",
       "    </tr>\n",
       "    <tr>\n",
       "      <th>4</th>\n",
       "      <td>10</td>\n",
       "      <td>2013-01-01</td>\n",
       "      <td>1</td>\n",
       "      <td>0.0</td>\n",
       "      <td>10</td>\n",
       "    </tr>\n",
       "  </tbody>\n",
       "</table>\n",
       "</div>"
      ],
      "text/plain": [
       "   Order_ID        Date  Store_ID  Qty  Product_ID\n",
       "0         3  2013-01-01         1  0.0           3\n",
       "1         5  2013-01-01         1  0.0           5\n",
       "2         7  2013-01-01         1  0.0           7\n",
       "3         8  2013-01-01         1  0.0           8\n",
       "4        10  2013-01-01         1  0.0          10"
      ]
     },
     "execution_count": 111,
     "metadata": {},
     "output_type": "execute_result"
    }
   ],
   "source": [
    "sales1.head()"
   ]
  },
  {
   "cell_type": "code",
   "execution_count": 114,
   "metadata": {},
   "outputs": [
    {
     "data": {
      "text/html": [
       "<div>\n",
       "<style scoped>\n",
       "    .dataframe tbody tr th:only-of-type {\n",
       "        vertical-align: middle;\n",
       "    }\n",
       "\n",
       "    .dataframe tbody tr th {\n",
       "        vertical-align: top;\n",
       "    }\n",
       "\n",
       "    .dataframe thead th {\n",
       "        text-align: right;\n",
       "    }\n",
       "</style>\n",
       "<table border=\"1\" class=\"dataframe\">\n",
       "  <thead>\n",
       "    <tr style=\"text-align: right;\">\n",
       "      <th></th>\n",
       "      <th>Product_ID</th>\n",
       "      <th>Product_Code</th>\n",
       "      <th>SubCategory</th>\n",
       "      <th>Category</th>\n",
       "      <th>LeadTime</th>\n",
       "      <th>Price</th>\n",
       "    </tr>\n",
       "  </thead>\n",
       "  <tbody>\n",
       "    <tr>\n",
       "      <th>13</th>\n",
       "      <td>3</td>\n",
       "      <td>DB001</td>\n",
       "      <td>Beverage</td>\n",
       "      <td>Drink</td>\n",
       "      <td>2</td>\n",
       "      <td>8</td>\n",
       "    </tr>\n",
       "    <tr>\n",
       "      <th>10</th>\n",
       "      <td>5</td>\n",
       "      <td>FB001</td>\n",
       "      <td>BAKERY</td>\n",
       "      <td>Food</td>\n",
       "      <td>2</td>\n",
       "      <td>6</td>\n",
       "    </tr>\n",
       "    <tr>\n",
       "      <th>12</th>\n",
       "      <td>7</td>\n",
       "      <td>HC001</td>\n",
       "      <td>Cleaning</td>\n",
       "      <td>Household Goods</td>\n",
       "      <td>2</td>\n",
       "      <td>15</td>\n",
       "    </tr>\n",
       "    <tr>\n",
       "      <th>11</th>\n",
       "      <td>8</td>\n",
       "      <td>FM001</td>\n",
       "      <td>Milk</td>\n",
       "      <td>Food</td>\n",
       "      <td>2</td>\n",
       "      <td>4</td>\n",
       "    </tr>\n",
       "    <tr>\n",
       "      <th>8</th>\n",
       "      <td>10</td>\n",
       "      <td>GE001</td>\n",
       "      <td>EGGS</td>\n",
       "      <td>Grocery</td>\n",
       "      <td>2</td>\n",
       "      <td>5</td>\n",
       "    </tr>\n",
       "    <tr>\n",
       "      <th>7</th>\n",
       "      <td>11</td>\n",
       "      <td>FF001</td>\n",
       "      <td>Frozen</td>\n",
       "      <td>Food</td>\n",
       "      <td>2</td>\n",
       "      <td>29</td>\n",
       "    </tr>\n",
       "    <tr>\n",
       "      <th>14</th>\n",
       "      <td>12</td>\n",
       "      <td>GA001</td>\n",
       "      <td>Agricultural products</td>\n",
       "      <td>Grocery</td>\n",
       "      <td>3</td>\n",
       "      <td>6</td>\n",
       "    </tr>\n",
       "    <tr>\n",
       "      <th>3</th>\n",
       "      <td>15</td>\n",
       "      <td>HK002</td>\n",
       "      <td>Kitchen</td>\n",
       "      <td>Household Goods</td>\n",
       "      <td>2</td>\n",
       "      <td>41</td>\n",
       "    </tr>\n",
       "    <tr>\n",
       "      <th>2</th>\n",
       "      <td>16</td>\n",
       "      <td>HK001</td>\n",
       "      <td>Kitchen</td>\n",
       "      <td>Household Goods</td>\n",
       "      <td>2</td>\n",
       "      <td>23</td>\n",
       "    </tr>\n",
       "    <tr>\n",
       "      <th>0</th>\n",
       "      <td>20</td>\n",
       "      <td>HG001</td>\n",
       "      <td>Gardening Tools</td>\n",
       "      <td>Household Goods</td>\n",
       "      <td>2</td>\n",
       "      <td>50</td>\n",
       "    </tr>\n",
       "    <tr>\n",
       "      <th>5</th>\n",
       "      <td>22</td>\n",
       "      <td>DA001</td>\n",
       "      <td>Alcohol</td>\n",
       "      <td>Drink</td>\n",
       "      <td>2</td>\n",
       "      <td>12</td>\n",
       "    </tr>\n",
       "    <tr>\n",
       "      <th>9</th>\n",
       "      <td>24</td>\n",
       "      <td>GM001</td>\n",
       "      <td>Meats</td>\n",
       "      <td>Grocery</td>\n",
       "      <td>3</td>\n",
       "      <td>17</td>\n",
       "    </tr>\n",
       "    <tr>\n",
       "      <th>1</th>\n",
       "      <td>27</td>\n",
       "      <td>HH001</td>\n",
       "      <td>Home Appliances</td>\n",
       "      <td>Household Goods</td>\n",
       "      <td>2</td>\n",
       "      <td>150</td>\n",
       "    </tr>\n",
       "    <tr>\n",
       "      <th>6</th>\n",
       "      <td>29</td>\n",
       "      <td>FP001</td>\n",
       "      <td>Prepared</td>\n",
       "      <td>Food</td>\n",
       "      <td>2</td>\n",
       "      <td>18</td>\n",
       "    </tr>\n",
       "    <tr>\n",
       "      <th>4</th>\n",
       "      <td>32</td>\n",
       "      <td>GS001</td>\n",
       "      <td>Seafood</td>\n",
       "      <td>Grocery</td>\n",
       "      <td>3</td>\n",
       "      <td>34</td>\n",
       "    </tr>\n",
       "  </tbody>\n",
       "</table>\n",
       "</div>"
      ],
      "text/plain": [
       "    Product_ID Product_Code            SubCategory         Category  LeadTime  \\\n",
       "13           3        DB001               Beverage            Drink         2   \n",
       "10           5        FB001                 BAKERY             Food         2   \n",
       "12           7        HC001               Cleaning  Household Goods         2   \n",
       "11           8        FM001                   Milk             Food         2   \n",
       "8           10        GE001                   EGGS          Grocery         2   \n",
       "7           11        FF001                 Frozen             Food         2   \n",
       "14          12        GA001  Agricultural products          Grocery         3   \n",
       "3           15        HK002                Kitchen  Household Goods         2   \n",
       "2           16        HK001                Kitchen  Household Goods         2   \n",
       "0           20        HG001        Gardening Tools  Household Goods         2   \n",
       "5           22        DA001                Alcohol            Drink         2   \n",
       "9           24        GM001                  Meats          Grocery         3   \n",
       "1           27        HH001        Home Appliances  Household Goods         2   \n",
       "6           29        FP001               Prepared             Food         2   \n",
       "4           32        GS001                Seafood          Grocery         3   \n",
       "\n",
       "    Price  \n",
       "13      8  \n",
       "10      6  \n",
       "12     15  \n",
       "11      4  \n",
       "8       5  \n",
       "7      29  \n",
       "14      6  \n",
       "3      41  \n",
       "2      23  \n",
       "0      50  \n",
       "5      12  \n",
       "9      17  \n",
       "1     150  \n",
       "6      18  \n",
       "4      34  "
      ]
     },
     "execution_count": 114,
     "metadata": {},
     "output_type": "execute_result"
    }
   ],
   "source": [
    "products.sort_values('Product_ID')"
   ]
  },
  {
   "cell_type": "code",
   "execution_count": 120,
   "metadata": {},
   "outputs": [
    {
     "data": {
      "text/html": [
       "<div>\n",
       "<style scoped>\n",
       "    .dataframe tbody tr th:only-of-type {\n",
       "        vertical-align: middle;\n",
       "    }\n",
       "\n",
       "    .dataframe tbody tr th {\n",
       "        vertical-align: top;\n",
       "    }\n",
       "\n",
       "    .dataframe thead th {\n",
       "        text-align: right;\n",
       "    }\n",
       "</style>\n",
       "<table border=\"1\" class=\"dataframe\">\n",
       "  <thead>\n",
       "    <tr style=\"text-align: right;\">\n",
       "      <th></th>\n",
       "      <th>Date</th>\n",
       "      <th>Category</th>\n",
       "      <th>Qty</th>\n",
       "    </tr>\n",
       "  </thead>\n",
       "  <tbody>\n",
       "    <tr>\n",
       "      <th>0</th>\n",
       "      <td>2013-01-01</td>\n",
       "      <td>Drink</td>\n",
       "      <td>0.000</td>\n",
       "    </tr>\n",
       "    <tr>\n",
       "      <th>1</th>\n",
       "      <td>2013-01-01</td>\n",
       "      <td>Food</td>\n",
       "      <td>0.000</td>\n",
       "    </tr>\n",
       "    <tr>\n",
       "      <th>2</th>\n",
       "      <td>2013-01-01</td>\n",
       "      <td>Grocery</td>\n",
       "      <td>0.000</td>\n",
       "    </tr>\n",
       "    <tr>\n",
       "      <th>3</th>\n",
       "      <td>2013-01-01</td>\n",
       "      <td>Household Goods</td>\n",
       "      <td>0.000</td>\n",
       "    </tr>\n",
       "    <tr>\n",
       "      <th>4</th>\n",
       "      <td>2013-01-02</td>\n",
       "      <td>Drink</td>\n",
       "      <td>1158.000</td>\n",
       "    </tr>\n",
       "    <tr>\n",
       "      <th>...</th>\n",
       "      <td>...</td>\n",
       "      <td>...</td>\n",
       "      <td>...</td>\n",
       "    </tr>\n",
       "    <tr>\n",
       "      <th>119</th>\n",
       "      <td>2013-01-30</td>\n",
       "      <td>Household Goods</td>\n",
       "      <td>932.000</td>\n",
       "    </tr>\n",
       "    <tr>\n",
       "      <th>120</th>\n",
       "      <td>2013-01-31</td>\n",
       "      <td>Drink</td>\n",
       "      <td>971.000</td>\n",
       "    </tr>\n",
       "    <tr>\n",
       "      <th>121</th>\n",
       "      <td>2013-01-31</td>\n",
       "      <td>Food</td>\n",
       "      <td>751.766</td>\n",
       "    </tr>\n",
       "    <tr>\n",
       "      <th>122</th>\n",
       "      <td>2013-01-31</td>\n",
       "      <td>Grocery</td>\n",
       "      <td>1907.797</td>\n",
       "    </tr>\n",
       "    <tr>\n",
       "      <th>123</th>\n",
       "      <td>2013-01-31</td>\n",
       "      <td>Household Goods</td>\n",
       "      <td>711.000</td>\n",
       "    </tr>\n",
       "  </tbody>\n",
       "</table>\n",
       "<p>124 rows × 3 columns</p>\n",
       "</div>"
      ],
      "text/plain": [
       "           Date         Category       Qty\n",
       "0    2013-01-01            Drink     0.000\n",
       "1    2013-01-01             Food     0.000\n",
       "2    2013-01-01          Grocery     0.000\n",
       "3    2013-01-01  Household Goods     0.000\n",
       "4    2013-01-02            Drink  1158.000\n",
       "..          ...              ...       ...\n",
       "119  2013-01-30  Household Goods   932.000\n",
       "120  2013-01-31            Drink   971.000\n",
       "121  2013-01-31             Food   751.766\n",
       "122  2013-01-31          Grocery  1907.797\n",
       "123  2013-01-31  Household Goods   711.000\n",
       "\n",
       "[124 rows x 3 columns]"
      ]
     },
     "execution_count": 120,
     "metadata": {},
     "output_type": "execute_result"
    }
   ],
   "source": [
    "t1=pd.merge(sales1,products,how='inner')\n",
    "t1.groupby(['Date','Category'],as_index=False)['Qty'].sum()"
   ]
  },
  {
   "cell_type": "markdown",
   "metadata": {
    "id": "WeVz3VipfHUW"
   },
   "source": [
    "[문3] 도시별, 총판매량 합계를 구하시오.  \n",
    "\n"
   ]
  },
  {
   "cell_type": "code",
   "execution_count": 124,
   "metadata": {},
   "outputs": [
    {
     "data": {
      "text/html": [
       "<div>\n",
       "<style scoped>\n",
       "    .dataframe tbody tr th:only-of-type {\n",
       "        vertical-align: middle;\n",
       "    }\n",
       "\n",
       "    .dataframe tbody tr th {\n",
       "        vertical-align: top;\n",
       "    }\n",
       "\n",
       "    .dataframe thead th {\n",
       "        text-align: right;\n",
       "    }\n",
       "</style>\n",
       "<table border=\"1\" class=\"dataframe\">\n",
       "  <thead>\n",
       "    <tr style=\"text-align: right;\">\n",
       "      <th></th>\n",
       "      <th>Order_ID</th>\n",
       "      <th>Date</th>\n",
       "      <th>Store_ID</th>\n",
       "      <th>Qty</th>\n",
       "      <th>Product_ID</th>\n",
       "    </tr>\n",
       "  </thead>\n",
       "  <tbody>\n",
       "    <tr>\n",
       "      <th>0</th>\n",
       "      <td>3</td>\n",
       "      <td>2013-01-01</td>\n",
       "      <td>1</td>\n",
       "      <td>0.000</td>\n",
       "      <td>3</td>\n",
       "    </tr>\n",
       "    <tr>\n",
       "      <th>1</th>\n",
       "      <td>5</td>\n",
       "      <td>2013-01-01</td>\n",
       "      <td>1</td>\n",
       "      <td>0.000</td>\n",
       "      <td>5</td>\n",
       "    </tr>\n",
       "    <tr>\n",
       "      <th>2</th>\n",
       "      <td>7</td>\n",
       "      <td>2013-01-01</td>\n",
       "      <td>1</td>\n",
       "      <td>0.000</td>\n",
       "      <td>7</td>\n",
       "    </tr>\n",
       "    <tr>\n",
       "      <th>3</th>\n",
       "      <td>8</td>\n",
       "      <td>2013-01-01</td>\n",
       "      <td>1</td>\n",
       "      <td>0.000</td>\n",
       "      <td>8</td>\n",
       "    </tr>\n",
       "    <tr>\n",
       "      <th>4</th>\n",
       "      <td>10</td>\n",
       "      <td>2013-01-01</td>\n",
       "      <td>1</td>\n",
       "      <td>0.000</td>\n",
       "      <td>10</td>\n",
       "    </tr>\n",
       "    <tr>\n",
       "      <th>...</th>\n",
       "      <td>...</td>\n",
       "      <td>...</td>\n",
       "      <td>...</td>\n",
       "      <td>...</td>\n",
       "      <td>...</td>\n",
       "    </tr>\n",
       "    <tr>\n",
       "      <th>25105</th>\n",
       "      <td>55231</td>\n",
       "      <td>2013-01-31</td>\n",
       "      <td>9</td>\n",
       "      <td>47.000</td>\n",
       "      <td>22</td>\n",
       "    </tr>\n",
       "    <tr>\n",
       "      <th>25106</th>\n",
       "      <td>55233</td>\n",
       "      <td>2013-01-31</td>\n",
       "      <td>9</td>\n",
       "      <td>348.475</td>\n",
       "      <td>24</td>\n",
       "    </tr>\n",
       "    <tr>\n",
       "      <th>25107</th>\n",
       "      <td>55236</td>\n",
       "      <td>2013-01-31</td>\n",
       "      <td>9</td>\n",
       "      <td>0.000</td>\n",
       "      <td>27</td>\n",
       "    </tr>\n",
       "    <tr>\n",
       "      <th>25108</th>\n",
       "      <td>55238</td>\n",
       "      <td>2013-01-31</td>\n",
       "      <td>9</td>\n",
       "      <td>42.000</td>\n",
       "      <td>29</td>\n",
       "    </tr>\n",
       "    <tr>\n",
       "      <th>25109</th>\n",
       "      <td>55241</td>\n",
       "      <td>2013-01-31</td>\n",
       "      <td>9</td>\n",
       "      <td>24.986</td>\n",
       "      <td>32</td>\n",
       "    </tr>\n",
       "  </tbody>\n",
       "</table>\n",
       "<p>25110 rows × 5 columns</p>\n",
       "</div>"
      ],
      "text/plain": [
       "       Order_ID        Date  Store_ID      Qty  Product_ID\n",
       "0             3  2013-01-01         1    0.000           3\n",
       "1             5  2013-01-01         1    0.000           5\n",
       "2             7  2013-01-01         1    0.000           7\n",
       "3             8  2013-01-01         1    0.000           8\n",
       "4            10  2013-01-01         1    0.000          10\n",
       "...         ...         ...       ...      ...         ...\n",
       "25105     55231  2013-01-31         9   47.000          22\n",
       "25106     55233  2013-01-31         9  348.475          24\n",
       "25107     55236  2013-01-31         9    0.000          27\n",
       "25108     55238  2013-01-31         9   42.000          29\n",
       "25109     55241  2013-01-31         9   24.986          32\n",
       "\n",
       "[25110 rows x 5 columns]"
      ]
     },
     "execution_count": 124,
     "metadata": {},
     "output_type": "execute_result"
    }
   ],
   "source": [
    "sales"
   ]
  },
  {
   "cell_type": "code",
   "execution_count": 122,
   "metadata": {
    "colab": {
     "base_uri": "https://localhost:8080/",
     "height": 206
    },
    "executionInfo": {
     "elapsed": 602,
     "status": "ok",
     "timestamp": 1673585936133,
     "user": {
      "displayName": "한기영",
      "userId": "13049187003176135487"
     },
     "user_tz": -540
    },
    "id": "JmiqS-SdfrgS",
    "outputId": "c0d052e4-3554-4042-c4d2-1dbce848d02a"
   },
   "outputs": [
    {
     "data": {
      "text/html": [
       "<div>\n",
       "<style scoped>\n",
       "    .dataframe tbody tr th:only-of-type {\n",
       "        vertical-align: middle;\n",
       "    }\n",
       "\n",
       "    .dataframe tbody tr th {\n",
       "        vertical-align: top;\n",
       "    }\n",
       "\n",
       "    .dataframe thead th {\n",
       "        text-align: right;\n",
       "    }\n",
       "</style>\n",
       "<table border=\"1\" class=\"dataframe\">\n",
       "  <thead>\n",
       "    <tr style=\"text-align: right;\">\n",
       "      <th></th>\n",
       "      <th>Store_ID</th>\n",
       "      <th>City</th>\n",
       "      <th>State</th>\n",
       "      <th>Store_Type</th>\n",
       "    </tr>\n",
       "  </thead>\n",
       "  <tbody>\n",
       "    <tr>\n",
       "      <th>0</th>\n",
       "      <td>1</td>\n",
       "      <td>Saint Paul</td>\n",
       "      <td>Minnesota</td>\n",
       "      <td>4</td>\n",
       "    </tr>\n",
       "    <tr>\n",
       "      <th>1</th>\n",
       "      <td>2</td>\n",
       "      <td>Saint Paul</td>\n",
       "      <td>Minnesota</td>\n",
       "      <td>4</td>\n",
       "    </tr>\n",
       "    <tr>\n",
       "      <th>2</th>\n",
       "      <td>3</td>\n",
       "      <td>Saint Paul</td>\n",
       "      <td>Minnesota</td>\n",
       "      <td>4</td>\n",
       "    </tr>\n",
       "    <tr>\n",
       "      <th>3</th>\n",
       "      <td>4</td>\n",
       "      <td>Saint Paul</td>\n",
       "      <td>Minnesota</td>\n",
       "      <td>4</td>\n",
       "    </tr>\n",
       "    <tr>\n",
       "      <th>4</th>\n",
       "      <td>5</td>\n",
       "      <td>Oklahoma City</td>\n",
       "      <td>Oklahoma</td>\n",
       "      <td>4</td>\n",
       "    </tr>\n",
       "  </tbody>\n",
       "</table>\n",
       "</div>"
      ],
      "text/plain": [
       "   Store_ID           City      State  Store_Type\n",
       "0         1     Saint Paul  Minnesota           4\n",
       "1         2     Saint Paul  Minnesota           4\n",
       "2         3     Saint Paul  Minnesota           4\n",
       "3         4     Saint Paul  Minnesota           4\n",
       "4         5  Oklahoma City   Oklahoma           4"
      ]
     },
     "execution_count": 122,
     "metadata": {},
     "output_type": "execute_result"
    }
   ],
   "source": [
    "stores.head()"
   ]
  },
  {
   "cell_type": "code",
   "execution_count": 128,
   "metadata": {
    "colab": {
     "base_uri": "https://localhost:8080/",
     "height": 143
    },
    "executionInfo": {
     "elapsed": 427,
     "status": "ok",
     "timestamp": 1673585971498,
     "user": {
      "displayName": "한기영",
      "userId": "13049187003176135487"
     },
     "user_tz": -540
    },
    "id": "GeuHTLnbfHUX",
    "outputId": "be54e12e-9d2e-4caa-f6ea-a1cd622fddf2"
   },
   "outputs": [
    {
     "data": {
      "text/html": [
       "<div>\n",
       "<style scoped>\n",
       "    .dataframe tbody tr th:only-of-type {\n",
       "        vertical-align: middle;\n",
       "    }\n",
       "\n",
       "    .dataframe tbody tr th {\n",
       "        vertical-align: top;\n",
       "    }\n",
       "\n",
       "    .dataframe thead th {\n",
       "        text-align: right;\n",
       "    }\n",
       "</style>\n",
       "<table border=\"1\" class=\"dataframe\">\n",
       "  <thead>\n",
       "    <tr style=\"text-align: right;\">\n",
       "      <th></th>\n",
       "      <th>City</th>\n",
       "      <th>Qty</th>\n",
       "    </tr>\n",
       "  </thead>\n",
       "  <tbody>\n",
       "    <tr>\n",
       "      <th>0</th>\n",
       "      <td>Albany</td>\n",
       "      <td>1.119409e+05</td>\n",
       "    </tr>\n",
       "    <tr>\n",
       "      <th>1</th>\n",
       "      <td>Annapolis</td>\n",
       "      <td>2.255278e+05</td>\n",
       "    </tr>\n",
       "    <tr>\n",
       "      <th>2</th>\n",
       "      <td>Asheville</td>\n",
       "      <td>6.644511e+04</td>\n",
       "    </tr>\n",
       "    <tr>\n",
       "      <th>3</th>\n",
       "      <td>Atlanta</td>\n",
       "      <td>3.845901e+05</td>\n",
       "    </tr>\n",
       "    <tr>\n",
       "      <th>4</th>\n",
       "      <td>Bloomington</td>\n",
       "      <td>1.315413e+05</td>\n",
       "    </tr>\n",
       "    <tr>\n",
       "      <th>5</th>\n",
       "      <td>Boston</td>\n",
       "      <td>1.138053e+05</td>\n",
       "    </tr>\n",
       "    <tr>\n",
       "      <th>6</th>\n",
       "      <td>Charlotte</td>\n",
       "      <td>1.454050e+05</td>\n",
       "    </tr>\n",
       "    <tr>\n",
       "      <th>7</th>\n",
       "      <td>Columbus</td>\n",
       "      <td>1.872153e+05</td>\n",
       "    </tr>\n",
       "    <tr>\n",
       "      <th>8</th>\n",
       "      <td>Harrisburg</td>\n",
       "      <td>1.421269e+05</td>\n",
       "    </tr>\n",
       "    <tr>\n",
       "      <th>9</th>\n",
       "      <td>Indianapolis</td>\n",
       "      <td>1.488044e+05</td>\n",
       "    </tr>\n",
       "    <tr>\n",
       "      <th>10</th>\n",
       "      <td>LA</td>\n",
       "      <td>1.009753e+05</td>\n",
       "    </tr>\n",
       "    <tr>\n",
       "      <th>11</th>\n",
       "      <td>Minneapolis</td>\n",
       "      <td>2.852598e+05</td>\n",
       "    </tr>\n",
       "    <tr>\n",
       "      <th>12</th>\n",
       "      <td>Nashville</td>\n",
       "      <td>1.182960e+05</td>\n",
       "    </tr>\n",
       "    <tr>\n",
       "      <th>13</th>\n",
       "      <td>Oklahoma City</td>\n",
       "      <td>3.102069e+05</td>\n",
       "    </tr>\n",
       "    <tr>\n",
       "      <th>14</th>\n",
       "      <td>Olympia</td>\n",
       "      <td>1.205583e+05</td>\n",
       "    </tr>\n",
       "    <tr>\n",
       "      <th>15</th>\n",
       "      <td>Phoenix</td>\n",
       "      <td>4.475075e+05</td>\n",
       "    </tr>\n",
       "    <tr>\n",
       "      <th>16</th>\n",
       "      <td>Raleigh</td>\n",
       "      <td>1.095650e+06</td>\n",
       "    </tr>\n",
       "    <tr>\n",
       "      <th>17</th>\n",
       "      <td>Richmond</td>\n",
       "      <td>2.188491e+05</td>\n",
       "    </tr>\n",
       "    <tr>\n",
       "      <th>18</th>\n",
       "      <td>Sacramento</td>\n",
       "      <td>0.000000e+00</td>\n",
       "    </tr>\n",
       "    <tr>\n",
       "      <th>19</th>\n",
       "      <td>Saint Paul</td>\n",
       "      <td>4.989027e+06</td>\n",
       "    </tr>\n",
       "    <tr>\n",
       "      <th>20</th>\n",
       "      <td>Wilmington</td>\n",
       "      <td>0.000000e+00</td>\n",
       "    </tr>\n",
       "  </tbody>\n",
       "</table>\n",
       "</div>"
      ],
      "text/plain": [
       "             City           Qty\n",
       "0          Albany  1.119409e+05\n",
       "1       Annapolis  2.255278e+05\n",
       "2       Asheville  6.644511e+04\n",
       "3         Atlanta  3.845901e+05\n",
       "4     Bloomington  1.315413e+05\n",
       "5          Boston  1.138053e+05\n",
       "6       Charlotte  1.454050e+05\n",
       "7        Columbus  1.872153e+05\n",
       "8      Harrisburg  1.421269e+05\n",
       "9    Indianapolis  1.488044e+05\n",
       "10             LA  1.009753e+05\n",
       "11    Minneapolis  2.852598e+05\n",
       "12      Nashville  1.182960e+05\n",
       "13  Oklahoma City  3.102069e+05\n",
       "14        Olympia  1.205583e+05\n",
       "15        Phoenix  4.475075e+05\n",
       "16        Raleigh  1.095650e+06\n",
       "17       Richmond  2.188491e+05\n",
       "18     Sacramento  0.000000e+00\n",
       "19     Saint Paul  4.989027e+06\n",
       "20     Wilmington  0.000000e+00"
      ]
     },
     "execution_count": 128,
     "metadata": {},
     "output_type": "execute_result"
    }
   ],
   "source": [
    "t2=pd.merge(sales,stores)\n",
    "t2.groupby('City',as_index=False)['Qty'].sum()"
   ]
  },
  {
   "cell_type": "markdown",
   "metadata": {
    "id": "tsKvijVvHfPm"
   },
   "source": [
    "### **(4) pivot**\n",
    "* pivot : 결합은 아니지만, 집계 후 데이터프레임 구조를 변형해서 조회하는데 종종 사용 됩니다.\n",
    "\n",
    "* 단계\n",
    "    * 1) groupby\n",
    "    * 2) pivot"
   ]
  },
  {
   "cell_type": "code",
   "execution_count": 1,
   "metadata": {
    "colab": {
     "base_uri": "https://localhost:8080/",
     "height": 423
    },
    "executionInfo": {
     "elapsed": 5,
     "status": "ok",
     "timestamp": 1673597018615,
     "user": {
      "displayName": "한기영",
      "userId": "13049187003176135487"
     },
     "user_tz": -540
    },
    "id": "VemeQV1vHkTD",
    "outputId": "d8908b60-c130-44e3-bbc2-44260df0a412"
   },
   "outputs": [
    {
     "ename": "NameError",
     "evalue": "name 'pd' is not defined",
     "output_type": "error",
     "traceback": [
      "\u001b[1;31m---------------------------------------------------------------------------\u001b[0m",
      "\u001b[1;31mNameError\u001b[0m                                 Traceback (most recent call last)",
      "Cell \u001b[1;32mIn[1], line 3\u001b[0m\n\u001b[0;32m      1\u001b[0m \u001b[38;5;66;03m# 1) 매장1의 일별 카테고리별 판매량을 집계\u001b[39;00m\n\u001b[1;32m----> 3\u001b[0m temp \u001b[38;5;241m=\u001b[39m pd\u001b[38;5;241m.\u001b[39mmerge(sales1, products)\n\u001b[0;32m      4\u001b[0m temp2 \u001b[38;5;241m=\u001b[39m temp\u001b[38;5;241m.\u001b[39mgroupby([\u001b[38;5;124m'\u001b[39m\u001b[38;5;124mDate\u001b[39m\u001b[38;5;124m'\u001b[39m, \u001b[38;5;124m'\u001b[39m\u001b[38;5;124mCategory\u001b[39m\u001b[38;5;124m'\u001b[39m], as_index \u001b[38;5;241m=\u001b[39m \u001b[38;5;28;01mFalse\u001b[39;00m)[\u001b[38;5;124m'\u001b[39m\u001b[38;5;124mQty\u001b[39m\u001b[38;5;124m'\u001b[39m]\u001b[38;5;241m.\u001b[39msum()\n\u001b[0;32m      5\u001b[0m temp2\n",
      "\u001b[1;31mNameError\u001b[0m: name 'pd' is not defined"
     ]
    }
   ],
   "source": [
    "# 1) 매장1의 일별 카테고리별 판매량을 집계\n",
    "\n",
    "temp = pd.merge(sales1, products)\n",
    "temp2 = temp.groupby(['Date', 'Category'], as_index = False)['Qty'].sum()\n",
    "temp2"
   ]
  },
  {
   "cell_type": "code",
   "execution_count": null,
   "metadata": {
    "colab": {
     "base_uri": "https://localhost:8080/",
     "height": 314
    },
    "executionInfo": {
     "elapsed": 304,
     "status": "ok",
     "timestamp": 1673597270119,
     "user": {
      "displayName": "한기영",
      "userId": "13049187003176135487"
     },
     "user_tz": -540
    },
    "id": "mZz5WczWJ-_9",
    "outputId": "8eec34c2-4780-4635-d641-509316f25358"
   },
   "outputs": [],
   "source": [
    "# 2) pivot\n",
    "temp3 = temp2.pivot(index= 'Category', colums='Date' ,values='Qty')\n",
    "temp3"
   ]
  },
  {
   "cell_type": "code",
   "execution_count": null,
   "metadata": {
    "colab": {
     "base_uri": "https://localhost:8080/",
     "height": 436
    },
    "executionInfo": {
     "elapsed": 533,
     "status": "ok",
     "timestamp": 1673597278480,
     "user": {
      "displayName": "한기영",
      "userId": "13049187003176135487"
     },
     "user_tz": -540
    },
    "id": "3PqzBBHLKQoj",
    "outputId": "556991b2-dbae-4901-8861-ea7f0d50bc8e"
   },
   "outputs": [],
   "source": [
    "# sns.heatmap으로 시각화 할 수도 있습니다!\n",
    "\n",
    "plt.figure(figsize = (20, 6))\n",
    "sns.heatmap(temp3)\n",
    "plt.show()"
   ]
  },
  {
   "cell_type": "markdown",
   "metadata": {
    "id": "NWrTUSzyQdVs"
   },
   "source": [
    "## **4.복습문제**"
   ]
  },
  {
   "cell_type": "code",
   "execution_count": null,
   "metadata": {
    "executionInfo": {
     "elapsed": 440,
     "status": "ok",
     "timestamp": 1675811601850,
     "user": {
      "displayName": "한기영",
      "userId": "13049187003176135487"
     },
     "user_tz": -540
    },
    "id": "8hZaRpngVhlS"
   },
   "outputs": [],
   "source": [
    "# 라이브러리 불러오기\n",
    "import pandas as pd"
   ]
  },
  {
   "cell_type": "code",
   "execution_count": null,
   "metadata": {
    "executionInfo": {
     "elapsed": 448,
     "status": "ok",
     "timestamp": 1675811604061,
     "user": {
      "displayName": "한기영",
      "userId": "13049187003176135487"
     },
     "user_tz": -540
    },
    "id": "zFm_DPTaUdqQ"
   },
   "outputs": [],
   "source": [
    "sales = pd.read_csv(\"https://raw.githubusercontent.com/DA4BAM/dataset/master/ts_sales_simple.csv\")\n",
    "products = pd.read_csv(\"https://raw.githubusercontent.com/DA4BAM/dataset/master/ts_product_master.csv\")\n",
    "stores = pd.read_csv(\"https://raw.githubusercontent.com/DA4BAM/dataset/master/ts_store_master.csv\")"
   ]
  },
  {
   "cell_type": "markdown",
   "metadata": {
    "id": "WAGgvzDv2klV"
   },
   "source": [
    "1) sales에 금액(Amt) 변수를 추가하시오.\n",
    "* Amt = Qty * Price"
   ]
  },
  {
   "cell_type": "code",
   "execution_count": null,
   "metadata": {
    "colab": {
     "base_uri": "https://localhost:8080/",
     "height": 206
    },
    "executionInfo": {
     "elapsed": 292,
     "status": "ok",
     "timestamp": 1673597429785,
     "user": {
      "displayName": "한기영",
      "userId": "13049187003176135487"
     },
     "user_tz": -540
    },
    "id": "vJwQEeOt2fSD",
    "outputId": "4891b914-300a-43c0-ceca-9c38547850d2"
   },
   "outputs": [],
   "source": []
  },
  {
   "cell_type": "markdown",
   "metadata": {
    "id": "D85EiMGyHO2-"
   },
   "source": [
    "2) City별 매출액"
   ]
  },
  {
   "cell_type": "code",
   "execution_count": null,
   "metadata": {
    "colab": {
     "base_uri": "https://localhost:8080/",
     "height": 423
    },
    "executionInfo": {
     "elapsed": 4,
     "status": "ok",
     "timestamp": 1673597431304,
     "user": {
      "displayName": "한기영",
      "userId": "13049187003176135487"
     },
     "user_tz": -540
    },
    "id": "Pz1rOT3wHO2_",
    "outputId": "95f206dd-4d5c-4563-8368-184b17b61195"
   },
   "outputs": [],
   "source": []
  },
  {
   "cell_type": "markdown",
   "metadata": {
    "id": "psu8ocFvLnRi"
   },
   "source": [
    "3) City별 카테고리별 매출액"
   ]
  },
  {
   "cell_type": "code",
   "execution_count": null,
   "metadata": {
    "colab": {
     "base_uri": "https://localhost:8080/",
     "height": 423
    },
    "executionInfo": {
     "elapsed": 4,
     "status": "ok",
     "timestamp": 1673597431304,
     "user": {
      "displayName": "한기영",
      "userId": "13049187003176135487"
     },
     "user_tz": -540
    },
    "id": "qM-bqN5TLnRi",
    "outputId": "95f206dd-4d5c-4563-8368-184b17b61195"
   },
   "outputs": [],
   "source": []
  },
  {
   "cell_type": "markdown",
   "metadata": {
    "id": "k32LGdqhMLiB"
   },
   "source": [
    "4) 매출액이 가장 높은 주(state) top 3"
   ]
  },
  {
   "cell_type": "code",
   "execution_count": null,
   "metadata": {
    "colab": {
     "base_uri": "https://localhost:8080/",
     "height": 143
    },
    "executionInfo": {
     "elapsed": 5,
     "status": "ok",
     "timestamp": 1673597734634,
     "user": {
      "displayName": "한기영",
      "userId": "13049187003176135487"
     },
     "user_tz": -540
    },
    "id": "_3jTGMbsLdF6",
    "outputId": "43b9ab26-a31f-4923-b50c-2c05ffd5eaaa"
   },
   "outputs": [],
   "source": []
  },
  {
   "cell_type": "code",
   "execution_count": null,
   "metadata": {
    "id": "hcwnjnPFMcM-"
   },
   "outputs": [],
   "source": []
  },
  {
   "cell_type": "markdown",
   "metadata": {
    "id": "wSYV3Y4aKMbH"
   },
   "source": [
    "추가 문제"
   ]
  },
  {
   "cell_type": "markdown",
   "metadata": {
    "id": "dXt-WJbsMYc_"
   },
   "source": [
    "* 2013년 1월 세째 주 각 도시별 subCategory별 금액 비교\n",
    "    1. 2013년 1월 세째 주\n",
    "        * sales['Date']를 날짜 타입으로 변환\n",
    "        * week 추가\n",
    "        * sales에서 week가 3인 데이터 뽑기\n",
    "    2. 각 도시별 subCategory별\n",
    "        * 1의 결과에서...\n",
    "        * stores와 inner merge\n",
    "        * products와 inner merge\n",
    "    3. 도시별 subCategory별 금액\n",
    "        * Qty * Price로 Amt 추가\n",
    "        * groupby\n",
    "    4. 좀더 보기 좋게! pivot + heatmap\n",
    "        * pivot\n",
    "        * heatmap"
   ]
  },
  {
   "cell_type": "code",
   "execution_count": null,
   "metadata": {},
   "outputs": [],
   "source": [
    "temp2['Date'] = pd.to_datetime(temp2['Date'])\n",
    "temp2['Year'] = temp2['Date'].dt.year\n",
    "temp2['Month'] = temp2['Date'].dt.month\n",
    "temp2['Week'] = temp2['Date'].dt.isocalendar().week\n",
    "temp2.head()\n",
    "\n",
    "temp5 = temp2.loc[(temp2['Year']==2013) & (temp2['Month']==1 ) & ( temp2['Week']==3)]\n",
    "temp5.head(3)"
   ]
  },
  {
   "cell_type": "code",
   "execution_count": null,
   "metadata": {
    "colab": {
     "base_uri": "https://localhost:8080/",
     "height": 628
    },
    "executionInfo": {
     "elapsed": 717,
     "status": "ok",
     "timestamp": 1675812638869,
     "user": {
      "displayName": "한기영",
      "userId": "13049187003176135487"
     },
     "user_tz": -540
    },
    "id": "E_kt4gqNK2yu",
    "outputId": "d438c123-d91d-4ca1-996e-c90fad15bbb6"
   },
   "outputs": [],
   "source": [
    "temp6 = temp5.groupby(['City','SubCategory'], as_index = False)['Amt'].sum()\n",
    "temp6"
   ]
  },
  {
   "cell_type": "code",
   "execution_count": null,
   "metadata": {
    "id": "rA6d9U7bRntx"
   },
   "outputs": [],
   "source": [
    "temp7 = temp6.pivot(index = 'SubCategory', columns = 'City', values = 'Amt')\n",
    "temp7"
   ]
  },
  {
   "cell_type": "code",
   "execution_count": null,
   "metadata": {},
   "outputs": [],
   "source": [
    "sns.heatmap(temp7)"
   ]
  }
 ],
 "metadata": {
  "colab": {
   "collapsed_sections": [
    "_QkN9xQsUJ2P",
    "clAUrp5XVCA9",
    "z-IlfZMAVXdZ",
    "CJSLj5laWOaP",
    "r2y6GrZBbAk4",
    "N0280Qt5cZNX",
    "5zfg_W7WckSZ",
    "tsKvijVvHfPm"
   ],
   "provenance": [],
   "toc_visible": true
  },
  "kernelspec": {
   "display_name": "Python 3 (ipykernel)",
   "language": "python",
   "name": "python3"
  },
  "language_info": {
   "codemirror_mode": {
    "name": "ipython",
    "version": 3
   },
   "file_extension": ".py",
   "mimetype": "text/x-python",
   "name": "python",
   "nbconvert_exporter": "python",
   "pygments_lexer": "ipython3",
   "version": "3.12.4"
  }
 },
 "nbformat": 4,
 "nbformat_minor": 4
}
