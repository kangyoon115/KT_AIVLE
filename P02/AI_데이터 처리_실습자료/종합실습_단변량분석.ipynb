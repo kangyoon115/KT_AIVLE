{
 "cells": [
  {
   "cell_type": "markdown",
   "metadata": {
    "id": "qXUBfCONOdID"
   },
   "source": [
    "# **종합실습 단변량 분석**"
   ]
  },
  {
   "cell_type": "markdown",
   "metadata": {
    "id": "790IJBdRWl9r"
   },
   "source": [
    "## **1.비즈니스 시나리오**"
   ]
  },
  {
   "cell_type": "markdown",
   "metadata": {
    "id": "7usNzsAVsGbi"
   },
   "source": [
    "![](https://cdn.images.express.co.uk/img/dynamic/24/590x/child-car-seat-986556.jpg?r=1532946857754)"
   ]
  },
  {
   "cell_type": "markdown",
   "metadata": {
    "id": "XOiIUDJ1i11u"
   },
   "source": [
    "* 고객사는 카시트를 판매하는 회사 입니다.\n",
    "* 최근 매출 하락에 대해 각 부서가 파악한 원인 다음과 같습니다. \n",
    "    * 최근에 경쟁사와의 가격 경쟁력이 하락하고 있고, 광고비용이 적절하게 집행되지 않음\n",
    "    * 너무 국내 시장에 집중됨.\n",
    "    * 지역마다의 구매력을 제대로 파악하지 못하고 있음.\n",
    ">\n",
    "* 그러나 이러한 분석은 데이터에 근거하고 있는지 의문이 듭니다.\n",
    "* 이 문제를 해결하고자 프로젝트 팀이 빌딩되었습니다. \n",
    "* 여러분은 이 프로젝트팀에 데이터분석전문가 이자 AI 개발자로 참여하고 있습니다.\n",
    "* 드디어 AIVLE 과정에서 갈고 닦은 실력을 발휘할 기회가 주어졌습니다.\n",
    "* 자, 이제 단변량 분석을 통해 비즈니스 인사이트를 도출해 봅시다!\n"
   ]
  },
  {
   "cell_type": "markdown",
   "metadata": {
    "id": "c1uOWzZl_YZH"
   },
   "source": [
    "## **2.환경준비**"
   ]
  },
  {
   "cell_type": "markdown",
   "metadata": {
    "id": "LS2rtJiJlaF0"
   },
   "source": [
    "### **(1) 라이브러리 불러오기**"
   ]
  },
  {
   "cell_type": "code",
   "execution_count": 2,
   "metadata": {
    "id": "ba319GIZlcFB"
   },
   "outputs": [],
   "source": [
    "import numpy as np\n",
    "import pandas as pd\n",
    "\n",
    "import matplotlib.pyplot as plt\n",
    "import seaborn as sns"
   ]
  },
  {
   "cell_type": "markdown",
   "metadata": {
    "id": "TCceTRSHqibR"
   },
   "source": [
    "### **(2) 데이터 로딩 : 카시트 판매량 데이터**"
   ]
  },
  {
   "cell_type": "markdown",
   "metadata": {
    "id": "zYKHwYHatC4k"
   },
   "source": [
    "|\t변수명\t|\t설명\t|\t구분\t|\n",
    "|----|----|----|\n",
    "|\t**Sales** \t|\t 각 지역 판매량(단위 : 1000개)\t|\tTarget\t|\n",
    "|\t**CompPrice** \t|\t 경쟁사 가격(단위 : 달러)\t|\tfeature\t|\n",
    "|\t**Income** \t|\t 지역 평균 소득(단위 : 1000달러)\t|\tfeature\t|\n",
    "|\t**Advertising** \t|\t 각 지역, 회사의 광고 예산(단위 : 1000달러)\t|\tfeature\t|\n",
    "|\t**Population** \t|\t 지역 인구수(단위 : 1000명)\t|\tfeature\t|\n",
    "|\t**Price** \t|\t 자사 지역별 판매가격\t|\tfeature\t|\n",
    "|\t**ShelveLoc** \t|\t 진열상태\t|\tfeature\t|\n",
    "|\t**Age** \t|\t 지역 인구의 평균 연령\t|\tfeature\t|\n",
    "|\t**Urban** \t|\t 도심 지역 여부(Yes,No)\t|\tfeature\t|\n",
    "|\t**US** \t|\t 매장이 미국에 있는지 여부(Yes,No)\t|\tfeature\t|\n"
   ]
  },
  {
   "cell_type": "code",
   "execution_count": 3,
   "metadata": {
    "colab": {
     "base_uri": "https://localhost:8080/",
     "height": 206
    },
    "executionInfo": {
     "elapsed": 470,
     "status": "ok",
     "timestamp": 1673940881655,
     "user": {
      "displayName": "한기영",
      "userId": "13049187003176135487"
     },
     "user_tz": -540
    },
    "id": "08FGuKtjpGOj",
    "outputId": "18988ebb-48c8-47c9-e4c6-a89a6d8a26fc"
   },
   "outputs": [
    {
     "data": {
      "text/html": [
       "<div>\n",
       "<style scoped>\n",
       "    .dataframe tbody tr th:only-of-type {\n",
       "        vertical-align: middle;\n",
       "    }\n",
       "\n",
       "    .dataframe tbody tr th {\n",
       "        vertical-align: top;\n",
       "    }\n",
       "\n",
       "    .dataframe thead th {\n",
       "        text-align: right;\n",
       "    }\n",
       "</style>\n",
       "<table border=\"1\" class=\"dataframe\">\n",
       "  <thead>\n",
       "    <tr style=\"text-align: right;\">\n",
       "      <th></th>\n",
       "      <th>Sales</th>\n",
       "      <th>CompPrice</th>\n",
       "      <th>Income</th>\n",
       "      <th>Advertising</th>\n",
       "      <th>Population</th>\n",
       "      <th>Price</th>\n",
       "      <th>ShelveLoc</th>\n",
       "      <th>Age</th>\n",
       "      <th>Urban</th>\n",
       "      <th>US</th>\n",
       "    </tr>\n",
       "  </thead>\n",
       "  <tbody>\n",
       "    <tr>\n",
       "      <th>0</th>\n",
       "      <td>9.50</td>\n",
       "      <td>138</td>\n",
       "      <td>73</td>\n",
       "      <td>11</td>\n",
       "      <td>276</td>\n",
       "      <td>120</td>\n",
       "      <td>Bad</td>\n",
       "      <td>42</td>\n",
       "      <td>Yes</td>\n",
       "      <td>Yes</td>\n",
       "    </tr>\n",
       "    <tr>\n",
       "      <th>1</th>\n",
       "      <td>11.22</td>\n",
       "      <td>111</td>\n",
       "      <td>48</td>\n",
       "      <td>16</td>\n",
       "      <td>260</td>\n",
       "      <td>83</td>\n",
       "      <td>Good</td>\n",
       "      <td>65</td>\n",
       "      <td>Yes</td>\n",
       "      <td>Yes</td>\n",
       "    </tr>\n",
       "    <tr>\n",
       "      <th>2</th>\n",
       "      <td>10.06</td>\n",
       "      <td>113</td>\n",
       "      <td>35</td>\n",
       "      <td>10</td>\n",
       "      <td>269</td>\n",
       "      <td>80</td>\n",
       "      <td>Medium</td>\n",
       "      <td>59</td>\n",
       "      <td>Yes</td>\n",
       "      <td>Yes</td>\n",
       "    </tr>\n",
       "    <tr>\n",
       "      <th>3</th>\n",
       "      <td>7.40</td>\n",
       "      <td>117</td>\n",
       "      <td>100</td>\n",
       "      <td>4</td>\n",
       "      <td>466</td>\n",
       "      <td>97</td>\n",
       "      <td>Medium</td>\n",
       "      <td>55</td>\n",
       "      <td>Yes</td>\n",
       "      <td>Yes</td>\n",
       "    </tr>\n",
       "    <tr>\n",
       "      <th>4</th>\n",
       "      <td>4.15</td>\n",
       "      <td>141</td>\n",
       "      <td>64</td>\n",
       "      <td>3</td>\n",
       "      <td>340</td>\n",
       "      <td>128</td>\n",
       "      <td>Bad</td>\n",
       "      <td>38</td>\n",
       "      <td>Yes</td>\n",
       "      <td>No</td>\n",
       "    </tr>\n",
       "  </tbody>\n",
       "</table>\n",
       "</div>"
      ],
      "text/plain": [
       "   Sales  CompPrice  Income  Advertising  Population  Price ShelveLoc  Age  \\\n",
       "0   9.50        138      73           11         276    120       Bad   42   \n",
       "1  11.22        111      48           16         260     83      Good   65   \n",
       "2  10.06        113      35           10         269     80    Medium   59   \n",
       "3   7.40        117     100            4         466     97    Medium   55   \n",
       "4   4.15        141      64            3         340    128       Bad   38   \n",
       "\n",
       "  Urban   US  \n",
       "0   Yes  Yes  \n",
       "1   Yes  Yes  \n",
       "2   Yes  Yes  \n",
       "3   Yes  Yes  \n",
       "4   Yes   No  "
      ]
     },
     "execution_count": 3,
     "metadata": {},
     "output_type": "execute_result"
    }
   ],
   "source": [
    "path = 'https://raw.githubusercontent.com/DA4BAM/dataset/master/Carseats2.csv'\n",
    "data = pd.read_csv(path)\n",
    "data.head()"
   ]
  },
  {
   "cell_type": "markdown",
   "metadata": {
    "id": "ZJnWzY5-Ww3h"
   },
   "source": [
    "## **3.단변량분석 : 숫자형 변수**"
   ]
  },
  {
   "cell_type": "markdown",
   "metadata": {},
   "source": [
    "* 숫자형변수를 분석하는 함수를 생성합시다."
   ]
  },
  {
   "cell_type": "code",
   "execution_count": 6,
   "metadata": {},
   "outputs": [],
   "source": [
    "def eda_1_num(data, var, bins = 30):\n",
    "\n",
    "    # 기초통계량\n",
    "    print('<< 기초통계량 >>')\n",
    "    display(data[[var]].describe().T)\n",
    "    print('=' * 100)\n",
    "\n",
    "    # 시각화\n",
    "    print('<< 그래프 >>')\n",
    "    plt.figure(figsize = (10,6))\n",
    "\n",
    "    plt.subplot(2,1,1)\n",
    "    sns.histplot(data[var], bins = bins, kde = True)\n",
    "    plt.grid()\n",
    "\n",
    "    plt.subplot(2,1,2)\n",
    "    sns.boxplot(x = data[var])\n",
    "    plt.grid()\n",
    "    plt.show()"
   ]
  },
  {
   "cell_type": "markdown",
   "metadata": {
    "id": "2KcdJrQNfJCZ"
   },
   "source": [
    "### **(1) Sales (Target)**"
   ]
  },
  {
   "cell_type": "code",
   "execution_count": 8,
   "metadata": {
    "id": "Q5mGnZ5ffJCZ"
   },
   "outputs": [],
   "source": [
    "var = 'Sales'"
   ]
  },
  {
   "cell_type": "markdown",
   "metadata": {
    "id": "RkXL80PpfJCa"
   },
   "source": [
    "1) 변수의 비즈니스 의미"
   ]
  },
  {
   "cell_type": "markdown",
   "metadata": {
    "id": "07TIjIVhTHU0"
   },
   "source": [
    "* 각 지역 판매량(단위 : 1000개)\n",
    "* Target"
   ]
  },
  {
   "cell_type": "markdown",
   "metadata": {
    "id": "H9_8VoENfJCa"
   },
   "source": [
    "2) 기초통계량 및 분포확인"
   ]
  },
  {
   "cell_type": "code",
   "execution_count": 10,
   "metadata": {
    "colab": {
     "base_uri": "https://localhost:8080/"
    },
    "executionInfo": {
     "elapsed": 10,
     "status": "ok",
     "timestamp": 1673940881657,
     "user": {
      "displayName": "한기영",
      "userId": "13049187003176135487"
     },
     "user_tz": -540
    },
    "id": "DJpEltSbfJCa",
    "outputId": "86b1f815-8714-4ce7-912e-431dff688c9a"
   },
   "outputs": [
    {
     "name": "stdout",
     "output_type": "stream",
     "text": [
      "<< 기초통계량 >>\n"
     ]
    },
    {
     "data": {
      "text/html": [
       "<div>\n",
       "<style scoped>\n",
       "    .dataframe tbody tr th:only-of-type {\n",
       "        vertical-align: middle;\n",
       "    }\n",
       "\n",
       "    .dataframe tbody tr th {\n",
       "        vertical-align: top;\n",
       "    }\n",
       "\n",
       "    .dataframe thead th {\n",
       "        text-align: right;\n",
       "    }\n",
       "</style>\n",
       "<table border=\"1\" class=\"dataframe\">\n",
       "  <thead>\n",
       "    <tr style=\"text-align: right;\">\n",
       "      <th></th>\n",
       "      <th>count</th>\n",
       "      <th>mean</th>\n",
       "      <th>std</th>\n",
       "      <th>min</th>\n",
       "      <th>25%</th>\n",
       "      <th>50%</th>\n",
       "      <th>75%</th>\n",
       "      <th>max</th>\n",
       "    </tr>\n",
       "  </thead>\n",
       "  <tbody>\n",
       "    <tr>\n",
       "      <th>Sales</th>\n",
       "      <td>400.0</td>\n",
       "      <td>7.496325</td>\n",
       "      <td>2.824115</td>\n",
       "      <td>0.0</td>\n",
       "      <td>5.39</td>\n",
       "      <td>7.49</td>\n",
       "      <td>9.32</td>\n",
       "      <td>16.27</td>\n",
       "    </tr>\n",
       "  </tbody>\n",
       "</table>\n",
       "</div>"
      ],
      "text/plain": [
       "       count      mean       std  min   25%   50%   75%    max\n",
       "Sales  400.0  7.496325  2.824115  0.0  5.39  7.49  9.32  16.27"
      ]
     },
     "metadata": {},
     "output_type": "display_data"
    },
    {
     "name": "stdout",
     "output_type": "stream",
     "text": [
      "====================================================================================================\n",
      "<< 그래프 >>\n"
     ]
    },
    {
     "data": {
      "image/png": "[encoded data removed]",
      "text/plain": [
       "<Figure size 1000x600 with 2 Axes>"
      ]
     },
     "metadata": {},
     "output_type": "display_data"
    }
   ],
   "source": [
    "eda_1_num(data, var)"
   ]
  },
  {
   "cell_type": "markdown",
   "metadata": {
    "id": "s2MLcqE0fJCa"
   },
   "source": [
    "3) 기초통계량과 분포를 통해서 파악한 내용을 적어 봅시다.\n",
    "\n",
    "보이는 그대로를 넘어, 비즈니스 관점에서 고민하며 적어 봅시다."
   ]
  },
  {
   "cell_type": "markdown",
   "metadata": {
    "id": "-SXcWMe6aLpA"
   },
   "source": [
    "* 대부분의 판매량이 5천개 ~ 만개 사이"
   ]
  },
  {
   "cell_type": "markdown",
   "metadata": {
    "id": "hr8edCgEfJCb"
   },
   "source": [
    "4) 추가 분석해 볼 사항이 있나요?"
   ]
  },
  {
   "cell_type": "markdown",
   "metadata": {
    "id": "xlIX_HVJbiJF"
   },
   "source": [
    "* 판매량 구간을 0 ~ 4천, 4천 ~ 1만, 1만 이상 으로 구분해서 분석해 볼 필요 있음."
   ]
  },
  {
   "cell_type": "markdown",
   "metadata": {
    "id": "9WGX3Pm8g8HV"
   },
   "source": [
    "### **(2) CompPrice**"
   ]
  },
  {
   "cell_type": "code",
   "execution_count": null,
   "metadata": {
    "id": "vTZHaVaBUMWS"
   },
   "outputs": [],
   "source": [
    "var = "
   ]
  },
  {
   "cell_type": "markdown",
   "metadata": {
    "id": "_Mwhzao8UMWS"
   },
   "source": [
    "1) 변수의 비즈니스 의미"
   ]
  },
  {
   "cell_type": "code",
   "execution_count": null,
   "metadata": {},
   "outputs": [],
   "source": []
  },
  {
   "cell_type": "markdown",
   "metadata": {
    "id": "H9_8VoENfJCa"
   },
   "source": [
    "2) 기초통계량 및 분포확인"
   ]
  },
  {
   "cell_type": "code",
   "execution_count": null,
   "metadata": {
    "colab": {
     "base_uri": "https://localhost:8080/"
    },
    "executionInfo": {
     "elapsed": 10,
     "status": "ok",
     "timestamp": 1673940881657,
     "user": {
      "displayName": "한기영",
      "userId": "13049187003176135487"
     },
     "user_tz": -540
    },
    "id": "DJpEltSbfJCa",
    "outputId": "86b1f815-8714-4ce7-912e-431dff688c9a"
   },
   "outputs": [],
   "source": []
  },
  {
   "cell_type": "markdown",
   "metadata": {
    "id": "wx353mmZg8HX"
   },
   "source": [
    "3) 기초통계량과 분포를 통해서 파악한 내용을 적어 봅시다.\n",
    "\n",
    "보이는 그대로를 넘어, 비즈니스 관점에서 고민하며 적어 봅시다."
   ]
  },
  {
   "cell_type": "code",
   "execution_count": null,
   "metadata": {},
   "outputs": [],
   "source": []
  },
  {
   "cell_type": "markdown",
   "metadata": {
    "id": "vlhNsPplg8HX"
   },
   "source": [
    "4) 추가 분석해 볼 사항이 있나요?"
   ]
  },
  {
   "cell_type": "code",
   "execution_count": null,
   "metadata": {},
   "outputs": [],
   "source": []
  },
  {
   "cell_type": "markdown",
   "metadata": {
    "id": "CPQ4kqneg8SS"
   },
   "source": [
    "### **(3) Income**"
   ]
  },
  {
   "cell_type": "code",
   "execution_count": null,
   "metadata": {
    "id": "gOTB8szfUPs5"
   },
   "outputs": [],
   "source": [
    "var = "
   ]
  },
  {
   "cell_type": "markdown",
   "metadata": {
    "id": "Kccqg3yyUPs6"
   },
   "source": [
    "1) 변수의 비즈니스 의미"
   ]
  },
  {
   "cell_type": "code",
   "execution_count": null,
   "metadata": {},
   "outputs": [],
   "source": []
  },
  {
   "cell_type": "markdown",
   "metadata": {
    "id": "H9_8VoENfJCa"
   },
   "source": [
    "2) 기초통계량 및 분포확인"
   ]
  },
  {
   "cell_type": "code",
   "execution_count": null,
   "metadata": {
    "colab": {
     "base_uri": "https://localhost:8080/"
    },
    "executionInfo": {
     "elapsed": 10,
     "status": "ok",
     "timestamp": 1673940881657,
     "user": {
      "displayName": "한기영",
      "userId": "13049187003176135487"
     },
     "user_tz": -540
    },
    "id": "DJpEltSbfJCa",
    "outputId": "86b1f815-8714-4ce7-912e-431dff688c9a"
   },
   "outputs": [],
   "source": []
  },
  {
   "cell_type": "markdown",
   "metadata": {
    "id": "wx353mmZg8HX"
   },
   "source": [
    "3) 기초통계량과 분포를 통해서 파악한 내용을 적어 봅시다.\n",
    "\n",
    "보이는 그대로를 넘어, 비즈니스 관점에서 고민하며 적어 봅시다."
   ]
  },
  {
   "cell_type": "code",
   "execution_count": null,
   "metadata": {},
   "outputs": [],
   "source": []
  },
  {
   "cell_type": "markdown",
   "metadata": {
    "id": "8XzrJN_0g8ST"
   },
   "source": [
    "4) 추가 분석해 볼 사항이 있나요?"
   ]
  },
  {
   "cell_type": "code",
   "execution_count": null,
   "metadata": {},
   "outputs": [],
   "source": []
  },
  {
   "cell_type": "markdown",
   "metadata": {
    "id": "oGaBjzSYg8ch"
   },
   "source": [
    "### **(4) Advertising**"
   ]
  },
  {
   "cell_type": "code",
   "execution_count": null,
   "metadata": {
    "id": "qQU7VSKEUSFH"
   },
   "outputs": [],
   "source": []
  },
  {
   "cell_type": "markdown",
   "metadata": {
    "id": "KZeZpnFmUSFH"
   },
   "source": [
    "1) 변수의 비즈니스 의미"
   ]
  },
  {
   "cell_type": "code",
   "execution_count": null,
   "metadata": {},
   "outputs": [],
   "source": []
  },
  {
   "cell_type": "markdown",
   "metadata": {
    "id": "H9_8VoENfJCa"
   },
   "source": [
    "2) 기초통계량 및 분포확인"
   ]
  },
  {
   "cell_type": "code",
   "execution_count": null,
   "metadata": {
    "colab": {
     "base_uri": "https://localhost:8080/"
    },
    "executionInfo": {
     "elapsed": 10,
     "status": "ok",
     "timestamp": 1673940881657,
     "user": {
      "displayName": "한기영",
      "userId": "13049187003176135487"
     },
     "user_tz": -540
    },
    "id": "DJpEltSbfJCa",
    "outputId": "86b1f815-8714-4ce7-912e-431dff688c9a"
   },
   "outputs": [],
   "source": []
  },
  {
   "cell_type": "markdown",
   "metadata": {
    "id": "wx353mmZg8HX"
   },
   "source": [
    "3) 기초통계량과 분포를 통해서 파악한 내용을 적어 봅시다.\n",
    "\n",
    "보이는 그대로를 넘어, 비즈니스 관점에서 고민하며 적어 봅시다."
   ]
  },
  {
   "cell_type": "code",
   "execution_count": null,
   "metadata": {
    "id": "1RbooC0cg8cj"
   },
   "outputs": [],
   "source": []
  },
  {
   "cell_type": "markdown",
   "metadata": {
    "id": "1ALjv429g8cj"
   },
   "source": [
    "4) 추가 분석해 볼 사항이 있나요?"
   ]
  },
  {
   "cell_type": "markdown",
   "metadata": {
    "id": "Pf9iFSXpg8mZ"
   },
   "source": [
    "### **(5) Population**"
   ]
  },
  {
   "cell_type": "code",
   "execution_count": null,
   "metadata": {
    "id": "Yi3xZSjmUVy6"
   },
   "outputs": [],
   "source": []
  },
  {
   "cell_type": "markdown",
   "metadata": {
    "id": "wSYdMQobUVy6"
   },
   "source": [
    "1) 변수의 비즈니스 의미"
   ]
  },
  {
   "cell_type": "code",
   "execution_count": null,
   "metadata": {},
   "outputs": [],
   "source": []
  },
  {
   "cell_type": "markdown",
   "metadata": {
    "id": "H9_8VoENfJCa"
   },
   "source": [
    "2) 기초통계량 및 분포확인"
   ]
  },
  {
   "cell_type": "code",
   "execution_count": null,
   "metadata": {
    "colab": {
     "base_uri": "https://localhost:8080/"
    },
    "executionInfo": {
     "elapsed": 10,
     "status": "ok",
     "timestamp": 1673940881657,
     "user": {
      "displayName": "한기영",
      "userId": "13049187003176135487"
     },
     "user_tz": -540
    },
    "id": "DJpEltSbfJCa",
    "outputId": "86b1f815-8714-4ce7-912e-431dff688c9a"
   },
   "outputs": [],
   "source": []
  },
  {
   "cell_type": "markdown",
   "metadata": {
    "id": "wx353mmZg8HX"
   },
   "source": [
    "3) 기초통계량과 분포를 통해서 파악한 내용을 적어 봅시다.\n",
    "\n",
    "보이는 그대로를 넘어, 비즈니스 관점에서 고민하며 적어 봅시다."
   ]
  },
  {
   "cell_type": "code",
   "execution_count": null,
   "metadata": {},
   "outputs": [],
   "source": []
  },
  {
   "cell_type": "markdown",
   "metadata": {
    "id": "PZXo7mpeg8mb"
   },
   "source": [
    "4) 추가 분석해 볼 사항이 있나요?"
   ]
  },
  {
   "cell_type": "code",
   "execution_count": null,
   "metadata": {},
   "outputs": [],
   "source": []
  },
  {
   "cell_type": "markdown",
   "metadata": {
    "id": "-MNN7Zplg8wC"
   },
   "source": [
    "### **(6) Price**"
   ]
  },
  {
   "cell_type": "code",
   "execution_count": null,
   "metadata": {
    "id": "IbJhk9p5UXu6"
   },
   "outputs": [],
   "source": []
  },
  {
   "cell_type": "markdown",
   "metadata": {
    "id": "fJIadSMUUXu6"
   },
   "source": [
    "1) 변수의 비즈니스 의미"
   ]
  },
  {
   "cell_type": "markdown",
   "metadata": {
    "id": "H9_8VoENfJCa"
   },
   "source": [
    "2) 기초통계량 및 분포확인"
   ]
  },
  {
   "cell_type": "code",
   "execution_count": null,
   "metadata": {
    "colab": {
     "base_uri": "https://localhost:8080/"
    },
    "executionInfo": {
     "elapsed": 10,
     "status": "ok",
     "timestamp": 1673940881657,
     "user": {
      "displayName": "한기영",
      "userId": "13049187003176135487"
     },
     "user_tz": -540
    },
    "id": "DJpEltSbfJCa",
    "outputId": "86b1f815-8714-4ce7-912e-431dff688c9a"
   },
   "outputs": [],
   "source": []
  },
  {
   "cell_type": "markdown",
   "metadata": {
    "id": "wx353mmZg8HX"
   },
   "source": [
    "3) 기초통계량과 분포를 통해서 파악한 내용을 적어 봅시다.\n",
    "\n",
    "보이는 그대로를 넘어, 비즈니스 관점에서 고민하며 적어 봅시다."
   ]
  },
  {
   "cell_type": "code",
   "execution_count": null,
   "metadata": {},
   "outputs": [],
   "source": []
  },
  {
   "cell_type": "markdown",
   "metadata": {
    "id": "SRGAiRvRg8wD"
   },
   "source": [
    "4) 추가 분석해 볼 사항이 있나요?"
   ]
  },
  {
   "cell_type": "code",
   "execution_count": null,
   "metadata": {},
   "outputs": [],
   "source": []
  },
  {
   "cell_type": "markdown",
   "metadata": {
    "id": "9sLeiF5Kg9EO"
   },
   "source": [
    "### **(7) Age**"
   ]
  },
  {
   "cell_type": "code",
   "execution_count": null,
   "metadata": {
    "id": "H3jAkpbyUb8f"
   },
   "outputs": [],
   "source": []
  },
  {
   "cell_type": "markdown",
   "metadata": {
    "id": "UKazla7SUb8f"
   },
   "source": [
    "1) 변수의 비즈니스 의미"
   ]
  },
  {
   "cell_type": "code",
   "execution_count": null,
   "metadata": {},
   "outputs": [],
   "source": []
  },
  {
   "cell_type": "markdown",
   "metadata": {
    "id": "H9_8VoENfJCa"
   },
   "source": [
    "2) 기초통계량 및 분포확인"
   ]
  },
  {
   "cell_type": "code",
   "execution_count": null,
   "metadata": {
    "colab": {
     "base_uri": "https://localhost:8080/"
    },
    "executionInfo": {
     "elapsed": 10,
     "status": "ok",
     "timestamp": 1673940881657,
     "user": {
      "displayName": "한기영",
      "userId": "13049187003176135487"
     },
     "user_tz": -540
    },
    "id": "DJpEltSbfJCa",
    "outputId": "86b1f815-8714-4ce7-912e-431dff688c9a"
   },
   "outputs": [],
   "source": []
  },
  {
   "cell_type": "markdown",
   "metadata": {
    "id": "wx353mmZg8HX"
   },
   "source": [
    "3) 기초통계량과 분포를 통해서 파악한 내용을 적어 봅시다.\n",
    "\n",
    "보이는 그대로를 넘어, 비즈니스 관점에서 고민하며 적어 봅시다."
   ]
  },
  {
   "cell_type": "code",
   "execution_count": null,
   "metadata": {},
   "outputs": [],
   "source": []
  },
  {
   "cell_type": "markdown",
   "metadata": {
    "id": "EtnLunngg9EP"
   },
   "source": [
    "4) 추가 분석해 볼 사항이 있나요?"
   ]
  },
  {
   "cell_type": "code",
   "execution_count": null,
   "metadata": {
    "id": "TR6Q3-dJg9EP"
   },
   "outputs": [],
   "source": []
  },
  {
   "cell_type": "markdown",
   "metadata": {
    "id": "A7QYqGKWdMZi"
   },
   "source": [
    "## **4.단변량분석 : 범주형 변수**"
   ]
  },
  {
   "cell_type": "markdown",
   "metadata": {},
   "source": [
    "* 함수 생성"
   ]
  },
  {
   "cell_type": "code",
   "execution_count": null,
   "metadata": {},
   "outputs": [],
   "source": [
    "def eda_1_cat(data, var) :\n",
    "    t1 = data[var].value_counts()\n",
    "    t2 = data[var].value_counts(normalize = True)\n",
    "    t3 = pd.concat([t1, t2], axis = 1)\n",
    "    t3.columns = ['count','ratio']\n",
    "    display(t3)\n",
    "    sns.countplot(x = var, data = data)\n",
    "    plt.show()\n",
    "    "
   ]
  },
  {
   "cell_type": "markdown",
   "metadata": {
    "id": "m5zcg9CCg86m"
   },
   "source": [
    "### **(1) ShelveLoc**"
   ]
  },
  {
   "cell_type": "code",
   "execution_count": null,
   "metadata": {
    "id": "fzfJAos6g86m"
   },
   "outputs": [],
   "source": [
    "var = 'ShelveLoc'"
   ]
  },
  {
   "cell_type": "markdown",
   "metadata": {
    "id": "dJBrJUmGg86n"
   },
   "source": [
    "1) 변수의 비즈니스 의미"
   ]
  },
  {
   "cell_type": "markdown",
   "metadata": {
    "id": "HngiZSRAXDbp"
   },
   "source": [
    "* 매장 진열상태"
   ]
  },
  {
   "cell_type": "markdown",
   "metadata": {
    "id": "oBh8J1tDg86n"
   },
   "source": [
    "2) 기초통계량(수치화)"
   ]
  },
  {
   "cell_type": "code",
   "execution_count": null,
   "metadata": {
    "colab": {
     "base_uri": "https://localhost:8080/"
    },
    "executionInfo": {
     "elapsed": 35,
     "status": "ok",
     "timestamp": 1673940888396,
     "user": {
      "displayName": "한기영",
      "userId": "13049187003176135487"
     },
     "user_tz": -540
    },
    "id": "dED5nK77g86n",
    "outputId": "4a42df4c-67f5-4141-fd5c-f65fc2bf9863"
   },
   "outputs": [],
   "source": [
    "eda_1_cat(data, var)"
   ]
  },
  {
   "cell_type": "markdown",
   "metadata": {
    "id": "jJMtVG7Og86o"
   },
   "source": [
    "3) 기초통계량과 분포를 통해서 파악한 내용을 적어 봅시다.\n",
    "\n",
    "보이는 그대로를 넘어, 비즈니스 관점에서 고민하며 적어 봅시다."
   ]
  },
  {
   "cell_type": "markdown",
   "metadata": {
    "id": "yFlMfWJfiUqF"
   },
   "source": [
    "* 진열 상태가 중간 정도 가 54%"
   ]
  },
  {
   "cell_type": "markdown",
   "metadata": {
    "id": "eq1EofUKg86o"
   },
   "source": [
    "4) 추가 분석해 볼 사항이 있나요?"
   ]
  },
  {
   "cell_type": "markdown",
   "metadata": {
    "id": "os4givqUjSZm"
   },
   "source": [
    "* 진열상태에 따른 판매량 차이\n",
    "* 지역, 인구수와 진열 상태 관계 비교"
   ]
  },
  {
   "cell_type": "markdown",
   "metadata": {
    "id": "GmxZa7uvhyXO"
   },
   "source": [
    "### **(2) Urban**"
   ]
  },
  {
   "cell_type": "code",
   "execution_count": null,
   "metadata": {
    "id": "vQ9qjXQ0YDGk"
   },
   "outputs": [],
   "source": []
  },
  {
   "cell_type": "markdown",
   "metadata": {
    "id": "Z_SDqaBhYDGl"
   },
   "source": [
    "1) 변수의 비즈니스 의미"
   ]
  },
  {
   "cell_type": "code",
   "execution_count": null,
   "metadata": {},
   "outputs": [],
   "source": []
  },
  {
   "cell_type": "markdown",
   "metadata": {
    "id": "oBh8J1tDg86n"
   },
   "source": [
    "2) 기초통계량(수치화)"
   ]
  },
  {
   "cell_type": "code",
   "execution_count": null,
   "metadata": {
    "colab": {
     "base_uri": "https://localhost:8080/"
    },
    "executionInfo": {
     "elapsed": 35,
     "status": "ok",
     "timestamp": 1673940888396,
     "user": {
      "displayName": "한기영",
      "userId": "13049187003176135487"
     },
     "user_tz": -540
    },
    "id": "dED5nK77g86n",
    "outputId": "4a42df4c-67f5-4141-fd5c-f65fc2bf9863"
   },
   "outputs": [],
   "source": []
  },
  {
   "cell_type": "markdown",
   "metadata": {
    "id": "jJMtVG7Og86o"
   },
   "source": [
    "3) 기초통계량과 분포를 통해서 파악한 내용을 적어 봅시다.\n",
    "\n",
    "보이는 그대로를 넘어, 비즈니스 관점에서 고민하며 적어 봅시다."
   ]
  },
  {
   "cell_type": "code",
   "execution_count": null,
   "metadata": {},
   "outputs": [],
   "source": []
  },
  {
   "cell_type": "markdown",
   "metadata": {
    "id": "uWnlgNkxhyXV"
   },
   "source": [
    "4) 추가 분석해 볼 사항이 있나요?"
   ]
  },
  {
   "cell_type": "code",
   "execution_count": null,
   "metadata": {},
   "outputs": [],
   "source": []
  },
  {
   "cell_type": "markdown",
   "metadata": {
    "id": "ieLyLWqehz_N"
   },
   "source": [
    "### **(3) US**"
   ]
  },
  {
   "cell_type": "code",
   "execution_count": null,
   "metadata": {
    "id": "PGGG2kYOYEyb"
   },
   "outputs": [],
   "source": []
  },
  {
   "cell_type": "markdown",
   "metadata": {
    "id": "3U8qaK9uYEyb"
   },
   "source": [
    "1) 변수의 비즈니스 의미"
   ]
  },
  {
   "cell_type": "code",
   "execution_count": null,
   "metadata": {},
   "outputs": [],
   "source": []
  },
  {
   "cell_type": "markdown",
   "metadata": {
    "id": "oBh8J1tDg86n"
   },
   "source": [
    "2) 기초통계량(수치화)"
   ]
  },
  {
   "cell_type": "code",
   "execution_count": null,
   "metadata": {
    "colab": {
     "base_uri": "https://localhost:8080/"
    },
    "executionInfo": {
     "elapsed": 35,
     "status": "ok",
     "timestamp": 1673940888396,
     "user": {
      "displayName": "한기영",
      "userId": "13049187003176135487"
     },
     "user_tz": -540
    },
    "id": "dED5nK77g86n",
    "outputId": "4a42df4c-67f5-4141-fd5c-f65fc2bf9863"
   },
   "outputs": [],
   "source": []
  },
  {
   "cell_type": "markdown",
   "metadata": {
    "id": "jJMtVG7Og86o"
   },
   "source": [
    "3) 기초통계량과 분포를 통해서 파악한 내용을 적어 봅시다.\n",
    "\n",
    "보이는 그대로를 넘어, 비즈니스 관점에서 고민하며 적어 봅시다."
   ]
  },
  {
   "cell_type": "code",
   "execution_count": null,
   "metadata": {},
   "outputs": [],
   "source": []
  },
  {
   "cell_type": "markdown",
   "metadata": {
    "id": "g3UL3aqhhz_O"
   },
   "source": [
    "4) 추가 분석해 볼 사항이 있나요?"
   ]
  },
  {
   "cell_type": "code",
   "execution_count": null,
   "metadata": {},
   "outputs": [],
   "source": [
    "path = 'https://raw.githubusercontent.com/DA4BAM/dataset/master/air2.csv'\n",
    "air = pd.read_csv(path)"
   ]
  },
  {
   "cell_type": "code",
   "execution_count": 17,
   "metadata": {},
   "outputs": [],
   "source": [
    "#연습"
   ]
  },
  {
   "cell_type": "code",
   "execution_count": 29,
   "metadata": {},
   "outputs": [],
   "source": [
    "path='https://bit.ly/3WvWiOO'\n",
    "data3=pd.read_csv(path)"
   ]
  },
  {
   "cell_type": "code",
   "execution_count": 31,
   "metadata": {},
   "outputs": [
    {
     "data": {
      "text/html": [
       "<div>\n",
       "<style scoped>\n",
       "    .dataframe tbody tr th:only-of-type {\n",
       "        vertical-align: middle;\n",
       "    }\n",
       "\n",
       "    .dataframe tbody tr th {\n",
       "        vertical-align: top;\n",
       "    }\n",
       "\n",
       "    .dataframe thead th {\n",
       "        text-align: right;\n",
       "    }\n",
       "</style>\n",
       "<table border=\"1\" class=\"dataframe\">\n",
       "  <thead>\n",
       "    <tr style=\"text-align: right;\">\n",
       "      <th></th>\n",
       "      <th>PassengerId</th>\n",
       "      <th>Survived</th>\n",
       "      <th>Pclass</th>\n",
       "      <th>Name</th>\n",
       "      <th>Sex</th>\n",
       "      <th>Age</th>\n",
       "      <th>Fare</th>\n",
       "      <th>Embarked</th>\n",
       "    </tr>\n",
       "  </thead>\n",
       "  <tbody>\n",
       "    <tr>\n",
       "      <th>0</th>\n",
       "      <td>1</td>\n",
       "      <td>0</td>\n",
       "      <td>3</td>\n",
       "      <td>Braund, Mr. Owen Harris</td>\n",
       "      <td>male</td>\n",
       "      <td>22.0</td>\n",
       "      <td>7.2500</td>\n",
       "      <td>Southampton</td>\n",
       "    </tr>\n",
       "    <tr>\n",
       "      <th>1</th>\n",
       "      <td>2</td>\n",
       "      <td>1</td>\n",
       "      <td>1</td>\n",
       "      <td>Cumings, Mrs. John Bradley (Florence Briggs Th...</td>\n",
       "      <td>female</td>\n",
       "      <td>38.0</td>\n",
       "      <td>71.2833</td>\n",
       "      <td>Cherbourg</td>\n",
       "    </tr>\n",
       "    <tr>\n",
       "      <th>2</th>\n",
       "      <td>3</td>\n",
       "      <td>1</td>\n",
       "      <td>3</td>\n",
       "      <td>Heikkinen, Miss. Laina</td>\n",
       "      <td>female</td>\n",
       "      <td>26.0</td>\n",
       "      <td>7.9250</td>\n",
       "      <td>Southampton</td>\n",
       "    </tr>\n",
       "    <tr>\n",
       "      <th>3</th>\n",
       "      <td>4</td>\n",
       "      <td>1</td>\n",
       "      <td>1</td>\n",
       "      <td>Futrelle, Mrs. Jacques Heath (Lily May Peel)</td>\n",
       "      <td>female</td>\n",
       "      <td>35.0</td>\n",
       "      <td>53.1000</td>\n",
       "      <td>Southampton</td>\n",
       "    </tr>\n",
       "    <tr>\n",
       "      <th>4</th>\n",
       "      <td>5</td>\n",
       "      <td>0</td>\n",
       "      <td>3</td>\n",
       "      <td>Allen, Mr. William Henry</td>\n",
       "      <td>male</td>\n",
       "      <td>35.0</td>\n",
       "      <td>8.0500</td>\n",
       "      <td>Southampton</td>\n",
       "    </tr>\n",
       "  </tbody>\n",
       "</table>\n",
       "</div>"
      ],
      "text/plain": [
       "   PassengerId  Survived  Pclass  \\\n",
       "0            1         0       3   \n",
       "1            2         1       1   \n",
       "2            3         1       3   \n",
       "3            4         1       1   \n",
       "4            5         0       3   \n",
       "\n",
       "                                                Name     Sex   Age     Fare  \\\n",
       "0                            Braund, Mr. Owen Harris    male  22.0   7.2500   \n",
       "1  Cumings, Mrs. John Bradley (Florence Briggs Th...  female  38.0  71.2833   \n",
       "2                             Heikkinen, Miss. Laina  female  26.0   7.9250   \n",
       "3       Futrelle, Mrs. Jacques Heath (Lily May Peel)  female  35.0  53.1000   \n",
       "4                           Allen, Mr. William Henry    male  35.0   8.0500   \n",
       "\n",
       "      Embarked  \n",
       "0  Southampton  \n",
       "1    Cherbourg  \n",
       "2  Southampton  \n",
       "3  Southampton  \n",
       "4  Southampton  "
      ]
     },
     "execution_count": 31,
     "metadata": {},
     "output_type": "execute_result"
    }
   ],
   "source": [
    "data3.head()"
   ]
  },
  {
   "cell_type": "code",
   "execution_count": 36,
   "metadata": {},
   "outputs": [
    {
     "data": {
      "text/plain": [
       "Embarked\n",
       "Southampton    0.724409\n",
       "Cherbourg      0.188976\n",
       "Queenstown     0.086614\n",
       "Name: proportion, dtype: float64"
      ]
     },
     "execution_count": 36,
     "metadata": {},
     "output_type": "execute_result"
    }
   ],
   "source": [
    "data3['Embarked'].value_counts(normalize=True)"
   ]
  },
  {
   "cell_type": "code",
   "execution_count": null,
   "metadata": {},
   "outputs": [],
   "source": []
  }
 ],
 "metadata": {
  "colab": {
   "provenance": []
  },
  "kernelspec": {
   "display_name": "Python 3 (ipykernel)",
   "language": "python",
   "name": "python3"
  },
  "language_info": {
   "codemirror_mode": {
    "name": "ipython",
    "version": 3
   },
   "file_extension": ".py",
   "mimetype": "text/x-python",
   "name": "python",
   "nbconvert_exporter": "python",
   "pygments_lexer": "ipython3",
   "version": "3.12.4"
  }
 },
 "nbformat": 4,
 "nbformat_minor": 4
}
