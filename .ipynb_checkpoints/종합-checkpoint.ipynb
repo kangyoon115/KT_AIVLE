{
 "cells": [
  {
   "cell_type": "markdown",
   "id": "f0c26324-0530-427d-809b-707cc6801d48",
   "metadata": {
    "jp-MarkdownHeadingCollapsed": true
   },
   "source": [
    "#### **파이썬**"
   ]
  },
  {
   "cell_type": "code",
   "execution_count": 15,
   "id": "bf57a498-3dd8-4399-be8a-9e6d3ed41ca7",
   "metadata": {},
   "outputs": [],
   "source": [
    "#여러 숫자 불러오기\n",
    "def cal(*n):\n",
    "    summ=sum(n)\n",
    "    avg=sum(n)/len(n)\n",
    "    return summ,avg"
   ]
  },
  {
   "cell_type": "code",
   "execution_count": 17,
   "id": "3f7c5aae-3f0d-4c9a-9817-c1a3e247c792",
   "metadata": {},
   "outputs": [
    {
     "data": {
      "text/plain": [
       "(28, 5.6)"
      ]
     },
     "execution_count": 17,
     "metadata": {},
     "output_type": "execute_result"
    }
   ],
   "source": [
    "cal(1,3,6,8,10)"
   ]
  },
  {
   "cell_type": "markdown",
   "id": "71d54071-7eeb-452d-b07e-0dd8bf6e144d",
   "metadata": {
    "jp-MarkdownHeadingCollapsed": true
   },
   "source": [
    "#### **라이브러리 불러오기**"
   ]
  },
  {
   "cell_type": "code",
   "execution_count": 22,
   "id": "c7f5770a-2fde-4829-8c25-648d2995271b",
   "metadata": {},
   "outputs": [],
   "source": [
    "import numpy as np"
   ]
  },
  {
   "cell_type": "code",
   "execution_count": null,
   "id": "a4c58add-74d2-4f0a-88f0-351a930df21e",
   "metadata": {},
   "outputs": [],
   "source": [
    "a3 = [[[1, 3, 1],\n",
    "       [4, 7, 6],\n",
    "       [8, 3, 4]],\n",
    "      [[6, 2, 4],\n",
    "       [8, 1, 5],\n",
    "       [3, 5, 9]]]\n",
    "\n",
    "#배열로 변환\n",
    "b3=np.array(a3)"
   ]
  },
  {
   "cell_type": "code",
   "execution_count": 32,
   "id": "7ed67fe0-460c-4b93-8228-4e992ba92d08",
   "metadata": {},
   "outputs": [
    {
     "name": "stdout",
     "output_type": "stream",
     "text": [
      "(2, 3, 3)\n"
     ]
    }
   ],
   "source": [
    "#형태 크기 확인\n",
    "print(b3.shape)"
   ]
  },
  {
   "cell_type": "code",
   "execution_count": 34,
   "id": "3b02250f-1b38-4ac5-b9ad-30c574db18fa",
   "metadata": {},
   "outputs": [
    {
     "name": "stdout",
     "output_type": "stream",
     "text": [
      "17\n"
     ]
    }
   ],
   "source": [
    "#전체중에서 가장 큰 값의 인덱스\n",
    "print(np.argmax(a3))"
   ]
  },
  {
   "cell_type": "code",
   "execution_count": 38,
   "id": "be4ee37a-381d-44d4-949e-f5574271c72a",
   "metadata": {},
   "outputs": [
    {
     "name": "stdout",
     "output_type": "stream",
     "text": [
      "[[1 0 1]\n",
      " [1 0 0]\n",
      " [0 1 1]]\n"
     ]
    }
   ],
   "source": [
    "#행 방향 최대값의 인덱스\n",
    "print(np.argmax(a3,axis=0))"
   ]
  },
  {
   "cell_type": "code",
   "execution_count": 44,
   "id": "dd200b00-4c36-461f-86b7-2cc75a243374",
   "metadata": {},
   "outputs": [
    {
     "data": {
      "text/plain": [
       "array([[[0, 1, 0],\n",
       "        [1, 1, 1],\n",
       "        [1, 1, 1]],\n",
       "\n",
       "       [[1, 0, 1],\n",
       "        [1, 0, 1],\n",
       "        [1, 1, 1]]])"
      ]
     },
     "execution_count": 44,
     "metadata": {},
     "output_type": "execute_result"
    }
   ],
   "source": [
    "#np.where(조건문, 참일때 값, 거짓일때 값)\n",
    "np.where(b3>2,1,0) #값이 2보다 클때 1 작으면 0"
   ]
  },
  {
   "cell_type": "markdown",
   "id": "a968a66e-960c-484a-9828-ad1495fb412b",
   "metadata": {
    "jp-MarkdownHeadingCollapsed": true
   },
   "source": [
    "#### **데이터 불러오기**"
   ]
  },
  {
   "cell_type": "code",
   "execution_count": 6,
   "id": "8f60367a-0bca-481a-8647-3e9bae0c92f4",
   "metadata": {
    "collapsed": true,
    "jupyter": {
     "outputs_hidden": true,
     "source_hidden": true
    },
    "scrolled": true
   },
   "outputs": [
    {
     "data": {
      "text/html": [
       "<div>\n",
       "<style scoped>\n",
       "    .dataframe tbody tr th:only-of-type {\n",
       "        vertical-align: middle;\n",
       "    }\n",
       "\n",
       "    .dataframe tbody tr th {\n",
       "        vertical-align: top;\n",
       "    }\n",
       "\n",
       "    .dataframe thead th {\n",
       "        text-align: right;\n",
       "    }\n",
       "</style>\n",
       "<table border=\"1\" class=\"dataframe\">\n",
       "  <thead>\n",
       "    <tr style=\"text-align: right;\">\n",
       "      <th></th>\n",
       "      <th>PassengerId</th>\n",
       "      <th>Survived</th>\n",
       "      <th>Pclass</th>\n",
       "      <th>Name</th>\n",
       "      <th>Sex</th>\n",
       "      <th>Age</th>\n",
       "      <th>Fare</th>\n",
       "      <th>Embarked</th>\n",
       "    </tr>\n",
       "  </thead>\n",
       "  <tbody>\n",
       "    <tr>\n",
       "      <th>0</th>\n",
       "      <td>1</td>\n",
       "      <td>0</td>\n",
       "      <td>3</td>\n",
       "      <td>Braund, Mr. Owen Harris</td>\n",
       "      <td>male</td>\n",
       "      <td>22.0</td>\n",
       "      <td>7.2500</td>\n",
       "      <td>Southampton</td>\n",
       "    </tr>\n",
       "    <tr>\n",
       "      <th>1</th>\n",
       "      <td>2</td>\n",
       "      <td>1</td>\n",
       "      <td>1</td>\n",
       "      <td>Cumings, Mrs. John Bradley (Florence Briggs Th...</td>\n",
       "      <td>female</td>\n",
       "      <td>38.0</td>\n",
       "      <td>71.2833</td>\n",
       "      <td>Cherbourg</td>\n",
       "    </tr>\n",
       "    <tr>\n",
       "      <th>2</th>\n",
       "      <td>3</td>\n",
       "      <td>1</td>\n",
       "      <td>3</td>\n",
       "      <td>Heikkinen, Miss. Laina</td>\n",
       "      <td>female</td>\n",
       "      <td>26.0</td>\n",
       "      <td>7.9250</td>\n",
       "      <td>Southampton</td>\n",
       "    </tr>\n",
       "    <tr>\n",
       "      <th>3</th>\n",
       "      <td>4</td>\n",
       "      <td>1</td>\n",
       "      <td>1</td>\n",
       "      <td>Futrelle, Mrs. Jacques Heath (Lily May Peel)</td>\n",
       "      <td>female</td>\n",
       "      <td>35.0</td>\n",
       "      <td>53.1000</td>\n",
       "      <td>Southampton</td>\n",
       "    </tr>\n",
       "    <tr>\n",
       "      <th>4</th>\n",
       "      <td>5</td>\n",
       "      <td>0</td>\n",
       "      <td>3</td>\n",
       "      <td>Allen, Mr. William Henry</td>\n",
       "      <td>male</td>\n",
       "      <td>35.0</td>\n",
       "      <td>8.0500</td>\n",
       "      <td>Southampton</td>\n",
       "    </tr>\n",
       "  </tbody>\n",
       "</table>\n",
       "</div>"
      ],
      "text/plain": [
       "   PassengerId  Survived  Pclass  \\\n",
       "0            1         0       3   \n",
       "1            2         1       1   \n",
       "2            3         1       3   \n",
       "3            4         1       1   \n",
       "4            5         0       3   \n",
       "\n",
       "                                                Name     Sex   Age     Fare  \\\n",
       "0                            Braund, Mr. Owen Harris    male  22.0   7.2500   \n",
       "1  Cumings, Mrs. John Bradley (Florence Briggs Th...  female  38.0  71.2833   \n",
       "2                             Heikkinen, Miss. Laina  female  26.0   7.9250   \n",
       "3       Futrelle, Mrs. Jacques Heath (Lily May Peel)  female  35.0  53.1000   \n",
       "4                           Allen, Mr. William Henry    male  35.0   8.0500   \n",
       "\n",
       "      Embarked  \n",
       "0  Southampton  \n",
       "1    Cherbourg  \n",
       "2  Southampton  \n",
       "3  Southampton  \n",
       "4  Southampton  "
      ]
     },
     "execution_count": 6,
     "metadata": {},
     "output_type": "execute_result"
    }
   ],
   "source": [
    "import pandas as pd\n",
    "\n",
    "path='https://raw.githubusercontent.com/DA4BAM/dataset/master/titanic_simple.csv'\n",
    "data=pd.read_csv(path)\n",
    "\n",
    "#상위 10개만 확인\n",
    "data.head()"
   ]
  },
  {
   "cell_type": "code",
   "execution_count": 7,
   "id": "d27dfb1c-33d1-4bf7-8770-607cf45a1b84",
   "metadata": {
    "scrolled": true
   },
   "outputs": [
    {
     "data": {
      "text/html": [
       "<div>\n",
       "<style scoped>\n",
       "    .dataframe tbody tr th:only-of-type {\n",
       "        vertical-align: middle;\n",
       "    }\n",
       "\n",
       "    .dataframe tbody tr th {\n",
       "        vertical-align: top;\n",
       "    }\n",
       "\n",
       "    .dataframe thead th {\n",
       "        text-align: right;\n",
       "    }\n",
       "</style>\n",
       "<table border=\"1\" class=\"dataframe\">\n",
       "  <thead>\n",
       "    <tr style=\"text-align: right;\">\n",
       "      <th></th>\n",
       "      <th>PassengerId</th>\n",
       "      <th>Survived</th>\n",
       "      <th>Pclass</th>\n",
       "      <th>Name</th>\n",
       "      <th>Sex</th>\n",
       "      <th>Age</th>\n",
       "      <th>Fare</th>\n",
       "      <th>Embarked</th>\n",
       "    </tr>\n",
       "  </thead>\n",
       "  <tbody>\n",
       "    <tr>\n",
       "      <th>888</th>\n",
       "      <td>889</td>\n",
       "      <td>0</td>\n",
       "      <td>3</td>\n",
       "      <td>Johnston, Miss. Catherine Helen \"Carrie\"</td>\n",
       "      <td>female</td>\n",
       "      <td>NaN</td>\n",
       "      <td>23.45</td>\n",
       "      <td>Southampton</td>\n",
       "    </tr>\n",
       "    <tr>\n",
       "      <th>889</th>\n",
       "      <td>890</td>\n",
       "      <td>1</td>\n",
       "      <td>1</td>\n",
       "      <td>Behr, Mr. Karl Howell</td>\n",
       "      <td>male</td>\n",
       "      <td>26.0</td>\n",
       "      <td>30.00</td>\n",
       "      <td>Cherbourg</td>\n",
       "    </tr>\n",
       "    <tr>\n",
       "      <th>890</th>\n",
       "      <td>891</td>\n",
       "      <td>0</td>\n",
       "      <td>3</td>\n",
       "      <td>Dooley, Mr. Patrick</td>\n",
       "      <td>male</td>\n",
       "      <td>32.0</td>\n",
       "      <td>7.75</td>\n",
       "      <td>Queenstown</td>\n",
       "    </tr>\n",
       "  </tbody>\n",
       "</table>\n",
       "</div>"
      ],
      "text/plain": [
       "     PassengerId  Survived  Pclass                                      Name  \\\n",
       "888          889         0       3  Johnston, Miss. Catherine Helen \"Carrie\"   \n",
       "889          890         1       1                     Behr, Mr. Karl Howell   \n",
       "890          891         0       3                       Dooley, Mr. Patrick   \n",
       "\n",
       "        Sex   Age   Fare     Embarked  \n",
       "888  female   NaN  23.45  Southampton  \n",
       "889    male  26.0  30.00    Cherbourg  \n",
       "890    male  32.0   7.75   Queenstown  "
      ]
     },
     "execution_count": 7,
     "metadata": {},
     "output_type": "execute_result"
    }
   ],
   "source": [
    "#하위 데이터 3개 확인\n",
    "data.tail(3)"
   ]
  },
  {
   "cell_type": "code",
   "execution_count": 8,
   "id": "757c152b-8178-4283-9708-c0025f808d35",
   "metadata": {},
   "outputs": [
    {
     "data": {
      "text/plain": [
       "['PassengerId', 'Survived', 'Pclass', 'Name', 'Sex', 'Age', 'Fare', 'Embarked']"
      ]
     },
     "execution_count": 8,
     "metadata": {},
     "output_type": "execute_result"
    }
   ],
   "source": [
    "#컬럼 이름 확인\n",
    "list(data)"
   ]
  },
  {
   "cell_type": "code",
   "execution_count": 9,
   "id": "37a51045-0200-4862-9d98-82333a25807b",
   "metadata": {},
   "outputs": [
    {
     "name": "stdout",
     "output_type": "stream",
     "text": [
      "<class 'pandas.core.frame.DataFrame'>\n",
      "RangeIndex: 891 entries, 0 to 890\n",
      "Data columns (total 8 columns):\n",
      " #   Column       Non-Null Count  Dtype  \n",
      "---  ------       --------------  -----  \n",
      " 0   PassengerId  891 non-null    int64  \n",
      " 1   Survived     891 non-null    int64  \n",
      " 2   Pclass       891 non-null    int64  \n",
      " 3   Name         891 non-null    object \n",
      " 4   Sex          891 non-null    object \n",
      " 5   Age          714 non-null    float64\n",
      " 6   Fare         891 non-null    float64\n",
      " 7   Embarked     889 non-null    object \n",
      "dtypes: float64(2), int64(3), object(3)\n",
      "memory usage: 55.8+ KB\n"
     ]
    }
   ],
   "source": [
    "#열의 자료형, 값 개수 확인\n",
    "data.info()"
   ]
  },
  {
   "cell_type": "code",
   "execution_count": 14,
   "id": "3086f9a4-62c2-4c04-8291-94861fbec8b4",
   "metadata": {},
   "outputs": [
    {
     "name": "stdout",
     "output_type": "stream",
     "text": [
      "['male' 'female']\n",
      "Sex\n",
      "male      577\n",
      "female    314\n",
      "Name: count, dtype: int64\n"
     ]
    }
   ],
   "source": [
    "#Sex 성별의 고유값과 개수 확인\n",
    "print(data['Sex'].unique())\n",
    "print(data['Sex'].value_counts())"
   ]
  },
  {
   "cell_type": "markdown",
   "id": "3c348767-d2a0-419c-80cb-aa7196d14edc",
   "metadata": {
    "jp-MarkdownHeadingCollapsed": true
   },
   "source": [
    "#### **데이터 조회**"
   ]
  },
  {
   "cell_type": "code",
   "execution_count": 17,
   "id": "28b40cf0-dd5e-4841-befb-da811a57f146",
   "metadata": {
    "collapsed": true,
    "jupyter": {
     "outputs_hidden": true
    },
    "scrolled": true
   },
   "outputs": [
    {
     "data": {
      "text/html": [
       "<div>\n",
       "<style scoped>\n",
       "    .dataframe tbody tr th:only-of-type {\n",
       "        vertical-align: middle;\n",
       "    }\n",
       "\n",
       "    .dataframe tbody tr th {\n",
       "        vertical-align: top;\n",
       "    }\n",
       "\n",
       "    .dataframe thead th {\n",
       "        text-align: right;\n",
       "    }\n",
       "</style>\n",
       "<table border=\"1\" class=\"dataframe\">\n",
       "  <thead>\n",
       "    <tr style=\"text-align: right;\">\n",
       "      <th></th>\n",
       "      <th>PassengerId</th>\n",
       "      <th>Survived</th>\n",
       "      <th>Pclass</th>\n",
       "      <th>Name</th>\n",
       "      <th>Sex</th>\n",
       "      <th>Age</th>\n",
       "      <th>Fare</th>\n",
       "      <th>Embarked</th>\n",
       "    </tr>\n",
       "  </thead>\n",
       "  <tbody>\n",
       "    <tr>\n",
       "      <th>9</th>\n",
       "      <td>10</td>\n",
       "      <td>1</td>\n",
       "      <td>2</td>\n",
       "      <td>Nasser, Mrs. Nicholas (Adele Achem)</td>\n",
       "      <td>female</td>\n",
       "      <td>14.0</td>\n",
       "      <td>30.0708</td>\n",
       "      <td>Cherbourg</td>\n",
       "    </tr>\n",
       "    <tr>\n",
       "      <th>10</th>\n",
       "      <td>11</td>\n",
       "      <td>1</td>\n",
       "      <td>3</td>\n",
       "      <td>Sandstrom, Miss. Marguerite Rut</td>\n",
       "      <td>female</td>\n",
       "      <td>4.0</td>\n",
       "      <td>16.7000</td>\n",
       "      <td>Southampton</td>\n",
       "    </tr>\n",
       "    <tr>\n",
       "      <th>14</th>\n",
       "      <td>15</td>\n",
       "      <td>0</td>\n",
       "      <td>3</td>\n",
       "      <td>Vestrom, Miss. Hulda Amanda Adolfina</td>\n",
       "      <td>female</td>\n",
       "      <td>14.0</td>\n",
       "      <td>7.8542</td>\n",
       "      <td>Southampton</td>\n",
       "    </tr>\n",
       "    <tr>\n",
       "      <th>22</th>\n",
       "      <td>23</td>\n",
       "      <td>1</td>\n",
       "      <td>3</td>\n",
       "      <td>McGowan, Miss. Anna \"Annie\"</td>\n",
       "      <td>female</td>\n",
       "      <td>15.0</td>\n",
       "      <td>8.0292</td>\n",
       "      <td>Queenstown</td>\n",
       "    </tr>\n",
       "    <tr>\n",
       "      <th>24</th>\n",
       "      <td>25</td>\n",
       "      <td>0</td>\n",
       "      <td>3</td>\n",
       "      <td>Palsson, Miss. Torborg Danira</td>\n",
       "      <td>female</td>\n",
       "      <td>8.0</td>\n",
       "      <td>21.0750</td>\n",
       "      <td>Southampton</td>\n",
       "    </tr>\n",
       "    <tr>\n",
       "      <th>...</th>\n",
       "      <td>...</td>\n",
       "      <td>...</td>\n",
       "      <td>...</td>\n",
       "      <td>...</td>\n",
       "      <td>...</td>\n",
       "      <td>...</td>\n",
       "      <td>...</td>\n",
       "      <td>...</td>\n",
       "    </tr>\n",
       "    <tr>\n",
       "      <th>852</th>\n",
       "      <td>853</td>\n",
       "      <td>0</td>\n",
       "      <td>3</td>\n",
       "      <td>Boulos, Miss. Nourelain</td>\n",
       "      <td>female</td>\n",
       "      <td>9.0</td>\n",
       "      <td>15.2458</td>\n",
       "      <td>Cherbourg</td>\n",
       "    </tr>\n",
       "    <tr>\n",
       "      <th>853</th>\n",
       "      <td>854</td>\n",
       "      <td>1</td>\n",
       "      <td>1</td>\n",
       "      <td>Lines, Miss. Mary Conover</td>\n",
       "      <td>female</td>\n",
       "      <td>16.0</td>\n",
       "      <td>39.4000</td>\n",
       "      <td>Southampton</td>\n",
       "    </tr>\n",
       "    <tr>\n",
       "      <th>855</th>\n",
       "      <td>856</td>\n",
       "      <td>1</td>\n",
       "      <td>3</td>\n",
       "      <td>Aks, Mrs. Sam (Leah Rosen)</td>\n",
       "      <td>female</td>\n",
       "      <td>18.0</td>\n",
       "      <td>9.3500</td>\n",
       "      <td>Southampton</td>\n",
       "    </tr>\n",
       "    <tr>\n",
       "      <th>875</th>\n",
       "      <td>876</td>\n",
       "      <td>1</td>\n",
       "      <td>3</td>\n",
       "      <td>Najib, Miss. Adele Kiamie \"Jane\"</td>\n",
       "      <td>female</td>\n",
       "      <td>15.0</td>\n",
       "      <td>7.2250</td>\n",
       "      <td>Cherbourg</td>\n",
       "    </tr>\n",
       "    <tr>\n",
       "      <th>887</th>\n",
       "      <td>888</td>\n",
       "      <td>1</td>\n",
       "      <td>1</td>\n",
       "      <td>Graham, Miss. Margaret Edith</td>\n",
       "      <td>female</td>\n",
       "      <td>19.0</td>\n",
       "      <td>30.0000</td>\n",
       "      <td>Southampton</td>\n",
       "    </tr>\n",
       "  </tbody>\n",
       "</table>\n",
       "<p>75 rows × 8 columns</p>\n",
       "</div>"
      ],
      "text/plain": [
       "     PassengerId  Survived  Pclass                                  Name  \\\n",
       "9             10         1       2   Nasser, Mrs. Nicholas (Adele Achem)   \n",
       "10            11         1       3       Sandstrom, Miss. Marguerite Rut   \n",
       "14            15         0       3  Vestrom, Miss. Hulda Amanda Adolfina   \n",
       "22            23         1       3           McGowan, Miss. Anna \"Annie\"   \n",
       "24            25         0       3         Palsson, Miss. Torborg Danira   \n",
       "..           ...       ...     ...                                   ...   \n",
       "852          853         0       3               Boulos, Miss. Nourelain   \n",
       "853          854         1       1             Lines, Miss. Mary Conover   \n",
       "855          856         1       3            Aks, Mrs. Sam (Leah Rosen)   \n",
       "875          876         1       3      Najib, Miss. Adele Kiamie \"Jane\"   \n",
       "887          888         1       1          Graham, Miss. Margaret Edith   \n",
       "\n",
       "        Sex   Age     Fare     Embarked  \n",
       "9    female  14.0  30.0708    Cherbourg  \n",
       "10   female   4.0  16.7000  Southampton  \n",
       "14   female  14.0   7.8542  Southampton  \n",
       "22   female  15.0   8.0292   Queenstown  \n",
       "24   female   8.0  21.0750  Southampton  \n",
       "..      ...   ...      ...          ...  \n",
       "852  female   9.0  15.2458    Cherbourg  \n",
       "853  female  16.0  39.4000  Southampton  \n",
       "855  female  18.0   9.3500  Southampton  \n",
       "875  female  15.0   7.2250    Cherbourg  \n",
       "887  female  19.0  30.0000  Southampton  \n",
       "\n",
       "[75 rows x 8 columns]"
      ]
     },
     "execution_count": 17,
     "metadata": {},
     "output_type": "execute_result"
    }
   ],
   "source": [
    "# and 연산자로 여러 조건 연결-성별이 여자이면서 나이가 20대 이하인 사람 조회\n",
    "data.loc[(data['Sex']=='female')&(data['Age']<20)]"
   ]
  },
  {
   "cell_type": "code",
   "execution_count": 19,
   "id": "85ea4263-f651-4905-a38e-fb130c4d139b",
   "metadata": {
    "collapsed": true,
    "jupyter": {
     "outputs_hidden": true
    },
    "scrolled": true
   },
   "outputs": [
    {
     "data": {
      "text/html": [
       "<div>\n",
       "<style scoped>\n",
       "    .dataframe tbody tr th:only-of-type {\n",
       "        vertical-align: middle;\n",
       "    }\n",
       "\n",
       "    .dataframe tbody tr th {\n",
       "        vertical-align: top;\n",
       "    }\n",
       "\n",
       "    .dataframe thead th {\n",
       "        text-align: right;\n",
       "    }\n",
       "</style>\n",
       "<table border=\"1\" class=\"dataframe\">\n",
       "  <thead>\n",
       "    <tr style=\"text-align: right;\">\n",
       "      <th></th>\n",
       "      <th>PassengerId</th>\n",
       "      <th>Survived</th>\n",
       "      <th>Pclass</th>\n",
       "      <th>Name</th>\n",
       "      <th>Sex</th>\n",
       "      <th>Age</th>\n",
       "      <th>Fare</th>\n",
       "      <th>Embarked</th>\n",
       "    </tr>\n",
       "  </thead>\n",
       "  <tbody>\n",
       "    <tr>\n",
       "      <th>12</th>\n",
       "      <td>13</td>\n",
       "      <td>0</td>\n",
       "      <td>3</td>\n",
       "      <td>Saundercock, Mr. William Henry</td>\n",
       "      <td>male</td>\n",
       "      <td>20.0</td>\n",
       "      <td>8.0500</td>\n",
       "      <td>Southampton</td>\n",
       "    </tr>\n",
       "    <tr>\n",
       "      <th>91</th>\n",
       "      <td>92</td>\n",
       "      <td>0</td>\n",
       "      <td>3</td>\n",
       "      <td>Andreasson, Mr. Paul Edvin</td>\n",
       "      <td>male</td>\n",
       "      <td>20.0</td>\n",
       "      <td>7.8542</td>\n",
       "      <td>Southampton</td>\n",
       "    </tr>\n",
       "    <tr>\n",
       "      <th>113</th>\n",
       "      <td>114</td>\n",
       "      <td>0</td>\n",
       "      <td>3</td>\n",
       "      <td>Jussila, Miss. Katriina</td>\n",
       "      <td>female</td>\n",
       "      <td>20.0</td>\n",
       "      <td>9.8250</td>\n",
       "      <td>Southampton</td>\n",
       "    </tr>\n",
       "    <tr>\n",
       "      <th>131</th>\n",
       "      <td>132</td>\n",
       "      <td>0</td>\n",
       "      <td>3</td>\n",
       "      <td>Coelho, Mr. Domingos Fernandeo</td>\n",
       "      <td>male</td>\n",
       "      <td>20.0</td>\n",
       "      <td>7.0500</td>\n",
       "      <td>Southampton</td>\n",
       "    </tr>\n",
       "    <tr>\n",
       "      <th>378</th>\n",
       "      <td>379</td>\n",
       "      <td>0</td>\n",
       "      <td>3</td>\n",
       "      <td>Betros, Mr. Tannous</td>\n",
       "      <td>male</td>\n",
       "      <td>20.0</td>\n",
       "      <td>4.0125</td>\n",
       "      <td>Cherbourg</td>\n",
       "    </tr>\n",
       "    <tr>\n",
       "      <th>404</th>\n",
       "      <td>405</td>\n",
       "      <td>0</td>\n",
       "      <td>3</td>\n",
       "      <td>Oreskovic, Miss. Marija</td>\n",
       "      <td>female</td>\n",
       "      <td>20.0</td>\n",
       "      <td>8.6625</td>\n",
       "      <td>Southampton</td>\n",
       "    </tr>\n",
       "    <tr>\n",
       "      <th>419</th>\n",
       "      <td>420</td>\n",
       "      <td>0</td>\n",
       "      <td>3</td>\n",
       "      <td>Van Impe, Miss. Catharina</td>\n",
       "      <td>female</td>\n",
       "      <td>10.0</td>\n",
       "      <td>24.1500</td>\n",
       "      <td>Southampton</td>\n",
       "    </tr>\n",
       "    <tr>\n",
       "      <th>441</th>\n",
       "      <td>442</td>\n",
       "      <td>0</td>\n",
       "      <td>3</td>\n",
       "      <td>Hampe, Mr. Leon</td>\n",
       "      <td>male</td>\n",
       "      <td>20.0</td>\n",
       "      <td>9.5000</td>\n",
       "      <td>Southampton</td>\n",
       "    </tr>\n",
       "    <tr>\n",
       "      <th>622</th>\n",
       "      <td>623</td>\n",
       "      <td>1</td>\n",
       "      <td>3</td>\n",
       "      <td>Nakid, Mr. Sahid</td>\n",
       "      <td>male</td>\n",
       "      <td>20.0</td>\n",
       "      <td>15.7417</td>\n",
       "      <td>Cherbourg</td>\n",
       "    </tr>\n",
       "    <tr>\n",
       "      <th>640</th>\n",
       "      <td>641</td>\n",
       "      <td>0</td>\n",
       "      <td>3</td>\n",
       "      <td>Jensen, Mr. Hans Peder</td>\n",
       "      <td>male</td>\n",
       "      <td>20.0</td>\n",
       "      <td>7.8542</td>\n",
       "      <td>Southampton</td>\n",
       "    </tr>\n",
       "    <tr>\n",
       "      <th>664</th>\n",
       "      <td>665</td>\n",
       "      <td>1</td>\n",
       "      <td>3</td>\n",
       "      <td>Lindqvist, Mr. Eino William</td>\n",
       "      <td>male</td>\n",
       "      <td>20.0</td>\n",
       "      <td>7.9250</td>\n",
       "      <td>Southampton</td>\n",
       "    </tr>\n",
       "    <tr>\n",
       "      <th>682</th>\n",
       "      <td>683</td>\n",
       "      <td>0</td>\n",
       "      <td>3</td>\n",
       "      <td>Olsvigen, Mr. Thor Anderson</td>\n",
       "      <td>male</td>\n",
       "      <td>20.0</td>\n",
       "      <td>9.2250</td>\n",
       "      <td>Southampton</td>\n",
       "    </tr>\n",
       "    <tr>\n",
       "      <th>725</th>\n",
       "      <td>726</td>\n",
       "      <td>0</td>\n",
       "      <td>3</td>\n",
       "      <td>Oreskovic, Mr. Luka</td>\n",
       "      <td>male</td>\n",
       "      <td>20.0</td>\n",
       "      <td>8.6625</td>\n",
       "      <td>Southampton</td>\n",
       "    </tr>\n",
       "    <tr>\n",
       "      <th>762</th>\n",
       "      <td>763</td>\n",
       "      <td>1</td>\n",
       "      <td>3</td>\n",
       "      <td>Barah, Mr. Hanna Assi</td>\n",
       "      <td>male</td>\n",
       "      <td>20.0</td>\n",
       "      <td>7.2292</td>\n",
       "      <td>Cherbourg</td>\n",
       "    </tr>\n",
       "    <tr>\n",
       "      <th>819</th>\n",
       "      <td>820</td>\n",
       "      <td>0</td>\n",
       "      <td>3</td>\n",
       "      <td>Skoog, Master. Karl Thorsten</td>\n",
       "      <td>male</td>\n",
       "      <td>10.0</td>\n",
       "      <td>27.9000</td>\n",
       "      <td>Southampton</td>\n",
       "    </tr>\n",
       "    <tr>\n",
       "      <th>840</th>\n",
       "      <td>841</td>\n",
       "      <td>0</td>\n",
       "      <td>3</td>\n",
       "      <td>Alhomaki, Mr. Ilmari Rudolf</td>\n",
       "      <td>male</td>\n",
       "      <td>20.0</td>\n",
       "      <td>7.9250</td>\n",
       "      <td>Southampton</td>\n",
       "    </tr>\n",
       "    <tr>\n",
       "      <th>876</th>\n",
       "      <td>877</td>\n",
       "      <td>0</td>\n",
       "      <td>3</td>\n",
       "      <td>Gustafsson, Mr. Alfred Ossian</td>\n",
       "      <td>male</td>\n",
       "      <td>20.0</td>\n",
       "      <td>9.8458</td>\n",
       "      <td>Southampton</td>\n",
       "    </tr>\n",
       "  </tbody>\n",
       "</table>\n",
       "</div>"
      ],
      "text/plain": [
       "     PassengerId  Survived  Pclass                            Name     Sex  \\\n",
       "12            13         0       3  Saundercock, Mr. William Henry    male   \n",
       "91            92         0       3      Andreasson, Mr. Paul Edvin    male   \n",
       "113          114         0       3         Jussila, Miss. Katriina  female   \n",
       "131          132         0       3  Coelho, Mr. Domingos Fernandeo    male   \n",
       "378          379         0       3             Betros, Mr. Tannous    male   \n",
       "404          405         0       3         Oreskovic, Miss. Marija  female   \n",
       "419          420         0       3       Van Impe, Miss. Catharina  female   \n",
       "441          442         0       3                 Hampe, Mr. Leon    male   \n",
       "622          623         1       3                Nakid, Mr. Sahid    male   \n",
       "640          641         0       3          Jensen, Mr. Hans Peder    male   \n",
       "664          665         1       3     Lindqvist, Mr. Eino William    male   \n",
       "682          683         0       3     Olsvigen, Mr. Thor Anderson    male   \n",
       "725          726         0       3             Oreskovic, Mr. Luka    male   \n",
       "762          763         1       3           Barah, Mr. Hanna Assi    male   \n",
       "819          820         0       3    Skoog, Master. Karl Thorsten    male   \n",
       "840          841         0       3     Alhomaki, Mr. Ilmari Rudolf    male   \n",
       "876          877         0       3   Gustafsson, Mr. Alfred Ossian    male   \n",
       "\n",
       "      Age     Fare     Embarked  \n",
       "12   20.0   8.0500  Southampton  \n",
       "91   20.0   7.8542  Southampton  \n",
       "113  20.0   9.8250  Southampton  \n",
       "131  20.0   7.0500  Southampton  \n",
       "378  20.0   4.0125    Cherbourg  \n",
       "404  20.0   8.6625  Southampton  \n",
       "419  10.0  24.1500  Southampton  \n",
       "441  20.0   9.5000  Southampton  \n",
       "622  20.0  15.7417    Cherbourg  \n",
       "640  20.0   7.8542  Southampton  \n",
       "664  20.0   7.9250  Southampton  \n",
       "682  20.0   9.2250  Southampton  \n",
       "725  20.0   8.6625  Southampton  \n",
       "762  20.0   7.2292    Cherbourg  \n",
       "819  10.0  27.9000  Southampton  \n",
       "840  20.0   7.9250  Southampton  \n",
       "876  20.0   9.8458  Southampton  "
      ]
     },
     "execution_count": 19,
     "metadata": {},
     "output_type": "execute_result"
    }
   ],
   "source": [
    "#isin(값1,값2....): 값1,값2인 데이터만 조회,무조건 리스트형태로 조회\n",
    "#값 나열, 나이가 10살과 20살만 조회\n",
    "data.loc[data['Age'].isin([10,20])]"
   ]
  },
  {
   "cell_type": "code",
   "execution_count": 21,
   "id": "1b0042a3-e981-433c-8f05-e7ab1bfb56c5",
   "metadata": {
    "scrolled": true
   },
   "outputs": [
    {
     "data": {
      "text/html": [
       "<div>\n",
       "<style scoped>\n",
       "    .dataframe tbody tr th:only-of-type {\n",
       "        vertical-align: middle;\n",
       "    }\n",
       "\n",
       "    .dataframe tbody tr th {\n",
       "        vertical-align: top;\n",
       "    }\n",
       "\n",
       "    .dataframe thead th {\n",
       "        text-align: right;\n",
       "    }\n",
       "</style>\n",
       "<table border=\"1\" class=\"dataframe\">\n",
       "  <thead>\n",
       "    <tr style=\"text-align: right;\">\n",
       "      <th></th>\n",
       "      <th>PassengerId</th>\n",
       "      <th>Survived</th>\n",
       "      <th>Pclass</th>\n",
       "      <th>Name</th>\n",
       "      <th>Sex</th>\n",
       "      <th>Age</th>\n",
       "      <th>Fare</th>\n",
       "      <th>Embarked</th>\n",
       "    </tr>\n",
       "  </thead>\n",
       "  <tbody>\n",
       "    <tr>\n",
       "      <th>9</th>\n",
       "      <td>10</td>\n",
       "      <td>1</td>\n",
       "      <td>2</td>\n",
       "      <td>Nasser, Mrs. Nicholas (Adele Achem)</td>\n",
       "      <td>female</td>\n",
       "      <td>14.0</td>\n",
       "      <td>30.0708</td>\n",
       "      <td>Cherbourg</td>\n",
       "    </tr>\n",
       "    <tr>\n",
       "      <th>14</th>\n",
       "      <td>15</td>\n",
       "      <td>0</td>\n",
       "      <td>3</td>\n",
       "      <td>Vestrom, Miss. Hulda Amanda Adolfina</td>\n",
       "      <td>female</td>\n",
       "      <td>14.0</td>\n",
       "      <td>7.8542</td>\n",
       "      <td>Southampton</td>\n",
       "    </tr>\n",
       "    <tr>\n",
       "      <th>22</th>\n",
       "      <td>23</td>\n",
       "      <td>1</td>\n",
       "      <td>3</td>\n",
       "      <td>McGowan, Miss. Anna \"Annie\"</td>\n",
       "      <td>female</td>\n",
       "      <td>15.0</td>\n",
       "      <td>8.0292</td>\n",
       "      <td>Queenstown</td>\n",
       "    </tr>\n",
       "    <tr>\n",
       "      <th>27</th>\n",
       "      <td>28</td>\n",
       "      <td>0</td>\n",
       "      <td>1</td>\n",
       "      <td>Fortune, Mr. Charles Alexander</td>\n",
       "      <td>male</td>\n",
       "      <td>19.0</td>\n",
       "      <td>263.0000</td>\n",
       "      <td>Southampton</td>\n",
       "    </tr>\n",
       "    <tr>\n",
       "      <th>38</th>\n",
       "      <td>39</td>\n",
       "      <td>0</td>\n",
       "      <td>3</td>\n",
       "      <td>Vander Planke, Miss. Augusta Maria</td>\n",
       "      <td>female</td>\n",
       "      <td>18.0</td>\n",
       "      <td>18.0000</td>\n",
       "      <td>Southampton</td>\n",
       "    </tr>\n",
       "    <tr>\n",
       "      <th>...</th>\n",
       "      <td>...</td>\n",
       "      <td>...</td>\n",
       "      <td>...</td>\n",
       "      <td>...</td>\n",
       "      <td>...</td>\n",
       "      <td>...</td>\n",
       "      <td>...</td>\n",
       "      <td>...</td>\n",
       "    </tr>\n",
       "    <tr>\n",
       "      <th>853</th>\n",
       "      <td>854</td>\n",
       "      <td>1</td>\n",
       "      <td>1</td>\n",
       "      <td>Lines, Miss. Mary Conover</td>\n",
       "      <td>female</td>\n",
       "      <td>16.0</td>\n",
       "      <td>39.4000</td>\n",
       "      <td>Southampton</td>\n",
       "    </tr>\n",
       "    <tr>\n",
       "      <th>855</th>\n",
       "      <td>856</td>\n",
       "      <td>1</td>\n",
       "      <td>3</td>\n",
       "      <td>Aks, Mrs. Sam (Leah Rosen)</td>\n",
       "      <td>female</td>\n",
       "      <td>18.0</td>\n",
       "      <td>9.3500</td>\n",
       "      <td>Southampton</td>\n",
       "    </tr>\n",
       "    <tr>\n",
       "      <th>875</th>\n",
       "      <td>876</td>\n",
       "      <td>1</td>\n",
       "      <td>3</td>\n",
       "      <td>Najib, Miss. Adele Kiamie \"Jane\"</td>\n",
       "      <td>female</td>\n",
       "      <td>15.0</td>\n",
       "      <td>7.2250</td>\n",
       "      <td>Cherbourg</td>\n",
       "    </tr>\n",
       "    <tr>\n",
       "      <th>877</th>\n",
       "      <td>878</td>\n",
       "      <td>0</td>\n",
       "      <td>3</td>\n",
       "      <td>Petroff, Mr. Nedelio</td>\n",
       "      <td>male</td>\n",
       "      <td>19.0</td>\n",
       "      <td>7.8958</td>\n",
       "      <td>Southampton</td>\n",
       "    </tr>\n",
       "    <tr>\n",
       "      <th>887</th>\n",
       "      <td>888</td>\n",
       "      <td>1</td>\n",
       "      <td>1</td>\n",
       "      <td>Graham, Miss. Margaret Edith</td>\n",
       "      <td>female</td>\n",
       "      <td>19.0</td>\n",
       "      <td>30.0000</td>\n",
       "      <td>Southampton</td>\n",
       "    </tr>\n",
       "  </tbody>\n",
       "</table>\n",
       "<p>102 rows × 8 columns</p>\n",
       "</div>"
      ],
      "text/plain": [
       "     PassengerId  Survived  Pclass                                  Name  \\\n",
       "9             10         1       2   Nasser, Mrs. Nicholas (Adele Achem)   \n",
       "14            15         0       3  Vestrom, Miss. Hulda Amanda Adolfina   \n",
       "22            23         1       3           McGowan, Miss. Anna \"Annie\"   \n",
       "27            28         0       1        Fortune, Mr. Charles Alexander   \n",
       "38            39         0       3    Vander Planke, Miss. Augusta Maria   \n",
       "..           ...       ...     ...                                   ...   \n",
       "853          854         1       1             Lines, Miss. Mary Conover   \n",
       "855          856         1       3            Aks, Mrs. Sam (Leah Rosen)   \n",
       "875          876         1       3      Najib, Miss. Adele Kiamie \"Jane\"   \n",
       "877          878         0       3                  Petroff, Mr. Nedelio   \n",
       "887          888         1       1          Graham, Miss. Margaret Edith   \n",
       "\n",
       "        Sex   Age      Fare     Embarked  \n",
       "9    female  14.0   30.0708    Cherbourg  \n",
       "14   female  14.0    7.8542  Southampton  \n",
       "22   female  15.0    8.0292   Queenstown  \n",
       "27     male  19.0  263.0000  Southampton  \n",
       "38   female  18.0   18.0000  Southampton  \n",
       "..      ...   ...       ...          ...  \n",
       "853  female  16.0   39.4000  Southampton  \n",
       "855  female  18.0    9.3500  Southampton  \n",
       "875  female  15.0    7.2250    Cherbourg  \n",
       "877    male  19.0    7.8958  Southampton  \n",
       "887  female  19.0   30.0000  Southampton  \n",
       "\n",
       "[102 rows x 8 columns]"
      ]
     },
     "execution_count": 21,
     "metadata": {},
     "output_type": "execute_result"
    }
   ],
   "source": [
    "#between(값1,값2): 값1~값2인 데이터 조회, 기본 <=,>=\n",
    "#inclusive='left','right','both'\n",
    "#나이가 10~19 사이의 사람 다 조회\n",
    "data.loc[data['Age'].between(10,20,inclusive='left')]"
   ]
  },
  {
   "cell_type": "markdown",
   "id": "eedff832-f234-49d0-bc28-6f54e2b38957",
   "metadata": {
    "jp-MarkdownHeadingCollapsed": true
   },
   "source": [
    "#### **데이터 프레임 변경**"
   ]
  },
  {
   "cell_type": "code",
   "execution_count": 24,
   "id": "c7243822-40b8-451d-9c0b-1d72f05585c7",
   "metadata": {},
   "outputs": [],
   "source": [
    "data2=data.copy()"
   ]
  },
  {
   "cell_type": "code",
   "execution_count": 26,
   "id": "fd2658d5-74d0-420a-97c1-6e54b109aa63",
   "metadata": {
    "collapsed": true,
    "jupyter": {
     "outputs_hidden": true
    }
   },
   "outputs": [
    {
     "data": {
      "text/html": [
       "<div>\n",
       "<style scoped>\n",
       "    .dataframe tbody tr th:only-of-type {\n",
       "        vertical-align: middle;\n",
       "    }\n",
       "\n",
       "    .dataframe tbody tr th {\n",
       "        vertical-align: top;\n",
       "    }\n",
       "\n",
       "    .dataframe thead th {\n",
       "        text-align: right;\n",
       "    }\n",
       "</style>\n",
       "<table border=\"1\" class=\"dataframe\">\n",
       "  <thead>\n",
       "    <tr style=\"text-align: right;\">\n",
       "      <th></th>\n",
       "      <th>PassengerId</th>\n",
       "      <th>Survived</th>\n",
       "      <th>Pclass</th>\n",
       "      <th>Name</th>\n",
       "      <th>Sex</th>\n",
       "      <th>Age</th>\n",
       "      <th>Fare</th>\n",
       "      <th>Embarked</th>\n",
       "    </tr>\n",
       "  </thead>\n",
       "  <tbody>\n",
       "    <tr>\n",
       "      <th>0</th>\n",
       "      <td>1</td>\n",
       "      <td>0</td>\n",
       "      <td>3</td>\n",
       "      <td>Braund, Mr. Owen Harris</td>\n",
       "      <td>male</td>\n",
       "      <td>22.0</td>\n",
       "      <td>7.2500</td>\n",
       "      <td>Southampton</td>\n",
       "    </tr>\n",
       "    <tr>\n",
       "      <th>1</th>\n",
       "      <td>2</td>\n",
       "      <td>1</td>\n",
       "      <td>1</td>\n",
       "      <td>Cumings, Mrs. John Bradley (Florence Briggs Th...</td>\n",
       "      <td>female</td>\n",
       "      <td>38.0</td>\n",
       "      <td>71.2833</td>\n",
       "      <td>Cherbourg</td>\n",
       "    </tr>\n",
       "    <tr>\n",
       "      <th>2</th>\n",
       "      <td>3</td>\n",
       "      <td>1</td>\n",
       "      <td>3</td>\n",
       "      <td>Heikkinen, Miss. Laina</td>\n",
       "      <td>female</td>\n",
       "      <td>26.0</td>\n",
       "      <td>7.9250</td>\n",
       "      <td>Southampton</td>\n",
       "    </tr>\n",
       "    <tr>\n",
       "      <th>3</th>\n",
       "      <td>4</td>\n",
       "      <td>1</td>\n",
       "      <td>1</td>\n",
       "      <td>Futrelle, Mrs. Jacques Heath (Lily May Peel)</td>\n",
       "      <td>female</td>\n",
       "      <td>35.0</td>\n",
       "      <td>53.1000</td>\n",
       "      <td>Southampton</td>\n",
       "    </tr>\n",
       "    <tr>\n",
       "      <th>4</th>\n",
       "      <td>5</td>\n",
       "      <td>0</td>\n",
       "      <td>3</td>\n",
       "      <td>Allen, Mr. William Henry</td>\n",
       "      <td>male</td>\n",
       "      <td>35.0</td>\n",
       "      <td>8.0500</td>\n",
       "      <td>Southampton</td>\n",
       "    </tr>\n",
       "  </tbody>\n",
       "</table>\n",
       "</div>"
      ],
      "text/plain": [
       "   PassengerId  Survived  Pclass  \\\n",
       "0            1         0       3   \n",
       "1            2         1       1   \n",
       "2            3         1       3   \n",
       "3            4         1       1   \n",
       "4            5         0       3   \n",
       "\n",
       "                                                Name     Sex   Age     Fare  \\\n",
       "0                            Braund, Mr. Owen Harris    male  22.0   7.2500   \n",
       "1  Cumings, Mrs. John Bradley (Florence Briggs Th...  female  38.0  71.2833   \n",
       "2                             Heikkinen, Miss. Laina  female  26.0   7.9250   \n",
       "3       Futrelle, Mrs. Jacques Heath (Lily May Peel)  female  35.0  53.1000   \n",
       "4                           Allen, Mr. William Henry    male  35.0   8.0500   \n",
       "\n",
       "      Embarked  \n",
       "0  Southampton  \n",
       "1    Cherbourg  \n",
       "2  Southampton  \n",
       "3  Southampton  \n",
       "4  Southampton  "
      ]
     },
     "execution_count": 26,
     "metadata": {},
     "output_type": "execute_result"
    }
   ],
   "source": [
    "data2.head()"
   ]
  },
  {
   "cell_type": "code",
   "execution_count": 36,
   "id": "897bfed0-8f58-41f2-8b86-e7b443aa63e2",
   "metadata": {
    "collapsed": true,
    "jupyter": {
     "outputs_hidden": true
    },
    "scrolled": true
   },
   "outputs": [
    {
     "data": {
      "text/html": [
       "<div>\n",
       "<style scoped>\n",
       "    .dataframe tbody tr th:only-of-type {\n",
       "        vertical-align: middle;\n",
       "    }\n",
       "\n",
       "    .dataframe tbody tr th {\n",
       "        vertical-align: top;\n",
       "    }\n",
       "\n",
       "    .dataframe thead th {\n",
       "        text-align: right;\n",
       "    }\n",
       "</style>\n",
       "<table border=\"1\" class=\"dataframe\">\n",
       "  <thead>\n",
       "    <tr style=\"text-align: right;\">\n",
       "      <th></th>\n",
       "      <th>ID</th>\n",
       "      <th>safe</th>\n",
       "      <th>floor</th>\n",
       "      <th>Name</th>\n",
       "      <th>Sex</th>\n",
       "      <th>Age</th>\n",
       "      <th>Fee</th>\n",
       "      <th>Hometown</th>\n",
       "    </tr>\n",
       "  </thead>\n",
       "  <tbody>\n",
       "    <tr>\n",
       "      <th>0</th>\n",
       "      <td>1</td>\n",
       "      <td>0</td>\n",
       "      <td>3</td>\n",
       "      <td>Braund, Mr. Owen Harris</td>\n",
       "      <td>male</td>\n",
       "      <td>22.0</td>\n",
       "      <td>7.2500</td>\n",
       "      <td>Southampton</td>\n",
       "    </tr>\n",
       "    <tr>\n",
       "      <th>1</th>\n",
       "      <td>2</td>\n",
       "      <td>1</td>\n",
       "      <td>1</td>\n",
       "      <td>Cumings, Mrs. John Bradley (Florence Briggs Th...</td>\n",
       "      <td>female</td>\n",
       "      <td>38.0</td>\n",
       "      <td>71.2833</td>\n",
       "      <td>Cherbourg</td>\n",
       "    </tr>\n",
       "    <tr>\n",
       "      <th>2</th>\n",
       "      <td>3</td>\n",
       "      <td>1</td>\n",
       "      <td>3</td>\n",
       "      <td>Heikkinen, Miss. Laina</td>\n",
       "      <td>female</td>\n",
       "      <td>26.0</td>\n",
       "      <td>7.9250</td>\n",
       "      <td>Southampton</td>\n",
       "    </tr>\n",
       "    <tr>\n",
       "      <th>3</th>\n",
       "      <td>4</td>\n",
       "      <td>1</td>\n",
       "      <td>1</td>\n",
       "      <td>Futrelle, Mrs. Jacques Heath (Lily May Peel)</td>\n",
       "      <td>female</td>\n",
       "      <td>35.0</td>\n",
       "      <td>53.1000</td>\n",
       "      <td>Southampton</td>\n",
       "    </tr>\n",
       "    <tr>\n",
       "      <th>4</th>\n",
       "      <td>5</td>\n",
       "      <td>0</td>\n",
       "      <td>3</td>\n",
       "      <td>Allen, Mr. William Henry</td>\n",
       "      <td>male</td>\n",
       "      <td>35.0</td>\n",
       "      <td>8.0500</td>\n",
       "      <td>Southampton</td>\n",
       "    </tr>\n",
       "  </tbody>\n",
       "</table>\n",
       "</div>"
      ],
      "text/plain": [
       "   ID  safe  floor                                               Name     Sex  \\\n",
       "0   1     0      3                            Braund, Mr. Owen Harris    male   \n",
       "1   2     1      1  Cumings, Mrs. John Bradley (Florence Briggs Th...  female   \n",
       "2   3     1      3                             Heikkinen, Miss. Laina  female   \n",
       "3   4     1      1       Futrelle, Mrs. Jacques Heath (Lily May Peel)  female   \n",
       "4   5     0      3                           Allen, Mr. William Henry    male   \n",
       "\n",
       "    Age      Fee     Hometown  \n",
       "0  22.0   7.2500  Southampton  \n",
       "1  38.0  71.2833    Cherbourg  \n",
       "2  26.0   7.9250  Southampton  \n",
       "3  35.0  53.1000  Southampton  \n",
       "4  35.0   8.0500  Southampton  "
      ]
     },
     "execution_count": 36,
     "metadata": {},
     "output_type": "execute_result"
    }
   ],
   "source": [
    "#rename()함수로 컬럼 이름 변경하기\n",
    "data2.rename(columns={'PassengerId':'ID',\n",
    "            'Survived':'safe',\n",
    "            'Pclass':'floor',\n",
    "            'Name':'Name',\n",
    "            'Sex':'Sex',\n",
    "            'Age':'Age',\n",
    "            'Fare':'Fee',\n",
    "            'Embarked':'Hometown'}, inplace=True)\n",
    "\n",
    "data2.head()"
   ]
  },
  {
   "cell_type": "markdown",
   "id": "c8a01c08-8e8d-4b09-9f23-ddf4319cd664",
   "metadata": {},
   "source": [
    "##### **1) map()메소드**\n",
    "\n",
    "- 주로 범주형 값을 다른 값으로 변경\n",
    "- 다음 구문은 Gen 변수의 Male, Female을 각각 숫자 1, 0으로 변경합니다."
   ]
  },
  {
   "cell_type": "code",
   "execution_count": 47,
   "id": "52491171-7642-4ab5-9163-eade2b9d22af",
   "metadata": {},
   "outputs": [
    {
     "data": {
      "text/html": [
       "<div>\n",
       "<style scoped>\n",
       "    .dataframe tbody tr th:only-of-type {\n",
       "        vertical-align: middle;\n",
       "    }\n",
       "\n",
       "    .dataframe tbody tr th {\n",
       "        vertical-align: top;\n",
       "    }\n",
       "\n",
       "    .dataframe thead th {\n",
       "        text-align: right;\n",
       "    }\n",
       "</style>\n",
       "<table border=\"1\" class=\"dataframe\">\n",
       "  <thead>\n",
       "    <tr style=\"text-align: right;\">\n",
       "      <th></th>\n",
       "      <th>ID</th>\n",
       "      <th>safe</th>\n",
       "      <th>floor</th>\n",
       "      <th>Name</th>\n",
       "      <th>Sex</th>\n",
       "      <th>Age</th>\n",
       "      <th>Fee</th>\n",
       "      <th>Hometown</th>\n",
       "      <th>Gen</th>\n",
       "    </tr>\n",
       "  </thead>\n",
       "  <tbody>\n",
       "    <tr>\n",
       "      <th>0</th>\n",
       "      <td>1</td>\n",
       "      <td>0</td>\n",
       "      <td>3</td>\n",
       "      <td>Braund, Mr. Owen Harris</td>\n",
       "      <td>male</td>\n",
       "      <td>22.0</td>\n",
       "      <td>7.2500</td>\n",
       "      <td>Southampton</td>\n",
       "      <td>1</td>\n",
       "    </tr>\n",
       "    <tr>\n",
       "      <th>1</th>\n",
       "      <td>2</td>\n",
       "      <td>1</td>\n",
       "      <td>1</td>\n",
       "      <td>Cumings, Mrs. John Bradley (Florence Briggs Th...</td>\n",
       "      <td>female</td>\n",
       "      <td>38.0</td>\n",
       "      <td>71.2833</td>\n",
       "      <td>Cherbourg</td>\n",
       "      <td>0</td>\n",
       "    </tr>\n",
       "    <tr>\n",
       "      <th>2</th>\n",
       "      <td>3</td>\n",
       "      <td>1</td>\n",
       "      <td>3</td>\n",
       "      <td>Heikkinen, Miss. Laina</td>\n",
       "      <td>female</td>\n",
       "      <td>26.0</td>\n",
       "      <td>7.9250</td>\n",
       "      <td>Southampton</td>\n",
       "      <td>0</td>\n",
       "    </tr>\n",
       "    <tr>\n",
       "      <th>3</th>\n",
       "      <td>4</td>\n",
       "      <td>1</td>\n",
       "      <td>1</td>\n",
       "      <td>Futrelle, Mrs. Jacques Heath (Lily May Peel)</td>\n",
       "      <td>female</td>\n",
       "      <td>35.0</td>\n",
       "      <td>53.1000</td>\n",
       "      <td>Southampton</td>\n",
       "      <td>0</td>\n",
       "    </tr>\n",
       "    <tr>\n",
       "      <th>4</th>\n",
       "      <td>5</td>\n",
       "      <td>0</td>\n",
       "      <td>3</td>\n",
       "      <td>Allen, Mr. William Henry</td>\n",
       "      <td>male</td>\n",
       "      <td>35.0</td>\n",
       "      <td>8.0500</td>\n",
       "      <td>Southampton</td>\n",
       "      <td>1</td>\n",
       "    </tr>\n",
       "  </tbody>\n",
       "</table>\n",
       "</div>"
      ],
      "text/plain": [
       "   ID  safe  floor                                               Name     Sex  \\\n",
       "0   1     0      3                            Braund, Mr. Owen Harris    male   \n",
       "1   2     1      1  Cumings, Mrs. John Bradley (Florence Briggs Th...  female   \n",
       "2   3     1      3                             Heikkinen, Miss. Laina  female   \n",
       "3   4     1      1       Futrelle, Mrs. Jacques Heath (Lily May Peel)  female   \n",
       "4   5     0      3                           Allen, Mr. William Henry    male   \n",
       "\n",
       "    Age      Fee     Hometown  Gen  \n",
       "0  22.0   7.2500  Southampton    1  \n",
       "1  38.0  71.2833    Cherbourg    0  \n",
       "2  26.0   7.9250  Southampton    0  \n",
       "3  35.0  53.1000  Southampton    0  \n",
       "4  35.0   8.0500  Southampton    1  "
      ]
     },
     "execution_count": 47,
     "metadata": {},
     "output_type": "execute_result"
    }
   ],
   "source": [
    "#Sex에서 male->1, female->0\n",
    "data2['Gen']=data['Sex'].map({'male':1,'female':0})\n",
    "\n",
    "data2.head()"
   ]
  },
  {
   "cell_type": "markdown",
   "id": "c627af4f-8b8c-4d9e-b6ea-00316af726d2",
   "metadata": {
    "jp-MarkdownHeadingCollapsed": true
   },
   "source": [
    "#### **데이터 프레임 결합**"
   ]
  },
  {
   "cell_type": "markdown",
   "id": "0054f4eb-2d5e-4033-95a9-ad4b06a05700",
   "metadata": {},
   "source": [
    "결합: 붙이기 concat()"
   ]
  },
  {
   "cell_type": "code",
   "execution_count": 55,
   "id": "07528eea-937f-4a3f-83b5-e3bbbdc14c47",
   "metadata": {},
   "outputs": [
    {
     "data": {
      "text/html": [
       "<div>\n",
       "<style scoped>\n",
       "    .dataframe tbody tr th:only-of-type {\n",
       "        vertical-align: middle;\n",
       "    }\n",
       "\n",
       "    .dataframe tbody tr th {\n",
       "        vertical-align: top;\n",
       "    }\n",
       "\n",
       "    .dataframe thead th {\n",
       "        text-align: right;\n",
       "    }\n",
       "</style>\n",
       "<table border=\"1\" class=\"dataframe\">\n",
       "  <thead>\n",
       "    <tr style=\"text-align: right;\">\n",
       "      <th></th>\n",
       "      <th>ID</th>\n",
       "      <th>safe</th>\n",
       "      <th>floor</th>\n",
       "      <th>Name</th>\n",
       "      <th>Sex</th>\n",
       "      <th>Age</th>\n",
       "      <th>Fee</th>\n",
       "      <th>Hometown</th>\n",
       "      <th>Gen</th>\n",
       "    </tr>\n",
       "  </thead>\n",
       "  <tbody>\n",
       "    <tr>\n",
       "      <th>0</th>\n",
       "      <td>1</td>\n",
       "      <td>0</td>\n",
       "      <td>3</td>\n",
       "      <td>Braund, Mr. Owen Harris</td>\n",
       "      <td>male</td>\n",
       "      <td>22.0</td>\n",
       "      <td>7.2500</td>\n",
       "      <td>Southampton</td>\n",
       "      <td>1</td>\n",
       "    </tr>\n",
       "    <tr>\n",
       "      <th>1</th>\n",
       "      <td>2</td>\n",
       "      <td>1</td>\n",
       "      <td>1</td>\n",
       "      <td>Cumings, Mrs. John Bradley (Florence Briggs Th...</td>\n",
       "      <td>female</td>\n",
       "      <td>38.0</td>\n",
       "      <td>71.2833</td>\n",
       "      <td>Cherbourg</td>\n",
       "      <td>0</td>\n",
       "    </tr>\n",
       "    <tr>\n",
       "      <th>2</th>\n",
       "      <td>3</td>\n",
       "      <td>1</td>\n",
       "      <td>3</td>\n",
       "      <td>Heikkinen, Miss. Laina</td>\n",
       "      <td>female</td>\n",
       "      <td>26.0</td>\n",
       "      <td>7.9250</td>\n",
       "      <td>Southampton</td>\n",
       "      <td>0</td>\n",
       "    </tr>\n",
       "    <tr>\n",
       "      <th>3</th>\n",
       "      <td>4</td>\n",
       "      <td>1</td>\n",
       "      <td>1</td>\n",
       "      <td>Futrelle, Mrs. Jacques Heath (Lily May Peel)</td>\n",
       "      <td>female</td>\n",
       "      <td>35.0</td>\n",
       "      <td>53.1000</td>\n",
       "      <td>Southampton</td>\n",
       "      <td>0</td>\n",
       "    </tr>\n",
       "    <tr>\n",
       "      <th>4</th>\n",
       "      <td>5</td>\n",
       "      <td>0</td>\n",
       "      <td>3</td>\n",
       "      <td>Allen, Mr. William Henry</td>\n",
       "      <td>male</td>\n",
       "      <td>35.0</td>\n",
       "      <td>8.0500</td>\n",
       "      <td>Southampton</td>\n",
       "      <td>1</td>\n",
       "    </tr>\n",
       "  </tbody>\n",
       "</table>\n",
       "</div>"
      ],
      "text/plain": [
       "   ID  safe  floor                                               Name     Sex  \\\n",
       "0   1     0      3                            Braund, Mr. Owen Harris    male   \n",
       "1   2     1      1  Cumings, Mrs. John Bradley (Florence Briggs Th...  female   \n",
       "2   3     1      3                             Heikkinen, Miss. Laina  female   \n",
       "3   4     1      1       Futrelle, Mrs. Jacques Heath (Lily May Peel)  female   \n",
       "4   5     0      3                           Allen, Mr. William Henry    male   \n",
       "\n",
       "    Age      Fee     Hometown  Gen  \n",
       "0  22.0   7.2500  Southampton    1  \n",
       "1  38.0  71.2833    Cherbourg    0  \n",
       "2  26.0   7.9250  Southampton    0  \n",
       "3  35.0  53.1000  Southampton    0  \n",
       "4  35.0   8.0500  Southampton    1  "
      ]
     },
     "execution_count": 55,
     "metadata": {},
     "output_type": "execute_result"
    }
   ],
   "source": [
    "data2.head()"
   ]
  },
  {
   "cell_type": "code",
   "execution_count": 71,
   "id": "020d3b57-59b6-41bc-b19b-7122707661d9",
   "metadata": {},
   "outputs": [],
   "source": [
    "#concat은 dataframe이나 series형태만 가능하다. 그러므로 series로 변경 후 병합\n",
    "Name_series=data2['Name']\n",
    "Sex_series=data2['Sex']"
   ]
  },
  {
   "cell_type": "code",
   "execution_count": 75,
   "id": "d170fffd-eedb-4eed-95c0-05acc3af8326",
   "metadata": {},
   "outputs": [
    {
     "name": "stdout",
     "output_type": "stream",
     "text": [
      "<class 'pandas.core.series.Series'>\n",
      "0      male\n",
      "1    female\n",
      "2    female\n",
      "3    female\n",
      "4      male\n",
      "Name: Sex, dtype: object\n"
     ]
    }
   ],
   "source": [
    "#타입 확인\n",
    "print(type(Sex_series))\n",
    "print(Sex_series.head())"
   ]
  },
  {
   "cell_type": "code",
   "execution_count": 79,
   "id": "30a657bf-b911-4baa-9c77-1d7c9804cf55",
   "metadata": {},
   "outputs": [
    {
     "data": {
      "text/plain": [
       "0                                Braund, Mr. Owen Harris\n",
       "1      Cumings, Mrs. John Bradley (Florence Briggs Th...\n",
       "2                                 Heikkinen, Miss. Laina\n",
       "3           Futrelle, Mrs. Jacques Heath (Lily May Peel)\n",
       "4                               Allen, Mr. William Henry\n",
       "                             ...                        \n",
       "886                                                 male\n",
       "887                                               female\n",
       "888                                               female\n",
       "889                                                 male\n",
       "890                                                 male\n",
       "Length: 1782, dtype: object"
      ]
     },
     "execution_count": 79,
     "metadata": {},
     "output_type": "execute_result"
    }
   ],
   "source": [
    "#합치기 그냥 위아래로 병합\n",
    "temp=pd.concat([Name_series,Sex_series])\n",
    "temp"
   ]
  },
  {
   "cell_type": "markdown",
   "id": "32c1231b-936b-4cb8-bb79-c2d5dfe581fa",
   "metadata": {},
   "source": [
    "조인 join(merge)"
   ]
  },
  {
   "cell_type": "markdown",
   "id": "cff015aa-03f7-4179-a29c-2004e8c17766",
   "metadata": {
    "jp-MarkdownHeadingCollapsed": true
   },
   "source": [
    "#### **시계열 데이터 처리**"
   ]
  },
  {
   "cell_type": "code",
   "execution_count": 99,
   "id": "415226a1-ab30-4748-be2c-b28003103818",
   "metadata": {},
   "outputs": [],
   "source": [
    "import pandas as pd\n",
    "import numpy as np\n",
    "import matplotlib.pyplot as plt\n",
    "import seaborn as sns"
   ]
  },
  {
   "cell_type": "code",
   "execution_count": 106,
   "id": "9cd2dd42-ded2-451b-9d02-9b01768a3fa8",
   "metadata": {},
   "outputs": [],
   "source": [
    "sales = pd.read_csv(\"https://raw.githubusercontent.com/DA4BAM/dataset/master/ts_sales_simple.csv\")\n",
    "products = pd.read_csv(\"https://raw.githubusercontent.com/DA4BAM/dataset/master/ts_product_master.csv\")"
   ]
  },
  {
   "cell_type": "code",
   "execution_count": 109,
   "id": "b242484b-ad5a-458f-8565-9d5fad81cf72",
   "metadata": {},
   "outputs": [],
   "source": [
    "# 판매액 계산하기\n",
    "temp = pd.merge(sales, products)\n",
    "temp['Amt' ] = temp['Qty'] * temp['Price']\n",
    "temp['Amt'] = (temp['Amt']/1000).round()  # 단위 1000달러\n",
    "\n",
    "# 집계\n",
    "data1 = temp.groupby(['Date', 'Category'], as_index = False)['Amt'].sum()\n",
    "data2 = temp.groupby(['Date'], as_index = False)['Amt'].sum()\n",
    "\n",
    "# 피봇\n",
    "data11 = data1.pivot(index = 'Date', columns = 'Category', values = 'Amt').reset_index()\n",
    "\n",
    "# 합치기\n",
    "data = pd.merge(data2, data11)"
   ]
  },
  {
   "cell_type": "code",
   "execution_count": 112,
   "id": "2955c285-83a0-4a14-a450-25e385fb1352",
   "metadata": {},
   "outputs": [
    {
     "data": {
      "text/html": [
       "<div>\n",
       "<style scoped>\n",
       "    .dataframe tbody tr th:only-of-type {\n",
       "        vertical-align: middle;\n",
       "    }\n",
       "\n",
       "    .dataframe tbody tr th {\n",
       "        vertical-align: top;\n",
       "    }\n",
       "\n",
       "    .dataframe thead th {\n",
       "        text-align: right;\n",
       "    }\n",
       "</style>\n",
       "<table border=\"1\" class=\"dataframe\">\n",
       "  <thead>\n",
       "    <tr style=\"text-align: right;\">\n",
       "      <th></th>\n",
       "      <th>Date</th>\n",
       "      <th>Amt</th>\n",
       "      <th>Drink</th>\n",
       "      <th>Food</th>\n",
       "      <th>Grocery</th>\n",
       "      <th>Household Goods</th>\n",
       "    </tr>\n",
       "  </thead>\n",
       "  <tbody>\n",
       "    <tr>\n",
       "      <th>0</th>\n",
       "      <td>2013-01-01</td>\n",
       "      <td>20.0</td>\n",
       "      <td>7.0</td>\n",
       "      <td>4.0</td>\n",
       "      <td>6.0</td>\n",
       "      <td>3.0</td>\n",
       "    </tr>\n",
       "    <tr>\n",
       "      <th>1</th>\n",
       "      <td>2013-01-02</td>\n",
       "      <td>3938.0</td>\n",
       "      <td>604.0</td>\n",
       "      <td>549.0</td>\n",
       "      <td>1663.0</td>\n",
       "      <td>1122.0</td>\n",
       "    </tr>\n",
       "    <tr>\n",
       "      <th>2</th>\n",
       "      <td>2013-01-03</td>\n",
       "      <td>2885.0</td>\n",
       "      <td>444.0</td>\n",
       "      <td>376.0</td>\n",
       "      <td>1222.0</td>\n",
       "      <td>843.0</td>\n",
       "    </tr>\n",
       "    <tr>\n",
       "      <th>3</th>\n",
       "      <td>2013-01-04</td>\n",
       "      <td>2907.0</td>\n",
       "      <td>490.0</td>\n",
       "      <td>386.0</td>\n",
       "      <td>1252.0</td>\n",
       "      <td>779.0</td>\n",
       "    </tr>\n",
       "    <tr>\n",
       "      <th>4</th>\n",
       "      <td>2013-01-05</td>\n",
       "      <td>3831.0</td>\n",
       "      <td>704.0</td>\n",
       "      <td>505.0</td>\n",
       "      <td>1560.0</td>\n",
       "      <td>1062.0</td>\n",
       "    </tr>\n",
       "  </tbody>\n",
       "</table>\n",
       "</div>"
      ],
      "text/plain": [
       "         Date     Amt  Drink   Food  Grocery  Household Goods\n",
       "0  2013-01-01    20.0    7.0    4.0      6.0              3.0\n",
       "1  2013-01-02  3938.0  604.0  549.0   1663.0           1122.0\n",
       "2  2013-01-03  2885.0  444.0  376.0   1222.0            843.0\n",
       "3  2013-01-04  2907.0  490.0  386.0   1252.0            779.0\n",
       "4  2013-01-05  3831.0  704.0  505.0   1560.0           1062.0"
      ]
     },
     "execution_count": 112,
     "metadata": {},
     "output_type": "execute_result"
    }
   ],
   "source": [
    "data.head()"
   ]
  },
  {
   "cell_type": "markdown",
   "id": "11cfc5e3-e313-4d25-9d8f-34490a95306c",
   "metadata": {},
   "source": [
    "##### 1) 날짜 타입으로 변환\n",
    "* pd.to_datetime(날짜데이터, format = '입력되는 날짜 형식')"
   ]
  },
  {
   "cell_type": "code",
   "execution_count": 120,
   "id": "f02a0266-dd18-4b5d-a45d-7598b41130f2",
   "metadata": {},
   "outputs": [
    {
     "name": "stdout",
     "output_type": "stream",
     "text": [
      "<class 'pandas.core.frame.DataFrame'>\n",
      "RangeIndex: 31 entries, 0 to 30\n",
      "Data columns (total 6 columns):\n",
      " #   Column           Non-Null Count  Dtype  \n",
      "---  ------           --------------  -----  \n",
      " 0   Date             31 non-null     object \n",
      " 1   Amt              31 non-null     float64\n",
      " 2   Drink            31 non-null     float64\n",
      " 3   Food             31 non-null     float64\n",
      " 4   Grocery          31 non-null     float64\n",
      " 5   Household Goods  31 non-null     float64\n",
      "dtypes: float64(5), object(1)\n",
      "memory usage: 1.6+ KB\n"
     ]
    }
   ],
   "source": [
    "data.info()"
   ]
  },
  {
   "cell_type": "code",
   "execution_count": 124,
   "id": "384dc252-9c5c-4347-b02f-9ae6fa03b07a",
   "metadata": {},
   "outputs": [
    {
     "name": "stdout",
     "output_type": "stream",
     "text": [
      "<class 'pandas.core.frame.DataFrame'>\n",
      "RangeIndex: 31 entries, 0 to 30\n",
      "Data columns (total 6 columns):\n",
      " #   Column           Non-Null Count  Dtype         \n",
      "---  ------           --------------  -----         \n",
      " 0   Date             31 non-null     datetime64[ns]\n",
      " 1   Amt              31 non-null     float64       \n",
      " 2   Drink            31 non-null     float64       \n",
      " 3   Food             31 non-null     float64       \n",
      " 4   Grocery          31 non-null     float64       \n",
      " 5   Household Goods  31 non-null     float64       \n",
      "dtypes: datetime64[ns](1), float64(5)\n",
      "memory usage: 1.6 KB\n"
     ]
    }
   ],
   "source": [
    "data['Date']=pd.to_datetime(data['Date'])\n",
    "data.info()"
   ]
  },
  {
   "cell_type": "code",
   "execution_count": 130,
   "id": "5b9dc860-9ab5-4702-90bb-8760cd142d9f",
   "metadata": {},
   "outputs": [
    {
     "data": {
      "text/plain": [
       "0   2023-03-01\n",
       "1   2023-03-02\n",
       "2   2023-03-03\n",
       "dtype: datetime64[ns]"
      ]
     },
     "execution_count": 130,
     "metadata": {},
     "output_type": "execute_result"
    }
   ],
   "source": [
    "date = pd.Series(['03-01-2023', '03-02-2023', '03-03-2023'])\n",
    "date = pd.to_datetime(date)\n",
    "date"
   ]
  },
  {
   "cell_type": "markdown",
   "id": "c106220b-375b-4019-97e1-f652f605e2d2",
   "metadata": {},
   "source": [
    "##### 2) 날짜 요소 추출"
   ]
  },
  {
   "cell_type": "code",
   "execution_count": 132,
   "id": "0343d5e3-15e3-44b9-afcb-ed103aa4d172",
   "metadata": {},
   "outputs": [
    {
     "data": {
      "text/plain": [
       "0    2023\n",
       "1    2023\n",
       "2    2023\n",
       "dtype: int32"
      ]
     },
     "execution_count": 132,
     "metadata": {},
     "output_type": "execute_result"
    }
   ],
   "source": [
    "#연도\n",
    "date.dt.year #month,day,weekday..."
   ]
  },
  {
   "cell_type": "markdown",
   "id": "89eb413a-abd6-4f04-9af2-b8964ddba29f",
   "metadata": {},
   "source": [
    "##### 3) shift\n",
    "* 시계열 데이터에서 시간의 흐름 전후로 정보를 이동시킬 때 사용"
   ]
  },
  {
   "cell_type": "code",
   "execution_count": 139,
   "id": "df23e94c-1d2d-49d1-8f99-8bf23502d6f6",
   "metadata": {},
   "outputs": [],
   "source": [
    "temp = data.loc[:,['Date','Amt']]"
   ]
  },
  {
   "cell_type": "code",
   "execution_count": 144,
   "id": "6bd373d9-d5c5-43da-b6c0-e31daddb3994",
   "metadata": {},
   "outputs": [
    {
     "data": {
      "text/html": [
       "<div>\n",
       "<style scoped>\n",
       "    .dataframe tbody tr th:only-of-type {\n",
       "        vertical-align: middle;\n",
       "    }\n",
       "\n",
       "    .dataframe tbody tr th {\n",
       "        vertical-align: top;\n",
       "    }\n",
       "\n",
       "    .dataframe thead th {\n",
       "        text-align: right;\n",
       "    }\n",
       "</style>\n",
       "<table border=\"1\" class=\"dataframe\">\n",
       "  <thead>\n",
       "    <tr style=\"text-align: right;\">\n",
       "      <th></th>\n",
       "      <th>Date</th>\n",
       "      <th>Amt</th>\n",
       "      <th>Amt_lag</th>\n",
       "      <th>Amt_lag2</th>\n",
       "      <th>Amt_lag_1</th>\n",
       "    </tr>\n",
       "  </thead>\n",
       "  <tbody>\n",
       "    <tr>\n",
       "      <th>0</th>\n",
       "      <td>2013-01-01</td>\n",
       "      <td>20.0</td>\n",
       "      <td>NaN</td>\n",
       "      <td>NaN</td>\n",
       "      <td>3938.0</td>\n",
       "    </tr>\n",
       "    <tr>\n",
       "      <th>1</th>\n",
       "      <td>2013-01-02</td>\n",
       "      <td>3938.0</td>\n",
       "      <td>20.0</td>\n",
       "      <td>NaN</td>\n",
       "      <td>2885.0</td>\n",
       "    </tr>\n",
       "    <tr>\n",
       "      <th>2</th>\n",
       "      <td>2013-01-03</td>\n",
       "      <td>2885.0</td>\n",
       "      <td>3938.0</td>\n",
       "      <td>20.0</td>\n",
       "      <td>2907.0</td>\n",
       "    </tr>\n",
       "    <tr>\n",
       "      <th>3</th>\n",
       "      <td>2013-01-04</td>\n",
       "      <td>2907.0</td>\n",
       "      <td>2885.0</td>\n",
       "      <td>3938.0</td>\n",
       "      <td>3831.0</td>\n",
       "    </tr>\n",
       "    <tr>\n",
       "      <th>4</th>\n",
       "      <td>2013-01-05</td>\n",
       "      <td>3831.0</td>\n",
       "      <td>2907.0</td>\n",
       "      <td>2885.0</td>\n",
       "      <td>4066.0</td>\n",
       "    </tr>\n",
       "  </tbody>\n",
       "</table>\n",
       "</div>"
      ],
      "text/plain": [
       "        Date     Amt  Amt_lag  Amt_lag2  Amt_lag_1\n",
       "0 2013-01-01    20.0      NaN       NaN     3938.0\n",
       "1 2013-01-02  3938.0     20.0       NaN     2885.0\n",
       "2 2013-01-03  2885.0   3938.0      20.0     2907.0\n",
       "3 2013-01-04  2907.0   2885.0    3938.0     3831.0\n",
       "4 2013-01-05  3831.0   2907.0    2885.0     4066.0"
      ]
     },
     "execution_count": 144,
     "metadata": {},
     "output_type": "execute_result"
    }
   ],
   "source": [
    "# 전날 매출액 열을 추가합시다.\n",
    "temp['Amt_lag'] = temp['Amt'].shift() #default = 1\n",
    "\n",
    "# 전전날 매출액 열을 추가.\n",
    "temp['Amt_lag2'] = temp['Amt'].shift(2) # 2행 shift\n",
    "\n",
    "# 다음날 매출액 열을 추가합시다.\n",
    "temp['Amt_lag_1'] = temp['Amt'].shift(-1)\n",
    "\n",
    "temp.head()"
   ]
  },
  {
   "cell_type": "markdown",
   "id": "fa879663-acc1-4d9c-a06b-4d0582756606",
   "metadata": {},
   "source": [
    "#### **단변량분석_숫자형변수**"
   ]
  },
  {
   "cell_type": "markdown",
   "id": "82cb4246-f02f-4992-b006-4c0ad54cab6a",
   "metadata": {},
   "source": [
    "숫자형 변수\n",
    "* 기초통계량: min,max,mean,std,사분위수 \n",
    "* 시각화: Histogram,Density plot,Box plot"
   ]
  },
  {
   "cell_type": "code",
   "execution_count": 168,
   "id": "154aeea0-951a-4597-a07a-00d7476f1622",
   "metadata": {},
   "outputs": [],
   "source": [
    "import numpy as np\n",
    "import pandas as pd\n",
    "\n",
    "import matplotlib.pyplot as plt\n",
    "import seaborn as sns"
   ]
  },
  {
   "cell_type": "code",
   "execution_count": 173,
   "id": "a95b124e-56d4-4ffc-80d7-d28ab2a1d161",
   "metadata": {},
   "outputs": [
    {
     "data": {
      "text/html": [
       "<div>\n",
       "<style scoped>\n",
       "    .dataframe tbody tr th:only-of-type {\n",
       "        vertical-align: middle;\n",
       "    }\n",
       "\n",
       "    .dataframe tbody tr th {\n",
       "        vertical-align: top;\n",
       "    }\n",
       "\n",
       "    .dataframe thead th {\n",
       "        text-align: right;\n",
       "    }\n",
       "</style>\n",
       "<table border=\"1\" class=\"dataframe\">\n",
       "  <thead>\n",
       "    <tr style=\"text-align: right;\">\n",
       "      <th></th>\n",
       "      <th>PassengerId</th>\n",
       "      <th>Survived</th>\n",
       "      <th>Pclass</th>\n",
       "      <th>Name</th>\n",
       "      <th>Sex</th>\n",
       "      <th>Age</th>\n",
       "      <th>Fare</th>\n",
       "      <th>Embarked</th>\n",
       "    </tr>\n",
       "  </thead>\n",
       "  <tbody>\n",
       "    <tr>\n",
       "      <th>889</th>\n",
       "      <td>890</td>\n",
       "      <td>1</td>\n",
       "      <td>1</td>\n",
       "      <td>Behr, Mr. Karl Howell</td>\n",
       "      <td>male</td>\n",
       "      <td>26.0</td>\n",
       "      <td>30.00</td>\n",
       "      <td>Cherbourg</td>\n",
       "    </tr>\n",
       "    <tr>\n",
       "      <th>890</th>\n",
       "      <td>891</td>\n",
       "      <td>0</td>\n",
       "      <td>3</td>\n",
       "      <td>Dooley, Mr. Patrick</td>\n",
       "      <td>male</td>\n",
       "      <td>32.0</td>\n",
       "      <td>7.75</td>\n",
       "      <td>Queenstown</td>\n",
       "    </tr>\n",
       "  </tbody>\n",
       "</table>\n",
       "</div>"
      ],
      "text/plain": [
       "     PassengerId  Survived  Pclass                   Name   Sex   Age   Fare  \\\n",
       "889          890         1       1  Behr, Mr. Karl Howell  male  26.0  30.00   \n",
       "890          891         0       3    Dooley, Mr. Patrick  male  32.0   7.75   \n",
       "\n",
       "       Embarked  \n",
       "889   Cherbourg  \n",
       "890  Queenstown  "
      ]
     },
     "execution_count": 173,
     "metadata": {},
     "output_type": "execute_result"
    }
   ],
   "source": [
    "path = 'https://raw.githubusercontent.com/DA4BAM/dataset/master/titanic_simple.csv'\n",
    "titanic = pd.read_csv(path)\n",
    "titanic.tail(2)"
   ]
  },
  {
   "cell_type": "code",
   "execution_count": 180,
   "id": "19843e95-618c-4a7b-b401-5f4cdb35de68",
   "metadata": {},
   "outputs": [
    {
     "data": {
      "text/plain": [
       "32.204207968574636"
      ]
     },
     "execution_count": 180,
     "metadata": {},
     "output_type": "execute_result"
    }
   ],
   "source": [
    "# 평균: 타이타닉 운임요금 평균\n",
    "np.mean(titanic['Fare'])"
   ]
  },
  {
   "cell_type": "code",
   "execution_count": 185,
   "id": "bd5a1dd8-1108-425b-ae10-f5e9a0f5193a",
   "metadata": {},
   "outputs": [
    {
     "data": {
      "text/plain": [
       "14.4542"
      ]
     },
     "execution_count": 185,
     "metadata": {},
     "output_type": "execute_result"
    }
   ],
   "source": [
    "# 중앙값(median)\n",
    "np.median(titanic['Fare'])"
   ]
  },
  {
   "cell_type": "code",
   "execution_count": 188,
   "id": "2a876220-00cb-46c1-9a20-0214e9d6a8e5",
   "metadata": {},
   "outputs": [
    {
     "data": {
      "text/plain": [
       "0    3\n",
       "Name: Pclass, dtype: int64"
      ]
     },
     "execution_count": 188,
     "metadata": {},
     "output_type": "execute_result"
    }
   ],
   "source": [
    "#최빈값 : 자료중에서 가장 빈번하게 나타나는 값\n",
    "titanic['Pclass'].mode()"
   ]
  },
  {
   "cell_type": "code",
   "execution_count": 191,
   "id": "e479cc5e-c487-483c-a5ce-bac45648e412",
   "metadata": {},
   "outputs": [
    {
     "data": {
      "text/plain": [
       "count    891.000000\n",
       "mean      32.204208\n",
       "std       49.693429\n",
       "min        0.000000\n",
       "25%        7.910400\n",
       "50%       14.454200\n",
       "75%       31.000000\n",
       "max      512.329200\n",
       "Name: Fare, dtype: float64"
      ]
     },
     "execution_count": 191,
     "metadata": {},
     "output_type": "execute_result"
    }
   ],
   "source": [
    "titanic['Fare'].describe()"
   ]
  },
  {
   "cell_type": "code",
   "execution_count": null,
   "id": "6d748593-7666-4a7d-8776-a14c61753ab6",
   "metadata": {},
   "outputs": [],
   "source": []
  },
  {
   "cell_type": "markdown",
   "id": "a03e79e9-fac3-44cb-bb81-16f0152db5f0",
   "metadata": {},
   "source": [
    "#### **단변량분석_범주형변수**"
   ]
  },
  {
   "cell_type": "markdown",
   "id": "cef40968-3f64-4fbd-a1a1-a8234e2523b3",
   "metadata": {},
   "source": [
    "범주형 변수\n",
    "* 기초통계량: 범주 별 빈도수, 범주 별 비율\n",
    "* 시각화: Bar plot, Pie chart"
   ]
  },
  {
   "cell_type": "code",
   "execution_count": null,
   "id": "da2af64b-5600-4f4d-861e-c133e489c5a1",
   "metadata": {},
   "outputs": [],
   "source": []
  }
 ],
 "metadata": {
  "kernelspec": {
   "display_name": "Python 3 (ipykernel)",
   "language": "python",
   "name": "python3"
  },
  "language_info": {
   "codemirror_mode": {
    "name": "ipython",
    "version": 3
   },
   "file_extension": ".py",
   "mimetype": "text/x-python",
   "name": "python",
   "nbconvert_exporter": "python",
   "pygments_lexer": "ipython3",
   "version": "3.12.4"
  }
 },
 "nbformat": 4,
 "nbformat_minor": 5
}
