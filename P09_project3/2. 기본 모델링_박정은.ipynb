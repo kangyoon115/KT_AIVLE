{
  "nbformat": 4,
  "nbformat_minor": 0,
  "metadata": {
    "colab": {
      "provenance": []
    },
    "kernelspec": {
      "name": "python3",
      "display_name": "Python 3"
    },
    "language_info": {
      "name": "python"
    }
  },
  "cells": [
    {
      "cell_type": "markdown",
      "source": [
        "#**스마트폰 센서 데이터 기반 모션 분류**\n",
        "# 단계2 : 기본 모델링\n"
      ],
      "metadata": {
        "id": "PXvdSuSk3NJY"
      }
    },
    {
      "cell_type": "markdown",
      "source": [
        "## 0.미션3"
      ],
      "metadata": {
        "id": "8tM9TG3U3R0m"
      }
    },
    {
      "cell_type": "markdown",
      "source": [
        "* 데이터 전처리\n",
        "    * 가변수화, 데이터 분할, NaN 확인 및 조치, 스케일링 등 필요한 전처리 수행\n",
        "* 다양한 딥러닝 구조의 모델로 분류 모델 생성\n",
        "    * 최소 4개 이상 모델링 수행\n",
        "    * (옵션) 각 모델별 최소 5회 반복수행해서 얻은 성능의 평균으로 비교\n",
        "    * (옵션) 각 모델의 성능을 저장하는 별도 데이터 프레임을 만들고 비교\n",
        "* 옵션 : 다음 사항은 선택사항입니다. 시간이 허용하는 범위 내에서 수행하세요.\n",
        "    * 상위 N개 변수를 선정하여 모델링 및 성능 비교\n",
        "        * 모델링에 항상 모든 변수가 필요한 것은 아닙니다.\n",
        "        * 변수 중요도 상위 N개를 선정하여 모델링하고 타 모델과 성능을 비교하세요.\n",
        "        * 상위 N개를 선택하는 방법은, 변수를 하나씩 늘려가며 모델링 및 성능 검증을 수행하여 적절한 지점을 찾는 것입니다.\n",
        "* 성능 가이드\n",
        "    * Accuracy : 0.90 ~ 0.99"
      ],
      "metadata": {
        "id": "IERHPNRb3UUH"
      }
    },
    {
      "cell_type": "markdown",
      "source": [
        "## 1.환경설정"
      ],
      "metadata": {
        "id": "NUgG5vPI3euf"
      }
    },
    {
      "cell_type": "markdown",
      "source": [
        "* 세부 요구사항\n",
        "    - 경로 설정 : 구글콜랩\n",
        "        * 구글 드라이브 바로 밑에 project3 폴더를 만들고,\n",
        "        * 데이터 파일을 복사해 넣습니다.\n",
        "    - 기본적으로 필요한 라이브러리를 import 하도록 코드가 작성되어 있습니다.\n",
        "        * 필요하다고 판단되는 라이브러리를 추가하세요."
      ],
      "metadata": {
        "id": "O_HPCo-63ZcP"
      }
    },
    {
      "cell_type": "markdown",
      "source": [
        "### (1) 경로 설정"
      ],
      "metadata": {
        "id": "7JFCtN1h3kRP"
      }
    },
    {
      "cell_type": "markdown",
      "source": [
        "* 구글 드라이브 연결"
      ],
      "metadata": {
        "id": "edya46zf3mmP"
      }
    },
    {
      "cell_type": "code",
      "source": [
        "from google.colab import drive\n",
        "drive.mount('/content/drive')"
      ],
      "metadata": {
        "colab": {
          "base_uri": "https://localhost:8080/"
        },
        "id": "bKdPvEgj3YQX",
        "outputId": "774359d6-8d6a-4a03-ebc5-d633ed3ae59a"
      },
      "execution_count": 2,
      "outputs": [
        {
          "output_type": "stream",
          "name": "stdout",
          "text": [
            "Mounted at /content/drive\n"
          ]
        }
      ]
    },
    {
      "cell_type": "markdown",
      "source": [
        "### (2) 라이브러리 불러오기"
      ],
      "metadata": {
        "id": "HOmE84k23um_"
      }
    },
    {
      "cell_type": "markdown",
      "source": [
        "* 라이브러리 로딩"
      ],
      "metadata": {
        "id": "T3-0s9o93xQg"
      }
    },
    {
      "cell_type": "code",
      "source": [
        "import pandas as pd\n",
        "import numpy as np\n",
        "import matplotlib.pyplot as plt\n",
        "import seaborn as sns\n",
        "\n",
        "import joblib\n",
        "from tqdm import tqdm\n",
        "\n",
        "from sklearn.model_selection import train_test_split\n",
        "from sklearn.preprocessing import MinMaxScaler, StandardScaler, LabelEncoder\n",
        "from sklearn.metrics import *\n",
        "\n",
        "from keras.models import Sequential, Model\n",
        "from keras.layers import Dense, Flatten, Dropout, Input, concatenate\n",
        "from keras.callbacks import EarlyStopping\n",
        "from keras.backend import clear_session\n",
        "from keras.optimizers import Adam"
      ],
      "metadata": {
        "id": "PE9cdphX3sOi"
      },
      "execution_count": 5,
      "outputs": []
    },
    {
      "cell_type": "code",
      "source": [
        "# 학습곡선 함수\n",
        "def dl_history_plot(history):\n",
        "    plt.figure(figsize=(10,6))\n",
        "    plt.plot(history['loss'], label='train_err', marker = '.')\n",
        "    plt.plot(history['val_loss'], label='val_err', marker = '.')\n",
        "\n",
        "    plt.ylabel('Loss')\n",
        "    plt.xlabel('Epoch')\n",
        "    plt.legend()\n",
        "    plt.grid()\n",
        "    plt.show()"
      ],
      "metadata": {
        "id": "YDF1s_er3t-H"
      },
      "execution_count": 6,
      "outputs": []
    },
    {
      "cell_type": "markdown",
      "source": [
        "### (3) 데이터 불러오기"
      ],
      "metadata": {
        "id": "1y_Tyek034LX"
      }
    },
    {
      "cell_type": "markdown",
      "source": [
        "* 주어진 데이터셋\n",
        "    * data01_train.csv : 학습 및 검증용\n",
        "    * data01_test.csv : 테스트용\n",
        "    * feature.csv : feature 이름을 계층구조로 정리한 데이터\n",
        "\n",
        "* 세부 요구사항\n",
        "    * 칼럼 삭제 : data01_train.csv와 data01_test.csv 에서 'subject' 칼럼은 불필요하므로 삭제합니다."
      ],
      "metadata": {
        "id": "XpGrfvZ13_SH"
      }
    },
    {
      "cell_type": "markdown",
      "source": [
        "#### 1) 데이터로딩"
      ],
      "metadata": {
        "id": "MoNmhFWE4Cvf"
      }
    },
    {
      "cell_type": "code",
      "source": [
        "path = '/content/drive/MyDrive/project3/'\n",
        "\n",
        "data01_train = pd.read_csv(path + 'data01_train.csv')\n",
        "data01_test = pd.read_csv(path + 'data01_test.csv')\n",
        "features = pd.read_csv(path + 'features.csv')\n",
        "\n",
        "# 불필요한 칼럼 삭제\n",
        "data01_train.drop('subject', axis = 1, inplace = True)\n",
        "data01_test.drop('subject', axis = 1, inplace = True)"
      ],
      "metadata": {
        "id": "73pz9MJI32FP"
      },
      "execution_count": 7,
      "outputs": []
    },
    {
      "cell_type": "markdown",
      "source": [
        "#### 2) 기본 정보 조회"
      ],
      "metadata": {
        "id": "YM14NAlg4Q__"
      }
    },
    {
      "cell_type": "code",
      "source": [
        "# 데이터의 행,열 개수 확인\n",
        "print(data01_train.shape)\n",
        "print(data01_test.shape)"
      ],
      "metadata": {
        "colab": {
          "base_uri": "https://localhost:8080/"
        },
        "id": "ZADD2Fb44M2U",
        "outputId": "9d38e8f6-f4f7-4a79-ddd4-6d477fd47beb"
      },
      "execution_count": 8,
      "outputs": [
        {
          "output_type": "stream",
          "name": "stdout",
          "text": [
            "(5881, 562)\n",
            "(1471, 562)\n"
          ]
        }
      ]
    },
    {
      "cell_type": "code",
      "source": [
        "data01_train.info()"
      ],
      "metadata": {
        "colab": {
          "base_uri": "https://localhost:8080/"
        },
        "id": "6hnRq0rm4ZYY",
        "outputId": "4848e03f-ee4e-4ec9-bda6-e51932b42783"
      },
      "execution_count": 9,
      "outputs": [
        {
          "output_type": "stream",
          "name": "stdout",
          "text": [
            "<class 'pandas.core.frame.DataFrame'>\n",
            "RangeIndex: 5881 entries, 0 to 5880\n",
            "Columns: 562 entries, tBodyAcc-mean()-X to Activity\n",
            "dtypes: float64(561), object(1)\n",
            "memory usage: 25.2+ MB\n"
          ]
        }
      ]
    },
    {
      "cell_type": "code",
      "source": [
        "data01_train.describe()"
      ],
      "metadata": {
        "colab": {
          "base_uri": "https://localhost:8080/",
          "height": 367
        },
        "id": "mj0_RuGw4d-a",
        "outputId": "d81e1b39-19d2-4c8a-f89d-1f7665807e59"
      },
      "execution_count": 10,
      "outputs": [
        {
          "output_type": "execute_result",
          "data": {
            "text/plain": [
              "       tBodyAcc-mean()-X  tBodyAcc-mean()-Y  tBodyAcc-mean()-Z  \\\n",
              "count        5881.000000        5881.000000        5881.000000   \n",
              "mean            0.274811          -0.017799          -0.109396   \n",
              "std             0.067614           0.039422           0.058373   \n",
              "min            -0.503823          -0.684893          -1.000000   \n",
              "25%             0.262919          -0.024877          -0.121051   \n",
              "50%             0.277154          -0.017221          -0.108781   \n",
              "75%             0.288526          -0.010920          -0.098163   \n",
              "max             1.000000           1.000000           1.000000   \n",
              "\n",
              "       tBodyAcc-std()-X  tBodyAcc-std()-Y  tBodyAcc-std()-Z  tBodyAcc-mad()-X  \\\n",
              "count       5881.000000       5881.000000       5881.000000       5881.000000   \n",
              "mean          -0.603138         -0.509815         -0.604058         -0.628151   \n",
              "std            0.448807          0.501815          0.417319          0.424345   \n",
              "min           -1.000000         -0.999844         -0.999667         -1.000000   \n",
              "25%           -0.992774         -0.977680         -0.980127         -0.993602   \n",
              "50%           -0.943933         -0.844575         -0.856352         -0.948501   \n",
              "75%           -0.242130         -0.034499         -0.262690         -0.291138   \n",
              "max            1.000000          0.916238          1.000000          1.000000   \n",
              "\n",
              "       tBodyAcc-mad()-Y  tBodyAcc-mad()-Z  tBodyAcc-max()-X  ...  \\\n",
              "count       5881.000000       5881.000000       5881.000000  ...   \n",
              "mean          -0.525944         -0.605374         -0.465490  ...   \n",
              "std            0.485115          0.413043          0.544995  ...   \n",
              "min           -0.999419         -1.000000         -1.000000  ...   \n",
              "25%           -0.977865         -0.980112         -0.936067  ...   \n",
              "50%           -0.849266         -0.849896         -0.878729  ...   \n",
              "75%           -0.068857         -0.268539         -0.013690  ...   \n",
              "max            0.967664          1.000000          1.000000  ...   \n",
              "\n",
              "       fBodyBodyGyroJerkMag-meanFreq()  fBodyBodyGyroJerkMag-skewness()  \\\n",
              "count                      5881.000000                      5881.000000   \n",
              "mean                          0.126955                        -0.305883   \n",
              "std                           0.249176                         0.322808   \n",
              "min                          -0.965725                        -0.979261   \n",
              "25%                          -0.021610                        -0.541969   \n",
              "50%                           0.133887                        -0.342923   \n",
              "75%                           0.288944                        -0.127371   \n",
              "max                           0.946700                         0.989538   \n",
              "\n",
              "       fBodyBodyGyroJerkMag-kurtosis()  angle(tBodyAccMean,gravity)  \\\n",
              "count                      5881.000000                  5881.000000   \n",
              "mean                         -0.623548                     0.008524   \n",
              "std                           0.310371                     0.339730   \n",
              "min                          -0.999765                    -0.976580   \n",
              "25%                          -0.845985                    -0.122361   \n",
              "50%                          -0.712677                     0.010278   \n",
              "75%                          -0.501158                     0.154985   \n",
              "max                           0.956845                     1.000000   \n",
              "\n",
              "       angle(tBodyAccJerkMean),gravityMean)  angle(tBodyGyroMean,gravityMean)  \\\n",
              "count                           5881.000000                       5881.000000   \n",
              "mean                              -0.001185                          0.009340   \n",
              "std                                0.447197                          0.608190   \n",
              "min                               -1.000000                         -1.000000   \n",
              "25%                               -0.294369                         -0.481718   \n",
              "50%                                0.005146                          0.011448   \n",
              "75%                                0.285030                          0.499857   \n",
              "max                                1.000000                          0.998702   \n",
              "\n",
              "       angle(tBodyGyroJerkMean,gravityMean)  angle(X,gravityMean)  \\\n",
              "count                           5881.000000           5881.000000   \n",
              "mean                              -0.007099             -0.491501   \n",
              "std                                0.476738              0.509069   \n",
              "min                               -1.000000             -1.000000   \n",
              "25%                               -0.373345             -0.811397   \n",
              "50%                               -0.000847             -0.709441   \n",
              "75%                                0.356236             -0.511330   \n",
              "max                                0.996078              0.977344   \n",
              "\n",
              "       angle(Y,gravityMean)  angle(Z,gravityMean)  \n",
              "count           5881.000000           5881.000000  \n",
              "mean               0.059299             -0.054594  \n",
              "std                0.297340              0.278479  \n",
              "min               -1.000000             -0.980143  \n",
              "25%               -0.018203             -0.141555  \n",
              "50%                0.182893              0.003951  \n",
              "75%                0.248435              0.111932  \n",
              "max                0.478157              1.000000  \n",
              "\n",
              "[8 rows x 561 columns]"
            ],
            "text/html": [
              "\n",
              "  <div id=\"df-2c671248-e968-43ac-9e14-3adc877c44f9\" class=\"colab-df-container\">\n",
              "    <div>\n",
              "<style scoped>\n",
              "    .dataframe tbody tr th:only-of-type {\n",
              "        vertical-align: middle;\n",
              "    }\n",
              "\n",
              "    .dataframe tbody tr th {\n",
              "        vertical-align: top;\n",
              "    }\n",
              "\n",
              "    .dataframe thead th {\n",
              "        text-align: right;\n",
              "    }\n",
              "</style>\n",
              "<table border=\"1\" class=\"dataframe\">\n",
              "  <thead>\n",
              "    <tr style=\"text-align: right;\">\n",
              "      <th></th>\n",
              "      <th>tBodyAcc-mean()-X</th>\n",
              "      <th>tBodyAcc-mean()-Y</th>\n",
              "      <th>tBodyAcc-mean()-Z</th>\n",
              "      <th>tBodyAcc-std()-X</th>\n",
              "      <th>tBodyAcc-std()-Y</th>\n",
              "      <th>tBodyAcc-std()-Z</th>\n",
              "      <th>tBodyAcc-mad()-X</th>\n",
              "      <th>tBodyAcc-mad()-Y</th>\n",
              "      <th>tBodyAcc-mad()-Z</th>\n",
              "      <th>tBodyAcc-max()-X</th>\n",
              "      <th>...</th>\n",
              "      <th>fBodyBodyGyroJerkMag-meanFreq()</th>\n",
              "      <th>fBodyBodyGyroJerkMag-skewness()</th>\n",
              "      <th>fBodyBodyGyroJerkMag-kurtosis()</th>\n",
              "      <th>angle(tBodyAccMean,gravity)</th>\n",
              "      <th>angle(tBodyAccJerkMean),gravityMean)</th>\n",
              "      <th>angle(tBodyGyroMean,gravityMean)</th>\n",
              "      <th>angle(tBodyGyroJerkMean,gravityMean)</th>\n",
              "      <th>angle(X,gravityMean)</th>\n",
              "      <th>angle(Y,gravityMean)</th>\n",
              "      <th>angle(Z,gravityMean)</th>\n",
              "    </tr>\n",
              "  </thead>\n",
              "  <tbody>\n",
              "    <tr>\n",
              "      <th>count</th>\n",
              "      <td>5881.000000</td>\n",
              "      <td>5881.000000</td>\n",
              "      <td>5881.000000</td>\n",
              "      <td>5881.000000</td>\n",
              "      <td>5881.000000</td>\n",
              "      <td>5881.000000</td>\n",
              "      <td>5881.000000</td>\n",
              "      <td>5881.000000</td>\n",
              "      <td>5881.000000</td>\n",
              "      <td>5881.000000</td>\n",
              "      <td>...</td>\n",
              "      <td>5881.000000</td>\n",
              "      <td>5881.000000</td>\n",
              "      <td>5881.000000</td>\n",
              "      <td>5881.000000</td>\n",
              "      <td>5881.000000</td>\n",
              "      <td>5881.000000</td>\n",
              "      <td>5881.000000</td>\n",
              "      <td>5881.000000</td>\n",
              "      <td>5881.000000</td>\n",
              "      <td>5881.000000</td>\n",
              "    </tr>\n",
              "    <tr>\n",
              "      <th>mean</th>\n",
              "      <td>0.274811</td>\n",
              "      <td>-0.017799</td>\n",
              "      <td>-0.109396</td>\n",
              "      <td>-0.603138</td>\n",
              "      <td>-0.509815</td>\n",
              "      <td>-0.604058</td>\n",
              "      <td>-0.628151</td>\n",
              "      <td>-0.525944</td>\n",
              "      <td>-0.605374</td>\n",
              "      <td>-0.465490</td>\n",
              "      <td>...</td>\n",
              "      <td>0.126955</td>\n",
              "      <td>-0.305883</td>\n",
              "      <td>-0.623548</td>\n",
              "      <td>0.008524</td>\n",
              "      <td>-0.001185</td>\n",
              "      <td>0.009340</td>\n",
              "      <td>-0.007099</td>\n",
              "      <td>-0.491501</td>\n",
              "      <td>0.059299</td>\n",
              "      <td>-0.054594</td>\n",
              "    </tr>\n",
              "    <tr>\n",
              "      <th>std</th>\n",
              "      <td>0.067614</td>\n",
              "      <td>0.039422</td>\n",
              "      <td>0.058373</td>\n",
              "      <td>0.448807</td>\n",
              "      <td>0.501815</td>\n",
              "      <td>0.417319</td>\n",
              "      <td>0.424345</td>\n",
              "      <td>0.485115</td>\n",
              "      <td>0.413043</td>\n",
              "      <td>0.544995</td>\n",
              "      <td>...</td>\n",
              "      <td>0.249176</td>\n",
              "      <td>0.322808</td>\n",
              "      <td>0.310371</td>\n",
              "      <td>0.339730</td>\n",
              "      <td>0.447197</td>\n",
              "      <td>0.608190</td>\n",
              "      <td>0.476738</td>\n",
              "      <td>0.509069</td>\n",
              "      <td>0.297340</td>\n",
              "      <td>0.278479</td>\n",
              "    </tr>\n",
              "    <tr>\n",
              "      <th>min</th>\n",
              "      <td>-0.503823</td>\n",
              "      <td>-0.684893</td>\n",
              "      <td>-1.000000</td>\n",
              "      <td>-1.000000</td>\n",
              "      <td>-0.999844</td>\n",
              "      <td>-0.999667</td>\n",
              "      <td>-1.000000</td>\n",
              "      <td>-0.999419</td>\n",
              "      <td>-1.000000</td>\n",
              "      <td>-1.000000</td>\n",
              "      <td>...</td>\n",
              "      <td>-0.965725</td>\n",
              "      <td>-0.979261</td>\n",
              "      <td>-0.999765</td>\n",
              "      <td>-0.976580</td>\n",
              "      <td>-1.000000</td>\n",
              "      <td>-1.000000</td>\n",
              "      <td>-1.000000</td>\n",
              "      <td>-1.000000</td>\n",
              "      <td>-1.000000</td>\n",
              "      <td>-0.980143</td>\n",
              "    </tr>\n",
              "    <tr>\n",
              "      <th>25%</th>\n",
              "      <td>0.262919</td>\n",
              "      <td>-0.024877</td>\n",
              "      <td>-0.121051</td>\n",
              "      <td>-0.992774</td>\n",
              "      <td>-0.977680</td>\n",
              "      <td>-0.980127</td>\n",
              "      <td>-0.993602</td>\n",
              "      <td>-0.977865</td>\n",
              "      <td>-0.980112</td>\n",
              "      <td>-0.936067</td>\n",
              "      <td>...</td>\n",
              "      <td>-0.021610</td>\n",
              "      <td>-0.541969</td>\n",
              "      <td>-0.845985</td>\n",
              "      <td>-0.122361</td>\n",
              "      <td>-0.294369</td>\n",
              "      <td>-0.481718</td>\n",
              "      <td>-0.373345</td>\n",
              "      <td>-0.811397</td>\n",
              "      <td>-0.018203</td>\n",
              "      <td>-0.141555</td>\n",
              "    </tr>\n",
              "    <tr>\n",
              "      <th>50%</th>\n",
              "      <td>0.277154</td>\n",
              "      <td>-0.017221</td>\n",
              "      <td>-0.108781</td>\n",
              "      <td>-0.943933</td>\n",
              "      <td>-0.844575</td>\n",
              "      <td>-0.856352</td>\n",
              "      <td>-0.948501</td>\n",
              "      <td>-0.849266</td>\n",
              "      <td>-0.849896</td>\n",
              "      <td>-0.878729</td>\n",
              "      <td>...</td>\n",
              "      <td>0.133887</td>\n",
              "      <td>-0.342923</td>\n",
              "      <td>-0.712677</td>\n",
              "      <td>0.010278</td>\n",
              "      <td>0.005146</td>\n",
              "      <td>0.011448</td>\n",
              "      <td>-0.000847</td>\n",
              "      <td>-0.709441</td>\n",
              "      <td>0.182893</td>\n",
              "      <td>0.003951</td>\n",
              "    </tr>\n",
              "    <tr>\n",
              "      <th>75%</th>\n",
              "      <td>0.288526</td>\n",
              "      <td>-0.010920</td>\n",
              "      <td>-0.098163</td>\n",
              "      <td>-0.242130</td>\n",
              "      <td>-0.034499</td>\n",
              "      <td>-0.262690</td>\n",
              "      <td>-0.291138</td>\n",
              "      <td>-0.068857</td>\n",
              "      <td>-0.268539</td>\n",
              "      <td>-0.013690</td>\n",
              "      <td>...</td>\n",
              "      <td>0.288944</td>\n",
              "      <td>-0.127371</td>\n",
              "      <td>-0.501158</td>\n",
              "      <td>0.154985</td>\n",
              "      <td>0.285030</td>\n",
              "      <td>0.499857</td>\n",
              "      <td>0.356236</td>\n",
              "      <td>-0.511330</td>\n",
              "      <td>0.248435</td>\n",
              "      <td>0.111932</td>\n",
              "    </tr>\n",
              "    <tr>\n",
              "      <th>max</th>\n",
              "      <td>1.000000</td>\n",
              "      <td>1.000000</td>\n",
              "      <td>1.000000</td>\n",
              "      <td>1.000000</td>\n",
              "      <td>0.916238</td>\n",
              "      <td>1.000000</td>\n",
              "      <td>1.000000</td>\n",
              "      <td>0.967664</td>\n",
              "      <td>1.000000</td>\n",
              "      <td>1.000000</td>\n",
              "      <td>...</td>\n",
              "      <td>0.946700</td>\n",
              "      <td>0.989538</td>\n",
              "      <td>0.956845</td>\n",
              "      <td>1.000000</td>\n",
              "      <td>1.000000</td>\n",
              "      <td>0.998702</td>\n",
              "      <td>0.996078</td>\n",
              "      <td>0.977344</td>\n",
              "      <td>0.478157</td>\n",
              "      <td>1.000000</td>\n",
              "    </tr>\n",
              "  </tbody>\n",
              "</table>\n",
              "<p>8 rows × 561 columns</p>\n",
              "</div>\n",
              "    <div class=\"colab-df-buttons\">\n",
              "\n",
              "  <div class=\"colab-df-container\">\n",
              "    <button class=\"colab-df-convert\" onclick=\"convertToInteractive('df-2c671248-e968-43ac-9e14-3adc877c44f9')\"\n",
              "            title=\"Convert this dataframe to an interactive table.\"\n",
              "            style=\"display:none;\">\n",
              "\n",
              "  <svg xmlns=\"http://www.w3.org/2000/svg\" height=\"24px\" viewBox=\"0 -960 960 960\">\n",
              "    <path d=\"M120-120v-720h720v720H120Zm60-500h600v-160H180v160Zm220 220h160v-160H400v160Zm0 220h160v-160H400v160ZM180-400h160v-160H180v160Zm440 0h160v-160H620v160ZM180-180h160v-160H180v160Zm440 0h160v-160H620v160Z\"/>\n",
              "  </svg>\n",
              "    </button>\n",
              "\n",
              "  <style>\n",
              "    .colab-df-container {\n",
              "      display:flex;\n",
              "      gap: 12px;\n",
              "    }\n",
              "\n",
              "    .colab-df-convert {\n",
              "      background-color: #E8F0FE;\n",
              "      border: none;\n",
              "      border-radius: 50%;\n",
              "      cursor: pointer;\n",
              "      display: none;\n",
              "      fill: #1967D2;\n",
              "      height: 32px;\n",
              "      padding: 0 0 0 0;\n",
              "      width: 32px;\n",
              "    }\n",
              "\n",
              "    .colab-df-convert:hover {\n",
              "      background-color: #E2EBFA;\n",
              "      box-shadow: 0px 1px 2px rgba(60, 64, 67, 0.3), 0px 1px 3px 1px rgba(60, 64, 67, 0.15);\n",
              "      fill: #174EA6;\n",
              "    }\n",
              "\n",
              "    .colab-df-buttons div {\n",
              "      margin-bottom: 4px;\n",
              "    }\n",
              "\n",
              "    [theme=dark] .colab-df-convert {\n",
              "      background-color: #3B4455;\n",
              "      fill: #D2E3FC;\n",
              "    }\n",
              "\n",
              "    [theme=dark] .colab-df-convert:hover {\n",
              "      background-color: #434B5C;\n",
              "      box-shadow: 0px 1px 3px 1px rgba(0, 0, 0, 0.15);\n",
              "      filter: drop-shadow(0px 1px 2px rgba(0, 0, 0, 0.3));\n",
              "      fill: #FFFFFF;\n",
              "    }\n",
              "  </style>\n",
              "\n",
              "    <script>\n",
              "      const buttonEl =\n",
              "        document.querySelector('#df-2c671248-e968-43ac-9e14-3adc877c44f9 button.colab-df-convert');\n",
              "      buttonEl.style.display =\n",
              "        google.colab.kernel.accessAllowed ? 'block' : 'none';\n",
              "\n",
              "      async function convertToInteractive(key) {\n",
              "        const element = document.querySelector('#df-2c671248-e968-43ac-9e14-3adc877c44f9');\n",
              "        const dataTable =\n",
              "          await google.colab.kernel.invokeFunction('convertToInteractive',\n",
              "                                                    [key], {});\n",
              "        if (!dataTable) return;\n",
              "\n",
              "        const docLinkHtml = 'Like what you see? Visit the ' +\n",
              "          '<a target=\"_blank\" href=https://colab.research.google.com/notebooks/data_table.ipynb>data table notebook</a>'\n",
              "          + ' to learn more about interactive tables.';\n",
              "        element.innerHTML = '';\n",
              "        dataTable['output_type'] = 'display_data';\n",
              "        await google.colab.output.renderOutput(dataTable, element);\n",
              "        const docLink = document.createElement('div');\n",
              "        docLink.innerHTML = docLinkHtml;\n",
              "        element.appendChild(docLink);\n",
              "      }\n",
              "    </script>\n",
              "  </div>\n",
              "\n",
              "\n",
              "<div id=\"df-0633623c-2cfe-442f-b15b-2ecf38c1ac99\">\n",
              "  <button class=\"colab-df-quickchart\" onclick=\"quickchart('df-0633623c-2cfe-442f-b15b-2ecf38c1ac99')\"\n",
              "            title=\"Suggest charts\"\n",
              "            style=\"display:none;\">\n",
              "\n",
              "<svg xmlns=\"http://www.w3.org/2000/svg\" height=\"24px\"viewBox=\"0 0 24 24\"\n",
              "     width=\"24px\">\n",
              "    <g>\n",
              "        <path d=\"M19 3H5c-1.1 0-2 .9-2 2v14c0 1.1.9 2 2 2h14c1.1 0 2-.9 2-2V5c0-1.1-.9-2-2-2zM9 17H7v-7h2v7zm4 0h-2V7h2v10zm4 0h-2v-4h2v4z\"/>\n",
              "    </g>\n",
              "</svg>\n",
              "  </button>\n",
              "\n",
              "<style>\n",
              "  .colab-df-quickchart {\n",
              "      --bg-color: #E8F0FE;\n",
              "      --fill-color: #1967D2;\n",
              "      --hover-bg-color: #E2EBFA;\n",
              "      --hover-fill-color: #174EA6;\n",
              "      --disabled-fill-color: #AAA;\n",
              "      --disabled-bg-color: #DDD;\n",
              "  }\n",
              "\n",
              "  [theme=dark] .colab-df-quickchart {\n",
              "      --bg-color: #3B4455;\n",
              "      --fill-color: #D2E3FC;\n",
              "      --hover-bg-color: #434B5C;\n",
              "      --hover-fill-color: #FFFFFF;\n",
              "      --disabled-bg-color: #3B4455;\n",
              "      --disabled-fill-color: #666;\n",
              "  }\n",
              "\n",
              "  .colab-df-quickchart {\n",
              "    background-color: var(--bg-color);\n",
              "    border: none;\n",
              "    border-radius: 50%;\n",
              "    cursor: pointer;\n",
              "    display: none;\n",
              "    fill: var(--fill-color);\n",
              "    height: 32px;\n",
              "    padding: 0;\n",
              "    width: 32px;\n",
              "  }\n",
              "\n",
              "  .colab-df-quickchart:hover {\n",
              "    background-color: var(--hover-bg-color);\n",
              "    box-shadow: 0 1px 2px rgba(60, 64, 67, 0.3), 0 1px 3px 1px rgba(60, 64, 67, 0.15);\n",
              "    fill: var(--button-hover-fill-color);\n",
              "  }\n",
              "\n",
              "  .colab-df-quickchart-complete:disabled,\n",
              "  .colab-df-quickchart-complete:disabled:hover {\n",
              "    background-color: var(--disabled-bg-color);\n",
              "    fill: var(--disabled-fill-color);\n",
              "    box-shadow: none;\n",
              "  }\n",
              "\n",
              "  .colab-df-spinner {\n",
              "    border: 2px solid var(--fill-color);\n",
              "    border-color: transparent;\n",
              "    border-bottom-color: var(--fill-color);\n",
              "    animation:\n",
              "      spin 1s steps(1) infinite;\n",
              "  }\n",
              "\n",
              "  @keyframes spin {\n",
              "    0% {\n",
              "      border-color: transparent;\n",
              "      border-bottom-color: var(--fill-color);\n",
              "      border-left-color: var(--fill-color);\n",
              "    }\n",
              "    20% {\n",
              "      border-color: transparent;\n",
              "      border-left-color: var(--fill-color);\n",
              "      border-top-color: var(--fill-color);\n",
              "    }\n",
              "    30% {\n",
              "      border-color: transparent;\n",
              "      border-left-color: var(--fill-color);\n",
              "      border-top-color: var(--fill-color);\n",
              "      border-right-color: var(--fill-color);\n",
              "    }\n",
              "    40% {\n",
              "      border-color: transparent;\n",
              "      border-right-color: var(--fill-color);\n",
              "      border-top-color: var(--fill-color);\n",
              "    }\n",
              "    60% {\n",
              "      border-color: transparent;\n",
              "      border-right-color: var(--fill-color);\n",
              "    }\n",
              "    80% {\n",
              "      border-color: transparent;\n",
              "      border-right-color: var(--fill-color);\n",
              "      border-bottom-color: var(--fill-color);\n",
              "    }\n",
              "    90% {\n",
              "      border-color: transparent;\n",
              "      border-bottom-color: var(--fill-color);\n",
              "    }\n",
              "  }\n",
              "</style>\n",
              "\n",
              "  <script>\n",
              "    async function quickchart(key) {\n",
              "      const quickchartButtonEl =\n",
              "        document.querySelector('#' + key + ' button');\n",
              "      quickchartButtonEl.disabled = true;  // To prevent multiple clicks.\n",
              "      quickchartButtonEl.classList.add('colab-df-spinner');\n",
              "      try {\n",
              "        const charts = await google.colab.kernel.invokeFunction(\n",
              "            'suggestCharts', [key], {});\n",
              "      } catch (error) {\n",
              "        console.error('Error during call to suggestCharts:', error);\n",
              "      }\n",
              "      quickchartButtonEl.classList.remove('colab-df-spinner');\n",
              "      quickchartButtonEl.classList.add('colab-df-quickchart-complete');\n",
              "    }\n",
              "    (() => {\n",
              "      let quickchartButtonEl =\n",
              "        document.querySelector('#df-0633623c-2cfe-442f-b15b-2ecf38c1ac99 button');\n",
              "      quickchartButtonEl.style.display =\n",
              "        google.colab.kernel.accessAllowed ? 'block' : 'none';\n",
              "    })();\n",
              "  </script>\n",
              "</div>\n",
              "\n",
              "    </div>\n",
              "  </div>\n"
            ],
            "application/vnd.google.colaboratory.intrinsic+json": {
              "type": "dataframe"
            }
          },
          "metadata": {},
          "execution_count": 10
        }
      ]
    },
    {
      "cell_type": "code",
      "source": [
        "data01_train['Activity'].value_counts()"
      ],
      "metadata": {
        "colab": {
          "base_uri": "https://localhost:8080/",
          "height": 303
        },
        "id": "gOGHIwPv4etR",
        "outputId": "74005ef6-f80f-4cc0-c12b-7b1770e6cc27"
      },
      "execution_count": 11,
      "outputs": [
        {
          "output_type": "execute_result",
          "data": {
            "text/plain": [
              "Activity\n",
              "LAYING                1115\n",
              "STANDING              1087\n",
              "SITTING               1032\n",
              "WALKING                998\n",
              "WALKING_UPSTAIRS       858\n",
              "WALKING_DOWNSTAIRS     791\n",
              "Name: count, dtype: int64"
            ],
            "text/html": [
              "<div>\n",
              "<style scoped>\n",
              "    .dataframe tbody tr th:only-of-type {\n",
              "        vertical-align: middle;\n",
              "    }\n",
              "\n",
              "    .dataframe tbody tr th {\n",
              "        vertical-align: top;\n",
              "    }\n",
              "\n",
              "    .dataframe thead th {\n",
              "        text-align: right;\n",
              "    }\n",
              "</style>\n",
              "<table border=\"1\" class=\"dataframe\">\n",
              "  <thead>\n",
              "    <tr style=\"text-align: right;\">\n",
              "      <th></th>\n",
              "      <th>count</th>\n",
              "    </tr>\n",
              "    <tr>\n",
              "      <th>Activity</th>\n",
              "      <th></th>\n",
              "    </tr>\n",
              "  </thead>\n",
              "  <tbody>\n",
              "    <tr>\n",
              "      <th>LAYING</th>\n",
              "      <td>1115</td>\n",
              "    </tr>\n",
              "    <tr>\n",
              "      <th>STANDING</th>\n",
              "      <td>1087</td>\n",
              "    </tr>\n",
              "    <tr>\n",
              "      <th>SITTING</th>\n",
              "      <td>1032</td>\n",
              "    </tr>\n",
              "    <tr>\n",
              "      <th>WALKING</th>\n",
              "      <td>998</td>\n",
              "    </tr>\n",
              "    <tr>\n",
              "      <th>WALKING_UPSTAIRS</th>\n",
              "      <td>858</td>\n",
              "    </tr>\n",
              "    <tr>\n",
              "      <th>WALKING_DOWNSTAIRS</th>\n",
              "      <td>791</td>\n",
              "    </tr>\n",
              "  </tbody>\n",
              "</table>\n",
              "</div><br><label><b>dtype:</b> int64</label>"
            ]
          },
          "metadata": {},
          "execution_count": 11
        }
      ]
    },
    {
      "cell_type": "markdown",
      "source": [
        "## **2. 데이터 전처리**\n",
        "\n",
        "* 가변수화, 데이터 분할, NaN 확인 및 조치, 스케일링 등 필요한 전처리를 수행한다.\n"
      ],
      "metadata": {
        "id": "sG3X6wde4mSP"
      }
    },
    {
      "cell_type": "markdown",
      "source": [
        "### (1) 데이터 분할1 : x, y"
      ],
      "metadata": {
        "id": "7eghzvje4oiX"
      }
    },
    {
      "cell_type": "markdown",
      "source": [
        "* 세부 요구사항\n",
        "    - x, y로 분할합니다."
      ],
      "metadata": {
        "id": "6ys1u7F74rMv"
      }
    },
    {
      "cell_type": "code",
      "source": [
        "target = 'Activity'\n",
        "x = data01_train.drop(target, axis = 1); x_col_name = x.columns\n",
        "y = data01_train.loc[:, target]\n",
        "\n",
        "print(x.shape)\n",
        "print(y.shape)"
      ],
      "metadata": {
        "colab": {
          "base_uri": "https://localhost:8080/"
        },
        "id": "Oac0c_0b4jXY",
        "outputId": "251f6337-93de-4dd9-c331-555bce2857d7"
      },
      "execution_count": 41,
      "outputs": [
        {
          "output_type": "stream",
          "name": "stdout",
          "text": [
            "(5881, 561)\n",
            "(5881,)\n"
          ]
        }
      ]
    },
    {
      "cell_type": "markdown",
      "source": [
        "### (2) 스케일링"
      ],
      "metadata": {
        "id": "ObJqlJYn423X"
      }
    },
    {
      "cell_type": "markdown",
      "source": [
        "* 세부 요구사항\n",
        "    - 스케일링을 필요로 하는 알고리즘 사용을 위해서 코드 수행\n",
        "    - min-max 방식 혹은 standard 방식 중 한가지 사용."
      ],
      "metadata": {
        "id": "f4NTPjl4444P"
      }
    },
    {
      "cell_type": "code",
      "source": [
        "scaler = StandardScaler()\n",
        "x = scaler.fit_transform(x)"
      ],
      "metadata": {
        "id": "MIcn4j7t4zZu"
      },
      "execution_count": 13,
      "outputs": []
    },
    {
      "cell_type": "markdown",
      "source": [
        "### (3) Y 전처리\n",
        "* integer encoding : LabelEncoder\n",
        "* (필요시) one-hot encoding"
      ],
      "metadata": {
        "id": "WIwLmFNG5EKl"
      }
    },
    {
      "cell_type": "code",
      "source": [
        "encoder = LabelEncoder()\n",
        "y = encoder.fit_transform(y)"
      ],
      "metadata": {
        "id": "7pfTKAln5CRn"
      },
      "execution_count": 14,
      "outputs": []
    },
    {
      "cell_type": "markdown",
      "source": [
        "### (4) 데이터분할2 : train, validation"
      ],
      "metadata": {
        "id": "yQotlBsw5N3X"
      }
    },
    {
      "cell_type": "markdown",
      "source": [
        "* 세부 요구사항\n",
        "    - train : val = 8 : 2 혹은 7 : 3\n",
        "    - random_state 옵션을 사용하여 다른 모델과 비교를 위해 성능이 재현되도록 합니다."
      ],
      "metadata": {
        "id": "RYpz9kpt5QlG"
      }
    },
    {
      "cell_type": "code",
      "source": [
        "x_train, x_val, y_train, y_val = train_test_split(x, y, test_size = 0.2, random_state = 42)"
      ],
      "metadata": {
        "id": "nZxuv1W05HAC"
      },
      "execution_count": 15,
      "outputs": []
    },
    {
      "cell_type": "markdown",
      "source": [
        "## **3. 기본 모델링**"
      ],
      "metadata": {
        "id": "ZhCQmLbI5YEu"
      }
    },
    {
      "cell_type": "markdown",
      "source": [
        "* 세부 요구사항\n",
        "    - 모델1 : Base line 모델\n",
        "        * Hidden Layer 없이 모델 생성\n",
        "    - 모델2 : 복잡한 모델 생성\n",
        "        * 최소 5개 이상의 은닉층을 추가한 모델\n",
        "    - 모델3 ~ n : 튜닝 모델\n",
        "        * 학습률, epoch 등 조정\n",
        "        * 모델2에 과적합을 방지하기 위한 규제 기법 추가\n",
        "        * Accuracy(F1-score) 최대화 시키는 모델 생성하기\n",
        "    - 각 모델은 최소 5번 반복수행해서 얻은 성능의 평균값을 기록"
      ],
      "metadata": {
        "id": "3EEIda-q5aWh"
      }
    },
    {
      "cell_type": "markdown",
      "source": [
        "### (1) 모델1 : Base line 모델\n",
        "  - Hidden Layer 없이 모델 설계\n",
        "  - learning_rate=0.001, epochs=50"
      ],
      "metadata": {
        "id": "7Yg7PSAi5dve"
      }
    },
    {
      "cell_type": "code",
      "source": [
        "nfeatures = x_train.shape[1]\n",
        "clear_session()\n",
        "\n",
        "model1 = Sequential([Input(shape = (nfeatures,)),\n",
        "                     Dense(6, activation = 'softmax')])\n",
        "\n",
        "model1.compile(optimizer='adam',loss='sparse_categorical_crossentropy')\n",
        "hist1=model1.fit(x_train,y_train,epochs=50,validation_split=0.2, verbose=0).history\n",
        "\n",
        "dl_history_plot(hist1)"
      ],
      "metadata": {
        "colab": {
          "base_uri": "https://localhost:8080/",
          "height": 542
        },
        "id": "mP-Nj3wi5c5f",
        "outputId": "ce17ec2b-cda1-4fbe-be90-870b2b4906e1"
      },
      "execution_count": 17,
      "outputs": [
        {
          "output_type": "display_data",
          "data": {
            "text/plain": [
              "<Figure size 1000x600 with 1 Axes>"
            ],
            "image/png": "[encoded data removed]"
          },
          "metadata": {}
        }
      ]
    },
    {
      "cell_type": "code",
      "source": [
        "pred1 = model1.predict(x_val)\n",
        "pred1 = np.argmax(pred1, axis = 1)\n",
        "\n",
        "print('accuracy :',accuracy_score(y_val, pred1))\n",
        "print('='*60)\n",
        "print(confusion_matrix(y_val, pred1))\n",
        "print('='*60)\n",
        "print(classification_report(y_val, pred1, digits = 4, target_names = encoder.classes_))"
      ],
      "metadata": {
        "colab": {
          "base_uri": "https://localhost:8080/"
        },
        "id": "ao-04cWR6h9U",
        "outputId": "8d09a6cc-1167-40d5-a8b0-46a51b9956fa"
      },
      "execution_count": 19,
      "outputs": [
        {
          "output_type": "stream",
          "name": "stdout",
          "text": [
            "\u001b[1m37/37\u001b[0m \u001b[32m━━━━━━━━━━━━━━━━━━━━\u001b[0m\u001b[37m\u001b[0m \u001b[1m0s\u001b[0m 2ms/step\n",
            "accuracy : 0.9830076465590484\n",
            "============================================================\n",
            "[[231   0   0   0   0   0]\n",
            " [  0 196   4   0   0   0]\n",
            " [  0  13 213   0   0   0]\n",
            " [  0   0   0 195   0   3]\n",
            " [  0   0   0   0 145   0]\n",
            " [  0   0   0   0   0 177]]\n",
            "============================================================\n",
            "                    precision    recall  f1-score   support\n",
            "\n",
            "            LAYING     1.0000    1.0000    1.0000       231\n",
            "           SITTING     0.9378    0.9800    0.9584       200\n",
            "          STANDING     0.9816    0.9425    0.9616       226\n",
            "           WALKING     1.0000    0.9848    0.9924       198\n",
            "WALKING_DOWNSTAIRS     1.0000    1.0000    1.0000       145\n",
            "  WALKING_UPSTAIRS     0.9833    1.0000    0.9916       177\n",
            "\n",
            "          accuracy                         0.9830      1177\n",
            "         macro avg     0.9838    0.9846    0.9840      1177\n",
            "      weighted avg     0.9834    0.9830    0.9830      1177\n",
            "\n"
          ]
        }
      ]
    },
    {
      "cell_type": "markdown",
      "source": [
        "* 반복 수행을 위한 코드"
      ],
      "metadata": {
        "id": "Alh6yL0c7GYN"
      }
    },
    {
      "cell_type": "code",
      "source": [
        "def train_model1(x_train, y_train, x_val, y_val):\n",
        "    model1 = Sequential([Input(shape = (nfeatures,)), Dense(6, activation = 'softmax')])\n",
        "    model1.compile(optimizer=Adam(learning_rate=0.01), loss='sparse_categorical_crossentropy')\n",
        "    model1.fit(x_train, y_train, epochs = 50, verbose=0)\n",
        "    pred1 = model1.predict(x_val)\n",
        "    pred1 = np.argmax(pred1, axis = 1)\n",
        "    return accuracy_score(y_val, pred1)"
      ],
      "metadata": {
        "id": "ab_3MUoA6_2a"
      },
      "execution_count": 20,
      "outputs": []
    },
    {
      "cell_type": "code",
      "source": [
        "result1 = []\n",
        "for i in range(5):\n",
        "    result1.append(train_model1(x_train, y_train, x_val, y_val))\n",
        "\n",
        "print(result1)\n",
        "print(np.mean(result1))"
      ],
      "metadata": {
        "colab": {
          "base_uri": "https://localhost:8080/"
        },
        "id": "sSyCEpAo60or",
        "outputId": "7be82fb0-a41a-4024-ff95-bb4b880d48b4"
      },
      "execution_count": 21,
      "outputs": [
        {
          "output_type": "stream",
          "name": "stdout",
          "text": [
            "\u001b[1m37/37\u001b[0m \u001b[32m━━━━━━━━━━━━━━━━━━━━\u001b[0m\u001b[37m\u001b[0m \u001b[1m0s\u001b[0m 3ms/step\n",
            "\u001b[1m37/37\u001b[0m \u001b[32m━━━━━━━━━━━━━━━━━━━━\u001b[0m\u001b[37m\u001b[0m \u001b[1m0s\u001b[0m 4ms/step\n",
            "\u001b[1m37/37\u001b[0m \u001b[32m━━━━━━━━━━━━━━━━━━━━\u001b[0m\u001b[37m\u001b[0m \u001b[1m0s\u001b[0m 8ms/step\n",
            "\u001b[1m37/37\u001b[0m \u001b[32m━━━━━━━━━━━━━━━━━━━━\u001b[0m\u001b[37m\u001b[0m \u001b[1m0s\u001b[0m 3ms/step\n",
            "\u001b[1m37/37\u001b[0m \u001b[32m━━━━━━━━━━━━━━━━━━━━\u001b[0m\u001b[37m\u001b[0m \u001b[1m0s\u001b[0m 2ms/step\n",
            "[0.973661852166525, 0.9770603228547153, 0.9770603228547153, 0.983857264231096, 0.9779099405267629]\n",
            "0.9779099405267629\n"
          ]
        }
      ]
    },
    {
      "cell_type": "markdown",
      "source": [
        "### (2) 모델2 : 복잡한 모델 생성\n",
        "  - 5개의 은닉층을 추가한 모델\n",
        "  - learning_rate=0.001, epochs=50"
      ],
      "metadata": {
        "id": "jVjGBveJ70R1"
      }
    },
    {
      "cell_type": "code",
      "source": [
        "nfeatures = x_train.shape[1]\n",
        "clear_session()\n",
        "\n",
        "model2= Sequential([Input(shape = (nfeatures,)),\n",
        "                 Dense(128, activation = 'relu'),\n",
        "                 Dense(64, activation= 'relu'),\n",
        "                 Dense(32, activation= 'relu'),\n",
        "                 Dense(16, activation= 'relu'),\n",
        "                 Dense(6, activation= 'softmax')])\n",
        "\n",
        "model2.compile(optimizer=Adam(learning_rate=0.001), loss = 'sparse_categorical_crossentropy')\n",
        "hist2 = model2.fit(x_train,y_train,epochs=50,validation_split=0.2, verbose=0).history\n",
        "\n",
        "dl_history_plot(hist2)"
      ],
      "metadata": {
        "colab": {
          "base_uri": "https://localhost:8080/",
          "height": 542
        },
        "id": "W_kp8m-O8Hl3",
        "outputId": "6f82ff34-fc5c-4e3b-9bc1-b9df1e367a99"
      },
      "execution_count": 26,
      "outputs": [
        {
          "output_type": "display_data",
          "data": {
            "text/plain": [
              "<Figure size 1000x600 with 1 Axes>"
            ],
            "image/png": "[encoded data removed]"
          },
          "metadata": {}
        }
      ]
    },
    {
      "cell_type": "code",
      "source": [
        "pred2 = model1.predict(x_val)\n",
        "pred2 = np.argmax(pred2, axis = 1)\n",
        "\n",
        "print('accuracy :',accuracy_score(y_val, pred2))\n",
        "print('='*60)\n",
        "print(confusion_matrix(y_val, pred2))\n",
        "print('='*60)\n",
        "print(classification_report(y_val, pred2, digits = 4, target_names = encoder.classes_))"
      ],
      "metadata": {
        "colab": {
          "base_uri": "https://localhost:8080/"
        },
        "id": "-Kl-mL-h8uNX",
        "outputId": "a5fe8028-5e3b-4957-8d01-64676611e472"
      },
      "execution_count": 27,
      "outputs": [
        {
          "output_type": "stream",
          "name": "stdout",
          "text": [
            "\u001b[1m37/37\u001b[0m \u001b[32m━━━━━━━━━━━━━━━━━━━━\u001b[0m\u001b[37m\u001b[0m \u001b[1m0s\u001b[0m 2ms/step\n",
            "accuracy : 0.9830076465590484\n",
            "============================================================\n",
            "[[231   0   0   0   0   0]\n",
            " [  0 196   4   0   0   0]\n",
            " [  0  13 213   0   0   0]\n",
            " [  0   0   0 195   0   3]\n",
            " [  0   0   0   0 145   0]\n",
            " [  0   0   0   0   0 177]]\n",
            "============================================================\n",
            "                    precision    recall  f1-score   support\n",
            "\n",
            "            LAYING     1.0000    1.0000    1.0000       231\n",
            "           SITTING     0.9378    0.9800    0.9584       200\n",
            "          STANDING     0.9816    0.9425    0.9616       226\n",
            "           WALKING     1.0000    0.9848    0.9924       198\n",
            "WALKING_DOWNSTAIRS     1.0000    1.0000    1.0000       145\n",
            "  WALKING_UPSTAIRS     0.9833    1.0000    0.9916       177\n",
            "\n",
            "          accuracy                         0.9830      1177\n",
            "         macro avg     0.9838    0.9846    0.9840      1177\n",
            "      weighted avg     0.9834    0.9830    0.9830      1177\n",
            "\n"
          ]
        }
      ]
    },
    {
      "cell_type": "markdown",
      "source": [
        "* 반복 수행을 위한 코드"
      ],
      "metadata": {
        "id": "AnFaAV-DCTtZ"
      }
    },
    {
      "cell_type": "code",
      "source": [
        "def train_model2(x_train, y_train, x_val, y_val):\n",
        "    nfeatures = x_train.shape[1]\n",
        "    clear_session()\n",
        "\n",
        "    model2= Sequential([Input(shape = (nfeatures,)),\n",
        "                    Dense(128, activation = 'relu'),\n",
        "                    Dense(64, activation= 'relu'),\n",
        "                    Dense(32, activation= 'relu'),\n",
        "                    Dense(16, activation= 'relu'),\n",
        "                    Dense(6, activation= 'softmax')])\n",
        "\n",
        "    model2.compile(optimizer=Adam(learning_rate=0.001), loss = 'sparse_categorical_crossentropy')\n",
        "    model2.fit(x_train,y_train,epochs=50,validation_split=0.2, verbose=0)\n",
        "\n",
        "    pred2 = model1.predict(x_val)\n",
        "    pred2 = np.argmax(pred2, axis = 1)\n",
        "\n",
        "    return accuracy_score(y_val, pred2)"
      ],
      "metadata": {
        "id": "CiSpGFuzCORg"
      },
      "execution_count": 36,
      "outputs": []
    },
    {
      "cell_type": "code",
      "source": [
        "result2 = []\n",
        "for i in range(5):\n",
        "    result2.append(train_model2(x_train, y_train, x_val, y_val))\n",
        "\n",
        "print(result2)\n",
        "print(np.mean(result2))"
      ],
      "metadata": {
        "colab": {
          "base_uri": "https://localhost:8080/"
        },
        "id": "80PIB1r9C-SJ",
        "outputId": "f93e0e3d-fc04-443b-8237-9debf023e914"
      },
      "execution_count": 37,
      "outputs": [
        {
          "output_type": "stream",
          "name": "stdout",
          "text": [
            "\u001b[1m37/37\u001b[0m \u001b[32m━━━━━━━━━━━━━━━━━━━━\u001b[0m\u001b[37m\u001b[0m \u001b[1m0s\u001b[0m 2ms/step\n",
            "\u001b[1m37/37\u001b[0m \u001b[32m━━━━━━━━━━━━━━━━━━━━\u001b[0m\u001b[37m\u001b[0m \u001b[1m0s\u001b[0m 2ms/step\n",
            "\u001b[1m37/37\u001b[0m \u001b[32m━━━━━━━━━━━━━━━━━━━━\u001b[0m\u001b[37m\u001b[0m \u001b[1m0s\u001b[0m 2ms/step\n",
            "\u001b[1m37/37\u001b[0m \u001b[32m━━━━━━━━━━━━━━━━━━━━\u001b[0m\u001b[37m\u001b[0m \u001b[1m0s\u001b[0m 2ms/step\n",
            "\u001b[1m37/37\u001b[0m \u001b[32m━━━━━━━━━━━━━━━━━━━━\u001b[0m\u001b[37m\u001b[0m \u001b[1m0s\u001b[0m 2ms/step\n",
            "[0.9830076465590484, 0.9830076465590484, 0.9830076465590484, 0.9830076465590484, 0.9830076465590484]\n",
            "0.9830076465590484\n"
          ]
        }
      ]
    },
    {
      "cell_type": "markdown",
      "source": [
        "### (3) 모델3\n",
        "  - epochs = 100으로 조정\n",
        "  - 과적합을 방지하기 위한 규제 기법 추가 : EarlyStopping, Dropout\n",
        "  - 은닉층 3개로 축소"
      ],
      "metadata": {
        "id": "RXO52uuJ-B-E"
      }
    },
    {
      "cell_type": "code",
      "source": [
        "nfeatures = x_train.shape[1]\n",
        "clear_session()\n",
        "\n",
        "model3 = Sequential([Input(shape = (nfeatures, )),\n",
        "                     Dense(128, activation = 'relu'),\n",
        "                     Dropout(0.2),\n",
        "                     Dense(64, activation = 'relu'),\n",
        "                     Dropout(0.2),\n",
        "                     Dense(32, activation = 'relu'),\n",
        "                     Dropout(0.2),\n",
        "                     Dense(6, activation = 'softmax')])\n",
        "model3.compile(optimizer=Adam(learning_rate = 0.001), loss='sparse_categorical_crossentropy')\n",
        "\n",
        "min_de = 0.001\n",
        "pat = 7\n",
        "\n",
        "es = EarlyStopping(monitor = 'val_loss', min_delta = min_de, patience = pat)\n",
        "\n",
        "hist3 = model3.fit(x_train, y_train, epochs = 100, validation_split = .2, verbose = 0, callbacks = [es]).history\n",
        "dl_history_plot(hist3)"
      ],
      "metadata": {
        "colab": {
          "base_uri": "https://localhost:8080/",
          "height": 542
        },
        "id": "aS_4CTFn9lhp",
        "outputId": "73f5d08f-652c-4fd6-928c-aa46858493e0"
      },
      "execution_count": 32,
      "outputs": [
        {
          "output_type": "display_data",
          "data": {
            "text/plain": [
              "<Figure size 1000x600 with 1 Axes>"
            ],
            "image/png": "[encoded data removed]"
          },
          "metadata": {}
        }
      ]
    },
    {
      "cell_type": "code",
      "source": [
        "pred3 = model3.predict(x_val)\n",
        "pred3 = np.argmax(pred3, axis = 1)\n",
        "\n",
        "print('accuracy :',accuracy_score(y_val, pred3))\n",
        "print('='*60)\n",
        "print(confusion_matrix(y_val, pred3))\n",
        "print('='*60)\n",
        "print(classification_report(y_val, pred3, digits = 4, target_names = encoder.classes_))"
      ],
      "metadata": {
        "colab": {
          "base_uri": "https://localhost:8080/"
        },
        "id": "-9zSfEEl_h-J",
        "outputId": "b4c4dd57-9d6c-423f-e355-25083f50b960"
      },
      "execution_count": 33,
      "outputs": [
        {
          "output_type": "stream",
          "name": "stdout",
          "text": [
            "\u001b[1m37/37\u001b[0m \u001b[32m━━━━━━━━━━━━━━━━━━━━\u001b[0m\u001b[37m\u001b[0m \u001b[1m0s\u001b[0m 5ms/step\n",
            "accuracy : 0.9796091758708582\n",
            "============================================================\n",
            "[[231   0   0   0   0   0]\n",
            " [  0 198   2   0   0   0]\n",
            " [  0  13 213   0   0   0]\n",
            " [  0   0   0 195   1   2]\n",
            " [  0   0   0   0 145   0]\n",
            " [  0   0   0   2   4 171]]\n",
            "============================================================\n",
            "                    precision    recall  f1-score   support\n",
            "\n",
            "            LAYING     1.0000    1.0000    1.0000       231\n",
            "           SITTING     0.9384    0.9900    0.9635       200\n",
            "          STANDING     0.9907    0.9425    0.9660       226\n",
            "           WALKING     0.9898    0.9848    0.9873       198\n",
            "WALKING_DOWNSTAIRS     0.9667    1.0000    0.9831       145\n",
            "  WALKING_UPSTAIRS     0.9884    0.9661    0.9771       177\n",
            "\n",
            "          accuracy                         0.9796      1177\n",
            "         macro avg     0.9790    0.9806    0.9795      1177\n",
            "      weighted avg     0.9802    0.9796    0.9796      1177\n",
            "\n"
          ]
        }
      ]
    },
    {
      "cell_type": "markdown",
      "source": [
        "* 반복 수행을 위한 코드"
      ],
      "metadata": {
        "id": "MjgYTYPNBnEh"
      }
    },
    {
      "cell_type": "code",
      "source": [
        "def train_model3(x_train, y_train, x_val, y_val):\n",
        "    nfeatures = x_train.shape[1]\n",
        "    clear_session()\n",
        "\n",
        "    model3 = Sequential([Input(shape = (nfeatures, )),\n",
        "                        Dense(128, activation = 'relu'),\n",
        "                        Dropout(0.2),\n",
        "                        Dense(64, activation = 'relu'),\n",
        "                        Dropout(0.2),\n",
        "                        Dense(32, activation = 'relu'),\n",
        "                        Dropout(0.2),\n",
        "                        Dense(6, activation = 'softmax')])\n",
        "    model3.compile(optimizer=Adam(learning_rate = 0.001), loss='sparse_categorical_crossentropy')\n",
        "\n",
        "    min_de = 0.001\n",
        "    pat = 7\n",
        "\n",
        "    es = EarlyStopping(monitor = 'val_loss', min_delta = min_de, patience = pat)\n",
        "\n",
        "    model3.fit(x_train, y_train, epochs = 100, validation_split = .2, verbose = 0, callbacks = [es])\n",
        "    pred3 = model3.predict(x_val)\n",
        "    pred3 = np.argmax(pred3, axis = 1)\n",
        "\n",
        "    return accuracy_score(y_val, pred3)"
      ],
      "metadata": {
        "id": "ODFBpmfkBjfz"
      },
      "execution_count": 34,
      "outputs": []
    },
    {
      "cell_type": "code",
      "source": [
        "result3 = []\n",
        "for i in range(5):\n",
        "    result3.append(train_model3(x_train, y_train, x_val, y_val))\n",
        "\n",
        "print(result3)\n",
        "print(np.mean(result3))"
      ],
      "metadata": {
        "colab": {
          "base_uri": "https://localhost:8080/"
        },
        "id": "12iJs5EyBtO8",
        "outputId": "2dcfd596-f7a3-43bd-cf6d-0b8f04b7136a"
      },
      "execution_count": 35,
      "outputs": [
        {
          "output_type": "stream",
          "name": "stdout",
          "text": [
            "\u001b[1m37/37\u001b[0m \u001b[32m━━━━━━━━━━━━━━━━━━━━\u001b[0m\u001b[37m\u001b[0m \u001b[1m0s\u001b[0m 3ms/step\n",
            "\u001b[1m37/37\u001b[0m \u001b[32m━━━━━━━━━━━━━━━━━━━━\u001b[0m\u001b[37m\u001b[0m \u001b[1m0s\u001b[0m 5ms/step\n",
            "\u001b[1m37/37\u001b[0m \u001b[32m━━━━━━━━━━━━━━━━━━━━\u001b[0m\u001b[37m\u001b[0m \u001b[1m0s\u001b[0m 3ms/step\n",
            "\u001b[1m37/37\u001b[0m \u001b[32m━━━━━━━━━━━━━━━━━━━━\u001b[0m\u001b[37m\u001b[0m \u001b[1m0s\u001b[0m 3ms/step\n",
            "\u001b[1m37/37\u001b[0m \u001b[32m━━━━━━━━━━━━━━━━━━━━\u001b[0m\u001b[37m\u001b[0m \u001b[1m0s\u001b[0m 4ms/step\n",
            "[0.9804587935429057, 0.9813084112149533, 0.9634664401019541, 0.9821580288870009, 0.9864061172472387]\n",
            "0.9787595581988106\n"
          ]
        }
      ]
    },
    {
      "cell_type": "markdown",
      "source": [
        "### (4) 모델4 : x,y,z 컬럼 나눠 다중 입력\n",
        "  - input layer 5개\n",
        "  - hidden layer_1 : Dense 32, 32, 32, 16, 16 (입력층 순서대로)\n",
        "  - hidden layer_2 : Dense(8) 추가 히든레이어\n",
        "  - epochs = 100으로 조정\n",
        "  - learning_rate = 0.001, epochs = 60"
      ],
      "metadata": {
        "id": "YWRq2881D9oA"
      }
    },
    {
      "cell_type": "markdown",
      "source": [
        "![스크린샷 2024-10-18 002621.png](data:image/png;base64,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)"
      ],
      "metadata": {
        "id": "iVpui9OzFnNu"
      }
    },
    {
      "cell_type": "code",
      "source": [
        "x_train = pd.DataFrame(x_train, columns = x_col_name)\n",
        "x_val = pd.DataFrame(x_val, columns = x_col_name)"
      ],
      "metadata": {
        "id": "0MJ6kxMwD878"
      },
      "execution_count": 58,
      "outputs": []
    },
    {
      "cell_type": "code",
      "source": [
        "# 전처리\n",
        "result = []\n",
        "result.append(x_train.columns[x_train.columns.str.contains('X')].tolist()) # X축 관련 변수\n",
        "result.append(x_train.columns[x_train.columns.str.contains('Y')].tolist()) # Y축 관련 변수\n",
        "result.append(x_train.columns[x_train.columns.str.contains('Z')].tolist()) # Z축 관련 변수\n",
        "\n",
        "unique_elements, counts = np.unique(np.array(result).flatten(), return_counts = True)\n",
        "duplicates = unique_elements[counts > 1].tolist() # X-Y 등 두 축이 포함된 변수 -> pair 변수 (중복 변수)\n",
        "\n",
        "x_columns_with_X = x_train.columns[x_train.columns.str.contains('X')]\n",
        "col_X = x_columns_with_X[~x_columns_with_X.isin(duplicates)] # X축 관련 변수(중복 제거)\n",
        "\n",
        "x_columns_with_Y = x_train.columns[x_train.columns.str.contains('Y')]\n",
        "col_Y = x_columns_with_Y[~x_columns_with_Y.isin(duplicates)] # Y축 관련 변수(중복 제거)\n",
        "\n",
        "x_columns_with_Z = x_train.columns[x_train.columns.str.contains('Z')]\n",
        "col_Z = x_columns_with_Z[~x_columns_with_Z.isin(duplicates)] # Z축 관련 변수(중복 제거)\n",
        "\n",
        "x_columns_with_XYZ = x_train.columns[x_train.columns.str.contains('X|Y|Z', regex = True)]\n",
        "col_None = x_train.columns[~x_train.columns.isin(x_columns_with_XYZ)] # X, Y, Z 모두 포함 x"
      ],
      "metadata": {
        "id": "tAMIBgxOElEX"
      },
      "execution_count": 60,
      "outputs": []
    },
    {
      "cell_type": "code",
      "source": [
        "print(col_X.shape[0]) # X축 변수\n",
        "print(col_Y.shape[0]) # Y축 변수\n",
        "print(col_Z.shape[0]) # Z축 변수\n",
        "print(len(duplicates)) # (X, Y) pair 변수\n",
        "print(col_None.shape[0]) # X, Y, Z 포함하지 않는 변수\n",
        "print('------')\n",
        "print(x_train.shape[1]) # 전체 변수"
      ],
      "metadata": {
        "colab": {
          "base_uri": "https://localhost:8080/"
        },
        "id": "YwGz7XscG7WZ",
        "outputId": "c445aa45-e635-4e07-cd5f-b1024f744077"
      },
      "execution_count": 61,
      "outputs": [
        {
          "output_type": "stream",
          "name": "stdout",
          "text": [
            "97\n",
            "97\n",
            "97\n",
            "15\n",
            "255\n",
            "------\n",
            "561\n"
          ]
        }
      ]
    },
    {
      "cell_type": "code",
      "source": [
        "# 입력1 : X축 변수\n",
        "x_train1 = x_train[col_X]\n",
        "x_val1 = x_val[col_X]\n",
        "\n",
        "# 입력2 : Y축 변수\n",
        "x_train2 = x_train[col_Y]\n",
        "x_val2 = x_val[col_Y]\n",
        "\n",
        "# 입력3 : Z축 변수\n",
        "x_train3 = x_train[col_Z]\n",
        "x_val3 = x_val[col_Z]\n",
        "\n",
        "# 입력4 : X-Y, Y-Z, X-Z pair 변수\n",
        "x_train4 = x_train[duplicates]\n",
        "x_val4 = x_val[duplicates]\n",
        "\n",
        "# 입력5 : X, Y, Z 제외 변수\n",
        "x_train5 = x_train[col_None]\n",
        "x_val5 = x_val[col_None]"
      ],
      "metadata": {
        "id": "pVumbeWcHAUO"
      },
      "execution_count": 62,
      "outputs": []
    },
    {
      "cell_type": "code",
      "source": [
        "# 다중 입력 모델링\n",
        "nfeatures1 = x_train1.shape[1]\n",
        "nfeatures2 = x_train2.shape[1]\n",
        "nfeatures3 = x_train3.shape[1]\n",
        "nfeatures4 = x_train4.shape[1]\n",
        "nfeatures5 = x_train5.shape[1]\n",
        "\n",
        "# 모델 구성\n",
        "input_1 = Input(shape=(nfeatures1,), name='input_1')\n",
        "input_2 = Input(shape=(nfeatures2,), name='input_2')\n",
        "input_3 = Input(shape=(nfeatures3,), name='input_3')\n",
        "input_4 = Input(shape=(nfeatures4,), name='input_4')\n",
        "input_5 = Input(shape=(nfeatures5,), name='input_5')\n",
        "\n",
        "hl1_1 = Dense(32, activation='relu')(input_1)\n",
        "hl1_2 = Dense(32, activation='relu')(input_2)\n",
        "hl1_3 = Dense(32, activation='relu')(input_3)\n",
        "hl1_4 = Dense(16, activation='relu')(input_4)\n",
        "hl1_5 = Dense(16, activation='relu')(input_5)\n",
        "\n",
        "cbl = concatenate([hl1_1, hl1_2, hl1_3, hl1_4, hl1_5])\n",
        "\n",
        "# 추가 히든레이어\n",
        "hl2 = Dense(4, activation='relu')(cbl)\n",
        "\n",
        "# 출력 레이어\n",
        "output = Dense(6, activation='softmax')(hl2)\n",
        "\n",
        "# 모델 선언\n",
        "model4 = Model(inputs=[input_1, input_2, input_3, input_4, input_5], outputs=output)\n",
        "\n",
        "# 컴파일\n",
        "model4.compile(optimizer=Adam(learning_rate = 0.001), loss = 'sparse_categorical_crossentropy')\n",
        "\n",
        "hist4 = model4.fit([x_train1, x_train2, x_train3, x_train4, x_train5], y_train,\n",
        "                  epochs = 60, validation_split = .2, verbose = 0).history\n",
        "dl_history_plot(hist4)"
      ],
      "metadata": {
        "colab": {
          "base_uri": "https://localhost:8080/",
          "height": 542
        },
        "id": "P-8Mh0z-HN_Q",
        "outputId": "87f18908-83c0-4ab8-b7ee-245f2b5f9dc6"
      },
      "execution_count": 63,
      "outputs": [
        {
          "output_type": "display_data",
          "data": {
            "text/plain": [
              "<Figure size 1000x600 with 1 Axes>"
            ],
            "image/png": "[encoded data removed]"
          },
          "metadata": {}
        }
      ]
    },
    {
      "cell_type": "code",
      "source": [
        "pred4 = model4.predict([x_val1, x_val2, x_val3, x_val4, x_val5])\n",
        "pred4 = np.argmax(pred4, axis = 1)\n",
        "\n",
        "print('accuracy :',accuracy_score(y_val, pred4))\n",
        "print('='*60)\n",
        "print(confusion_matrix(y_val, pred4))\n",
        "print('='*60)\n",
        "print(classification_report(y_val, pred4, digits = 4, target_names = encoder.classes_))"
      ],
      "metadata": {
        "colab": {
          "base_uri": "https://localhost:8080/"
        },
        "id": "J0xg_i9nHYCH",
        "outputId": "af08d79b-707f-42f4-a4f9-f6fe3fce1eac"
      },
      "execution_count": 64,
      "outputs": [
        {
          "output_type": "stream",
          "name": "stdout",
          "text": [
            "\u001b[1m37/37\u001b[0m \u001b[32m━━━━━━━━━━━━━━━━━━━━\u001b[0m\u001b[37m\u001b[0m \u001b[1m0s\u001b[0m 4ms/step\n",
            "accuracy : 0.9855564995751912\n",
            "============================================================\n",
            "[[231   0   0   0   0   0]\n",
            " [  0 197   3   0   0   0]\n",
            " [  0  12 214   0   0   0]\n",
            " [  0   0   0 196   1   1]\n",
            " [  0   0   0   0 145   0]\n",
            " [  0   0   0   0   0 177]]\n",
            "============================================================\n",
            "                    precision    recall  f1-score   support\n",
            "\n",
            "            LAYING     1.0000    1.0000    1.0000       231\n",
            "           SITTING     0.9426    0.9850    0.9633       200\n",
            "          STANDING     0.9862    0.9469    0.9661       226\n",
            "           WALKING     1.0000    0.9899    0.9949       198\n",
            "WALKING_DOWNSTAIRS     0.9932    1.0000    0.9966       145\n",
            "  WALKING_UPSTAIRS     0.9944    1.0000    0.9972       177\n",
            "\n",
            "          accuracy                         0.9856      1177\n",
            "         macro avg     0.9860    0.9870    0.9864      1177\n",
            "      weighted avg     0.9859    0.9856    0.9856      1177\n",
            "\n"
          ]
        }
      ]
    },
    {
      "cell_type": "markdown",
      "source": [
        "* 반복 수행을 위한 코드"
      ],
      "metadata": {
        "id": "5Oxm7PArHrLN"
      }
    },
    {
      "cell_type": "code",
      "source": [
        "def train_model4(x_train, y_train, x_val, y_val):\n",
        "    # 모델 구성\n",
        "    input_1 = Input(shape=(nfeatures1,), name='input_1')\n",
        "    input_2 = Input(shape=(nfeatures2,), name='input_2')\n",
        "    input_3 = Input(shape=(nfeatures3,), name='input_3')\n",
        "    input_4 = Input(shape=(nfeatures4,), name='input_4')\n",
        "    input_5 = Input(shape=(nfeatures5,), name='input_5')\n",
        "\n",
        "    hl1_1 = Dense(32, activation='relu')(input_1)\n",
        "    hl1_2 = Dense(32, activation='relu')(input_2)\n",
        "    hl1_3 = Dense(32, activation='relu')(input_3)\n",
        "    hl1_4 = Dense(16, activation='relu')(input_4)\n",
        "    hl1_5 = Dense(16, activation='relu')(input_5)\n",
        "\n",
        "    cbl = concatenate([hl1_1, hl1_2, hl1_3, hl1_4, hl1_5])\n",
        "\n",
        "    # 추가 히든레이어\n",
        "    hl2 = Dense(4, activation='relu')(cbl)\n",
        "\n",
        "    # 출력 레이어\n",
        "    output = Dense(6, activation='softmax')(hl2)\n",
        "\n",
        "    # 모델 선언\n",
        "    model4 = Model(inputs=[input_1, input_2, input_3, input_4, input_5], outputs=output)\n",
        "\n",
        "    # 컴파일\n",
        "    model4.compile(optimizer=Adam(learning_rate = 0.001), loss = 'sparse_categorical_crossentropy')\n",
        "\n",
        "    model4.fit([x_train1, x_train2, x_train3, x_train4, x_train5], y_train,\n",
        "                      epochs = 60, validation_split = .2, verbose = 0)\n",
        "\n",
        "    pred4 = model4.predict([x_val1, x_val2, x_val3, x_val4, x_val5])\n",
        "    pred4 = np.argmax(pred4, axis = 1)\n",
        "\n",
        "    return accuracy_score(y_val, pred4)"
      ],
      "metadata": {
        "id": "ABlVj371HhJT"
      },
      "execution_count": 65,
      "outputs": []
    },
    {
      "cell_type": "code",
      "source": [
        "result4 = []\n",
        "for i in range(5):\n",
        "    result4.append(train_model4(x_train, y_train, x_val, y_val))\n",
        "\n",
        "print(result4)\n",
        "print(np.mean(result4))"
      ],
      "metadata": {
        "colab": {
          "base_uri": "https://localhost:8080/"
        },
        "id": "fV4PfCikIKHy",
        "outputId": "c8754cfc-8f63-45cc-f8e5-f8a83c972f12"
      },
      "execution_count": 66,
      "outputs": [
        {
          "output_type": "stream",
          "name": "stdout",
          "text": [
            "\u001b[1m37/37\u001b[0m \u001b[32m━━━━━━━━━━━━━━━━━━━━\u001b[0m\u001b[37m\u001b[0m \u001b[1m0s\u001b[0m 7ms/step\n",
            "\u001b[1m37/37\u001b[0m \u001b[32m━━━━━━━━━━━━━━━━━━━━\u001b[0m\u001b[37m\u001b[0m \u001b[1m0s\u001b[0m 5ms/step\n",
            "\u001b[1m37/37\u001b[0m \u001b[32m━━━━━━━━━━━━━━━━━━━━\u001b[0m\u001b[37m\u001b[0m \u001b[1m1s\u001b[0m 8ms/step\n",
            "\u001b[1m37/37\u001b[0m \u001b[32m━━━━━━━━━━━━━━━━━━━━\u001b[0m\u001b[37m\u001b[0m \u001b[1m1s\u001b[0m 12ms/step\n",
            "\u001b[1m37/37\u001b[0m \u001b[32m━━━━━━━━━━━━━━━━━━━━\u001b[0m\u001b[37m\u001b[0m \u001b[1m2s\u001b[0m 28ms/step\n",
            "[0.983857264231096, 0.9881053525913339, 0.9745114698385726, 0.9855564995751912, 0.9872557349192863]\n",
            "0.9838572642310961\n"
          ]
        }
      ]
    },
    {
      "cell_type": "markdown",
      "source": [
        "## 4.성능비교"
      ],
      "metadata": {
        "id": "QpFG_JYqIvQH"
      }
    },
    {
      "cell_type": "markdown",
      "source": [
        "* 세부 요구사항\n",
        "    - test 데이터에 대한 전처리\n",
        "    - 각 모델에 대해서 test 데이터로 성능 측정"
      ],
      "metadata": {
        "id": "uuaqEDdfI0hu"
      }
    },
    {
      "cell_type": "code",
      "source": [
        "newdata = data01_test\n",
        "\n",
        "# x, y 분할\n",
        "new_x = newdata.drop(['Activity'], axis = 1)\n",
        "new_y = newdata.Activity\n",
        "\n",
        "# x : 스케일링 적용\n",
        "new_x = scaler.transform(new_x)\n",
        "\n",
        "# y : 정수인코딩 적용\n",
        "new_y = encoder.transform(new_y)"
      ],
      "metadata": {
        "id": "MCcBe95MJE4H"
      },
      "execution_count": 80,
      "outputs": []
    },
    {
      "cell_type": "code",
      "source": [
        "# test 데이터에 대한 성능 측정\n",
        "result = {}\n",
        "models = [model1, model2, model3, model4]\n",
        "for i, model in enumerate(models):\n",
        "  if i != 3:\n",
        "    pred = model.predict(new_x)\n",
        "    pred = np.argmax(pred, axis = 1)\n",
        "\n",
        "  else:\n",
        "    # model4 : 다른 전처리\n",
        "    new_x = pd.DataFrame(new_x, columns = x_col_name)\n",
        "    new_x1 = new_x[col_X]\n",
        "    new_x2 = new_x[col_Y]\n",
        "    new_x3 = new_x[col_Z]\n",
        "    new_x4 = new_x[duplicates]\n",
        "    new_x5 = new_x[col_None]\n",
        "    pred = model.predict([new_x1, new_x2, new_x3, new_x4, new_x5])\n",
        "    pred = np.argmax(pred, axis = 1)\n",
        "  result[f'model{i+1}'] = accuracy_score(new_y, pred)\n",
        "  print(f'model{i+1}, accuracy : {accuracy_score(new_y, pred)}')"
      ],
      "metadata": {
        "colab": {
          "base_uri": "https://localhost:8080/"
        },
        "id": "JXk9wA_FIts3",
        "outputId": "cf89af95-6439-45fa-ec75-fe85b2b026a5"
      },
      "execution_count": 84,
      "outputs": [
        {
          "output_type": "stream",
          "name": "stdout",
          "text": [
            "\u001b[1m46/46\u001b[0m \u001b[32m━━━━━━━━━━━━━━━━━━━━\u001b[0m\u001b[37m\u001b[0m \u001b[1m0s\u001b[0m 7ms/step\n",
            "model1, accuracy : 0.973487423521414\n",
            "\u001b[1m46/46\u001b[0m \u001b[32m━━━━━━━━━━━━━━━━━━━━\u001b[0m\u001b[37m\u001b[0m \u001b[1m0s\u001b[0m 6ms/step\n",
            "model2, accuracy : 0.9768864717878993\n",
            "\u001b[1m46/46\u001b[0m \u001b[32m━━━━━━━━━━━━━━━━━━━━\u001b[0m\u001b[37m\u001b[0m \u001b[1m0s\u001b[0m 5ms/step\n",
            "model3, accuracy : 0.9714479945615228\n",
            "\u001b[1m46/46\u001b[0m \u001b[32m━━━━━━━━━━━━━━━━━━━━\u001b[0m\u001b[37m\u001b[0m \u001b[1m0s\u001b[0m 7ms/step\n",
            "model4, accuracy : 0.9768864717878993\n"
          ]
        }
      ]
    },
    {
      "cell_type": "code",
      "source": [
        "# 성능비교 막대그래프\n",
        "result_df = pd.DataFrame(result.values(), columns = ['test_accuracy'], index = result.keys())\n",
        "result_df['val_accuracy'] = [np.mean(result1), np.mean(result2), np.mean(result3), np.mean(result4)]\n",
        "\n",
        "# 막대의 위치\n",
        "x = np.arange(len(result_df.index))\n",
        "\n",
        "# 막대의 폭\n",
        "width = 0.35\n",
        "\n",
        "# 막대그래프 그리기\n",
        "fig, ax = plt.subplots(figsize=(10, 6))\n",
        "\n",
        "# 테스트 정확도 막대\n",
        "ax.bar(x - width/2,result_df['test_accuracy'], width, label='Test Accuracy', color='lightblue')\n",
        "\n",
        "# 검증 정확도 막대\n",
        "ax.bar(x + width/2, result_df['val_accuracy'], width, label='Validation Accuracy', color='lightpink')\n",
        "\n",
        "# 그래프 꾸미기\n",
        "ax.set_xlabel('Models')\n",
        "ax.set_ylabel('Accuracy')\n",
        "ax.set_title('Test and Validation Accuracy by Model')\n",
        "ax.set_xticks(x)\n",
        "ax.set_xticklabels(result_df.index)\n",
        "ax.legend()\n",
        "\n",
        "plt.ylim(0.97, 0.987)\n",
        "plt.grid(True)\n",
        "\n",
        "# 그래프 보여주기\n",
        "plt.show()"
      ],
      "metadata": {
        "colab": {
          "base_uri": "https://localhost:8080/",
          "height": 564
        },
        "id": "IzkECiaiWf0n",
        "outputId": "fe13076c-fc97-4d8c-be66-b9e4ea8e3a9d"
      },
      "execution_count": 116,
      "outputs": [
        {
          "output_type": "display_data",
          "data": {
            "text/plain": [
              "<Figure size 1000x600 with 1 Axes>"
            ],
            "image/png": "[encoded data removed]"
          },
          "metadata": {}
        }
      ]
    }
  ]
}