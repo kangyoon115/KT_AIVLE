{
  "nbformat": 4,
  "nbformat_minor": 0,
  "metadata": {
    "colab": {
      "provenance": []
    },
    "kernelspec": {
      "name": "python3",
      "display_name": "Python 3"
    },
    "language_info": {
      "name": "python"
    }
  },
  "cells": [
    {
      "cell_type": "markdown",
      "source": [
        "#**스마트폰 센서 데이터 기반 모션 분류**\n",
        "# 단계3 : 단계별 모델링\n"
      ],
      "metadata": {
        "id": "NbI_RoQ9AP5r"
      }
    },
    {
      "cell_type": "markdown",
      "source": [
        "## 0.미션4"
      ],
      "metadata": {
        "id": "JmtZXcVs0IXm"
      }
    },
    {
      "cell_type": "markdown",
      "source": [
        "* 단계별로 나눠서 모델링을 수행하고자 합니다.  \n",
        "* 단계 구분 예시\n",
        "    * 단계1 : 정적(0), 동적(1) 행동 분류 모델 생성\n",
        "    * 단계2 : 세부 동작에 대한 분류모델 생성\n",
        "        * 단계1 모델에서 0으로 예측 -> 정적 행동 3가지 분류 모델링\n",
        "        * 단계1 모델에서 1으로 예측 -> 동적 행동 3가지 분류 모델링\n",
        "* 모델 통합\n",
        "    * 두 단계 모델을 통합하고, 새로운 데이터에 대해서 최종 예측결과와 성능평가가 나오도록 함수로 만들기\n",
        "* 성능 비교\n",
        "    * 기본 모델링의 성능과 비교\n",
        "    * 성능 가이드\n",
        "        * Accuracy : 0.97 ~ 0.99\n",
        "* 파이프라인 구성\n",
        "    * test 데이터를 입력하여, 전처리 및 예측결과가 나오도록 함수 구성"
      ],
      "metadata": {
        "id": "1Q7N3tIf0IXn"
      }
    },
    {
      "cell_type": "markdown",
      "source": [
        "## 1.환경설정"
      ],
      "metadata": {
        "id": "rgiFiMnzd3Jn"
      }
    },
    {
      "cell_type": "markdown",
      "source": [
        "* 세부 요구사항\n",
        "    - 경로 설정 : 구글콜랩\n",
        "        * 구글 드라이브 바로 밑에 project3 폴더를 만들고,\n",
        "        * 데이터 파일을 복사해 넣습니다.\n",
        "    - 기본적으로 필요한 라이브러리를 import 하도록 코드가 작성되어 있습니다.\n",
        "        * 필요하다고 판단되는 라이브러리를 추가하세요.\n"
      ],
      "metadata": {
        "id": "0fDUoBYfd3Jx"
      }
    },
    {
      "cell_type": "markdown",
      "source": [
        "### (1) 경로 설정"
      ],
      "metadata": {
        "id": "EP6x0_Qrd3Jx"
      }
    },
    {
      "cell_type": "markdown",
      "source": [
        "* 구글 드라이브 연결"
      ],
      "metadata": {
        "id": "Nc5ajfyHd3Jx"
      }
    },
    {
      "cell_type": "code",
      "source": [
        "from google.colab import drive\n",
        "drive.mount('/content/drive')"
      ],
      "metadata": {
        "id": "Ic8ZeFKcd3Jx",
        "colab": {
          "base_uri": "https://localhost:8080/"
        },
        "outputId": "61c9f4a0-3772-4470-a2a0-ed7e023652bc"
      },
      "execution_count": 154,
      "outputs": [
        {
          "output_type": "stream",
          "name": "stdout",
          "text": [
            "Drive already mounted at /content/drive; to attempt to forcibly remount, call drive.mount(\"/content/drive\", force_remount=True).\n"
          ]
        }
      ]
    },
    {
      "cell_type": "code",
      "source": [
        "path = '/content/drive/MyDrive/project3/'"
      ],
      "metadata": {
        "id": "rR-drTHhd3Jx"
      },
      "execution_count": 155,
      "outputs": []
    },
    {
      "cell_type": "markdown",
      "source": [
        "### (2) 라이브러리 불러오기"
      ],
      "metadata": {
        "id": "Tqpjn1W3d3Jx"
      }
    },
    {
      "cell_type": "markdown",
      "source": [
        "* 라이브러리 로딩"
      ],
      "metadata": {
        "id": "-ZxRcPNqd3Jy"
      }
    },
    {
      "cell_type": "code",
      "metadata": {
        "id": "___ks_QAd3Jy"
      },
      "source": [
        "import pandas as pd\n",
        "import numpy as np\n",
        "import matplotlib.pyplot as plt\n",
        "import seaborn as sns\n",
        "\n",
        "import joblib\n",
        "\n",
        "from sklearn.model_selection import train_test_split\n",
        "from sklearn.preprocessing import MinMaxScaler,StandardScaler, LabelEncoder\n",
        "from sklearn.metrics import *\n",
        "\n",
        "from keras.models import Sequential, Model\n",
        "from keras.layers import Input, Dense, Flatten, Dropout, concatenate\n",
        "from keras.callbacks import EarlyStopping\n",
        "from keras.backend import clear_session\n",
        "from keras.optimizers import Adam"
      ],
      "execution_count": 156,
      "outputs": []
    },
    {
      "cell_type": "code",
      "source": [
        "# 학습곡선 함수\n",
        "def dl_history_plot(history):\n",
        "    plt.figure(figsize=(10,6))\n",
        "    plt.plot(history['loss'], label='train_err', marker = '.')\n",
        "    plt.plot(history['val_loss'], label='val_err', marker = '.')\n",
        "\n",
        "    plt.ylabel('Loss')\n",
        "    plt.xlabel('Epoch')\n",
        "    plt.legend()\n",
        "    plt.grid()\n",
        "    plt.show()"
      ],
      "metadata": {
        "id": "3c4JgiEbNKfo"
      },
      "execution_count": 157,
      "outputs": []
    },
    {
      "cell_type": "markdown",
      "source": [
        "### (3) 데이터 불러오기"
      ],
      "metadata": {
        "id": "bA-eHXdwBDCz"
      }
    },
    {
      "cell_type": "markdown",
      "source": [
        "* 주어진 데이터셋\n",
        "    * data01_train.csv : 학습 및 검증용\n",
        "    * data01_test.csv : 테스트용\n",
        "    * feature.csv : feature 이름을 계층구조로 정리한 데이터\n",
        "\n",
        "* 세부 요구사항\n",
        "    * 칼럼 삭제 : data01_train.csv와 data01_test.csv 에서 'subject' 칼럼은 불필요하므로 삭제합니다."
      ],
      "metadata": {
        "id": "tDueQoA3d3Jy"
      }
    },
    {
      "cell_type": "markdown",
      "source": [
        "#### 1) 데이터로딩"
      ],
      "metadata": {
        "id": "fmgUEGOipvG5"
      }
    },
    {
      "cell_type": "code",
      "source": [
        "data01_train = pd.read_csv(path + 'data01_train.csv')\n",
        "data01_test = pd.read_csv(path + 'data01_test.csv')\n",
        "features = pd.read_csv(path + 'features.csv')\n",
        "\n",
        "data01_train.drop('subject', axis = 1, inplace = True)\n",
        "data01_test.drop('subject', axis = 1, inplace = True)"
      ],
      "metadata": {
        "id": "HdZCcSs6qfRC"
      },
      "execution_count": 158,
      "outputs": []
    },
    {
      "cell_type": "markdown",
      "source": [
        "#### 2) 기본 정보 조회"
      ],
      "metadata": {
        "id": "aI7qJqz3pr3m"
      }
    },
    {
      "cell_type": "code",
      "source": [
        "data01_train.shape"
      ],
      "metadata": {
        "colab": {
          "base_uri": "https://localhost:8080/"
        },
        "id": "hjET1ya5OtPK",
        "outputId": "04edf4f2-e46a-4220-935a-bc6a5f820391"
      },
      "execution_count": 159,
      "outputs": [
        {
          "output_type": "execute_result",
          "data": {
            "text/plain": [
              "(5881, 562)"
            ]
          },
          "metadata": {},
          "execution_count": 159
        }
      ]
    },
    {
      "cell_type": "code",
      "source": [
        "data01_train.info()"
      ],
      "metadata": {
        "id": "yFVSAGNhpr3m",
        "colab": {
          "base_uri": "https://localhost:8080/"
        },
        "outputId": "810b4bcd-7847-4eb7-a4a2-15bda4415de6"
      },
      "execution_count": 160,
      "outputs": [
        {
          "output_type": "stream",
          "name": "stdout",
          "text": [
            "<class 'pandas.core.frame.DataFrame'>\n",
            "RangeIndex: 5881 entries, 0 to 5880\n",
            "Columns: 562 entries, tBodyAcc-mean()-X to Activity\n",
            "dtypes: float64(561), object(1)\n",
            "memory usage: 25.2+ MB\n"
          ]
        }
      ]
    },
    {
      "cell_type": "code",
      "source": [
        "data01_train.describe()"
      ],
      "metadata": {
        "id": "xJnnr8K-pr3m",
        "colab": {
          "base_uri": "https://localhost:8080/",
          "height": 367
        },
        "outputId": "eb16d5df-c00b-445e-8382-f8baf5a284c3"
      },
      "execution_count": 161,
      "outputs": [
        {
          "output_type": "execute_result",
          "data": {
            "text/plain": [
              "       tBodyAcc-mean()-X  tBodyAcc-mean()-Y  tBodyAcc-mean()-Z  \\\n",
              "count        5881.000000        5881.000000        5881.000000   \n",
              "mean            0.274811          -0.017799          -0.109396   \n",
              "std             0.067614           0.039422           0.058373   \n",
              "min            -0.503823          -0.684893          -1.000000   \n",
              "25%             0.262919          -0.024877          -0.121051   \n",
              "50%             0.277154          -0.017221          -0.108781   \n",
              "75%             0.288526          -0.010920          -0.098163   \n",
              "max             1.000000           1.000000           1.000000   \n",
              "\n",
              "       tBodyAcc-std()-X  tBodyAcc-std()-Y  tBodyAcc-std()-Z  tBodyAcc-mad()-X  \\\n",
              "count       5881.000000       5881.000000       5881.000000       5881.000000   \n",
              "mean          -0.603138         -0.509815         -0.604058         -0.628151   \n",
              "std            0.448807          0.501815          0.417319          0.424345   \n",
              "min           -1.000000         -0.999844         -0.999667         -1.000000   \n",
              "25%           -0.992774         -0.977680         -0.980127         -0.993602   \n",
              "50%           -0.943933         -0.844575         -0.856352         -0.948501   \n",
              "75%           -0.242130         -0.034499         -0.262690         -0.291138   \n",
              "max            1.000000          0.916238          1.000000          1.000000   \n",
              "\n",
              "       tBodyAcc-mad()-Y  tBodyAcc-mad()-Z  tBodyAcc-max()-X  ...  \\\n",
              "count       5881.000000       5881.000000       5881.000000  ...   \n",
              "mean          -0.525944         -0.605374         -0.465490  ...   \n",
              "std            0.485115          0.413043          0.544995  ...   \n",
              "min           -0.999419         -1.000000         -1.000000  ...   \n",
              "25%           -0.977865         -0.980112         -0.936067  ...   \n",
              "50%           -0.849266         -0.849896         -0.878729  ...   \n",
              "75%           -0.068857         -0.268539         -0.013690  ...   \n",
              "max            0.967664          1.000000          1.000000  ...   \n",
              "\n",
              "       fBodyBodyGyroJerkMag-meanFreq()  fBodyBodyGyroJerkMag-skewness()  \\\n",
              "count                      5881.000000                      5881.000000   \n",
              "mean                          0.126955                        -0.305883   \n",
              "std                           0.249176                         0.322808   \n",
              "min                          -0.965725                        -0.979261   \n",
              "25%                          -0.021610                        -0.541969   \n",
              "50%                           0.133887                        -0.342923   \n",
              "75%                           0.288944                        -0.127371   \n",
              "max                           0.946700                         0.989538   \n",
              "\n",
              "       fBodyBodyGyroJerkMag-kurtosis()  angle(tBodyAccMean,gravity)  \\\n",
              "count                      5881.000000                  5881.000000   \n",
              "mean                         -0.623548                     0.008524   \n",
              "std                           0.310371                     0.339730   \n",
              "min                          -0.999765                    -0.976580   \n",
              "25%                          -0.845985                    -0.122361   \n",
              "50%                          -0.712677                     0.010278   \n",
              "75%                          -0.501158                     0.154985   \n",
              "max                           0.956845                     1.000000   \n",
              "\n",
              "       angle(tBodyAccJerkMean),gravityMean)  angle(tBodyGyroMean,gravityMean)  \\\n",
              "count                           5881.000000                       5881.000000   \n",
              "mean                              -0.001185                          0.009340   \n",
              "std                                0.447197                          0.608190   \n",
              "min                               -1.000000                         -1.000000   \n",
              "25%                               -0.294369                         -0.481718   \n",
              "50%                                0.005146                          0.011448   \n",
              "75%                                0.285030                          0.499857   \n",
              "max                                1.000000                          0.998702   \n",
              "\n",
              "       angle(tBodyGyroJerkMean,gravityMean)  angle(X,gravityMean)  \\\n",
              "count                           5881.000000           5881.000000   \n",
              "mean                              -0.007099             -0.491501   \n",
              "std                                0.476738              0.509069   \n",
              "min                               -1.000000             -1.000000   \n",
              "25%                               -0.373345             -0.811397   \n",
              "50%                               -0.000847             -0.709441   \n",
              "75%                                0.356236             -0.511330   \n",
              "max                                0.996078              0.977344   \n",
              "\n",
              "       angle(Y,gravityMean)  angle(Z,gravityMean)  \n",
              "count           5881.000000           5881.000000  \n",
              "mean               0.059299             -0.054594  \n",
              "std                0.297340              0.278479  \n",
              "min               -1.000000             -0.980143  \n",
              "25%               -0.018203             -0.141555  \n",
              "50%                0.182893              0.003951  \n",
              "75%                0.248435              0.111932  \n",
              "max                0.478157              1.000000  \n",
              "\n",
              "[8 rows x 561 columns]"
            ],
            "text/html": [
              "\n",
              "  <div id=\"df-3182f306-e429-4f4f-b20f-779cda0bc9e8\" class=\"colab-df-container\">\n",
              "    <div>\n",
              "<style scoped>\n",
              "    .dataframe tbody tr th:only-of-type {\n",
              "        vertical-align: middle;\n",
              "    }\n",
              "\n",
              "    .dataframe tbody tr th {\n",
              "        vertical-align: top;\n",
              "    }\n",
              "\n",
              "    .dataframe thead th {\n",
              "        text-align: right;\n",
              "    }\n",
              "</style>\n",
              "<table border=\"1\" class=\"dataframe\">\n",
              "  <thead>\n",
              "    <tr style=\"text-align: right;\">\n",
              "      <th></th>\n",
              "      <th>tBodyAcc-mean()-X</th>\n",
              "      <th>tBodyAcc-mean()-Y</th>\n",
              "      <th>tBodyAcc-mean()-Z</th>\n",
              "      <th>tBodyAcc-std()-X</th>\n",
              "      <th>tBodyAcc-std()-Y</th>\n",
              "      <th>tBodyAcc-std()-Z</th>\n",
              "      <th>tBodyAcc-mad()-X</th>\n",
              "      <th>tBodyAcc-mad()-Y</th>\n",
              "      <th>tBodyAcc-mad()-Z</th>\n",
              "      <th>tBodyAcc-max()-X</th>\n",
              "      <th>...</th>\n",
              "      <th>fBodyBodyGyroJerkMag-meanFreq()</th>\n",
              "      <th>fBodyBodyGyroJerkMag-skewness()</th>\n",
              "      <th>fBodyBodyGyroJerkMag-kurtosis()</th>\n",
              "      <th>angle(tBodyAccMean,gravity)</th>\n",
              "      <th>angle(tBodyAccJerkMean),gravityMean)</th>\n",
              "      <th>angle(tBodyGyroMean,gravityMean)</th>\n",
              "      <th>angle(tBodyGyroJerkMean,gravityMean)</th>\n",
              "      <th>angle(X,gravityMean)</th>\n",
              "      <th>angle(Y,gravityMean)</th>\n",
              "      <th>angle(Z,gravityMean)</th>\n",
              "    </tr>\n",
              "  </thead>\n",
              "  <tbody>\n",
              "    <tr>\n",
              "      <th>count</th>\n",
              "      <td>5881.000000</td>\n",
              "      <td>5881.000000</td>\n",
              "      <td>5881.000000</td>\n",
              "      <td>5881.000000</td>\n",
              "      <td>5881.000000</td>\n",
              "      <td>5881.000000</td>\n",
              "      <td>5881.000000</td>\n",
              "      <td>5881.000000</td>\n",
              "      <td>5881.000000</td>\n",
              "      <td>5881.000000</td>\n",
              "      <td>...</td>\n",
              "      <td>5881.000000</td>\n",
              "      <td>5881.000000</td>\n",
              "      <td>5881.000000</td>\n",
              "      <td>5881.000000</td>\n",
              "      <td>5881.000000</td>\n",
              "      <td>5881.000000</td>\n",
              "      <td>5881.000000</td>\n",
              "      <td>5881.000000</td>\n",
              "      <td>5881.000000</td>\n",
              "      <td>5881.000000</td>\n",
              "    </tr>\n",
              "    <tr>\n",
              "      <th>mean</th>\n",
              "      <td>0.274811</td>\n",
              "      <td>-0.017799</td>\n",
              "      <td>-0.109396</td>\n",
              "      <td>-0.603138</td>\n",
              "      <td>-0.509815</td>\n",
              "      <td>-0.604058</td>\n",
              "      <td>-0.628151</td>\n",
              "      <td>-0.525944</td>\n",
              "      <td>-0.605374</td>\n",
              "      <td>-0.465490</td>\n",
              "      <td>...</td>\n",
              "      <td>0.126955</td>\n",
              "      <td>-0.305883</td>\n",
              "      <td>-0.623548</td>\n",
              "      <td>0.008524</td>\n",
              "      <td>-0.001185</td>\n",
              "      <td>0.009340</td>\n",
              "      <td>-0.007099</td>\n",
              "      <td>-0.491501</td>\n",
              "      <td>0.059299</td>\n",
              "      <td>-0.054594</td>\n",
              "    </tr>\n",
              "    <tr>\n",
              "      <th>std</th>\n",
              "      <td>0.067614</td>\n",
              "      <td>0.039422</td>\n",
              "      <td>0.058373</td>\n",
              "      <td>0.448807</td>\n",
              "      <td>0.501815</td>\n",
              "      <td>0.417319</td>\n",
              "      <td>0.424345</td>\n",
              "      <td>0.485115</td>\n",
              "      <td>0.413043</td>\n",
              "      <td>0.544995</td>\n",
              "      <td>...</td>\n",
              "      <td>0.249176</td>\n",
              "      <td>0.322808</td>\n",
              "      <td>0.310371</td>\n",
              "      <td>0.339730</td>\n",
              "      <td>0.447197</td>\n",
              "      <td>0.608190</td>\n",
              "      <td>0.476738</td>\n",
              "      <td>0.509069</td>\n",
              "      <td>0.297340</td>\n",
              "      <td>0.278479</td>\n",
              "    </tr>\n",
              "    <tr>\n",
              "      <th>min</th>\n",
              "      <td>-0.503823</td>\n",
              "      <td>-0.684893</td>\n",
              "      <td>-1.000000</td>\n",
              "      <td>-1.000000</td>\n",
              "      <td>-0.999844</td>\n",
              "      <td>-0.999667</td>\n",
              "      <td>-1.000000</td>\n",
              "      <td>-0.999419</td>\n",
              "      <td>-1.000000</td>\n",
              "      <td>-1.000000</td>\n",
              "      <td>...</td>\n",
              "      <td>-0.965725</td>\n",
              "      <td>-0.979261</td>\n",
              "      <td>-0.999765</td>\n",
              "      <td>-0.976580</td>\n",
              "      <td>-1.000000</td>\n",
              "      <td>-1.000000</td>\n",
              "      <td>-1.000000</td>\n",
              "      <td>-1.000000</td>\n",
              "      <td>-1.000000</td>\n",
              "      <td>-0.980143</td>\n",
              "    </tr>\n",
              "    <tr>\n",
              "      <th>25%</th>\n",
              "      <td>0.262919</td>\n",
              "      <td>-0.024877</td>\n",
              "      <td>-0.121051</td>\n",
              "      <td>-0.992774</td>\n",
              "      <td>-0.977680</td>\n",
              "      <td>-0.980127</td>\n",
              "      <td>-0.993602</td>\n",
              "      <td>-0.977865</td>\n",
              "      <td>-0.980112</td>\n",
              "      <td>-0.936067</td>\n",
              "      <td>...</td>\n",
              "      <td>-0.021610</td>\n",
              "      <td>-0.541969</td>\n",
              "      <td>-0.845985</td>\n",
              "      <td>-0.122361</td>\n",
              "      <td>-0.294369</td>\n",
              "      <td>-0.481718</td>\n",
              "      <td>-0.373345</td>\n",
              "      <td>-0.811397</td>\n",
              "      <td>-0.018203</td>\n",
              "      <td>-0.141555</td>\n",
              "    </tr>\n",
              "    <tr>\n",
              "      <th>50%</th>\n",
              "      <td>0.277154</td>\n",
              "      <td>-0.017221</td>\n",
              "      <td>-0.108781</td>\n",
              "      <td>-0.943933</td>\n",
              "      <td>-0.844575</td>\n",
              "      <td>-0.856352</td>\n",
              "      <td>-0.948501</td>\n",
              "      <td>-0.849266</td>\n",
              "      <td>-0.849896</td>\n",
              "      <td>-0.878729</td>\n",
              "      <td>...</td>\n",
              "      <td>0.133887</td>\n",
              "      <td>-0.342923</td>\n",
              "      <td>-0.712677</td>\n",
              "      <td>0.010278</td>\n",
              "      <td>0.005146</td>\n",
              "      <td>0.011448</td>\n",
              "      <td>-0.000847</td>\n",
              "      <td>-0.709441</td>\n",
              "      <td>0.182893</td>\n",
              "      <td>0.003951</td>\n",
              "    </tr>\n",
              "    <tr>\n",
              "      <th>75%</th>\n",
              "      <td>0.288526</td>\n",
              "      <td>-0.010920</td>\n",
              "      <td>-0.098163</td>\n",
              "      <td>-0.242130</td>\n",
              "      <td>-0.034499</td>\n",
              "      <td>-0.262690</td>\n",
              "      <td>-0.291138</td>\n",
              "      <td>-0.068857</td>\n",
              "      <td>-0.268539</td>\n",
              "      <td>-0.013690</td>\n",
              "      <td>...</td>\n",
              "      <td>0.288944</td>\n",
              "      <td>-0.127371</td>\n",
              "      <td>-0.501158</td>\n",
              "      <td>0.154985</td>\n",
              "      <td>0.285030</td>\n",
              "      <td>0.499857</td>\n",
              "      <td>0.356236</td>\n",
              "      <td>-0.511330</td>\n",
              "      <td>0.248435</td>\n",
              "      <td>0.111932</td>\n",
              "    </tr>\n",
              "    <tr>\n",
              "      <th>max</th>\n",
              "      <td>1.000000</td>\n",
              "      <td>1.000000</td>\n",
              "      <td>1.000000</td>\n",
              "      <td>1.000000</td>\n",
              "      <td>0.916238</td>\n",
              "      <td>1.000000</td>\n",
              "      <td>1.000000</td>\n",
              "      <td>0.967664</td>\n",
              "      <td>1.000000</td>\n",
              "      <td>1.000000</td>\n",
              "      <td>...</td>\n",
              "      <td>0.946700</td>\n",
              "      <td>0.989538</td>\n",
              "      <td>0.956845</td>\n",
              "      <td>1.000000</td>\n",
              "      <td>1.000000</td>\n",
              "      <td>0.998702</td>\n",
              "      <td>0.996078</td>\n",
              "      <td>0.977344</td>\n",
              "      <td>0.478157</td>\n",
              "      <td>1.000000</td>\n",
              "    </tr>\n",
              "  </tbody>\n",
              "</table>\n",
              "<p>8 rows × 561 columns</p>\n",
              "</div>\n",
              "    <div class=\"colab-df-buttons\">\n",
              "\n",
              "  <div class=\"colab-df-container\">\n",
              "    <button class=\"colab-df-convert\" onclick=\"convertToInteractive('df-3182f306-e429-4f4f-b20f-779cda0bc9e8')\"\n",
              "            title=\"Convert this dataframe to an interactive table.\"\n",
              "            style=\"display:none;\">\n",
              "\n",
              "  <svg xmlns=\"http://www.w3.org/2000/svg\" height=\"24px\" viewBox=\"0 -960 960 960\">\n",
              "    <path d=\"M120-120v-720h720v720H120Zm60-500h600v-160H180v160Zm220 220h160v-160H400v160Zm0 220h160v-160H400v160ZM180-400h160v-160H180v160Zm440 0h160v-160H620v160ZM180-180h160v-160H180v160Zm440 0h160v-160H620v160Z\"/>\n",
              "  </svg>\n",
              "    </button>\n",
              "\n",
              "  <style>\n",
              "    .colab-df-container {\n",
              "      display:flex;\n",
              "      gap: 12px;\n",
              "    }\n",
              "\n",
              "    .colab-df-convert {\n",
              "      background-color: #E8F0FE;\n",
              "      border: none;\n",
              "      border-radius: 50%;\n",
              "      cursor: pointer;\n",
              "      display: none;\n",
              "      fill: #1967D2;\n",
              "      height: 32px;\n",
              "      padding: 0 0 0 0;\n",
              "      width: 32px;\n",
              "    }\n",
              "\n",
              "    .colab-df-convert:hover {\n",
              "      background-color: #E2EBFA;\n",
              "      box-shadow: 0px 1px 2px rgba(60, 64, 67, 0.3), 0px 1px 3px 1px rgba(60, 64, 67, 0.15);\n",
              "      fill: #174EA6;\n",
              "    }\n",
              "\n",
              "    .colab-df-buttons div {\n",
              "      margin-bottom: 4px;\n",
              "    }\n",
              "\n",
              "    [theme=dark] .colab-df-convert {\n",
              "      background-color: #3B4455;\n",
              "      fill: #D2E3FC;\n",
              "    }\n",
              "\n",
              "    [theme=dark] .colab-df-convert:hover {\n",
              "      background-color: #434B5C;\n",
              "      box-shadow: 0px 1px 3px 1px rgba(0, 0, 0, 0.15);\n",
              "      filter: drop-shadow(0px 1px 2px rgba(0, 0, 0, 0.3));\n",
              "      fill: #FFFFFF;\n",
              "    }\n",
              "  </style>\n",
              "\n",
              "    <script>\n",
              "      const buttonEl =\n",
              "        document.querySelector('#df-3182f306-e429-4f4f-b20f-779cda0bc9e8 button.colab-df-convert');\n",
              "      buttonEl.style.display =\n",
              "        google.colab.kernel.accessAllowed ? 'block' : 'none';\n",
              "\n",
              "      async function convertToInteractive(key) {\n",
              "        const element = document.querySelector('#df-3182f306-e429-4f4f-b20f-779cda0bc9e8');\n",
              "        const dataTable =\n",
              "          await google.colab.kernel.invokeFunction('convertToInteractive',\n",
              "                                                    [key], {});\n",
              "        if (!dataTable) return;\n",
              "\n",
              "        const docLinkHtml = 'Like what you see? Visit the ' +\n",
              "          '<a target=\"_blank\" href=https://colab.research.google.com/notebooks/data_table.ipynb>data table notebook</a>'\n",
              "          + ' to learn more about interactive tables.';\n",
              "        element.innerHTML = '';\n",
              "        dataTable['output_type'] = 'display_data';\n",
              "        await google.colab.output.renderOutput(dataTable, element);\n",
              "        const docLink = document.createElement('div');\n",
              "        docLink.innerHTML = docLinkHtml;\n",
              "        element.appendChild(docLink);\n",
              "      }\n",
              "    </script>\n",
              "  </div>\n",
              "\n",
              "\n",
              "<div id=\"df-6427b06b-019f-44e1-a49e-364b80775a1e\">\n",
              "  <button class=\"colab-df-quickchart\" onclick=\"quickchart('df-6427b06b-019f-44e1-a49e-364b80775a1e')\"\n",
              "            title=\"Suggest charts\"\n",
              "            style=\"display:none;\">\n",
              "\n",
              "<svg xmlns=\"http://www.w3.org/2000/svg\" height=\"24px\"viewBox=\"0 0 24 24\"\n",
              "     width=\"24px\">\n",
              "    <g>\n",
              "        <path d=\"M19 3H5c-1.1 0-2 .9-2 2v14c0 1.1.9 2 2 2h14c1.1 0 2-.9 2-2V5c0-1.1-.9-2-2-2zM9 17H7v-7h2v7zm4 0h-2V7h2v10zm4 0h-2v-4h2v4z\"/>\n",
              "    </g>\n",
              "</svg>\n",
              "  </button>\n",
              "\n",
              "<style>\n",
              "  .colab-df-quickchart {\n",
              "      --bg-color: #E8F0FE;\n",
              "      --fill-color: #1967D2;\n",
              "      --hover-bg-color: #E2EBFA;\n",
              "      --hover-fill-color: #174EA6;\n",
              "      --disabled-fill-color: #AAA;\n",
              "      --disabled-bg-color: #DDD;\n",
              "  }\n",
              "\n",
              "  [theme=dark] .colab-df-quickchart {\n",
              "      --bg-color: #3B4455;\n",
              "      --fill-color: #D2E3FC;\n",
              "      --hover-bg-color: #434B5C;\n",
              "      --hover-fill-color: #FFFFFF;\n",
              "      --disabled-bg-color: #3B4455;\n",
              "      --disabled-fill-color: #666;\n",
              "  }\n",
              "\n",
              "  .colab-df-quickchart {\n",
              "    background-color: var(--bg-color);\n",
              "    border: none;\n",
              "    border-radius: 50%;\n",
              "    cursor: pointer;\n",
              "    display: none;\n",
              "    fill: var(--fill-color);\n",
              "    height: 32px;\n",
              "    padding: 0;\n",
              "    width: 32px;\n",
              "  }\n",
              "\n",
              "  .colab-df-quickchart:hover {\n",
              "    background-color: var(--hover-bg-color);\n",
              "    box-shadow: 0 1px 2px rgba(60, 64, 67, 0.3), 0 1px 3px 1px rgba(60, 64, 67, 0.15);\n",
              "    fill: var(--button-hover-fill-color);\n",
              "  }\n",
              "\n",
              "  .colab-df-quickchart-complete:disabled,\n",
              "  .colab-df-quickchart-complete:disabled:hover {\n",
              "    background-color: var(--disabled-bg-color);\n",
              "    fill: var(--disabled-fill-color);\n",
              "    box-shadow: none;\n",
              "  }\n",
              "\n",
              "  .colab-df-spinner {\n",
              "    border: 2px solid var(--fill-color);\n",
              "    border-color: transparent;\n",
              "    border-bottom-color: var(--fill-color);\n",
              "    animation:\n",
              "      spin 1s steps(1) infinite;\n",
              "  }\n",
              "\n",
              "  @keyframes spin {\n",
              "    0% {\n",
              "      border-color: transparent;\n",
              "      border-bottom-color: var(--fill-color);\n",
              "      border-left-color: var(--fill-color);\n",
              "    }\n",
              "    20% {\n",
              "      border-color: transparent;\n",
              "      border-left-color: var(--fill-color);\n",
              "      border-top-color: var(--fill-color);\n",
              "    }\n",
              "    30% {\n",
              "      border-color: transparent;\n",
              "      border-left-color: var(--fill-color);\n",
              "      border-top-color: var(--fill-color);\n",
              "      border-right-color: var(--fill-color);\n",
              "    }\n",
              "    40% {\n",
              "      border-color: transparent;\n",
              "      border-right-color: var(--fill-color);\n",
              "      border-top-color: var(--fill-color);\n",
              "    }\n",
              "    60% {\n",
              "      border-color: transparent;\n",
              "      border-right-color: var(--fill-color);\n",
              "    }\n",
              "    80% {\n",
              "      border-color: transparent;\n",
              "      border-right-color: var(--fill-color);\n",
              "      border-bottom-color: var(--fill-color);\n",
              "    }\n",
              "    90% {\n",
              "      border-color: transparent;\n",
              "      border-bottom-color: var(--fill-color);\n",
              "    }\n",
              "  }\n",
              "</style>\n",
              "\n",
              "  <script>\n",
              "    async function quickchart(key) {\n",
              "      const quickchartButtonEl =\n",
              "        document.querySelector('#' + key + ' button');\n",
              "      quickchartButtonEl.disabled = true;  // To prevent multiple clicks.\n",
              "      quickchartButtonEl.classList.add('colab-df-spinner');\n",
              "      try {\n",
              "        const charts = await google.colab.kernel.invokeFunction(\n",
              "            'suggestCharts', [key], {});\n",
              "      } catch (error) {\n",
              "        console.error('Error during call to suggestCharts:', error);\n",
              "      }\n",
              "      quickchartButtonEl.classList.remove('colab-df-spinner');\n",
              "      quickchartButtonEl.classList.add('colab-df-quickchart-complete');\n",
              "    }\n",
              "    (() => {\n",
              "      let quickchartButtonEl =\n",
              "        document.querySelector('#df-6427b06b-019f-44e1-a49e-364b80775a1e button');\n",
              "      quickchartButtonEl.style.display =\n",
              "        google.colab.kernel.accessAllowed ? 'block' : 'none';\n",
              "    })();\n",
              "  </script>\n",
              "</div>\n",
              "\n",
              "    </div>\n",
              "  </div>\n"
            ],
            "application/vnd.google.colaboratory.intrinsic+json": {
              "type": "dataframe"
            }
          },
          "metadata": {},
          "execution_count": 161
        }
      ]
    },
    {
      "cell_type": "markdown",
      "source": [
        "## 2.데이터 전처리"
      ],
      "metadata": {
        "id": "O38e5xai7SIW"
      }
    },
    {
      "cell_type": "markdown",
      "source": [
        "* 세부 요구사항\n",
        "    - Label 추가 : 1단계 모델을 위한 레이블 추가\n",
        "    - train : val = 8 : 2 혹은 7 : 3\n",
        "    - random_state 옵션을 사용하여 다른 모델과 비교를 위해 성능이 재현되도록 합니다."
      ],
      "metadata": {
        "id": "5vKH3MU30d8H"
      }
    },
    {
      "cell_type": "markdown",
      "source": [
        "### (1) 1단계 모델링을 위한 레이블"
      ],
      "metadata": {
        "id": "wHxeKHxze2uL"
      }
    },
    {
      "cell_type": "code",
      "source": [
        "data01_train['is_dynamic'] = data01_train['Activity'].apply(lambda x : 0 if x in ['STANDING', 'SITTING', 'LAYING'] else 1)"
      ],
      "metadata": {
        "id": "bT3ScKtUe76_"
      },
      "execution_count": 162,
      "outputs": []
    },
    {
      "cell_type": "markdown",
      "source": [
        "### (2) x, y 분리"
      ],
      "metadata": {
        "id": "uAsBmDupKQX8"
      }
    },
    {
      "cell_type": "code",
      "source": [
        "target = 'is_dynamic'\n",
        "x = data01_train.drop(['Activity',target], axis = 1)\n",
        "y = data01_train.loc[:, target]\n",
        "activity_name = data01_train['Activity']"
      ],
      "metadata": {
        "id": "JVOseiQLKMoq"
      },
      "execution_count": 163,
      "outputs": []
    },
    {
      "cell_type": "markdown",
      "source": [
        "### (3) 스케일링\n"
      ],
      "metadata": {
        "id": "A8hxVzM3Agvw"
      }
    },
    {
      "cell_type": "markdown",
      "source": [
        "* 세부 요구사항\n",
        "    - 스케일링을 필요로 하는 알고리즘 사용을 위해서 코드 수행\n",
        "    - min-max 방식 혹은 standard 방식 중 한가지 사용."
      ],
      "metadata": {
        "id": "8OHAQJ9HJZP8"
      }
    },
    {
      "cell_type": "code",
      "source": [
        "x_col_name = x.columns\n",
        "\n",
        "scaler = StandardScaler()\n",
        "x = scaler.fit_transform(x)"
      ],
      "metadata": {
        "id": "egLANGC5BMmk"
      },
      "execution_count": 164,
      "outputs": []
    },
    {
      "cell_type": "markdown",
      "source": [
        "### (4) 데이터 분할\n",
        "* train, val 분할"
      ],
      "metadata": {
        "id": "TH_rqRv6jA9V"
      }
    },
    {
      "cell_type": "code",
      "source": [
        "x_train, x_val, y_train, y_val = train_test_split(x, y, test_size = 0.2, random_state = 42)"
      ],
      "metadata": {
        "id": "EATFZQZpx5yR"
      },
      "execution_count": 165,
      "outputs": []
    },
    {
      "cell_type": "markdown",
      "source": [
        "## **3.단계별 모델링**"
      ],
      "metadata": {
        "id": "bue7ZTLABQzi"
      }
    },
    {
      "cell_type": "markdown",
      "source": [
        "### (1) 단계1"
      ],
      "metadata": {
        "id": "fCpsgFz40pJ3"
      }
    },
    {
      "cell_type": "markdown",
      "source": [
        "* 세부 요구사항\n",
        "    * 적절한 단계로 구분한 후, 1단계를 분류하는 모델 생성\n",
        "        * 예시 : 정적 행동(Laying, Sitting, Standing)과 동적 행동(동적 : Walking, Walking-Up, Walking-Down)을 구분하는 모델 생성.\n",
        "    * 몇 가지 모델을 만들고 가장 성능이 좋은 모델을 선정하시오."
      ],
      "metadata": {
        "id": "JtwoYR2e0pJ3"
      }
    },
    {
      "cell_type": "markdown",
      "source": [
        "#### 1) 모델1"
      ],
      "metadata": {
        "id": "cWYtB_nUD6zu"
      }
    },
    {
      "cell_type": "code",
      "source": [
        "nfeatures = x_train.shape[1]\n",
        "#clear_session()\n",
        "\n",
        "model_1 = Sequential([Input(shape=(nfeatures,)),\n",
        "                    Dense(1, activation='sigmoid')])\n",
        "model_1.compile(optimizer = Adam(learning_rate = 0.001), loss = 'binary_crossentropy', metrics = ['accuracy'])\n",
        "hist = model_1.fit(x_train, y_train, epochs = 50, validation_split = 0.2, verbose = 0).history\n",
        "print(dl_history_plot(hist))\n",
        "\n",
        "pred_1 = model_1.predict(x_val)\n",
        "pred_1 = np.where(pred_1 > 0.5, 1, 0)\n",
        "\n",
        "print(confusion_matrix(y_val, pred_1))\n",
        "print(classification_report(y_val, pred_1))"
      ],
      "metadata": {
        "id": "6lV2HRaPf4k8",
        "colab": {
          "base_uri": "https://localhost:8080/",
          "height": 778
        },
        "outputId": "d6aa6bdb-697f-4d65-b74e-1cba54fed523"
      },
      "execution_count": 166,
      "outputs": [
        {
          "output_type": "display_data",
          "data": {
            "text/plain": [
              "<Figure size 1000x600 with 1 Axes>"
            ],
            "image/png": "[encoded data removed]"
          },
          "metadata": {}
        },
        {
          "output_type": "stream",
          "name": "stdout",
          "text": [
            "None\n",
            "\u001b[1m37/37\u001b[0m \u001b[32m━━━━━━━━━━━━━━━━━━━━\u001b[0m\u001b[37m\u001b[0m \u001b[1m0s\u001b[0m 2ms/step\n",
            "[[657   0]\n",
            " [  0 520]]\n",
            "              precision    recall  f1-score   support\n",
            "\n",
            "           0       1.00      1.00      1.00       657\n",
            "           1       1.00      1.00      1.00       520\n",
            "\n",
            "    accuracy                           1.00      1177\n",
            "   macro avg       1.00      1.00      1.00      1177\n",
            "weighted avg       1.00      1.00      1.00      1177\n",
            "\n"
          ]
        }
      ]
    },
    {
      "cell_type": "markdown",
      "source": [
        "### (2) 단계2"
      ],
      "metadata": {
        "id": "cK9A9XmW0pJ8"
      }
    },
    {
      "cell_type": "markdown",
      "source": [
        "#### 1) 단계2-1 : 정적 동작 세부 분류"
      ],
      "metadata": {
        "id": "uPFEN7aniicS"
      }
    },
    {
      "cell_type": "markdown",
      "source": [
        "* 세부 요구사항\n",
        "    * 정적 행동(Laying, Sitting, Standing)인 데이터 추출\n",
        "    * Laying, Sitting, Standing 를 분류하는 모델을 생성\n",
        "    * 몇가지 모델을 만들고 가장 성능이 좋은 모델을 선정하시오."
      ],
      "metadata": {
        "id": "S8v3DgDX0pJ8"
      }
    },
    {
      "cell_type": "code",
      "source": [
        "# 정적 데이터 분리 i = 0 -> data_0\n",
        "i = 0\n",
        "data = data01_train\n",
        "globals()[f'data_{i}'] = data[data['is_dynamic'] == i]\n",
        "\n",
        "target = 'Activity'\n",
        "x = globals()[f'data_{i}'].drop(['is_dynamic', target], axis = 1)\n",
        "y = globals()[f'data_{i}'].loc[:, target]\n",
        "\n",
        "# 전처리\n",
        "scaler = StandardScaler()\n",
        "x = scaler.fit_transform(x)\n",
        "\n",
        "encoder_0 = LabelEncoder()\n",
        "y = encoder_0.fit_transform(y)\n",
        "\n",
        "x_train, x_val, y_train, y_val = train_test_split(x, y, test_size = 0.2, random_state = 42)"
      ],
      "metadata": {
        "id": "SK3nW4eiOP1d"
      },
      "execution_count": 174,
      "outputs": []
    },
    {
      "cell_type": "code",
      "source": [
        "# 모델링\n",
        "nfeatures = x_train.shape[1]\n",
        "#clear_session()\n",
        "\n",
        "model_0 = Sequential([Input(shape = (nfeatures, )),\n",
        "                     Dense(128, activation = 'relu'),\n",
        "                     Dropout(0.2),\n",
        "                     Dense(64, activation = 'relu'),\n",
        "                     Dropout(0.2),\n",
        "                     Dense(32, activation = 'relu'),\n",
        "                     Dropout(0.2),\n",
        "                     Dense(3, activation = 'softmax')])\n",
        "model_0.compile(optimizer=Adam(learning_rate = 0.001), loss='sparse_categorical_crossentropy')\n",
        "\n",
        "min_de = 0.001\n",
        "pat = 7\n",
        "\n",
        "es = EarlyStopping(monitor = 'val_loss', min_delta = min_de, patience = pat)\n",
        "\n",
        "hist3 = model_0.fit(x_train, y_train, epochs = 100, validation_split = .2, verbose = 0, callbacks = [es]).history\n",
        "print(dl_history_plot(hist3))\n",
        "\n",
        "# 성능\n",
        "pred = model_0.predict(x_val)\n",
        "pred = np.argmax(pred, axis = 1)\n",
        "\n",
        "print('accuracy :',accuracy_score(y_val, pred))\n",
        "print('='*60)\n",
        "print(confusion_matrix(y_val, pred))\n",
        "print('='*60)\n",
        "print(classification_report(y_val, pred, digits = 4, target_names = encoder_0.classes_))"
      ],
      "metadata": {
        "colab": {
          "base_uri": "https://localhost:8080/",
          "height": 869
        },
        "id": "WfbObjLqNU86",
        "outputId": "667b30ee-8892-424d-e4c6-526db3e7c5f1"
      },
      "execution_count": 175,
      "outputs": [
        {
          "output_type": "display_data",
          "data": {
            "text/plain": [
              "<Figure size 1000x600 with 1 Axes>"
            ],
            "image/png": "[encoded data removed]"
          },
          "metadata": {}
        },
        {
          "output_type": "stream",
          "name": "stdout",
          "text": [
            "None\n",
            "\u001b[1m21/21\u001b[0m \u001b[32m━━━━━━━━━━━━━━━━━━━━\u001b[0m\u001b[37m\u001b[0m \u001b[1m0s\u001b[0m 4ms/step\n",
            "accuracy : 0.9489953632148377\n",
            "============================================================\n",
            "[[219   2   0]\n",
            " [  2 188  15]\n",
            " [  1  13 207]]\n",
            "============================================================\n",
            "              precision    recall  f1-score   support\n",
            "\n",
            "      LAYING     0.9865    0.9910    0.9887       221\n",
            "     SITTING     0.9261    0.9171    0.9216       205\n",
            "    STANDING     0.9324    0.9367    0.9345       221\n",
            "\n",
            "    accuracy                         0.9490       647\n",
            "   macro avg     0.9483    0.9482    0.9483       647\n",
            "weighted avg     0.9489    0.9490    0.9489       647\n",
            "\n"
          ]
        }
      ]
    },
    {
      "cell_type": "markdown",
      "source": [
        "#### 2) 단계2-2 : 동적 동작 세부 분류"
      ],
      "metadata": {
        "id": "WFaqIRAy0pJ-"
      }
    },
    {
      "cell_type": "markdown",
      "source": [
        "* 세부 요구사항\n",
        "    * 동동적 행동(Walking, Walking Upstairs, Walking Downstairs)인 데이터 추출\n",
        "    * Walking, Walking Upstairs, Walking Downstairs 를 분류하는 모델을 생성\n",
        "    * 몇가지 모델을 만들고 가장 성능이 좋은 모델을 선정하시오."
      ],
      "metadata": {
        "id": "dwGTMsJ60pJ-"
      }
    },
    {
      "cell_type": "code",
      "source": [
        "# 동적 데이터 분리 i = 1 -> data_1\n",
        "i = 1\n",
        "data = data01_train\n",
        "globals()[f'data_{i}'] = data[data['is_dynamic'] == i]\n",
        "\n",
        "target = 'Activity'\n",
        "x = globals()[f'data_{i}'].drop(['is_dynamic', target], axis = 1)\n",
        "y = globals()[f'data_{i}'].loc[:, target]\n",
        "\n",
        "# 전처리\n",
        "scaler = StandardScaler()\n",
        "x = scaler.fit_transform(x)\n",
        "\n",
        "encoder_1 = LabelEncoder()\n",
        "y = encoder_1.fit_transform(y)\n",
        "\n",
        "x_train, x_val, y_train, y_val = train_test_split(x, y, test_size = 0.2, random_state = 42)"
      ],
      "metadata": {
        "id": "tfLclxZB00V9"
      },
      "execution_count": 172,
      "outputs": []
    },
    {
      "cell_type": "code",
      "source": [
        "# 모델링\n",
        "nfeatures = x_train.shape[1]\n",
        "#clear_session()\n",
        "\n",
        "model_1 = Sequential([Input(shape = (nfeatures, )),\n",
        "                     Dense(128, activation = 'relu'),\n",
        "                     Dropout(0.2),\n",
        "                     Dense(64, activation = 'relu'),\n",
        "                     Dropout(0.2),\n",
        "                     Dense(32, activation = 'relu'),\n",
        "                     Dropout(0.2),\n",
        "                     Dense(3, activation = 'softmax')])\n",
        "model_1.compile(optimizer=Adam(learning_rate = 0.001), loss='sparse_categorical_crossentropy')\n",
        "\n",
        "min_de = 0.001\n",
        "pat = 7\n",
        "\n",
        "es = EarlyStopping(monitor = 'val_loss', min_delta = min_de, patience = pat)\n",
        "\n",
        "hist3 = model_1.fit(x_train, y_train, epochs = 100, validation_split = .2, verbose = 0, callbacks = [es]).history\n",
        "print(dl_history_plot(hist3))\n",
        "\n",
        "# 성능\n",
        "pred = model_1.predict(x_val)\n",
        "pred = np.argmax(pred, axis = 1)\n",
        "\n",
        "print('accuracy :',accuracy_score(y_val, pred))\n",
        "print('='*60)\n",
        "print(confusion_matrix(y_val, pred))\n",
        "print('='*60)\n",
        "print(classification_report(y_val, pred, digits = 4, target_names = encoder_1.classes_))"
      ],
      "metadata": {
        "id": "ErvefaZL00SZ",
        "colab": {
          "base_uri": "https://localhost:8080/",
          "height": 869
        },
        "outputId": "d04e0bce-378a-4055-ef62-1a066aa129a5"
      },
      "execution_count": 173,
      "outputs": [
        {
          "output_type": "display_data",
          "data": {
            "text/plain": [
              "<Figure size 1000x600 with 1 Axes>"
            ],
            "image/png": "[encoded data removed]"
          },
          "metadata": {}
        },
        {
          "output_type": "stream",
          "name": "stdout",
          "text": [
            "None\n",
            "\u001b[1m17/17\u001b[0m \u001b[32m━━━━━━━━━━━━━━━━━━━━\u001b[0m\u001b[37m\u001b[0m \u001b[1m0s\u001b[0m 5ms/step\n",
            "accuracy : 0.9943396226415094\n",
            "============================================================\n",
            "[[194   1   1]\n",
            " [  0 163   0]\n",
            " [  0   1 170]]\n",
            "============================================================\n",
            "                    precision    recall  f1-score   support\n",
            "\n",
            "           WALKING     1.0000    0.9898    0.9949       196\n",
            "WALKING_DOWNSTAIRS     0.9879    1.0000    0.9939       163\n",
            "  WALKING_UPSTAIRS     0.9942    0.9942    0.9942       171\n",
            "\n",
            "          accuracy                         0.9943       530\n",
            "         macro avg     0.9940    0.9946    0.9943       530\n",
            "      weighted avg     0.9944    0.9943    0.9943       530\n",
            "\n"
          ]
        }
      ]
    },
    {
      "cell_type": "code",
      "source": [
        "path = '/content/drive/MyDrive/project3/'\n",
        "model_0.save(path +'best_model_0.keras')\n",
        "model_1.save(path +'best_model_1.keras')"
      ],
      "metadata": {
        "id": "FAmaPBR8LObQ"
      },
      "execution_count": null,
      "outputs": []
    },
    {
      "cell_type": "markdown",
      "source": [
        "### (3) 분류 모델 파이프라인 구성\n"
      ],
      "metadata": {
        "id": "G0vxLxBy1MHk"
      }
    },
    {
      "cell_type": "markdown",
      "source": [
        "* 세부 요구사항\n",
        "    * 두 단계 모델을 통합하고, 새로운 데이터(test)에 대해서 최종 예측결과와 성능평가가 나오도록 함수로 만들기\n",
        "    * 데이터 파이프라인 구축 : test데이터가 로딩되어 전처리 과정을 거치고, 예측 및 성능 평가 수행"
      ],
      "metadata": {
        "id": "6ypgwVbm1MHl"
      }
    },
    {
      "cell_type": "markdown",
      "source": [
        "* 예시\n",
        "![](https://github.com/DA4BAM/image/blob/main/pipeline%20function.png?raw=true)"
      ],
      "metadata": {
        "id": "J6mVuIA51MHm"
      }
    },
    {
      "cell_type": "markdown",
      "source": [
        "#### 1) 함수 만들기"
      ],
      "metadata": {
        "id": "Re6LpNYhi5d3"
      }
    },
    {
      "cell_type": "code",
      "source": [
        "import tensorflow as tf\n",
        "model_0 = tf.keras.models.load_model(path +'best_model_0.keras')\n",
        "model_1 = tf.keras.models.load_model(path +'best_model_1.keras')"
      ],
      "metadata": {
        "id": "o_wN5Z8rH68t"
      },
      "execution_count": 195,
      "outputs": []
    },
    {
      "cell_type": "code",
      "source": [
        "# 데이터 불러오기\n",
        "data01_train = pd.read_csv(path + 'data01_train.csv')\n",
        "data01_test = pd.read_csv(path + 'data01_test.csv')"
      ],
      "metadata": {
        "id": "c-qdySwmK2sH"
      },
      "execution_count": 196,
      "outputs": []
    },
    {
      "cell_type": "code",
      "source": [
        "def pipeline(data01_train, data01_test):\n",
        "\n",
        "  # 컬럼 제거\n",
        "  data01_train.drop('subject', axis = 1, inplace = True)\n",
        "  data01_test.drop('subject', axis = 1, inplace = True)\n",
        "\n",
        "  # 정적, 동적 레이블\n",
        "  data01_train['is_dynamic'] = data01_train['Activity'].apply(lambda x : 0 if x in ['STANDING', 'SITTING', 'LAYING'] else 1)\n",
        "  data01_test['is_dynamic'] = data01_test['Activity'].apply(lambda x : 0 if x in ['STANDING', 'SITTING', 'LAYING'] else 1)\n",
        "\n",
        "  # x, y 분리\n",
        "  target = 'is_dynamic'\n",
        "  x_train = data01_train.drop(['Activity',target], axis = 1)\n",
        "  y_train = data01_train.loc[:, target]\n",
        "\n",
        "  x_test = data01_test.drop(['Activity',target], axis = 1)\n",
        "  y_test = data01_test.loc[:, target]\n",
        "\n",
        "  x_col_name = x_test.columns\n",
        "  test_activity = data01_test['Activity']\n",
        "\n",
        "  # 스케일링\n",
        "  scaler = StandardScaler()\n",
        "  x_train = scaler.fit_transform(x_train)\n",
        "\n",
        "  scaler = StandardScaler()\n",
        "  x_test = scaler.fit_transform(x_test)\n",
        "\n",
        "  #------------1단계 모델링------------#\n",
        "  nfeatures = x_train.shape[1]\n",
        "\n",
        "  model = Sequential([Input(shape=(nfeatures,)),\n",
        "                      Dense(1, activation='sigmoid')])\n",
        "  model.compile(optimizer = Adam(learning_rate = 0.001), loss = 'binary_crossentropy', metrics = ['accuracy'])\n",
        "  model.fit(x_train, y_train, epochs = 50, validation_split = 0.2, verbose = 0)\n",
        "\n",
        "  pred = model.predict(x_test)\n",
        "  pred = np.where(pred > 0.5, 1, 0)\n",
        "\n",
        "  #------------test data 데이터프레임 재생성------------#\n",
        "  x_test = pd.DataFrame(x_test, columns = x_col_name)\n",
        "  activity = pd.DataFrame(test_activity, columns = ['Activity'])\n",
        "  pred = pd.DataFrame(pred, columns = ['is_dynamic'])\n",
        "  data = pd.concat([x_test, activity], axis = 1)\n",
        "  data = pd.concat([data, pred], axis = 1)\n",
        "\n",
        "  #------------2단계 모델링------------#\n",
        "  # 정적(0), 동적(1) 데이터 분리\n",
        "  data_0 = data[data['is_dynamic'] == 0]\n",
        "  idx_0 = data[data['is_dynamic'] == 0].index\n",
        "  x_0 = data_0.drop(['is_dynamic','Activity'], axis = 1)\n",
        "  y_0 = data_0.loc[:, 'Activity']\n",
        "  y_0 = encoder_0.transform(y_0)\n",
        "\n",
        "  data_1 = data[data['is_dynamic'] == 1]\n",
        "  idx_1 = data[data['is_dynamic'] == 1].index\n",
        "  x_1 = data_1.drop(['is_dynamic','Activity'], axis = 1)\n",
        "  y_1 = data_1.loc[:, 'Activity']\n",
        "  y_1 = encoder_1.transform(y_1)\n",
        "\n",
        "  # 정적(0) 성능\n",
        "  pred_0 = model_0.predict(x_0)\n",
        "  pred_0 = np.argmax(pred_0, axis = 1)\n",
        "\n",
        "  result = []\n",
        "  result.append(accuracy_score(y_0, pred_0))\n",
        "  result.append(confusion_matrix(y_0, pred_0))\n",
        "  result.append(classification_report(y_0, pred_0, digits = 4, target_names = encoder_0.classes_))\n",
        "\n",
        "  # 동적(1) 성능\n",
        "  pred_1 = model_1.predict(x_1)\n",
        "  pred_1 = np.argmax(pred_1, axis = 1)\n",
        "\n",
        "  result.append(accuracy_score(y_1, pred_1))\n",
        "  result.append(confusion_matrix(y_1, pred_1))\n",
        "  result.append(classification_report(y_1, pred_1, digits = 4, target_names = encoder_1.classes_))\n",
        "\n",
        "  return result"
      ],
      "metadata": {
        "id": "naRE85vFYx5G"
      },
      "execution_count": 197,
      "outputs": []
    },
    {
      "cell_type": "markdown",
      "source": [
        "#### 2) test 셋으로 예측하고 평가하기"
      ],
      "metadata": {
        "id": "pk2Efe1K1MHn"
      }
    },
    {
      "cell_type": "code",
      "source": [
        "result = pipeline(data01_train, data01_test)"
      ],
      "metadata": {
        "colab": {
          "base_uri": "https://localhost:8080/"
        },
        "id": "RMZ_IujnLm3Q",
        "outputId": "a56e211d-f0fd-4265-b764-fc4cf8d28de9"
      },
      "execution_count": 198,
      "outputs": [
        {
          "output_type": "stream",
          "name": "stdout",
          "text": [
            "\u001b[1m46/46\u001b[0m \u001b[32m━━━━━━━━━━━━━━━━━━━━\u001b[0m\u001b[37m\u001b[0m \u001b[1m0s\u001b[0m 2ms/step\n",
            "\u001b[1m27/27\u001b[0m \u001b[32m━━━━━━━━━━━━━━━━━━━━\u001b[0m\u001b[37m\u001b[0m \u001b[1m0s\u001b[0m 4ms/step\n",
            "\u001b[1m20/20\u001b[0m \u001b[32m━━━━━━━━━━━━━━━━━━━━\u001b[0m\u001b[37m\u001b[0m \u001b[1m0s\u001b[0m 5ms/step\n"
          ]
        }
      ]
    },
    {
      "cell_type": "code",
      "source": [
        "# 정적(0) 결과\n",
        "print(result[0])\n",
        "print(result[1])\n",
        "print(result[2])\n",
        "print('-'*60)\n",
        "# 동적(1) 결과\n",
        "print(result[3])\n",
        "print(result[4])\n",
        "print(result[5])"
      ],
      "metadata": {
        "id": "ApfVsX_Zzr7r",
        "colab": {
          "base_uri": "https://localhost:8080/"
        },
        "outputId": "cb830eec-aed3-4515-f6c0-bc9349fe627f"
      },
      "execution_count": 200,
      "outputs": [
        {
          "output_type": "stream",
          "name": "stdout",
          "text": [
            "0.8139255702280912\n",
            "[[290   2   0]\n",
            " [  1 252   1]\n",
            " [  0 151 136]]\n",
            "              precision    recall  f1-score   support\n",
            "\n",
            "      LAYING     0.9966    0.9932    0.9949       292\n",
            "     SITTING     0.6222    0.9921    0.7648       254\n",
            "    STANDING     0.9927    0.4739    0.6415       287\n",
            "\n",
            "    accuracy                         0.8139       833\n",
            "   macro avg     0.8705    0.8197    0.8004       833\n",
            "weighted avg     0.8811    0.8139    0.8030       833\n",
            "\n",
            "------------------------------------------------------------\n",
            "0.9153605015673981\n",
            "[[181  22  25]\n",
            " [  0 195   0]\n",
            " [  0   7 208]]\n",
            "                    precision    recall  f1-score   support\n",
            "\n",
            "           WALKING     1.0000    0.7939    0.8851       228\n",
            "WALKING_DOWNSTAIRS     0.8705    1.0000    0.9308       195\n",
            "  WALKING_UPSTAIRS     0.8927    0.9674    0.9286       215\n",
            "\n",
            "          accuracy                         0.9154       638\n",
            "         macro avg     0.9211    0.9204    0.9148       638\n",
            "      weighted avg     0.9243    0.9154    0.9137       638\n",
            "\n"
          ]
        }
      ]
    }
  ]
}