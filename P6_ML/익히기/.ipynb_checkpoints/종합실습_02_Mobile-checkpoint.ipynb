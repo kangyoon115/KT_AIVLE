{
 "cells": [
  {
   "cell_type": "markdown",
   "metadata": {
    "id": "y1J78TFSRrSA"
   },
   "source": [
    "<center><img src='https://raw.githubusercontent.com/Jangrae/img/master/ml_python.png' width=600/></center>"
   ]
  },
  {
   "cell_type": "markdown",
   "metadata": {
    "id": "EsSvfM_vOrLo"
   },
   "source": [
    "<img src = \"https://github.com/Jangrae/img/blob/master/mobile2.png?raw=true\" width=800 align=\"left\"/>"
   ]
  },
  {
   "cell_type": "markdown",
   "metadata": {
    "id": "elUlK1gCJHGh"
   },
   "source": [
    "# 실습 내용\n",
    "\n",
    "- 여러 알고리즘으로 만든 모델의 성능을 교차 검증을 통해 예측해 봅니다.\n",
    "- 성능이 좋을 것으로 예상되는 알고리즘으로 최적화된 성능의 모델을 만듭니다.\n",
    "- 튜닝된 모델의 성능을 평가합니다."
   ]
  },
  {
   "cell_type": "markdown",
   "metadata": {
    "id": "IciCQGJy5PO-"
   },
   "source": [
    "# 1.환경 준비\n",
    "\n",
    "- 기본 라이브러리와 대상 데이터를 가져와 이후 과정을 준비합니다."
   ]
  },
  {
   "cell_type": "code",
   "execution_count": 5,
   "metadata": {
    "executionInfo": {
     "elapsed": 2231,
     "status": "ok",
     "timestamp": 1710481680146,
     "user": {
      "displayName": "Jangrae Lee",
      "userId": "08475661575434032088"
     },
     "user_tz": -540
    },
    "id": "jB0l6oqDsG8B"
   },
   "outputs": [],
   "source": [
    "# 라이브러리 불러오기\n",
    "import numpy as np\n",
    "import pandas as pd\n",
    "import matplotlib.pyplot as plt\n",
    "import seaborn as sns\n",
    "import warnings\n",
    "\n",
    "warnings.filterwarnings(action='ignore')\n",
    "%config InlineBackend.figure_format = 'retina'"
   ]
  },
  {
   "cell_type": "code",
   "execution_count": 6,
   "metadata": {
    "executionInfo": {
     "elapsed": 4,
     "status": "ok",
     "timestamp": 1710481680146,
     "user": {
      "displayName": "Jangrae Lee",
      "userId": "08475661575434032088"
     },
     "user_tz": -540
    },
    "id": "PXqyu_0LsG8C"
   },
   "outputs": [],
   "source": [
    "# 데이터 불러오기\n",
    "path = 'https://raw.githubusercontent.com/jangrae/csv/master/mobile_cust_churn.csv'\n",
    "data = pd.read_csv(path)\n",
    "data['CHURN'] = data['CHURN'].map({'STAY':0, 'LEAVE': 1})"
   ]
  },
  {
   "cell_type": "markdown",
   "metadata": {
    "id": "hDHOQrUbNGSK"
   },
   "source": [
    "# 2.데이터 이해\n",
    "\n",
    "- 분석할 데이터를 충분히 이해할 수 있도록 다양한 탐색 과정을 수행합니다."
   ]
  },
  {
   "cell_type": "markdown",
   "metadata": {
    "id": "O7_oXbtAOrLs"
   },
   "source": [
    "**데이터 설명**\n",
    "\n",
    "- COLLEGE: 대학 졸업여부\n",
    "- INCOME: 연수입\n",
    "- OVERAGE: 월평균 초과사용 시간(분)\n",
    "- LEFTOVER: 월평균 잔여시간비율(%)\n",
    "- HOUSE: 집값\n",
    "- HANDSET_PRICE: 스마트폰 가격\n",
    "- OVER_15MINS_CALLS_PER_MONTH: 월평균 장기통화(15분이상) 횟수\n",
    "- AVERAGE_CALL_DURATION: 평균 통화 시간\n",
    "- REPORTED_SATISFACTION: 만족도 설문조사 결과\n",
    "- REPORTED_USAGE_LEVEL: 사용도 자가진단 결과\n",
    "- CONSIDERING_CHANGE_OF_PLAN: 향후 변경계획 설문조사 결과\n",
    "- **CHURN: 이탈(번호이동) 여부**"
   ]
  },
  {
   "cell_type": "code",
   "execution_count": 9,
   "metadata": {
    "colab": {
     "base_uri": "https://localhost:8080/",
     "height": 226
    },
    "executionInfo": {
     "elapsed": 855,
     "status": "ok",
     "timestamp": 1710481680997,
     "user": {
      "displayName": "Jangrae Lee",
      "userId": "08475661575434032088"
     },
     "user_tz": -540
    },
    "id": "Z1ahypi3irLz",
    "outputId": "30c3eb8c-c52c-4821-9797-cac02f42a038"
   },
   "outputs": [
    {
     "data": {
      "text/html": [
       "<div>\n",
       "<style scoped>\n",
       "    .dataframe tbody tr th:only-of-type {\n",
       "        vertical-align: middle;\n",
       "    }\n",
       "\n",
       "    .dataframe tbody tr th {\n",
       "        vertical-align: top;\n",
       "    }\n",
       "\n",
       "    .dataframe thead th {\n",
       "        text-align: right;\n",
       "    }\n",
       "</style>\n",
       "<table border=\"1\" class=\"dataframe\">\n",
       "  <thead>\n",
       "    <tr style=\"text-align: right;\">\n",
       "      <th></th>\n",
       "      <th>id</th>\n",
       "      <th>COLLEGE</th>\n",
       "      <th>INCOME</th>\n",
       "      <th>OVERAGE</th>\n",
       "      <th>LEFTOVER</th>\n",
       "      <th>HOUSE</th>\n",
       "      <th>HANDSET_PRICE</th>\n",
       "      <th>OVER_15MINS_CALLS_PER_MONTH</th>\n",
       "      <th>AVERAGE_CALL_DURATION</th>\n",
       "      <th>REPORTED_SATISFACTION</th>\n",
       "      <th>REPORTED_USAGE_LEVEL</th>\n",
       "      <th>CONSIDERING_CHANGE_OF_PLAN</th>\n",
       "      <th>CHURN</th>\n",
       "    </tr>\n",
       "  </thead>\n",
       "  <tbody>\n",
       "    <tr>\n",
       "      <th>0</th>\n",
       "      <td>1</td>\n",
       "      <td>0</td>\n",
       "      <td>31953</td>\n",
       "      <td>0</td>\n",
       "      <td>6</td>\n",
       "      <td>313378</td>\n",
       "      <td>161</td>\n",
       "      <td>0</td>\n",
       "      <td>4</td>\n",
       "      <td>unsat</td>\n",
       "      <td>little</td>\n",
       "      <td>no</td>\n",
       "      <td>0</td>\n",
       "    </tr>\n",
       "    <tr>\n",
       "      <th>1</th>\n",
       "      <td>2</td>\n",
       "      <td>1</td>\n",
       "      <td>36147</td>\n",
       "      <td>0</td>\n",
       "      <td>13</td>\n",
       "      <td>800586</td>\n",
       "      <td>244</td>\n",
       "      <td>0</td>\n",
       "      <td>6</td>\n",
       "      <td>unsat</td>\n",
       "      <td>little</td>\n",
       "      <td>considering</td>\n",
       "      <td>0</td>\n",
       "    </tr>\n",
       "    <tr>\n",
       "      <th>2</th>\n",
       "      <td>3</td>\n",
       "      <td>1</td>\n",
       "      <td>27273</td>\n",
       "      <td>230</td>\n",
       "      <td>0</td>\n",
       "      <td>305049</td>\n",
       "      <td>201</td>\n",
       "      <td>16</td>\n",
       "      <td>15</td>\n",
       "      <td>unsat</td>\n",
       "      <td>very_little</td>\n",
       "      <td>perhaps</td>\n",
       "      <td>0</td>\n",
       "    </tr>\n",
       "    <tr>\n",
       "      <th>3</th>\n",
       "      <td>4</td>\n",
       "      <td>0</td>\n",
       "      <td>120070</td>\n",
       "      <td>38</td>\n",
       "      <td>33</td>\n",
       "      <td>788235</td>\n",
       "      <td>780</td>\n",
       "      <td>3</td>\n",
       "      <td>2</td>\n",
       "      <td>unsat</td>\n",
       "      <td>very_high</td>\n",
       "      <td>considering</td>\n",
       "      <td>1</td>\n",
       "    </tr>\n",
       "    <tr>\n",
       "      <th>4</th>\n",
       "      <td>5</td>\n",
       "      <td>1</td>\n",
       "      <td>29215</td>\n",
       "      <td>208</td>\n",
       "      <td>85</td>\n",
       "      <td>224784</td>\n",
       "      <td>241</td>\n",
       "      <td>21</td>\n",
       "      <td>1</td>\n",
       "      <td>very_unsat</td>\n",
       "      <td>little</td>\n",
       "      <td>never_thought</td>\n",
       "      <td>0</td>\n",
       "    </tr>\n",
       "  </tbody>\n",
       "</table>\n",
       "</div>"
      ],
      "text/plain": [
       "   id  COLLEGE  INCOME  OVERAGE  LEFTOVER   HOUSE  HANDSET_PRICE  \\\n",
       "0   1        0   31953        0         6  313378            161   \n",
       "1   2        1   36147        0        13  800586            244   \n",
       "2   3        1   27273      230         0  305049            201   \n",
       "3   4        0  120070       38        33  788235            780   \n",
       "4   5        1   29215      208        85  224784            241   \n",
       "\n",
       "   OVER_15MINS_CALLS_PER_MONTH  AVERAGE_CALL_DURATION REPORTED_SATISFACTION  \\\n",
       "0                            0                      4                 unsat   \n",
       "1                            0                      6                 unsat   \n",
       "2                           16                     15                 unsat   \n",
       "3                            3                      2                 unsat   \n",
       "4                           21                      1            very_unsat   \n",
       "\n",
       "  REPORTED_USAGE_LEVEL CONSIDERING_CHANGE_OF_PLAN  CHURN  \n",
       "0               little                         no      0  \n",
       "1               little                considering      0  \n",
       "2          very_little                    perhaps      0  \n",
       "3            very_high                considering      1  \n",
       "4               little              never_thought      0  "
      ]
     },
     "execution_count": 9,
     "metadata": {},
     "output_type": "execute_result"
    }
   ],
   "source": [
    "# 데이터 살펴보기\n",
    "\n",
    "data.head()\n"
   ]
  },
  {
   "cell_type": "code",
   "execution_count": 11,
   "metadata": {
    "colab": {
     "base_uri": "https://localhost:8080/",
     "height": 320
    },
    "executionInfo": {
     "elapsed": 8,
     "status": "ok",
     "timestamp": 1710481680997,
     "user": {
      "displayName": "Jangrae Lee",
      "userId": "08475661575434032088"
     },
     "user_tz": -540
    },
    "id": "HGHlgWSwtSYh",
    "outputId": "197c4077-a07c-4e92-a45d-01d06058cfcf"
   },
   "outputs": [
    {
     "name": "stdout",
     "output_type": "stream",
     "text": [
      "<class 'pandas.core.frame.DataFrame'>\n",
      "RangeIndex: 20000 entries, 0 to 19999\n",
      "Data columns (total 13 columns):\n",
      " #   Column                       Non-Null Count  Dtype \n",
      "---  ------                       --------------  ----- \n",
      " 0   id                           20000 non-null  int64 \n",
      " 1   COLLEGE                      20000 non-null  int64 \n",
      " 2   INCOME                       20000 non-null  int64 \n",
      " 3   OVERAGE                      20000 non-null  int64 \n",
      " 4   LEFTOVER                     20000 non-null  int64 \n",
      " 5   HOUSE                        20000 non-null  int64 \n",
      " 6   HANDSET_PRICE                20000 non-null  int64 \n",
      " 7   OVER_15MINS_CALLS_PER_MONTH  20000 non-null  int64 \n",
      " 8   AVERAGE_CALL_DURATION        20000 non-null  int64 \n",
      " 9   REPORTED_SATISFACTION        20000 non-null  object\n",
      " 10  REPORTED_USAGE_LEVEL         20000 non-null  object\n",
      " 11  CONSIDERING_CHANGE_OF_PLAN   20000 non-null  object\n",
      " 12  CHURN                        20000 non-null  int64 \n",
      "dtypes: int64(10), object(3)\n",
      "memory usage: 2.0+ MB\n"
     ]
    }
   ],
   "source": [
    "# 기술통계 확인\n",
    "\n",
    "\n",
    "data.info()"
   ]
  },
  {
   "cell_type": "markdown",
   "metadata": {},
   "source": [
    "# 변수 관련 정보 확인\n",
    "\n",
    "target=CHURN \n",
    "\n",
    "가변수화 REPORTED_SATISFACTION,REPORTED_USAGE_LEVEL,CONSIDERING_CHANGE_OF_PLAN\n"
   ]
  },
  {
   "cell_type": "markdown",
   "metadata": {
    "id": "xyfvv8VLTvgu",
    "tags": []
   },
   "source": [
    "# 3.데이터 준비\n",
    "\n",
    "- 전처리 과정을 통해 머신러닝 알고리즘에 사용할 수 있는 형태의 데이터를 준비합니다."
   ]
  },
  {
   "cell_type": "markdown",
   "metadata": {
    "id": "r9KF35AUOrLt"
   },
   "source": [
    "**1) 변수 제거**"
   ]
  },
  {
   "cell_type": "code",
   "execution_count": 16,
   "metadata": {
    "colab": {
     "base_uri": "https://localhost:8080/",
     "height": 226
    },
    "executionInfo": {
     "elapsed": 7,
     "status": "ok",
     "timestamp": 1710481680997,
     "user": {
      "displayName": "Jangrae Lee",
      "userId": "08475661575434032088"
     },
     "user_tz": -540
    },
    "id": "MBi7nAgXOrLt",
    "outputId": "135f8049-689f-4b84-cea5-2f1b58c274de"
   },
   "outputs": [
    {
     "data": {
      "text/html": [
       "<div>\n",
       "<style scoped>\n",
       "    .dataframe tbody tr th:only-of-type {\n",
       "        vertical-align: middle;\n",
       "    }\n",
       "\n",
       "    .dataframe tbody tr th {\n",
       "        vertical-align: top;\n",
       "    }\n",
       "\n",
       "    .dataframe thead th {\n",
       "        text-align: right;\n",
       "    }\n",
       "</style>\n",
       "<table border=\"1\" class=\"dataframe\">\n",
       "  <thead>\n",
       "    <tr style=\"text-align: right;\">\n",
       "      <th></th>\n",
       "      <th>COLLEGE</th>\n",
       "      <th>INCOME</th>\n",
       "      <th>OVERAGE</th>\n",
       "      <th>LEFTOVER</th>\n",
       "      <th>HOUSE</th>\n",
       "      <th>HANDSET_PRICE</th>\n",
       "      <th>OVER_15MINS_CALLS_PER_MONTH</th>\n",
       "      <th>AVERAGE_CALL_DURATION</th>\n",
       "      <th>REPORTED_SATISFACTION</th>\n",
       "      <th>REPORTED_USAGE_LEVEL</th>\n",
       "      <th>CONSIDERING_CHANGE_OF_PLAN</th>\n",
       "      <th>CHURN</th>\n",
       "    </tr>\n",
       "  </thead>\n",
       "  <tbody>\n",
       "    <tr>\n",
       "      <th>0</th>\n",
       "      <td>0</td>\n",
       "      <td>31953</td>\n",
       "      <td>0</td>\n",
       "      <td>6</td>\n",
       "      <td>313378</td>\n",
       "      <td>161</td>\n",
       "      <td>0</td>\n",
       "      <td>4</td>\n",
       "      <td>unsat</td>\n",
       "      <td>little</td>\n",
       "      <td>no</td>\n",
       "      <td>0</td>\n",
       "    </tr>\n",
       "    <tr>\n",
       "      <th>1</th>\n",
       "      <td>1</td>\n",
       "      <td>36147</td>\n",
       "      <td>0</td>\n",
       "      <td>13</td>\n",
       "      <td>800586</td>\n",
       "      <td>244</td>\n",
       "      <td>0</td>\n",
       "      <td>6</td>\n",
       "      <td>unsat</td>\n",
       "      <td>little</td>\n",
       "      <td>considering</td>\n",
       "      <td>0</td>\n",
       "    </tr>\n",
       "    <tr>\n",
       "      <th>2</th>\n",
       "      <td>1</td>\n",
       "      <td>27273</td>\n",
       "      <td>230</td>\n",
       "      <td>0</td>\n",
       "      <td>305049</td>\n",
       "      <td>201</td>\n",
       "      <td>16</td>\n",
       "      <td>15</td>\n",
       "      <td>unsat</td>\n",
       "      <td>very_little</td>\n",
       "      <td>perhaps</td>\n",
       "      <td>0</td>\n",
       "    </tr>\n",
       "    <tr>\n",
       "      <th>3</th>\n",
       "      <td>0</td>\n",
       "      <td>120070</td>\n",
       "      <td>38</td>\n",
       "      <td>33</td>\n",
       "      <td>788235</td>\n",
       "      <td>780</td>\n",
       "      <td>3</td>\n",
       "      <td>2</td>\n",
       "      <td>unsat</td>\n",
       "      <td>very_high</td>\n",
       "      <td>considering</td>\n",
       "      <td>1</td>\n",
       "    </tr>\n",
       "    <tr>\n",
       "      <th>4</th>\n",
       "      <td>1</td>\n",
       "      <td>29215</td>\n",
       "      <td>208</td>\n",
       "      <td>85</td>\n",
       "      <td>224784</td>\n",
       "      <td>241</td>\n",
       "      <td>21</td>\n",
       "      <td>1</td>\n",
       "      <td>very_unsat</td>\n",
       "      <td>little</td>\n",
       "      <td>never_thought</td>\n",
       "      <td>0</td>\n",
       "    </tr>\n",
       "    <tr>\n",
       "      <th>...</th>\n",
       "      <td>...</td>\n",
       "      <td>...</td>\n",
       "      <td>...</td>\n",
       "      <td>...</td>\n",
       "      <td>...</td>\n",
       "      <td>...</td>\n",
       "      <td>...</td>\n",
       "      <td>...</td>\n",
       "      <td>...</td>\n",
       "      <td>...</td>\n",
       "      <td>...</td>\n",
       "      <td>...</td>\n",
       "    </tr>\n",
       "    <tr>\n",
       "      <th>19995</th>\n",
       "      <td>0</td>\n",
       "      <td>153252</td>\n",
       "      <td>0</td>\n",
       "      <td>23</td>\n",
       "      <td>368403</td>\n",
       "      <td>597</td>\n",
       "      <td>1</td>\n",
       "      <td>6</td>\n",
       "      <td>very_sat</td>\n",
       "      <td>little</td>\n",
       "      <td>actively_looking_into_it</td>\n",
       "      <td>0</td>\n",
       "    </tr>\n",
       "    <tr>\n",
       "      <th>19996</th>\n",
       "      <td>1</td>\n",
       "      <td>107126</td>\n",
       "      <td>71</td>\n",
       "      <td>82</td>\n",
       "      <td>237397</td>\n",
       "      <td>609</td>\n",
       "      <td>5</td>\n",
       "      <td>2</td>\n",
       "      <td>very_sat</td>\n",
       "      <td>very_little</td>\n",
       "      <td>no</td>\n",
       "      <td>0</td>\n",
       "    </tr>\n",
       "    <tr>\n",
       "      <th>19997</th>\n",
       "      <td>0</td>\n",
       "      <td>78529</td>\n",
       "      <td>0</td>\n",
       "      <td>66</td>\n",
       "      <td>172589</td>\n",
       "      <td>275</td>\n",
       "      <td>0</td>\n",
       "      <td>2</td>\n",
       "      <td>unsat</td>\n",
       "      <td>very_high</td>\n",
       "      <td>considering</td>\n",
       "      <td>1</td>\n",
       "    </tr>\n",
       "    <tr>\n",
       "      <th>19998</th>\n",
       "      <td>0</td>\n",
       "      <td>78674</td>\n",
       "      <td>47</td>\n",
       "      <td>41</td>\n",
       "      <td>572406</td>\n",
       "      <td>288</td>\n",
       "      <td>4</td>\n",
       "      <td>2</td>\n",
       "      <td>very_unsat</td>\n",
       "      <td>little</td>\n",
       "      <td>considering</td>\n",
       "      <td>1</td>\n",
       "    </tr>\n",
       "    <tr>\n",
       "      <th>19999</th>\n",
       "      <td>0</td>\n",
       "      <td>124697</td>\n",
       "      <td>0</td>\n",
       "      <td>0</td>\n",
       "      <td>845575</td>\n",
       "      <td>808</td>\n",
       "      <td>24</td>\n",
       "      <td>14</td>\n",
       "      <td>unsat</td>\n",
       "      <td>high</td>\n",
       "      <td>actively_looking_into_it</td>\n",
       "      <td>1</td>\n",
       "    </tr>\n",
       "  </tbody>\n",
       "</table>\n",
       "<p>20000 rows × 12 columns</p>\n",
       "</div>"
      ],
      "text/plain": [
       "       COLLEGE  INCOME  OVERAGE  LEFTOVER   HOUSE  HANDSET_PRICE  \\\n",
       "0            0   31953        0         6  313378            161   \n",
       "1            1   36147        0        13  800586            244   \n",
       "2            1   27273      230         0  305049            201   \n",
       "3            0  120070       38        33  788235            780   \n",
       "4            1   29215      208        85  224784            241   \n",
       "...        ...     ...      ...       ...     ...            ...   \n",
       "19995        0  153252        0        23  368403            597   \n",
       "19996        1  107126       71        82  237397            609   \n",
       "19997        0   78529        0        66  172589            275   \n",
       "19998        0   78674       47        41  572406            288   \n",
       "19999        0  124697        0         0  845575            808   \n",
       "\n",
       "       OVER_15MINS_CALLS_PER_MONTH  AVERAGE_CALL_DURATION  \\\n",
       "0                                0                      4   \n",
       "1                                0                      6   \n",
       "2                               16                     15   \n",
       "3                                3                      2   \n",
       "4                               21                      1   \n",
       "...                            ...                    ...   \n",
       "19995                            1                      6   \n",
       "19996                            5                      2   \n",
       "19997                            0                      2   \n",
       "19998                            4                      2   \n",
       "19999                           24                     14   \n",
       "\n",
       "      REPORTED_SATISFACTION REPORTED_USAGE_LEVEL CONSIDERING_CHANGE_OF_PLAN  \\\n",
       "0                     unsat               little                         no   \n",
       "1                     unsat               little                considering   \n",
       "2                     unsat          very_little                    perhaps   \n",
       "3                     unsat            very_high                considering   \n",
       "4                very_unsat               little              never_thought   \n",
       "...                     ...                  ...                        ...   \n",
       "19995              very_sat               little   actively_looking_into_it   \n",
       "19996              very_sat          very_little                         no   \n",
       "19997                 unsat            very_high                considering   \n",
       "19998            very_unsat               little                considering   \n",
       "19999                 unsat                 high   actively_looking_into_it   \n",
       "\n",
       "       CHURN  \n",
       "0          0  \n",
       "1          0  \n",
       "2          0  \n",
       "3          1  \n",
       "4          0  \n",
       "...      ...  \n",
       "19995      0  \n",
       "19996      0  \n",
       "19997      1  \n",
       "19998      1  \n",
       "19999      1  \n",
       "\n",
       "[20000 rows x 12 columns]"
      ]
     },
     "execution_count": 16,
     "metadata": {},
     "output_type": "execute_result"
    }
   ],
   "source": [
    "# 변수 제거: id\n",
    "data.drop(columns='id',inplace=True)\n",
    "\n",
    "data"
   ]
  },
  {
   "cell_type": "markdown",
   "metadata": {
    "id": "qbyV3l1m1b03"
   },
   "source": [
    "**2) x, y 분리**"
   ]
  },
  {
   "cell_type": "code",
   "execution_count": 18,
   "metadata": {
    "executionInfo": {
     "elapsed": 6,
     "status": "ok",
     "timestamp": 1710481680997,
     "user": {
      "displayName": "Jangrae Lee",
      "userId": "08475661575434032088"
     },
     "user_tz": -540
    },
    "id": "B1oiY7x4uO8m"
   },
   "outputs": [],
   "source": [
    "# x, y 분리\n",
    "target='CHURN'\n",
    "x=data.drop(columns=target)\n",
    "y=data.loc[:,target]"
   ]
  },
  {
   "cell_type": "markdown",
   "metadata": {
    "id": "DOsZOwPrOrLu"
   },
   "source": [
    "**3) 가변수화**"
   ]
  },
  {
   "cell_type": "code",
   "execution_count": 20,
   "metadata": {
    "colab": {
     "base_uri": "https://localhost:8080/",
     "height": 226
    },
    "executionInfo": {
     "elapsed": 6,
     "status": "ok",
     "timestamp": 1710481680997,
     "user": {
      "displayName": "Jangrae Lee",
      "userId": "08475661575434032088"
     },
     "user_tz": -540
    },
    "id": "e8hsou4OOrLu",
    "outputId": "4d99559e-16a7-4f72-f51d-4606e3bad92e"
   },
   "outputs": [
    {
     "data": {
      "text/html": [
       "<div>\n",
       "<style scoped>\n",
       "    .dataframe tbody tr th:only-of-type {\n",
       "        vertical-align: middle;\n",
       "    }\n",
       "\n",
       "    .dataframe tbody tr th {\n",
       "        vertical-align: top;\n",
       "    }\n",
       "\n",
       "    .dataframe thead th {\n",
       "        text-align: right;\n",
       "    }\n",
       "</style>\n",
       "<table border=\"1\" class=\"dataframe\">\n",
       "  <thead>\n",
       "    <tr style=\"text-align: right;\">\n",
       "      <th></th>\n",
       "      <th>COLLEGE</th>\n",
       "      <th>INCOME</th>\n",
       "      <th>OVERAGE</th>\n",
       "      <th>LEFTOVER</th>\n",
       "      <th>HOUSE</th>\n",
       "      <th>HANDSET_PRICE</th>\n",
       "      <th>OVER_15MINS_CALLS_PER_MONTH</th>\n",
       "      <th>AVERAGE_CALL_DURATION</th>\n",
       "      <th>REPORTED_SATISFACTION_sat</th>\n",
       "      <th>REPORTED_SATISFACTION_unsat</th>\n",
       "      <th>REPORTED_SATISFACTION_very_sat</th>\n",
       "      <th>REPORTED_SATISFACTION_very_unsat</th>\n",
       "      <th>REPORTED_USAGE_LEVEL_high</th>\n",
       "      <th>REPORTED_USAGE_LEVEL_little</th>\n",
       "      <th>REPORTED_USAGE_LEVEL_very_high</th>\n",
       "      <th>REPORTED_USAGE_LEVEL_very_little</th>\n",
       "      <th>CONSIDERING_CHANGE_OF_PLAN_considering</th>\n",
       "      <th>CONSIDERING_CHANGE_OF_PLAN_never_thought</th>\n",
       "      <th>CONSIDERING_CHANGE_OF_PLAN_no</th>\n",
       "      <th>CONSIDERING_CHANGE_OF_PLAN_perhaps</th>\n",
       "    </tr>\n",
       "  </thead>\n",
       "  <tbody>\n",
       "    <tr>\n",
       "      <th>0</th>\n",
       "      <td>0</td>\n",
       "      <td>31953</td>\n",
       "      <td>0</td>\n",
       "      <td>6</td>\n",
       "      <td>313378</td>\n",
       "      <td>161</td>\n",
       "      <td>0</td>\n",
       "      <td>4</td>\n",
       "      <td>0</td>\n",
       "      <td>1</td>\n",
       "      <td>0</td>\n",
       "      <td>0</td>\n",
       "      <td>0</td>\n",
       "      <td>1</td>\n",
       "      <td>0</td>\n",
       "      <td>0</td>\n",
       "      <td>0</td>\n",
       "      <td>0</td>\n",
       "      <td>1</td>\n",
       "      <td>0</td>\n",
       "    </tr>\n",
       "    <tr>\n",
       "      <th>1</th>\n",
       "      <td>1</td>\n",
       "      <td>36147</td>\n",
       "      <td>0</td>\n",
       "      <td>13</td>\n",
       "      <td>800586</td>\n",
       "      <td>244</td>\n",
       "      <td>0</td>\n",
       "      <td>6</td>\n",
       "      <td>0</td>\n",
       "      <td>1</td>\n",
       "      <td>0</td>\n",
       "      <td>0</td>\n",
       "      <td>0</td>\n",
       "      <td>1</td>\n",
       "      <td>0</td>\n",
       "      <td>0</td>\n",
       "      <td>1</td>\n",
       "      <td>0</td>\n",
       "      <td>0</td>\n",
       "      <td>0</td>\n",
       "    </tr>\n",
       "    <tr>\n",
       "      <th>2</th>\n",
       "      <td>1</td>\n",
       "      <td>27273</td>\n",
       "      <td>230</td>\n",
       "      <td>0</td>\n",
       "      <td>305049</td>\n",
       "      <td>201</td>\n",
       "      <td>16</td>\n",
       "      <td>15</td>\n",
       "      <td>0</td>\n",
       "      <td>1</td>\n",
       "      <td>0</td>\n",
       "      <td>0</td>\n",
       "      <td>0</td>\n",
       "      <td>0</td>\n",
       "      <td>0</td>\n",
       "      <td>1</td>\n",
       "      <td>0</td>\n",
       "      <td>0</td>\n",
       "      <td>0</td>\n",
       "      <td>1</td>\n",
       "    </tr>\n",
       "    <tr>\n",
       "      <th>3</th>\n",
       "      <td>0</td>\n",
       "      <td>120070</td>\n",
       "      <td>38</td>\n",
       "      <td>33</td>\n",
       "      <td>788235</td>\n",
       "      <td>780</td>\n",
       "      <td>3</td>\n",
       "      <td>2</td>\n",
       "      <td>0</td>\n",
       "      <td>1</td>\n",
       "      <td>0</td>\n",
       "      <td>0</td>\n",
       "      <td>0</td>\n",
       "      <td>0</td>\n",
       "      <td>1</td>\n",
       "      <td>0</td>\n",
       "      <td>1</td>\n",
       "      <td>0</td>\n",
       "      <td>0</td>\n",
       "      <td>0</td>\n",
       "    </tr>\n",
       "    <tr>\n",
       "      <th>4</th>\n",
       "      <td>1</td>\n",
       "      <td>29215</td>\n",
       "      <td>208</td>\n",
       "      <td>85</td>\n",
       "      <td>224784</td>\n",
       "      <td>241</td>\n",
       "      <td>21</td>\n",
       "      <td>1</td>\n",
       "      <td>0</td>\n",
       "      <td>0</td>\n",
       "      <td>0</td>\n",
       "      <td>1</td>\n",
       "      <td>0</td>\n",
       "      <td>1</td>\n",
       "      <td>0</td>\n",
       "      <td>0</td>\n",
       "      <td>0</td>\n",
       "      <td>1</td>\n",
       "      <td>0</td>\n",
       "      <td>0</td>\n",
       "    </tr>\n",
       "    <tr>\n",
       "      <th>...</th>\n",
       "      <td>...</td>\n",
       "      <td>...</td>\n",
       "      <td>...</td>\n",
       "      <td>...</td>\n",
       "      <td>...</td>\n",
       "      <td>...</td>\n",
       "      <td>...</td>\n",
       "      <td>...</td>\n",
       "      <td>...</td>\n",
       "      <td>...</td>\n",
       "      <td>...</td>\n",
       "      <td>...</td>\n",
       "      <td>...</td>\n",
       "      <td>...</td>\n",
       "      <td>...</td>\n",
       "      <td>...</td>\n",
       "      <td>...</td>\n",
       "      <td>...</td>\n",
       "      <td>...</td>\n",
       "      <td>...</td>\n",
       "    </tr>\n",
       "    <tr>\n",
       "      <th>19995</th>\n",
       "      <td>0</td>\n",
       "      <td>153252</td>\n",
       "      <td>0</td>\n",
       "      <td>23</td>\n",
       "      <td>368403</td>\n",
       "      <td>597</td>\n",
       "      <td>1</td>\n",
       "      <td>6</td>\n",
       "      <td>0</td>\n",
       "      <td>0</td>\n",
       "      <td>1</td>\n",
       "      <td>0</td>\n",
       "      <td>0</td>\n",
       "      <td>1</td>\n",
       "      <td>0</td>\n",
       "      <td>0</td>\n",
       "      <td>0</td>\n",
       "      <td>0</td>\n",
       "      <td>0</td>\n",
       "      <td>0</td>\n",
       "    </tr>\n",
       "    <tr>\n",
       "      <th>19996</th>\n",
       "      <td>1</td>\n",
       "      <td>107126</td>\n",
       "      <td>71</td>\n",
       "      <td>82</td>\n",
       "      <td>237397</td>\n",
       "      <td>609</td>\n",
       "      <td>5</td>\n",
       "      <td>2</td>\n",
       "      <td>0</td>\n",
       "      <td>0</td>\n",
       "      <td>1</td>\n",
       "      <td>0</td>\n",
       "      <td>0</td>\n",
       "      <td>0</td>\n",
       "      <td>0</td>\n",
       "      <td>1</td>\n",
       "      <td>0</td>\n",
       "      <td>0</td>\n",
       "      <td>1</td>\n",
       "      <td>0</td>\n",
       "    </tr>\n",
       "    <tr>\n",
       "      <th>19997</th>\n",
       "      <td>0</td>\n",
       "      <td>78529</td>\n",
       "      <td>0</td>\n",
       "      <td>66</td>\n",
       "      <td>172589</td>\n",
       "      <td>275</td>\n",
       "      <td>0</td>\n",
       "      <td>2</td>\n",
       "      <td>0</td>\n",
       "      <td>1</td>\n",
       "      <td>0</td>\n",
       "      <td>0</td>\n",
       "      <td>0</td>\n",
       "      <td>0</td>\n",
       "      <td>1</td>\n",
       "      <td>0</td>\n",
       "      <td>1</td>\n",
       "      <td>0</td>\n",
       "      <td>0</td>\n",
       "      <td>0</td>\n",
       "    </tr>\n",
       "    <tr>\n",
       "      <th>19998</th>\n",
       "      <td>0</td>\n",
       "      <td>78674</td>\n",
       "      <td>47</td>\n",
       "      <td>41</td>\n",
       "      <td>572406</td>\n",
       "      <td>288</td>\n",
       "      <td>4</td>\n",
       "      <td>2</td>\n",
       "      <td>0</td>\n",
       "      <td>0</td>\n",
       "      <td>0</td>\n",
       "      <td>1</td>\n",
       "      <td>0</td>\n",
       "      <td>1</td>\n",
       "      <td>0</td>\n",
       "      <td>0</td>\n",
       "      <td>1</td>\n",
       "      <td>0</td>\n",
       "      <td>0</td>\n",
       "      <td>0</td>\n",
       "    </tr>\n",
       "    <tr>\n",
       "      <th>19999</th>\n",
       "      <td>0</td>\n",
       "      <td>124697</td>\n",
       "      <td>0</td>\n",
       "      <td>0</td>\n",
       "      <td>845575</td>\n",
       "      <td>808</td>\n",
       "      <td>24</td>\n",
       "      <td>14</td>\n",
       "      <td>0</td>\n",
       "      <td>1</td>\n",
       "      <td>0</td>\n",
       "      <td>0</td>\n",
       "      <td>1</td>\n",
       "      <td>0</td>\n",
       "      <td>0</td>\n",
       "      <td>0</td>\n",
       "      <td>0</td>\n",
       "      <td>0</td>\n",
       "      <td>0</td>\n",
       "      <td>0</td>\n",
       "    </tr>\n",
       "  </tbody>\n",
       "</table>\n",
       "<p>20000 rows × 20 columns</p>\n",
       "</div>"
      ],
      "text/plain": [
       "       COLLEGE  INCOME  OVERAGE  LEFTOVER   HOUSE  HANDSET_PRICE  \\\n",
       "0            0   31953        0         6  313378            161   \n",
       "1            1   36147        0        13  800586            244   \n",
       "2            1   27273      230         0  305049            201   \n",
       "3            0  120070       38        33  788235            780   \n",
       "4            1   29215      208        85  224784            241   \n",
       "...        ...     ...      ...       ...     ...            ...   \n",
       "19995        0  153252        0        23  368403            597   \n",
       "19996        1  107126       71        82  237397            609   \n",
       "19997        0   78529        0        66  172589            275   \n",
       "19998        0   78674       47        41  572406            288   \n",
       "19999        0  124697        0         0  845575            808   \n",
       "\n",
       "       OVER_15MINS_CALLS_PER_MONTH  AVERAGE_CALL_DURATION  \\\n",
       "0                                0                      4   \n",
       "1                                0                      6   \n",
       "2                               16                     15   \n",
       "3                                3                      2   \n",
       "4                               21                      1   \n",
       "...                            ...                    ...   \n",
       "19995                            1                      6   \n",
       "19996                            5                      2   \n",
       "19997                            0                      2   \n",
       "19998                            4                      2   \n",
       "19999                           24                     14   \n",
       "\n",
       "       REPORTED_SATISFACTION_sat  REPORTED_SATISFACTION_unsat  \\\n",
       "0                              0                            1   \n",
       "1                              0                            1   \n",
       "2                              0                            1   \n",
       "3                              0                            1   \n",
       "4                              0                            0   \n",
       "...                          ...                          ...   \n",
       "19995                          0                            0   \n",
       "19996                          0                            0   \n",
       "19997                          0                            1   \n",
       "19998                          0                            0   \n",
       "19999                          0                            1   \n",
       "\n",
       "       REPORTED_SATISFACTION_very_sat  REPORTED_SATISFACTION_very_unsat  \\\n",
       "0                                   0                                 0   \n",
       "1                                   0                                 0   \n",
       "2                                   0                                 0   \n",
       "3                                   0                                 0   \n",
       "4                                   0                                 1   \n",
       "...                               ...                               ...   \n",
       "19995                               1                                 0   \n",
       "19996                               1                                 0   \n",
       "19997                               0                                 0   \n",
       "19998                               0                                 1   \n",
       "19999                               0                                 0   \n",
       "\n",
       "       REPORTED_USAGE_LEVEL_high  REPORTED_USAGE_LEVEL_little  \\\n",
       "0                              0                            1   \n",
       "1                              0                            1   \n",
       "2                              0                            0   \n",
       "3                              0                            0   \n",
       "4                              0                            1   \n",
       "...                          ...                          ...   \n",
       "19995                          0                            1   \n",
       "19996                          0                            0   \n",
       "19997                          0                            0   \n",
       "19998                          0                            1   \n",
       "19999                          1                            0   \n",
       "\n",
       "       REPORTED_USAGE_LEVEL_very_high  REPORTED_USAGE_LEVEL_very_little  \\\n",
       "0                                   0                                 0   \n",
       "1                                   0                                 0   \n",
       "2                                   0                                 1   \n",
       "3                                   1                                 0   \n",
       "4                                   0                                 0   \n",
       "...                               ...                               ...   \n",
       "19995                               0                                 0   \n",
       "19996                               0                                 1   \n",
       "19997                               1                                 0   \n",
       "19998                               0                                 0   \n",
       "19999                               0                                 0   \n",
       "\n",
       "       CONSIDERING_CHANGE_OF_PLAN_considering  \\\n",
       "0                                           0   \n",
       "1                                           1   \n",
       "2                                           0   \n",
       "3                                           1   \n",
       "4                                           0   \n",
       "...                                       ...   \n",
       "19995                                       0   \n",
       "19996                                       0   \n",
       "19997                                       1   \n",
       "19998                                       1   \n",
       "19999                                       0   \n",
       "\n",
       "       CONSIDERING_CHANGE_OF_PLAN_never_thought  \\\n",
       "0                                             0   \n",
       "1                                             0   \n",
       "2                                             0   \n",
       "3                                             0   \n",
       "4                                             1   \n",
       "...                                         ...   \n",
       "19995                                         0   \n",
       "19996                                         0   \n",
       "19997                                         0   \n",
       "19998                                         0   \n",
       "19999                                         0   \n",
       "\n",
       "       CONSIDERING_CHANGE_OF_PLAN_no  CONSIDERING_CHANGE_OF_PLAN_perhaps  \n",
       "0                                  1                                   0  \n",
       "1                                  0                                   0  \n",
       "2                                  0                                   1  \n",
       "3                                  0                                   0  \n",
       "4                                  0                                   0  \n",
       "...                              ...                                 ...  \n",
       "19995                              0                                   0  \n",
       "19996                              1                                   0  \n",
       "19997                              0                                   0  \n",
       "19998                              0                                   0  \n",
       "19999                              0                                   0  \n",
       "\n",
       "[20000 rows x 20 columns]"
      ]
     },
     "execution_count": 20,
     "metadata": {},
     "output_type": "execute_result"
    }
   ],
   "source": [
    "# 가변수화\n",
    "dummies=['REPORTED_SATISFACTION','REPORTED_USAGE_LEVEL','CONSIDERING_CHANGE_OF_PLAN']\n",
    "\n",
    "x=pd.get_dummies(x,columns=dummies,drop_first=True,dtype=int)\n",
    "\n",
    "x"
   ]
  },
  {
   "cell_type": "markdown",
   "metadata": {
    "id": "JyUW2Hxm1hIW"
   },
   "source": [
    "**4) 학습용, 평가용 데이터 분리**"
   ]
  },
  {
   "cell_type": "code",
   "execution_count": 23,
   "metadata": {
    "executionInfo": {
     "elapsed": 5,
     "status": "ok",
     "timestamp": 1710481680997,
     "user": {
      "displayName": "Jangrae Lee",
      "userId": "08475661575434032088"
     },
     "user_tz": -540
    },
    "id": "vGgJGFX5ZAn8"
   },
   "outputs": [],
   "source": [
    "# 학습용, 평가용 데이터 분리\n",
    "from sklearn.model_selection import train_test_split\n",
    "\n",
    "x_train,x_test,y_train,y_test=train_test_split(x,y,test_size=0.3,random_state=1)"
   ]
  },
  {
   "cell_type": "markdown",
   "metadata": {
    "id": "5LC4FPPHOrLu"
   },
   "source": [
    "**5) 정규화**"
   ]
  },
  {
   "cell_type": "code",
   "execution_count": 26,
   "metadata": {
    "executionInfo": {
     "elapsed": 2,
     "status": "ok",
     "timestamp": 1710481694483,
     "user": {
      "displayName": "Jangrae Lee",
      "userId": "08475661575434032088"
     },
     "user_tz": -540
    },
    "id": "ErKzbKJIFL2B"
   },
   "outputs": [],
   "source": [
    "# 정규화\n",
    "from sklearn.preprocessing import MinMaxScaler\n",
    "\n",
    "scaler=MinMaxScaler()\n",
    "scaler.fit(x_train)\n",
    "x_train_s=scaler.transform(x_train)\n",
    "x_test_s=scaler.transform(x_test)\n",
    "\n"
   ]
  },
  {
   "cell_type": "markdown",
   "metadata": {
    "id": "BYr1vtpd8uw4",
    "tags": []
   },
   "source": [
    "# 4.성능 예측\n",
    "\n",
    "- 여러 알고리즘으로 만든 모델의 성능을 교차 검증을 통해 예측해 봅니다.\n",
    "- 하이퍼파라미터를 설정하지 않고 진행합니다.\n",
    "- 예측된 성능 정보를 수집해 마지막에 비교합니다."
   ]
  },
  {
   "cell_type": "code",
   "execution_count": null,
   "metadata": {
    "id": "Gq2RQ5GPOrLv"
   },
   "outputs": [],
   "source": [
    "# xgboost 설치\n",
    "# !pip install xgboost"
   ]
  },
  {
   "cell_type": "code",
   "execution_count": null,
   "metadata": {
    "id": "g4wARLMCOrLv"
   },
   "outputs": [],
   "source": [
    "# lightgbm 설치\n",
    "# !pip install lightgbm"
   ]
  },
  {
   "cell_type": "markdown",
   "metadata": {
    "id": "r9jDgHv5OrLv"
   },
   "source": [
    "- 이후 사용할 함수를 모두 불러옵니다."
   ]
  },
  {
   "cell_type": "code",
   "execution_count": 39,
   "metadata": {
    "executionInfo": {
     "elapsed": 283,
     "status": "ok",
     "timestamp": 1710481696727,
     "user": {
      "displayName": "Jangrae Lee",
      "userId": "08475661575434032088"
     },
     "user_tz": -540
    },
    "id": "WM6qVGeMOrLv"
   },
   "outputs": [],
   "source": [
    "# 불러오기\n",
    "from sklearn.linear_model import LogisticRegression\n",
    "from sklearn.neighbors import KNeighborsClassifier\n",
    "from sklearn.tree import DecisionTreeClassifier\n",
    "from sklearn.ensemble import RandomForestClassifier\n",
    "from xgboost import XGBClassifier\n",
    "from lightgbm import LGBMClassifier\n",
    "from sklearn.model_selection import cross_val_score\n",
    "\n",
    "\n",
    "from sklearn.metrics import *"
   ]
  },
  {
   "cell_type": "markdown",
   "metadata": {
    "id": "9pqwajKFyK4F"
   },
   "source": [
    "**1) KNN**\n",
    "\n",
    "- KNN 모델의 성능을 교차 검증을 통해 예측해 봅니다."
   ]
  },
  {
   "cell_type": "code",
   "execution_count": 36,
   "metadata": {
    "colab": {
     "base_uri": "https://localhost:8080/"
    },
    "executionInfo": {
     "elapsed": 5,
     "status": "ok",
     "timestamp": 1710481703718,
     "user": {
      "displayName": "Jangrae Lee",
      "userId": "08475661575434032088"
     },
     "user_tz": -540
    },
    "id": "2KMvCx_-yK4H",
    "outputId": "6b31884c-db64-402d-a024-4384850c350b"
   },
   "outputs": [
    {
     "name": "stdout",
     "output_type": "stream",
     "text": [
      "[[2308  757]\n",
      " [2361  574]]\n",
      "              precision    recall  f1-score   support\n",
      "\n",
      "           0       0.49      0.75      0.60      3065\n",
      "           1       0.43      0.20      0.27      2935\n",
      "\n",
      "    accuracy                           0.48      6000\n",
      "   macro avg       0.46      0.47      0.43      6000\n",
      "weighted avg       0.46      0.48      0.44      6000\n",
      "\n"
     ]
    }
   ],
   "source": [
    "# 성능예측\n",
    "model=KNeighborsClassifier(n_neighbors=5)\n",
    "model.fit(x_train_s,y_train)\n",
    "y_pred=model.predict(x_test)\n",
    "\n",
    "# 평가하기\n",
    "print(confusion_matrix(y_test,y_pred))\n",
    "print(classification_report(y_test,y_pred))"
   ]
  },
  {
   "cell_type": "code",
   "execution_count": 41,
   "metadata": {
    "executionInfo": {
     "elapsed": 412,
     "status": "ok",
     "timestamp": 1710481705591,
     "user": {
      "displayName": "Jangrae Lee",
      "userId": "08475661575434032088"
     },
     "user_tz": -540
    },
    "id": "zMEjkevGOrLw"
   },
   "outputs": [
    {
     "ename": "NameError",
     "evalue": "name 'cv_score' is not defined",
     "output_type": "error",
     "traceback": [
      "\u001b[1;31m---------------------------------------------------------------------------\u001b[0m",
      "\u001b[1;31mNameError\u001b[0m                                 Traceback (most recent call last)",
      "Cell \u001b[1;32mIn[41], line 3\u001b[0m\n\u001b[0;32m      1\u001b[0m \u001b[38;5;66;03m# 결과수집\u001b[39;00m\n\u001b[0;32m      2\u001b[0m result \u001b[38;5;241m=\u001b[39m {}\n\u001b[1;32m----> 3\u001b[0m result[\u001b[38;5;124m'\u001b[39m\u001b[38;5;124mKNN\u001b[39m\u001b[38;5;124m'\u001b[39m] \u001b[38;5;241m=\u001b[39m cv_score\u001b[38;5;241m.\u001b[39mmean()\n",
      "\u001b[1;31mNameError\u001b[0m: name 'cv_score' is not defined"
     ]
    }
   ],
   "source": [
    "# 결과수집\n",
    "result = {}\n",
    "result['KNN'] = cv_score.mean()"
   ]
  },
  {
   "cell_type": "markdown",
   "metadata": {
    "id": "_2Dzy1phyWRM"
   },
   "source": [
    "**2) Decision Tree**\n",
    "\n",
    "- Decision Tree 모델의 성능을 교차 검증을 통해 예측해 봅니다."
   ]
  },
  {
   "cell_type": "code",
   "execution_count": 44,
   "metadata": {
    "id": "DQruMeL7OrLw"
   },
   "outputs": [
    {
     "name": "stdout",
     "output_type": "stream",
     "text": [
      "[[1285 1780]\n",
      " [ 749 2186]]\n",
      "              precision    recall  f1-score   support\n",
      "\n",
      "           0       0.63      0.42      0.50      3065\n",
      "           1       0.55      0.74      0.63      2935\n",
      "\n",
      "    accuracy                           0.58      6000\n",
      "   macro avg       0.59      0.58      0.57      6000\n",
      "weighted avg       0.59      0.58      0.57      6000\n",
      "\n"
     ]
    }
   ],
   "source": [
    "# 성능예측\n",
    "\n",
    "\n",
    "model = DecisionTreeClassifier(max_depth=5, random_state=1)\n",
    "\n",
    "# 학습하기\n",
    "model.fit(x_train_s, y_train)\n",
    "\n",
    "# 예측하기\n",
    "y_pred = model.predict(x_test)\n",
    "\n",
    "# 평가하기\n",
    "print(confusion_matrix(y_test, y_pred))\n",
    "print(classification_report(y_test, y_pred))\n"
   ]
  },
  {
   "cell_type": "code",
   "execution_count": 46,
   "metadata": {
    "id": "T7u_elxtOrLw"
   },
   "outputs": [
    {
     "ename": "NameError",
     "evalue": "name 'cv_score' is not defined",
     "output_type": "error",
     "traceback": [
      "\u001b[1;31m---------------------------------------------------------------------------\u001b[0m",
      "\u001b[1;31mNameError\u001b[0m                                 Traceback (most recent call last)",
      "Cell \u001b[1;32mIn[46], line 2\u001b[0m\n\u001b[0;32m      1\u001b[0m \u001b[38;5;66;03m# 결과수집\u001b[39;00m\n\u001b[1;32m----> 2\u001b[0m result[\u001b[38;5;124m'\u001b[39m\u001b[38;5;124mDecision Tree\u001b[39m\u001b[38;5;124m'\u001b[39m] \u001b[38;5;241m=\u001b[39m cv_score\u001b[38;5;241m.\u001b[39mmean()\n",
      "\u001b[1;31mNameError\u001b[0m: name 'cv_score' is not defined"
     ]
    }
   ],
   "source": [
    "# 결과수집\n",
    "result['Decision Tree'] = cv_score.mean()"
   ]
  },
  {
   "cell_type": "markdown",
   "metadata": {
    "id": "p5j6DiOVOrLx"
   },
   "source": [
    "**3) Logistic Regression**\n",
    "\n",
    "- Logistic Regression 모델의 성능을 교차 검증을 통해 예측해 봅니다."
   ]
  },
  {
   "cell_type": "code",
   "execution_count": null,
   "metadata": {
    "id": "SJkektBXOrLx"
   },
   "outputs": [],
   "source": [
    "# 성능예측\n",
    "\n",
    "\n"
   ]
  },
  {
   "cell_type": "code",
   "execution_count": null,
   "metadata": {
    "id": "swDom3ZdOrLx"
   },
   "outputs": [],
   "source": [
    "# 결과수집\n",
    "result['Logistic Regression'] = cv_score.mean()"
   ]
  },
  {
   "cell_type": "markdown",
   "metadata": {
    "id": "b0crO5W_ygXk"
   },
   "source": [
    "**4) Random Forest**\n",
    "\n",
    "- Random Forest 모델의 성능을 교차 검증을 통해 예측해 봅니다."
   ]
  },
  {
   "cell_type": "code",
   "execution_count": 49,
   "metadata": {
    "id": "ilWaAT7_OrLx"
   },
   "outputs": [
    {
     "name": "stdout",
     "output_type": "stream",
     "text": [
      "[[2199  866]\n",
      " [ 971 1964]]\n",
      "              precision    recall  f1-score   support\n",
      "\n",
      "           0       0.69      0.72      0.71      3065\n",
      "           1       0.69      0.67      0.68      2935\n",
      "\n",
      "    accuracy                           0.69      6000\n",
      "   macro avg       0.69      0.69      0.69      6000\n",
      "weighted avg       0.69      0.69      0.69      6000\n",
      "\n"
     ]
    }
   ],
   "source": [
    "# 성능예측\n",
    "\n",
    "# 선언하기\n",
    "model=RandomForestClassifier(max_depth=5)\n",
    "\n",
    "# 학습하기\n",
    "model.fit(x_train,y_train)\n",
    "\n",
    "# 예측하기\n",
    "y_pred=model.predict(x_test)\n",
    "\n",
    "# 평가하기\n",
    "print(confusion_matrix(y_test,y_pred))\n",
    "print(classification_report(y_test,y_pred))\n"
   ]
  },
  {
   "cell_type": "code",
   "execution_count": null,
   "metadata": {
    "id": "suuNuqekOrLy"
   },
   "outputs": [],
   "source": [
    "# 결과수집\n",
    "result['Random Forest'] = cv_score.mean()"
   ]
  },
  {
   "cell_type": "markdown",
   "metadata": {
    "id": "OfBvePtkys70"
   },
   "source": [
    "**5) XGBoost**\n",
    "\n",
    "- XGBoost 모델의 성능을 교차 검증을 통해 예측해 봅니다."
   ]
  },
  {
   "cell_type": "code",
   "execution_count": 54,
   "metadata": {
    "id": "CaZ4lbmcOrLy"
   },
   "outputs": [
    {
     "name": "stdout",
     "output_type": "stream",
     "text": [
      "[[2001 1064]\n",
      " [ 805 2130]]\n",
      "              precision    recall  f1-score   support\n",
      "\n",
      "           0       0.71      0.65      0.68      3065\n",
      "           1       0.67      0.73      0.70      2935\n",
      "\n",
      "    accuracy                           0.69      6000\n",
      "   macro avg       0.69      0.69      0.69      6000\n",
      "weighted avg       0.69      0.69      0.69      6000\n",
      "\n"
     ]
    }
   ],
   "source": [
    "# 성능예측\n",
    "\n",
    "# 선언하기\n",
    "model=XGBClassifier(max_depth=5)\n",
    "\n",
    "# 학습하기\n",
    "model.fit(x_train,y_train)\n",
    "\n",
    "# 예측하기\n",
    "y_pred=model.predict(x_test)\n",
    "\n",
    "# 평가하기\n",
    "print(confusion_matrix(y_test,y_pred))\n",
    "print(classification_report(y_test,y_pred))\n",
    "\n"
   ]
  },
  {
   "cell_type": "code",
   "execution_count": null,
   "metadata": {
    "id": "LRSSgtR5OrLy"
   },
   "outputs": [],
   "source": [
    "# 결과수집\n",
    "result['XGBoost'] = cv_score.mean()"
   ]
  },
  {
   "cell_type": "markdown",
   "metadata": {
    "id": "OvaGeyaVOrLy"
   },
   "source": [
    "**6) LightGBM**\n",
    "\n",
    "- LightGBM 모델의 성능을 교차 검증을 통해 예측해 봅니다."
   ]
  },
  {
   "cell_type": "code",
   "execution_count": null,
   "metadata": {
    "id": "1b3BMHy3OrLy"
   },
   "outputs": [],
   "source": [
    "# 성능예측\n",
    "\n",
    "\n"
   ]
  },
  {
   "cell_type": "code",
   "execution_count": null,
   "metadata": {
    "id": "vKCDmDA1OrLz"
   },
   "outputs": [],
   "source": [
    "# 결과수집\n",
    "result['LightGBM'] = cv_score.mean()"
   ]
  },
  {
   "cell_type": "markdown",
   "metadata": {
    "id": "IOuLjYjYOrLz"
   },
   "source": [
    "# 5.결과 확인\n",
    "\n",
    "- 예측된 각 모델의 성능을 비교합니다."
   ]
  },
  {
   "cell_type": "code",
   "execution_count": null,
   "metadata": {
    "id": "XCXqckRyOrLz"
   },
   "outputs": [],
   "source": [
    "# 성능 비교\n",
    "\n",
    "\n"
   ]
  },
  {
   "cell_type": "code",
   "execution_count": null,
   "metadata": {
    "id": "P14P5txwOrLz"
   },
   "outputs": [],
   "source": [
    "# 성능 시각화 비교\n",
    "\n",
    "\n"
   ]
  },
  {
   "cell_type": "markdown",
   "metadata": {
    "id": "qiQDxtqfOrLz"
   },
   "source": [
    "# 6.성능 튜닝\n",
    "\n",
    "- 위에서 성능이 가장 좋을 것으로 예측된 알고리즘으로 모델링합니다.\n",
    "- 본 실습에서는 하이퍼파라미터가 최적화된 LightGBM 모델을 만듭니다."
   ]
  },
  {
   "cell_type": "code",
   "execution_count": null,
   "metadata": {
    "id": "w2Y4_QoCOrLz"
   },
   "outputs": [],
   "source": [
    "# 파라미터 \n",
    "param = {'max_depth': range(1, 21),\n",
    "         'n_estimators': range(60, 131, 10)}\n",
    "model=\n",
    "\n"
   ]
  },
  {
   "cell_type": "code",
   "execution_count": null,
   "metadata": {
    "id": "48vxjFNBOrLz"
   },
   "outputs": [],
   "source": [
    "# 학습하기(많은 시간이 소요될 수 있음)\n",
    "\n",
    "\n"
   ]
  },
  {
   "cell_type": "code",
   "execution_count": null,
   "metadata": {
    "id": "YFAOZ4lhOrLz"
   },
   "outputs": [],
   "source": [
    "# 최적 파라미터, 예측 최고 성능\n",
    "\n",
    "\n"
   ]
  },
  {
   "cell_type": "code",
   "execution_count": null,
   "metadata": {
    "id": "M3ZsGp3kOrL0"
   },
   "outputs": [],
   "source": [
    "# 변수 중요도 시각화\n",
    "\n",
    "\n"
   ]
  },
  {
   "cell_type": "markdown",
   "metadata": {
    "id": "s2Ov2o4bOrL0"
   },
   "source": [
    "# 7.성능 평가\n",
    "\n",
    "- 최적 파라미터로 학습된 모델에 대해 최종 성능 평가를 진행합니다."
   ]
  },
  {
   "cell_type": "code",
   "execution_count": null,
   "metadata": {
    "id": "xhOPCEA1OrL0"
   },
   "outputs": [],
   "source": [
    "# 예측하기\n",
    "\n",
    "\n"
   ]
  },
  {
   "cell_type": "code",
   "execution_count": null,
   "metadata": {
    "id": "e5EoPXRQOrL0"
   },
   "outputs": [],
   "source": [
    "# 성능평가\n",
    "\n",
    "\n"
   ]
  }
 ],
 "metadata": {
  "colab": {
   "provenance": []
  },
  "kernelspec": {
   "display_name": "Python 3 (ipykernel)",
   "language": "python",
   "name": "python3"
  },
  "language_info": {
   "codemirror_mode": {
    "name": "ipython",
    "version": 3
   },
   "file_extension": ".py",
   "mimetype": "text/x-python",
   "name": "python",
   "nbconvert_exporter": "python",
   "pygments_lexer": "ipython3",
   "version": "3.12.4"
  }
 },
 "nbformat": 4,
 "nbformat_minor": 4
}
